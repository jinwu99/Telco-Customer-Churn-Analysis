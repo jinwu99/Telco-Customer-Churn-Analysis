{
  "nbformat": 4,
  "nbformat_minor": 0,
  "metadata": {
    "colab": {
      "provenance": [],
      "authorship_tag": "ABX9TyP5ah09GexeCPz5Y2ugUSFl",
      "include_colab_link": true
    },
    "kernelspec": {
      "name": "python3",
      "display_name": "Python 3"
    },
    "language_info": {
      "name": "python"
    }
  },
  "cells": [
    {
      "cell_type": "markdown",
      "metadata": {
        "id": "view-in-github",
        "colab_type": "text"
      },
      "source": [
        "<a href=\"https://colab.research.google.com/github/jinwu99/Telco-Customer-Churn-Analysis/blob/main/Telco_customer_churn_analysis_.ipynb\" target=\"_parent\"><img src=\"https://colab.research.google.com/assets/colab-badge.svg\" alt=\"Open In Colab\"/></a>"
      ]
    },
    {
      "cell_type": "code",
      "execution_count": 1,
      "metadata": {
        "id": "7Az61GN1eN7_",
        "colab": {
          "base_uri": "https://localhost:8080/"
        },
        "outputId": "ef53b05a-b14f-4f49-978e-cb67488d1360"
      },
      "outputs": [
        {
          "output_type": "stream",
          "name": "stdout",
          "text": [
            "Mounted at ./MyDrive\n"
          ]
        }
      ],
      "source": [
        "from google.colab import drive\n",
        "drive.mount('./MyDrive')"
      ]
    },
    {
      "cell_type": "code",
      "source": [
        "cd MyDrive/My Drive/Colab Notebooks"
      ],
      "metadata": {
        "id": "_IETJZiZeXIw",
        "colab": {
          "base_uri": "https://localhost:8080/"
        },
        "outputId": "a3162dc7-e283-43e3-94a0-3c3e3ba114d5"
      },
      "execution_count": 2,
      "outputs": [
        {
          "output_type": "stream",
          "name": "stdout",
          "text": [
            "/content/MyDrive/My Drive/Colab Notebooks\n"
          ]
        }
      ]
    },
    {
      "cell_type": "markdown",
      "source": [
        "Data description :\n",
        "* California 지역, 가상의 통신회사의 약 7000명 3분기 고객데이터\n",
        "* 출처 : https://www.kaggle.com/datasets/yeanzc/telco-customer-churn-ibm-dataset/"
      ],
      "metadata": {
        "id": "OYvh_K0OY7fE"
      }
    },
    {
      "cell_type": "markdown",
      "source": [
        "# 분석 목적\n",
        "* **고객의 서비스이용 패턴 탐색** 및 이탈율이 높은 이용패턴에 대한 **해결방안 제시**\n",
        "\n",
        "## 분석 과정\n",
        "1. 고객의 서비스이용 현황 파악\n",
        "2. 고객의 정보를 바탕으로 군집화\n",
        "3. 각 고객군집의 특성 파악 및 이탈율 높은 군집 분석"
      ],
      "metadata": {
        "id": "Wwl0LZDVBM3T"
      }
    },
    {
      "cell_type": "code",
      "source": [
        "import pandas as pd\n",
        "\n",
        "Telco = pd.read_csv('Telco_customer_churn.csv')\n",
        "print(Telco.shape)\n",
        "Telco.keys()"
      ],
      "metadata": {
        "colab": {
          "base_uri": "https://localhost:8080/"
        },
        "id": "LcnebzM3eenu",
        "outputId": "ff145e2c-bc21-46e0-f5b6-6bfad3a7130a"
      },
      "execution_count": 3,
      "outputs": [
        {
          "output_type": "stream",
          "name": "stdout",
          "text": [
            "(7043, 33)\n"
          ]
        },
        {
          "output_type": "execute_result",
          "data": {
            "text/plain": [
              "Index(['CustomerID', 'Count', 'Country', 'State', 'City', 'Zip Code',\n",
              "       'Lat Long', 'Latitude', 'Longitude', 'Gender', 'Senior Citizen',\n",
              "       'Partner', 'Dependents', 'Tenure Months', 'Phone Service',\n",
              "       'Multiple Lines', 'Internet Service', 'Online Security',\n",
              "       'Online Backup', 'Device Protection', 'Tech Support', 'Streaming TV',\n",
              "       'Streaming Movies', 'Contract', 'Paperless Billing', 'Payment Method',\n",
              "       'Monthly Charges', 'Total Charges', 'Churn Label', 'Churn Value',\n",
              "       'Churn Score', 'CLTV', 'Churn Reason'],\n",
              "      dtype='object')"
            ]
          },
          "metadata": {},
          "execution_count": 3
        }
      ]
    },
    {
      "cell_type": "markdown",
      "source": [
        "* 분석에 앞서, 각 범주요인의 이름을 좀 더 구체화하자.\n",
        "* 또한 Tenure과 Monthly Charges를 3분위수로 범주화하자."
      ],
      "metadata": {
        "id": "G_69sq9emJUC"
      }
    },
    {
      "cell_type": "code",
      "source": [
        "Telco.loc[Telco['Churn Label']=='Yes', 'Churn Label'] = 'Churn_Yes'\n",
        "Telco.loc[Telco['Churn Label']=='No', 'Churn Label'] = 'Churn_No'\n",
        "Telco.loc[Telco['Senior Citizen']=='Yes', 'Senior Citizen'] = 'Senior'\n",
        "Telco.loc[Telco['Senior Citizen']=='No', 'Senior Citizen'] = 'Not_Senior'\n",
        "Telco.loc[Telco['Partner']=='Yes', 'Partner'] = 'w/Partner'\n",
        "Telco.loc[Telco['Partner']=='No', 'Partner'] = 'No_Partner'\n",
        "Telco.loc[Telco['Dependents']=='Yes', 'Dependents'] = 'w/Dependents'\n",
        "Telco.loc[Telco['Dependents']=='No', 'Dependents'] = 'No_Dependents'\n",
        "Telco = Telco.drop(columns=['Phone Service'])\n",
        "Telco.loc[Telco['Multiple Lines']=='Yes', 'Multiple Lines'] = 'Multiple Lines'\n",
        "Telco.loc[Telco['Multiple Lines']=='No', 'Multiple Lines'] = 'Single Line'\n",
        "Telco.loc[Telco['Internet Service']=='No', 'Internet Service'] = 'No_Internet_Service'\n",
        "Telco.loc[Telco['Online Security']=='Yes', 'Online Security'] = 'Online Security'\n",
        "Telco.loc[Telco['Online Security']=='No', 'Online Security'] = 'No_Online Security'\n",
        "Telco.loc[Telco['Online Backup']=='Yes', 'Online Backup'] = 'Online Backup'\n",
        "Telco.loc[Telco['Online Backup']=='No', 'Online Backup'] = 'No_Online Backup'\n",
        "Telco.loc[Telco['Device Protection']=='Yes', 'Device Protection'] = 'Device Protection'\n",
        "Telco.loc[Telco['Device Protection']=='No', 'Device Protection'] = 'No_Device Protection'\n",
        "Telco.loc[Telco['Tech Support']=='Yes', 'Tech Support'] = 'Tech Support'\n",
        "Telco.loc[Telco['Tech Support']=='No', 'Tech Support'] = 'No_Tech Support'\n",
        "Telco.loc[Telco['Streaming TV']=='Yes', 'Streaming TV'] = 'Streaming TV'\n",
        "Telco.loc[Telco['Streaming TV']=='No', 'Streaming TV'] = 'No_Streaming TV'\n",
        "Telco.loc[Telco['Streaming Movies']=='Yes', 'Streaming Movies'] = 'Streaming Movies'\n",
        "Telco.loc[Telco['Streaming Movies']=='No', 'Streaming Movies'] = 'No_Streaming Movies'\n",
        "Telco.loc[Telco['Paperless Billing']=='Yes', 'Paperless Billing'] = 'Paperless Billing'\n",
        "Telco.loc[Telco['Paperless Billing']=='No', 'Paperless Billing'] = 'No_Paperless Billing'\n",
        "Telco['Monthly Charges cat'] = pd.qcut(Telco['Monthly Charges'],q=3).cat.codes\n",
        "Telco.loc[Telco['Monthly Charges cat']==0,'Monthly Charges cat'] = 'charge_low'\n",
        "Telco.loc[Telco['Monthly Charges cat']==1,'Monthly Charges cat'] = 'charge_mid'\n",
        "Telco.loc[Telco['Monthly Charges cat']==2,'Monthly Charges cat'] = 'charge_high'\n",
        "Telco['Tenure Months cat'] = pd.qcut(Telco['Tenure Months'],q=3).cat.codes\n",
        "Telco.loc[Telco['Tenure Months cat']==0,'Tenure Months cat'] = 'tenure_low'\n",
        "Telco.loc[Telco['Tenure Months cat']==1,'Tenure Months cat'] = 'tenure_mid'\n",
        "Telco.loc[Telco['Tenure Months cat']==2,'Tenure Months cat'] = 'tenure_high'"
      ],
      "metadata": {
        "id": "MtfhR_jlmIXa"
      },
      "execution_count": 4,
      "outputs": []
    },
    {
      "cell_type": "code",
      "source": [
        "import plotly.io as pio\n",
        "pio.renderers.default = \"colab\""
      ],
      "metadata": {
        "id": "mS9q6J3GQUUS"
      },
      "execution_count": 5,
      "outputs": []
    },
    {
      "cell_type": "markdown",
      "source": [
        "# 1.고객의 서비스이용 현황 파악\n",
        "고객 데이터는 대략적으로 4가지 정보를 가진다 : \\\n",
        "1. 인구통계학적 정보\n",
        "2. 이용하는 인터넷/전화 서비스 정보\n",
        "3. 계약정보\n",
        "4. 이탈이유\n",
        "\n",
        "각 정보에 대한 고객의 현황을 살펴보자."
      ],
      "metadata": {
        "id": "fQnfjL_P7Fgh"
      }
    },
    {
      "cell_type": "markdown",
      "source": [
        "## 1.1. 인구통계학적 정보"
      ],
      "metadata": {
        "id": "R_oOXNGPX7D3"
      }
    },
    {
      "cell_type": "code",
      "source": [
        "import plotly.graph_objects as go\n",
        "\n",
        "colors = ['lightgreen','salmon']\n",
        "demo = ['Gender','Senior Citizen','Partner','Dependents']\n",
        "churn = ['Churn_No','Churn_Yes']\n",
        "showlegend = [True] + [False]*(len(demo)-1)\n",
        "spacing = ['',' ','  ']\n",
        "\n",
        "fig = go.Figure()\n",
        "\n",
        "for d in range(len(demo)):\n",
        "    grouped = Telco.groupby([demo[d], 'Churn Label']).size().unstack(fill_value=0).reset_index()\n",
        "    for c in range(len(churn)):\n",
        "        fig.add_trace(go.Bar(x=grouped[demo[d]], y=grouped[churn[c]], name=churn[c],\n",
        "                             marker_color=colors[c], showlegend=showlegend[d]))\n",
        "    if d < (len(demo)-1):\n",
        "        fig.add_trace(go.Bar(x=[spacing[d]], y=[0], showlegend=False))\n",
        "\n",
        "\n",
        "\n",
        "# Customize the plot layout\n",
        "fig.update_layout(\n",
        "    title=\"Customer Churn by Demographics\",\n",
        "    yaxis_title=\"Churn Count\",\n",
        "    legend_title=\"Churn Label\",\n",
        "    barmode='stack'\n",
        ")\n",
        "\n",
        "fig.update_layout(autosize=False,width=1200,height=500)\n",
        "fig.show()"
      ],
      "metadata": {
        "colab": {
          "base_uri": "https://localhost:8080/",
          "height": 537
        },
        "id": "MK32ZxsctsT6",
        "outputId": "76577209-81f5-4b08-f82c-e8f7d0bb1b2a"
      },
      "execution_count": 6,
      "outputs": [
        {
          "output_type": "display_data",
          "data": {
            "text/html": [
              "<html>\n",
              "<head><meta charset=\"utf-8\" /></head>\n",
              "<body>\n",
              "    <div>            <script src=\"https://cdnjs.cloudflare.com/ajax/libs/mathjax/2.7.5/MathJax.js?config=TeX-AMS-MML_SVG\"></script><script type=\"text/javascript\">if (window.MathJax && window.MathJax.Hub && window.MathJax.Hub.Config) {window.MathJax.Hub.Config({SVG: {font: \"STIX-Web\"}});}</script>                <script type=\"text/javascript\">window.PlotlyConfig = {MathJaxConfig: 'local'};</script>\n",
              "        <script charset=\"utf-8\" src=\"https://cdn.plot.ly/plotly-2.24.1.min.js\"></script>                <div id=\"4664fab8-5747-4e1f-ae05-7303830677f4\" class=\"plotly-graph-div\" style=\"height:500px; width:1200px;\"></div>            <script type=\"text/javascript\">                                    window.PLOTLYENV=window.PLOTLYENV || {};                                    if (document.getElementById(\"4664fab8-5747-4e1f-ae05-7303830677f4\")) {                    Plotly.newPlot(                        \"4664fab8-5747-4e1f-ae05-7303830677f4\",                        [{\"marker\":{\"color\":\"lightgreen\"},\"name\":\"Churn_No\",\"showlegend\":true,\"x\":[\"Female\",\"Male\"],\"y\":[2549,2625],\"type\":\"bar\"},{\"marker\":{\"color\":\"salmon\"},\"name\":\"Churn_Yes\",\"showlegend\":true,\"x\":[\"Female\",\"Male\"],\"y\":[939,930],\"type\":\"bar\"},{\"showlegend\":false,\"x\":[\"\"],\"y\":[0],\"type\":\"bar\"},{\"marker\":{\"color\":\"lightgreen\"},\"name\":\"Churn_No\",\"showlegend\":false,\"x\":[\"Not_Senior\",\"Senior\"],\"y\":[4508,666],\"type\":\"bar\"},{\"marker\":{\"color\":\"salmon\"},\"name\":\"Churn_Yes\",\"showlegend\":false,\"x\":[\"Not_Senior\",\"Senior\"],\"y\":[1393,476],\"type\":\"bar\"},{\"showlegend\":false,\"x\":[\" \"],\"y\":[0],\"type\":\"bar\"},{\"marker\":{\"color\":\"lightgreen\"},\"name\":\"Churn_No\",\"showlegend\":false,\"x\":[\"No_Partner\",\"w\\u002fPartner\"],\"y\":[2441,2733],\"type\":\"bar\"},{\"marker\":{\"color\":\"salmon\"},\"name\":\"Churn_Yes\",\"showlegend\":false,\"x\":[\"No_Partner\",\"w\\u002fPartner\"],\"y\":[1200,669],\"type\":\"bar\"},{\"showlegend\":false,\"x\":[\"  \"],\"y\":[0],\"type\":\"bar\"},{\"marker\":{\"color\":\"lightgreen\"},\"name\":\"Churn_No\",\"showlegend\":false,\"x\":[\"No_Dependents\",\"w\\u002fDependents\"],\"y\":[3653,1521],\"type\":\"bar\"},{\"marker\":{\"color\":\"salmon\"},\"name\":\"Churn_Yes\",\"showlegend\":false,\"x\":[\"No_Dependents\",\"w\\u002fDependents\"],\"y\":[1763,106],\"type\":\"bar\"}],                        {\"template\":{\"data\":{\"histogram2dcontour\":[{\"type\":\"histogram2dcontour\",\"colorbar\":{\"outlinewidth\":0,\"ticks\":\"\"},\"colorscale\":[[0.0,\"#0d0887\"],[0.1111111111111111,\"#46039f\"],[0.2222222222222222,\"#7201a8\"],[0.3333333333333333,\"#9c179e\"],[0.4444444444444444,\"#bd3786\"],[0.5555555555555556,\"#d8576b\"],[0.6666666666666666,\"#ed7953\"],[0.7777777777777778,\"#fb9f3a\"],[0.8888888888888888,\"#fdca26\"],[1.0,\"#f0f921\"]]}],\"choropleth\":[{\"type\":\"choropleth\",\"colorbar\":{\"outlinewidth\":0,\"ticks\":\"\"}}],\"histogram2d\":[{\"type\":\"histogram2d\",\"colorbar\":{\"outlinewidth\":0,\"ticks\":\"\"},\"colorscale\":[[0.0,\"#0d0887\"],[0.1111111111111111,\"#46039f\"],[0.2222222222222222,\"#7201a8\"],[0.3333333333333333,\"#9c179e\"],[0.4444444444444444,\"#bd3786\"],[0.5555555555555556,\"#d8576b\"],[0.6666666666666666,\"#ed7953\"],[0.7777777777777778,\"#fb9f3a\"],[0.8888888888888888,\"#fdca26\"],[1.0,\"#f0f921\"]]}],\"heatmap\":[{\"type\":\"heatmap\",\"colorbar\":{\"outlinewidth\":0,\"ticks\":\"\"},\"colorscale\":[[0.0,\"#0d0887\"],[0.1111111111111111,\"#46039f\"],[0.2222222222222222,\"#7201a8\"],[0.3333333333333333,\"#9c179e\"],[0.4444444444444444,\"#bd3786\"],[0.5555555555555556,\"#d8576b\"],[0.6666666666666666,\"#ed7953\"],[0.7777777777777778,\"#fb9f3a\"],[0.8888888888888888,\"#fdca26\"],[1.0,\"#f0f921\"]]}],\"heatmapgl\":[{\"type\":\"heatmapgl\",\"colorbar\":{\"outlinewidth\":0,\"ticks\":\"\"},\"colorscale\":[[0.0,\"#0d0887\"],[0.1111111111111111,\"#46039f\"],[0.2222222222222222,\"#7201a8\"],[0.3333333333333333,\"#9c179e\"],[0.4444444444444444,\"#bd3786\"],[0.5555555555555556,\"#d8576b\"],[0.6666666666666666,\"#ed7953\"],[0.7777777777777778,\"#fb9f3a\"],[0.8888888888888888,\"#fdca26\"],[1.0,\"#f0f921\"]]}],\"contourcarpet\":[{\"type\":\"contourcarpet\",\"colorbar\":{\"outlinewidth\":0,\"ticks\":\"\"}}],\"contour\":[{\"type\":\"contour\",\"colorbar\":{\"outlinewidth\":0,\"ticks\":\"\"},\"colorscale\":[[0.0,\"#0d0887\"],[0.1111111111111111,\"#46039f\"],[0.2222222222222222,\"#7201a8\"],[0.3333333333333333,\"#9c179e\"],[0.4444444444444444,\"#bd3786\"],[0.5555555555555556,\"#d8576b\"],[0.6666666666666666,\"#ed7953\"],[0.7777777777777778,\"#fb9f3a\"],[0.8888888888888888,\"#fdca26\"],[1.0,\"#f0f921\"]]}],\"surface\":[{\"type\":\"surface\",\"colorbar\":{\"outlinewidth\":0,\"ticks\":\"\"},\"colorscale\":[[0.0,\"#0d0887\"],[0.1111111111111111,\"#46039f\"],[0.2222222222222222,\"#7201a8\"],[0.3333333333333333,\"#9c179e\"],[0.4444444444444444,\"#bd3786\"],[0.5555555555555556,\"#d8576b\"],[0.6666666666666666,\"#ed7953\"],[0.7777777777777778,\"#fb9f3a\"],[0.8888888888888888,\"#fdca26\"],[1.0,\"#f0f921\"]]}],\"mesh3d\":[{\"type\":\"mesh3d\",\"colorbar\":{\"outlinewidth\":0,\"ticks\":\"\"}}],\"scatter\":[{\"fillpattern\":{\"fillmode\":\"overlay\",\"size\":10,\"solidity\":0.2},\"type\":\"scatter\"}],\"parcoords\":[{\"type\":\"parcoords\",\"line\":{\"colorbar\":{\"outlinewidth\":0,\"ticks\":\"\"}}}],\"scatterpolargl\":[{\"type\":\"scatterpolargl\",\"marker\":{\"colorbar\":{\"outlinewidth\":0,\"ticks\":\"\"}}}],\"bar\":[{\"error_x\":{\"color\":\"#2a3f5f\"},\"error_y\":{\"color\":\"#2a3f5f\"},\"marker\":{\"line\":{\"color\":\"#E5ECF6\",\"width\":0.5},\"pattern\":{\"fillmode\":\"overlay\",\"size\":10,\"solidity\":0.2}},\"type\":\"bar\"}],\"scattergeo\":[{\"type\":\"scattergeo\",\"marker\":{\"colorbar\":{\"outlinewidth\":0,\"ticks\":\"\"}}}],\"scatterpolar\":[{\"type\":\"scatterpolar\",\"marker\":{\"colorbar\":{\"outlinewidth\":0,\"ticks\":\"\"}}}],\"histogram\":[{\"marker\":{\"pattern\":{\"fillmode\":\"overlay\",\"size\":10,\"solidity\":0.2}},\"type\":\"histogram\"}],\"scattergl\":[{\"type\":\"scattergl\",\"marker\":{\"colorbar\":{\"outlinewidth\":0,\"ticks\":\"\"}}}],\"scatter3d\":[{\"type\":\"scatter3d\",\"line\":{\"colorbar\":{\"outlinewidth\":0,\"ticks\":\"\"}},\"marker\":{\"colorbar\":{\"outlinewidth\":0,\"ticks\":\"\"}}}],\"scattermapbox\":[{\"type\":\"scattermapbox\",\"marker\":{\"colorbar\":{\"outlinewidth\":0,\"ticks\":\"\"}}}],\"scatterternary\":[{\"type\":\"scatterternary\",\"marker\":{\"colorbar\":{\"outlinewidth\":0,\"ticks\":\"\"}}}],\"scattercarpet\":[{\"type\":\"scattercarpet\",\"marker\":{\"colorbar\":{\"outlinewidth\":0,\"ticks\":\"\"}}}],\"carpet\":[{\"aaxis\":{\"endlinecolor\":\"#2a3f5f\",\"gridcolor\":\"white\",\"linecolor\":\"white\",\"minorgridcolor\":\"white\",\"startlinecolor\":\"#2a3f5f\"},\"baxis\":{\"endlinecolor\":\"#2a3f5f\",\"gridcolor\":\"white\",\"linecolor\":\"white\",\"minorgridcolor\":\"white\",\"startlinecolor\":\"#2a3f5f\"},\"type\":\"carpet\"}],\"table\":[{\"cells\":{\"fill\":{\"color\":\"#EBF0F8\"},\"line\":{\"color\":\"white\"}},\"header\":{\"fill\":{\"color\":\"#C8D4E3\"},\"line\":{\"color\":\"white\"}},\"type\":\"table\"}],\"barpolar\":[{\"marker\":{\"line\":{\"color\":\"#E5ECF6\",\"width\":0.5},\"pattern\":{\"fillmode\":\"overlay\",\"size\":10,\"solidity\":0.2}},\"type\":\"barpolar\"}],\"pie\":[{\"automargin\":true,\"type\":\"pie\"}]},\"layout\":{\"autotypenumbers\":\"strict\",\"colorway\":[\"#636efa\",\"#EF553B\",\"#00cc96\",\"#ab63fa\",\"#FFA15A\",\"#19d3f3\",\"#FF6692\",\"#B6E880\",\"#FF97FF\",\"#FECB52\"],\"font\":{\"color\":\"#2a3f5f\"},\"hovermode\":\"closest\",\"hoverlabel\":{\"align\":\"left\"},\"paper_bgcolor\":\"white\",\"plot_bgcolor\":\"#E5ECF6\",\"polar\":{\"bgcolor\":\"#E5ECF6\",\"angularaxis\":{\"gridcolor\":\"white\",\"linecolor\":\"white\",\"ticks\":\"\"},\"radialaxis\":{\"gridcolor\":\"white\",\"linecolor\":\"white\",\"ticks\":\"\"}},\"ternary\":{\"bgcolor\":\"#E5ECF6\",\"aaxis\":{\"gridcolor\":\"white\",\"linecolor\":\"white\",\"ticks\":\"\"},\"baxis\":{\"gridcolor\":\"white\",\"linecolor\":\"white\",\"ticks\":\"\"},\"caxis\":{\"gridcolor\":\"white\",\"linecolor\":\"white\",\"ticks\":\"\"}},\"coloraxis\":{\"colorbar\":{\"outlinewidth\":0,\"ticks\":\"\"}},\"colorscale\":{\"sequential\":[[0.0,\"#0d0887\"],[0.1111111111111111,\"#46039f\"],[0.2222222222222222,\"#7201a8\"],[0.3333333333333333,\"#9c179e\"],[0.4444444444444444,\"#bd3786\"],[0.5555555555555556,\"#d8576b\"],[0.6666666666666666,\"#ed7953\"],[0.7777777777777778,\"#fb9f3a\"],[0.8888888888888888,\"#fdca26\"],[1.0,\"#f0f921\"]],\"sequentialminus\":[[0.0,\"#0d0887\"],[0.1111111111111111,\"#46039f\"],[0.2222222222222222,\"#7201a8\"],[0.3333333333333333,\"#9c179e\"],[0.4444444444444444,\"#bd3786\"],[0.5555555555555556,\"#d8576b\"],[0.6666666666666666,\"#ed7953\"],[0.7777777777777778,\"#fb9f3a\"],[0.8888888888888888,\"#fdca26\"],[1.0,\"#f0f921\"]],\"diverging\":[[0,\"#8e0152\"],[0.1,\"#c51b7d\"],[0.2,\"#de77ae\"],[0.3,\"#f1b6da\"],[0.4,\"#fde0ef\"],[0.5,\"#f7f7f7\"],[0.6,\"#e6f5d0\"],[0.7,\"#b8e186\"],[0.8,\"#7fbc41\"],[0.9,\"#4d9221\"],[1,\"#276419\"]]},\"xaxis\":{\"gridcolor\":\"white\",\"linecolor\":\"white\",\"ticks\":\"\",\"title\":{\"standoff\":15},\"zerolinecolor\":\"white\",\"automargin\":true,\"zerolinewidth\":2},\"yaxis\":{\"gridcolor\":\"white\",\"linecolor\":\"white\",\"ticks\":\"\",\"title\":{\"standoff\":15},\"zerolinecolor\":\"white\",\"automargin\":true,\"zerolinewidth\":2},\"scene\":{\"xaxis\":{\"backgroundcolor\":\"#E5ECF6\",\"gridcolor\":\"white\",\"linecolor\":\"white\",\"showbackground\":true,\"ticks\":\"\",\"zerolinecolor\":\"white\",\"gridwidth\":2},\"yaxis\":{\"backgroundcolor\":\"#E5ECF6\",\"gridcolor\":\"white\",\"linecolor\":\"white\",\"showbackground\":true,\"ticks\":\"\",\"zerolinecolor\":\"white\",\"gridwidth\":2},\"zaxis\":{\"backgroundcolor\":\"#E5ECF6\",\"gridcolor\":\"white\",\"linecolor\":\"white\",\"showbackground\":true,\"ticks\":\"\",\"zerolinecolor\":\"white\",\"gridwidth\":2}},\"shapedefaults\":{\"line\":{\"color\":\"#2a3f5f\"}},\"annotationdefaults\":{\"arrowcolor\":\"#2a3f5f\",\"arrowhead\":0,\"arrowwidth\":1},\"geo\":{\"bgcolor\":\"white\",\"landcolor\":\"#E5ECF6\",\"subunitcolor\":\"white\",\"showland\":true,\"showlakes\":true,\"lakecolor\":\"white\"},\"title\":{\"x\":0.05},\"mapbox\":{\"style\":\"light\"}}},\"title\":{\"text\":\"Customer Churn by Demographics\"},\"yaxis\":{\"title\":{\"text\":\"Churn Count\"}},\"legend\":{\"title\":{\"text\":\"Churn Label\"}},\"barmode\":\"stack\",\"autosize\":false,\"width\":1200,\"height\":500},                        {\"responsive\": true}                    ).then(function(){\n",
              "                            \n",
              "var gd = document.getElementById('4664fab8-5747-4e1f-ae05-7303830677f4');\n",
              "var x = new MutationObserver(function (mutations, observer) {{\n",
              "        var display = window.getComputedStyle(gd).display;\n",
              "        if (!display || display === 'none') {{\n",
              "            console.log([gd, 'removed!']);\n",
              "            Plotly.purge(gd);\n",
              "            observer.disconnect();\n",
              "        }}\n",
              "}});\n",
              "\n",
              "// Listen for the removal of the full notebook cells\n",
              "var notebookContainer = gd.closest('#notebook-container');\n",
              "if (notebookContainer) {{\n",
              "    x.observe(notebookContainer, {childList: true});\n",
              "}}\n",
              "\n",
              "// Listen for the clearing of the current output cell\n",
              "var outputEl = gd.closest('.output');\n",
              "if (outputEl) {{\n",
              "    x.observe(outputEl, {childList: true});\n",
              "}}\n",
              "\n",
              "                        })                };                            </script>        </div>\n",
              "</body>\n",
              "</html>"
            ]
          },
          "metadata": {}
        }
      ]
    },
    {
      "cell_type": "markdown",
      "source": [
        "* 성별 비율이 비슷, 각 성별의 이탈율도 비슷하다.\n",
        "* Senior(65세 이상)인 경우가 월등히 적되, 이탈율이 더 높은 편.\n",
        "* 파트너 유무 비율이 비슷, 파트너가 있는 경우의 이탈율이 조금 더 높은 편.\n",
        "* 부양가족이 있는 경우가 월등히 적되, 이탈율이 더 적은 편."
      ],
      "metadata": {
        "id": "tl5TeUiU7Axs"
      }
    },
    {
      "cell_type": "markdown",
      "source": [
        "## 1.2. 이용하는 인터넷/전화 서비스 정보"
      ],
      "metadata": {
        "id": "ipeKsjDc_Xix"
      }
    },
    {
      "cell_type": "code",
      "source": [
        "colors = ['lightgreen','salmon']\n",
        "service = ['Multiple Lines',\n",
        "           'Internet Service','Online Security','Online Backup','Device Protection','Tech Support',\n",
        "           'Streaming TV','Streaming Movies']\n",
        "churn = ['Churn_No','Churn_Yes']\n",
        "showlegend = [True] + [False]*(len(service)-1)\n",
        "spacing = ['',' ','  ','   ','    ','     ','      ','       ','        ']\n",
        "\n",
        "fig = go.Figure()\n",
        "\n",
        "for d in range(len(service)):\n",
        "    grouped = Telco.groupby([service[d], 'Churn Label']).size().unstack(fill_value=0).reset_index()\n",
        "    if d > 1 :\n",
        "        grouped = grouped.set_index(service[d]).drop(index='No internet service').reset_index()\n",
        "    for c in range(len(churn)):\n",
        "        fig.add_trace(go.Bar(x=grouped[service[d]], y=grouped[churn[c]], name=churn[c],\n",
        "                             marker_color=colors[c], showlegend=showlegend[d]))\n",
        "    if d < (len(service)-1):\n",
        "        fig.add_trace(go.Bar(x=[spacing[d]], y=[0], showlegend=False))\n",
        "\n",
        "\n",
        "\n",
        "# Customize the plot layout\n",
        "fig.update_layout(\n",
        "    title=\"Customer Churn by Service\",\n",
        "    yaxis_title=\"Churn Count\",\n",
        "    legend_title=\"Churn Label\",\n",
        "    barmode='stack'\n",
        ")\n",
        "\n",
        "fig.update_layout(autosize=False,width=1500,height=500)\n",
        "fig.show()"
      ],
      "metadata": {
        "id": "PP29-7ERrfhU",
        "colab": {
          "base_uri": "https://localhost:8080/",
          "height": 537
        },
        "outputId": "bc72f7a6-bba2-443d-bca9-2e6714f3c13a"
      },
      "execution_count": 7,
      "outputs": [
        {
          "output_type": "display_data",
          "data": {
            "text/html": [
              "<html>\n",
              "<head><meta charset=\"utf-8\" /></head>\n",
              "<body>\n",
              "    <div>            <script src=\"https://cdnjs.cloudflare.com/ajax/libs/mathjax/2.7.5/MathJax.js?config=TeX-AMS-MML_SVG\"></script><script type=\"text/javascript\">if (window.MathJax && window.MathJax.Hub && window.MathJax.Hub.Config) {window.MathJax.Hub.Config({SVG: {font: \"STIX-Web\"}});}</script>                <script type=\"text/javascript\">window.PlotlyConfig = {MathJaxConfig: 'local'};</script>\n",
              "        <script charset=\"utf-8\" src=\"https://cdn.plot.ly/plotly-2.24.1.min.js\"></script>                <div id=\"c816ace4-fdde-4037-a12f-ee77445788ef\" class=\"plotly-graph-div\" style=\"height:500px; width:1500px;\"></div>            <script type=\"text/javascript\">                                    window.PLOTLYENV=window.PLOTLYENV || {};                                    if (document.getElementById(\"c816ace4-fdde-4037-a12f-ee77445788ef\")) {                    Plotly.newPlot(                        \"c816ace4-fdde-4037-a12f-ee77445788ef\",                        [{\"marker\":{\"color\":\"lightgreen\"},\"name\":\"Churn_No\",\"showlegend\":true,\"x\":[\"Multiple Lines\",\"No phone service\",\"Single Line\"],\"y\":[2121,512,2541],\"type\":\"bar\"},{\"marker\":{\"color\":\"salmon\"},\"name\":\"Churn_Yes\",\"showlegend\":true,\"x\":[\"Multiple Lines\",\"No phone service\",\"Single Line\"],\"y\":[850,170,849],\"type\":\"bar\"},{\"showlegend\":false,\"x\":[\"\"],\"y\":[0],\"type\":\"bar\"},{\"marker\":{\"color\":\"lightgreen\"},\"name\":\"Churn_No\",\"showlegend\":false,\"x\":[\"DSL\",\"Fiber optic\",\"No_Internet_Service\"],\"y\":[1962,1799,1413],\"type\":\"bar\"},{\"marker\":{\"color\":\"salmon\"},\"name\":\"Churn_Yes\",\"showlegend\":false,\"x\":[\"DSL\",\"Fiber optic\",\"No_Internet_Service\"],\"y\":[459,1297,113],\"type\":\"bar\"},{\"showlegend\":false,\"x\":[\" \"],\"y\":[0],\"type\":\"bar\"},{\"marker\":{\"color\":\"lightgreen\"},\"name\":\"Churn_No\",\"showlegend\":false,\"x\":[\"No_Online Security\",\"Online Security\"],\"y\":[2037,1724],\"type\":\"bar\"},{\"marker\":{\"color\":\"salmon\"},\"name\":\"Churn_Yes\",\"showlegend\":false,\"x\":[\"No_Online Security\",\"Online Security\"],\"y\":[1461,295],\"type\":\"bar\"},{\"showlegend\":false,\"x\":[\"  \"],\"y\":[0],\"type\":\"bar\"},{\"marker\":{\"color\":\"lightgreen\"},\"name\":\"Churn_No\",\"showlegend\":false,\"x\":[\"No_Online Backup\",\"Online Backup\"],\"y\":[1855,1906],\"type\":\"bar\"},{\"marker\":{\"color\":\"salmon\"},\"name\":\"Churn_Yes\",\"showlegend\":false,\"x\":[\"No_Online Backup\",\"Online Backup\"],\"y\":[1233,523],\"type\":\"bar\"},{\"showlegend\":false,\"x\":[\"   \"],\"y\":[0],\"type\":\"bar\"},{\"marker\":{\"color\":\"lightgreen\"},\"name\":\"Churn_No\",\"showlegend\":false,\"x\":[\"Device Protection\",\"No_Device Protection\"],\"y\":[1877,1884],\"type\":\"bar\"},{\"marker\":{\"color\":\"salmon\"},\"name\":\"Churn_Yes\",\"showlegend\":false,\"x\":[\"Device Protection\",\"No_Device Protection\"],\"y\":[545,1211],\"type\":\"bar\"},{\"showlegend\":false,\"x\":[\"    \"],\"y\":[0],\"type\":\"bar\"},{\"marker\":{\"color\":\"lightgreen\"},\"name\":\"Churn_No\",\"showlegend\":false,\"x\":[\"No_Tech Support\",\"Tech Support\"],\"y\":[2027,1734],\"type\":\"bar\"},{\"marker\":{\"color\":\"salmon\"},\"name\":\"Churn_Yes\",\"showlegend\":false,\"x\":[\"No_Tech Support\",\"Tech Support\"],\"y\":[1446,310],\"type\":\"bar\"},{\"showlegend\":false,\"x\":[\"     \"],\"y\":[0],\"type\":\"bar\"},{\"marker\":{\"color\":\"lightgreen\"},\"name\":\"Churn_No\",\"showlegend\":false,\"x\":[\"No_Streaming TV\",\"Streaming TV\"],\"y\":[1868,1893],\"type\":\"bar\"},{\"marker\":{\"color\":\"salmon\"},\"name\":\"Churn_Yes\",\"showlegend\":false,\"x\":[\"No_Streaming TV\",\"Streaming TV\"],\"y\":[942,814],\"type\":\"bar\"},{\"showlegend\":false,\"x\":[\"      \"],\"y\":[0],\"type\":\"bar\"},{\"marker\":{\"color\":\"lightgreen\"},\"name\":\"Churn_No\",\"showlegend\":false,\"x\":[\"No_Streaming Movies\",\"Streaming Movies\"],\"y\":[1847,1914],\"type\":\"bar\"},{\"marker\":{\"color\":\"salmon\"},\"name\":\"Churn_Yes\",\"showlegend\":false,\"x\":[\"No_Streaming Movies\",\"Streaming Movies\"],\"y\":[938,818],\"type\":\"bar\"}],                        {\"template\":{\"data\":{\"histogram2dcontour\":[{\"type\":\"histogram2dcontour\",\"colorbar\":{\"outlinewidth\":0,\"ticks\":\"\"},\"colorscale\":[[0.0,\"#0d0887\"],[0.1111111111111111,\"#46039f\"],[0.2222222222222222,\"#7201a8\"],[0.3333333333333333,\"#9c179e\"],[0.4444444444444444,\"#bd3786\"],[0.5555555555555556,\"#d8576b\"],[0.6666666666666666,\"#ed7953\"],[0.7777777777777778,\"#fb9f3a\"],[0.8888888888888888,\"#fdca26\"],[1.0,\"#f0f921\"]]}],\"choropleth\":[{\"type\":\"choropleth\",\"colorbar\":{\"outlinewidth\":0,\"ticks\":\"\"}}],\"histogram2d\":[{\"type\":\"histogram2d\",\"colorbar\":{\"outlinewidth\":0,\"ticks\":\"\"},\"colorscale\":[[0.0,\"#0d0887\"],[0.1111111111111111,\"#46039f\"],[0.2222222222222222,\"#7201a8\"],[0.3333333333333333,\"#9c179e\"],[0.4444444444444444,\"#bd3786\"],[0.5555555555555556,\"#d8576b\"],[0.6666666666666666,\"#ed7953\"],[0.7777777777777778,\"#fb9f3a\"],[0.8888888888888888,\"#fdca26\"],[1.0,\"#f0f921\"]]}],\"heatmap\":[{\"type\":\"heatmap\",\"colorbar\":{\"outlinewidth\":0,\"ticks\":\"\"},\"colorscale\":[[0.0,\"#0d0887\"],[0.1111111111111111,\"#46039f\"],[0.2222222222222222,\"#7201a8\"],[0.3333333333333333,\"#9c179e\"],[0.4444444444444444,\"#bd3786\"],[0.5555555555555556,\"#d8576b\"],[0.6666666666666666,\"#ed7953\"],[0.7777777777777778,\"#fb9f3a\"],[0.8888888888888888,\"#fdca26\"],[1.0,\"#f0f921\"]]}],\"heatmapgl\":[{\"type\":\"heatmapgl\",\"colorbar\":{\"outlinewidth\":0,\"ticks\":\"\"},\"colorscale\":[[0.0,\"#0d0887\"],[0.1111111111111111,\"#46039f\"],[0.2222222222222222,\"#7201a8\"],[0.3333333333333333,\"#9c179e\"],[0.4444444444444444,\"#bd3786\"],[0.5555555555555556,\"#d8576b\"],[0.6666666666666666,\"#ed7953\"],[0.7777777777777778,\"#fb9f3a\"],[0.8888888888888888,\"#fdca26\"],[1.0,\"#f0f921\"]]}],\"contourcarpet\":[{\"type\":\"contourcarpet\",\"colorbar\":{\"outlinewidth\":0,\"ticks\":\"\"}}],\"contour\":[{\"type\":\"contour\",\"colorbar\":{\"outlinewidth\":0,\"ticks\":\"\"},\"colorscale\":[[0.0,\"#0d0887\"],[0.1111111111111111,\"#46039f\"],[0.2222222222222222,\"#7201a8\"],[0.3333333333333333,\"#9c179e\"],[0.4444444444444444,\"#bd3786\"],[0.5555555555555556,\"#d8576b\"],[0.6666666666666666,\"#ed7953\"],[0.7777777777777778,\"#fb9f3a\"],[0.8888888888888888,\"#fdca26\"],[1.0,\"#f0f921\"]]}],\"surface\":[{\"type\":\"surface\",\"colorbar\":{\"outlinewidth\":0,\"ticks\":\"\"},\"colorscale\":[[0.0,\"#0d0887\"],[0.1111111111111111,\"#46039f\"],[0.2222222222222222,\"#7201a8\"],[0.3333333333333333,\"#9c179e\"],[0.4444444444444444,\"#bd3786\"],[0.5555555555555556,\"#d8576b\"],[0.6666666666666666,\"#ed7953\"],[0.7777777777777778,\"#fb9f3a\"],[0.8888888888888888,\"#fdca26\"],[1.0,\"#f0f921\"]]}],\"mesh3d\":[{\"type\":\"mesh3d\",\"colorbar\":{\"outlinewidth\":0,\"ticks\":\"\"}}],\"scatter\":[{\"fillpattern\":{\"fillmode\":\"overlay\",\"size\":10,\"solidity\":0.2},\"type\":\"scatter\"}],\"parcoords\":[{\"type\":\"parcoords\",\"line\":{\"colorbar\":{\"outlinewidth\":0,\"ticks\":\"\"}}}],\"scatterpolargl\":[{\"type\":\"scatterpolargl\",\"marker\":{\"colorbar\":{\"outlinewidth\":0,\"ticks\":\"\"}}}],\"bar\":[{\"error_x\":{\"color\":\"#2a3f5f\"},\"error_y\":{\"color\":\"#2a3f5f\"},\"marker\":{\"line\":{\"color\":\"#E5ECF6\",\"width\":0.5},\"pattern\":{\"fillmode\":\"overlay\",\"size\":10,\"solidity\":0.2}},\"type\":\"bar\"}],\"scattergeo\":[{\"type\":\"scattergeo\",\"marker\":{\"colorbar\":{\"outlinewidth\":0,\"ticks\":\"\"}}}],\"scatterpolar\":[{\"type\":\"scatterpolar\",\"marker\":{\"colorbar\":{\"outlinewidth\":0,\"ticks\":\"\"}}}],\"histogram\":[{\"marker\":{\"pattern\":{\"fillmode\":\"overlay\",\"size\":10,\"solidity\":0.2}},\"type\":\"histogram\"}],\"scattergl\":[{\"type\":\"scattergl\",\"marker\":{\"colorbar\":{\"outlinewidth\":0,\"ticks\":\"\"}}}],\"scatter3d\":[{\"type\":\"scatter3d\",\"line\":{\"colorbar\":{\"outlinewidth\":0,\"ticks\":\"\"}},\"marker\":{\"colorbar\":{\"outlinewidth\":0,\"ticks\":\"\"}}}],\"scattermapbox\":[{\"type\":\"scattermapbox\",\"marker\":{\"colorbar\":{\"outlinewidth\":0,\"ticks\":\"\"}}}],\"scatterternary\":[{\"type\":\"scatterternary\",\"marker\":{\"colorbar\":{\"outlinewidth\":0,\"ticks\":\"\"}}}],\"scattercarpet\":[{\"type\":\"scattercarpet\",\"marker\":{\"colorbar\":{\"outlinewidth\":0,\"ticks\":\"\"}}}],\"carpet\":[{\"aaxis\":{\"endlinecolor\":\"#2a3f5f\",\"gridcolor\":\"white\",\"linecolor\":\"white\",\"minorgridcolor\":\"white\",\"startlinecolor\":\"#2a3f5f\"},\"baxis\":{\"endlinecolor\":\"#2a3f5f\",\"gridcolor\":\"white\",\"linecolor\":\"white\",\"minorgridcolor\":\"white\",\"startlinecolor\":\"#2a3f5f\"},\"type\":\"carpet\"}],\"table\":[{\"cells\":{\"fill\":{\"color\":\"#EBF0F8\"},\"line\":{\"color\":\"white\"}},\"header\":{\"fill\":{\"color\":\"#C8D4E3\"},\"line\":{\"color\":\"white\"}},\"type\":\"table\"}],\"barpolar\":[{\"marker\":{\"line\":{\"color\":\"#E5ECF6\",\"width\":0.5},\"pattern\":{\"fillmode\":\"overlay\",\"size\":10,\"solidity\":0.2}},\"type\":\"barpolar\"}],\"pie\":[{\"automargin\":true,\"type\":\"pie\"}]},\"layout\":{\"autotypenumbers\":\"strict\",\"colorway\":[\"#636efa\",\"#EF553B\",\"#00cc96\",\"#ab63fa\",\"#FFA15A\",\"#19d3f3\",\"#FF6692\",\"#B6E880\",\"#FF97FF\",\"#FECB52\"],\"font\":{\"color\":\"#2a3f5f\"},\"hovermode\":\"closest\",\"hoverlabel\":{\"align\":\"left\"},\"paper_bgcolor\":\"white\",\"plot_bgcolor\":\"#E5ECF6\",\"polar\":{\"bgcolor\":\"#E5ECF6\",\"angularaxis\":{\"gridcolor\":\"white\",\"linecolor\":\"white\",\"ticks\":\"\"},\"radialaxis\":{\"gridcolor\":\"white\",\"linecolor\":\"white\",\"ticks\":\"\"}},\"ternary\":{\"bgcolor\":\"#E5ECF6\",\"aaxis\":{\"gridcolor\":\"white\",\"linecolor\":\"white\",\"ticks\":\"\"},\"baxis\":{\"gridcolor\":\"white\",\"linecolor\":\"white\",\"ticks\":\"\"},\"caxis\":{\"gridcolor\":\"white\",\"linecolor\":\"white\",\"ticks\":\"\"}},\"coloraxis\":{\"colorbar\":{\"outlinewidth\":0,\"ticks\":\"\"}},\"colorscale\":{\"sequential\":[[0.0,\"#0d0887\"],[0.1111111111111111,\"#46039f\"],[0.2222222222222222,\"#7201a8\"],[0.3333333333333333,\"#9c179e\"],[0.4444444444444444,\"#bd3786\"],[0.5555555555555556,\"#d8576b\"],[0.6666666666666666,\"#ed7953\"],[0.7777777777777778,\"#fb9f3a\"],[0.8888888888888888,\"#fdca26\"],[1.0,\"#f0f921\"]],\"sequentialminus\":[[0.0,\"#0d0887\"],[0.1111111111111111,\"#46039f\"],[0.2222222222222222,\"#7201a8\"],[0.3333333333333333,\"#9c179e\"],[0.4444444444444444,\"#bd3786\"],[0.5555555555555556,\"#d8576b\"],[0.6666666666666666,\"#ed7953\"],[0.7777777777777778,\"#fb9f3a\"],[0.8888888888888888,\"#fdca26\"],[1.0,\"#f0f921\"]],\"diverging\":[[0,\"#8e0152\"],[0.1,\"#c51b7d\"],[0.2,\"#de77ae\"],[0.3,\"#f1b6da\"],[0.4,\"#fde0ef\"],[0.5,\"#f7f7f7\"],[0.6,\"#e6f5d0\"],[0.7,\"#b8e186\"],[0.8,\"#7fbc41\"],[0.9,\"#4d9221\"],[1,\"#276419\"]]},\"xaxis\":{\"gridcolor\":\"white\",\"linecolor\":\"white\",\"ticks\":\"\",\"title\":{\"standoff\":15},\"zerolinecolor\":\"white\",\"automargin\":true,\"zerolinewidth\":2},\"yaxis\":{\"gridcolor\":\"white\",\"linecolor\":\"white\",\"ticks\":\"\",\"title\":{\"standoff\":15},\"zerolinecolor\":\"white\",\"automargin\":true,\"zerolinewidth\":2},\"scene\":{\"xaxis\":{\"backgroundcolor\":\"#E5ECF6\",\"gridcolor\":\"white\",\"linecolor\":\"white\",\"showbackground\":true,\"ticks\":\"\",\"zerolinecolor\":\"white\",\"gridwidth\":2},\"yaxis\":{\"backgroundcolor\":\"#E5ECF6\",\"gridcolor\":\"white\",\"linecolor\":\"white\",\"showbackground\":true,\"ticks\":\"\",\"zerolinecolor\":\"white\",\"gridwidth\":2},\"zaxis\":{\"backgroundcolor\":\"#E5ECF6\",\"gridcolor\":\"white\",\"linecolor\":\"white\",\"showbackground\":true,\"ticks\":\"\",\"zerolinecolor\":\"white\",\"gridwidth\":2}},\"shapedefaults\":{\"line\":{\"color\":\"#2a3f5f\"}},\"annotationdefaults\":{\"arrowcolor\":\"#2a3f5f\",\"arrowhead\":0,\"arrowwidth\":1},\"geo\":{\"bgcolor\":\"white\",\"landcolor\":\"#E5ECF6\",\"subunitcolor\":\"white\",\"showland\":true,\"showlakes\":true,\"lakecolor\":\"white\"},\"title\":{\"x\":0.05},\"mapbox\":{\"style\":\"light\"}}},\"title\":{\"text\":\"Customer Churn by Service\"},\"yaxis\":{\"title\":{\"text\":\"Churn Count\"}},\"legend\":{\"title\":{\"text\":\"Churn Label\"}},\"barmode\":\"stack\",\"autosize\":false,\"width\":1500,\"height\":500},                        {\"responsive\": true}                    ).then(function(){\n",
              "                            \n",
              "var gd = document.getElementById('c816ace4-fdde-4037-a12f-ee77445788ef');\n",
              "var x = new MutationObserver(function (mutations, observer) {{\n",
              "        var display = window.getComputedStyle(gd).display;\n",
              "        if (!display || display === 'none') {{\n",
              "            console.log([gd, 'removed!']);\n",
              "            Plotly.purge(gd);\n",
              "            observer.disconnect();\n",
              "        }}\n",
              "}});\n",
              "\n",
              "// Listen for the removal of the full notebook cells\n",
              "var notebookContainer = gd.closest('#notebook-container');\n",
              "if (notebookContainer) {{\n",
              "    x.observe(notebookContainer, {childList: true});\n",
              "}}\n",
              "\n",
              "// Listen for the clearing of the current output cell\n",
              "var outputEl = gd.closest('.output');\n",
              "if (outputEl) {{\n",
              "    x.observe(outputEl, {childList: true});\n",
              "}}\n",
              "\n",
              "                        })                };                            </script>        </div>\n",
              "</body>\n",
              "</html>"
            ]
          },
          "metadata": {}
        }
      ]
    },
    {
      "cell_type": "markdown",
      "source": [
        "* 전화회선은 단일이 제일 많고 이탈고객 수는 다중과 비슷.\n",
        "* 인터넷회선 중 Fiber optic 이용자가 제일 많으면서 이탈율도 제일 높음.\n",
        "* 보안, 백업, 보호, tech support 모두 이용자의 이탈율이 비이용자보다 적은 편.\n",
        "* Streaming service에 대한 차이는 별로 없음."
      ],
      "metadata": {
        "id": "ShD216m_GNOn"
      }
    },
    {
      "cell_type": "markdown",
      "source": [
        "## 1.3. 계약정보\n"
      ],
      "metadata": {
        "id": "YXtc6vfz0BzS"
      }
    },
    {
      "cell_type": "code",
      "source": [
        "colors = ['lightgreen','salmon']\n",
        "service = ['Contract','Paperless Billing','Payment Method','Monthly Charges cat','Tenure Months cat']\n",
        "churn = ['Churn_No','Churn_Yes']\n",
        "showlegend = [True] + [False]*(len(service)-1)\n",
        "spacing = ['',' ','  ','   ','    ','     ','      ','       ','        ']\n",
        "\n",
        "fig = go.Figure()\n",
        "\n",
        "for d in range(len(service)):\n",
        "    grouped = Telco.groupby([service[d], 'Churn Label']).size().unstack(fill_value=0).reset_index()\n",
        "    for c in range(len(churn)):\n",
        "        fig.add_trace(go.Bar(x=grouped[service[d]], y=grouped[churn[c]], name=churn[c],\n",
        "                             marker_color=colors[c], showlegend=showlegend[d]))\n",
        "    if d < (len(service)-1):\n",
        "        fig.add_trace(go.Bar(x=[spacing[d]], y=[0], showlegend=False))\n",
        "\n",
        "\n",
        "\n",
        "# Customize the plot layout\n",
        "fig.update_layout(\n",
        "    title=\"Customer Churn by Contract\",\n",
        "    yaxis_title=\"Churn Count\",\n",
        "    legend_title=\"Churn Label\",\n",
        "    barmode='stack'\n",
        ")\n",
        "\n",
        "fig.update_layout(autosize=False,width=1500,height=500)\n",
        "fig.show()"
      ],
      "metadata": {
        "colab": {
          "base_uri": "https://localhost:8080/",
          "height": 537
        },
        "id": "PODv_gA20jX7",
        "outputId": "53e613a0-56f7-41f5-93bf-a02db188bc41"
      },
      "execution_count": 8,
      "outputs": [
        {
          "output_type": "display_data",
          "data": {
            "text/html": [
              "<html>\n",
              "<head><meta charset=\"utf-8\" /></head>\n",
              "<body>\n",
              "    <div>            <script src=\"https://cdnjs.cloudflare.com/ajax/libs/mathjax/2.7.5/MathJax.js?config=TeX-AMS-MML_SVG\"></script><script type=\"text/javascript\">if (window.MathJax && window.MathJax.Hub && window.MathJax.Hub.Config) {window.MathJax.Hub.Config({SVG: {font: \"STIX-Web\"}});}</script>                <script type=\"text/javascript\">window.PlotlyConfig = {MathJaxConfig: 'local'};</script>\n",
              "        <script charset=\"utf-8\" src=\"https://cdn.plot.ly/plotly-2.24.1.min.js\"></script>                <div id=\"42e4b13c-a977-48fb-9064-178c7e4aad21\" class=\"plotly-graph-div\" style=\"height:500px; width:1500px;\"></div>            <script type=\"text/javascript\">                                    window.PLOTLYENV=window.PLOTLYENV || {};                                    if (document.getElementById(\"42e4b13c-a977-48fb-9064-178c7e4aad21\")) {                    Plotly.newPlot(                        \"42e4b13c-a977-48fb-9064-178c7e4aad21\",                        [{\"marker\":{\"color\":\"lightgreen\"},\"name\":\"Churn_No\",\"showlegend\":true,\"x\":[\"Month-to-month\",\"One year\",\"Two year\"],\"y\":[2220,1307,1647],\"type\":\"bar\"},{\"marker\":{\"color\":\"salmon\"},\"name\":\"Churn_Yes\",\"showlegend\":true,\"x\":[\"Month-to-month\",\"One year\",\"Two year\"],\"y\":[1655,166,48],\"type\":\"bar\"},{\"showlegend\":false,\"x\":[\"\"],\"y\":[0],\"type\":\"bar\"},{\"marker\":{\"color\":\"lightgreen\"},\"name\":\"Churn_No\",\"showlegend\":false,\"x\":[\"No_Paperless Billing\",\"Paperless Billing\"],\"y\":[2403,2771],\"type\":\"bar\"},{\"marker\":{\"color\":\"salmon\"},\"name\":\"Churn_Yes\",\"showlegend\":false,\"x\":[\"No_Paperless Billing\",\"Paperless Billing\"],\"y\":[469,1400],\"type\":\"bar\"},{\"showlegend\":false,\"x\":[\" \"],\"y\":[0],\"type\":\"bar\"},{\"marker\":{\"color\":\"lightgreen\"},\"name\":\"Churn_No\",\"showlegend\":false,\"x\":[\"Bank transfer (automatic)\",\"Credit card (automatic)\",\"Electronic check\",\"Mailed check\"],\"y\":[1286,1290,1294,1304],\"type\":\"bar\"},{\"marker\":{\"color\":\"salmon\"},\"name\":\"Churn_Yes\",\"showlegend\":false,\"x\":[\"Bank transfer (automatic)\",\"Credit card (automatic)\",\"Electronic check\",\"Mailed check\"],\"y\":[258,232,1071,308],\"type\":\"bar\"},{\"showlegend\":false,\"x\":[\"  \"],\"y\":[0],\"type\":\"bar\"},{\"marker\":{\"color\":\"lightgreen\"},\"name\":\"Churn_No\",\"showlegend\":false,\"x\":[\"charge_high\",\"charge_low\",\"charge_mid\"],\"y\":[1547,1978,1649],\"type\":\"bar\"},{\"marker\":{\"color\":\"salmon\"},\"name\":\"Churn_Yes\",\"showlegend\":false,\"x\":[\"charge_high\",\"charge_low\",\"charge_mid\"],\"y\":[800,373,696],\"type\":\"bar\"},{\"showlegend\":false,\"x\":[\"   \"],\"y\":[0],\"type\":\"bar\"},{\"marker\":{\"color\":\"lightgreen\"},\"name\":\"Churn_No\",\"showlegend\":false,\"x\":[\"tenure_high\",\"tenure_low\",\"tenure_mid\"],\"y\":[2081,1272,1821],\"type\":\"bar\"},{\"marker\":{\"color\":\"salmon\"},\"name\":\"Churn_Yes\",\"showlegend\":false,\"x\":[\"tenure_high\",\"tenure_low\",\"tenure_mid\"],\"y\":[222,1099,548],\"type\":\"bar\"}],                        {\"template\":{\"data\":{\"histogram2dcontour\":[{\"type\":\"histogram2dcontour\",\"colorbar\":{\"outlinewidth\":0,\"ticks\":\"\"},\"colorscale\":[[0.0,\"#0d0887\"],[0.1111111111111111,\"#46039f\"],[0.2222222222222222,\"#7201a8\"],[0.3333333333333333,\"#9c179e\"],[0.4444444444444444,\"#bd3786\"],[0.5555555555555556,\"#d8576b\"],[0.6666666666666666,\"#ed7953\"],[0.7777777777777778,\"#fb9f3a\"],[0.8888888888888888,\"#fdca26\"],[1.0,\"#f0f921\"]]}],\"choropleth\":[{\"type\":\"choropleth\",\"colorbar\":{\"outlinewidth\":0,\"ticks\":\"\"}}],\"histogram2d\":[{\"type\":\"histogram2d\",\"colorbar\":{\"outlinewidth\":0,\"ticks\":\"\"},\"colorscale\":[[0.0,\"#0d0887\"],[0.1111111111111111,\"#46039f\"],[0.2222222222222222,\"#7201a8\"],[0.3333333333333333,\"#9c179e\"],[0.4444444444444444,\"#bd3786\"],[0.5555555555555556,\"#d8576b\"],[0.6666666666666666,\"#ed7953\"],[0.7777777777777778,\"#fb9f3a\"],[0.8888888888888888,\"#fdca26\"],[1.0,\"#f0f921\"]]}],\"heatmap\":[{\"type\":\"heatmap\",\"colorbar\":{\"outlinewidth\":0,\"ticks\":\"\"},\"colorscale\":[[0.0,\"#0d0887\"],[0.1111111111111111,\"#46039f\"],[0.2222222222222222,\"#7201a8\"],[0.3333333333333333,\"#9c179e\"],[0.4444444444444444,\"#bd3786\"],[0.5555555555555556,\"#d8576b\"],[0.6666666666666666,\"#ed7953\"],[0.7777777777777778,\"#fb9f3a\"],[0.8888888888888888,\"#fdca26\"],[1.0,\"#f0f921\"]]}],\"heatmapgl\":[{\"type\":\"heatmapgl\",\"colorbar\":{\"outlinewidth\":0,\"ticks\":\"\"},\"colorscale\":[[0.0,\"#0d0887\"],[0.1111111111111111,\"#46039f\"],[0.2222222222222222,\"#7201a8\"],[0.3333333333333333,\"#9c179e\"],[0.4444444444444444,\"#bd3786\"],[0.5555555555555556,\"#d8576b\"],[0.6666666666666666,\"#ed7953\"],[0.7777777777777778,\"#fb9f3a\"],[0.8888888888888888,\"#fdca26\"],[1.0,\"#f0f921\"]]}],\"contourcarpet\":[{\"type\":\"contourcarpet\",\"colorbar\":{\"outlinewidth\":0,\"ticks\":\"\"}}],\"contour\":[{\"type\":\"contour\",\"colorbar\":{\"outlinewidth\":0,\"ticks\":\"\"},\"colorscale\":[[0.0,\"#0d0887\"],[0.1111111111111111,\"#46039f\"],[0.2222222222222222,\"#7201a8\"],[0.3333333333333333,\"#9c179e\"],[0.4444444444444444,\"#bd3786\"],[0.5555555555555556,\"#d8576b\"],[0.6666666666666666,\"#ed7953\"],[0.7777777777777778,\"#fb9f3a\"],[0.8888888888888888,\"#fdca26\"],[1.0,\"#f0f921\"]]}],\"surface\":[{\"type\":\"surface\",\"colorbar\":{\"outlinewidth\":0,\"ticks\":\"\"},\"colorscale\":[[0.0,\"#0d0887\"],[0.1111111111111111,\"#46039f\"],[0.2222222222222222,\"#7201a8\"],[0.3333333333333333,\"#9c179e\"],[0.4444444444444444,\"#bd3786\"],[0.5555555555555556,\"#d8576b\"],[0.6666666666666666,\"#ed7953\"],[0.7777777777777778,\"#fb9f3a\"],[0.8888888888888888,\"#fdca26\"],[1.0,\"#f0f921\"]]}],\"mesh3d\":[{\"type\":\"mesh3d\",\"colorbar\":{\"outlinewidth\":0,\"ticks\":\"\"}}],\"scatter\":[{\"fillpattern\":{\"fillmode\":\"overlay\",\"size\":10,\"solidity\":0.2},\"type\":\"scatter\"}],\"parcoords\":[{\"type\":\"parcoords\",\"line\":{\"colorbar\":{\"outlinewidth\":0,\"ticks\":\"\"}}}],\"scatterpolargl\":[{\"type\":\"scatterpolargl\",\"marker\":{\"colorbar\":{\"outlinewidth\":0,\"ticks\":\"\"}}}],\"bar\":[{\"error_x\":{\"color\":\"#2a3f5f\"},\"error_y\":{\"color\":\"#2a3f5f\"},\"marker\":{\"line\":{\"color\":\"#E5ECF6\",\"width\":0.5},\"pattern\":{\"fillmode\":\"overlay\",\"size\":10,\"solidity\":0.2}},\"type\":\"bar\"}],\"scattergeo\":[{\"type\":\"scattergeo\",\"marker\":{\"colorbar\":{\"outlinewidth\":0,\"ticks\":\"\"}}}],\"scatterpolar\":[{\"type\":\"scatterpolar\",\"marker\":{\"colorbar\":{\"outlinewidth\":0,\"ticks\":\"\"}}}],\"histogram\":[{\"marker\":{\"pattern\":{\"fillmode\":\"overlay\",\"size\":10,\"solidity\":0.2}},\"type\":\"histogram\"}],\"scattergl\":[{\"type\":\"scattergl\",\"marker\":{\"colorbar\":{\"outlinewidth\":0,\"ticks\":\"\"}}}],\"scatter3d\":[{\"type\":\"scatter3d\",\"line\":{\"colorbar\":{\"outlinewidth\":0,\"ticks\":\"\"}},\"marker\":{\"colorbar\":{\"outlinewidth\":0,\"ticks\":\"\"}}}],\"scattermapbox\":[{\"type\":\"scattermapbox\",\"marker\":{\"colorbar\":{\"outlinewidth\":0,\"ticks\":\"\"}}}],\"scatterternary\":[{\"type\":\"scatterternary\",\"marker\":{\"colorbar\":{\"outlinewidth\":0,\"ticks\":\"\"}}}],\"scattercarpet\":[{\"type\":\"scattercarpet\",\"marker\":{\"colorbar\":{\"outlinewidth\":0,\"ticks\":\"\"}}}],\"carpet\":[{\"aaxis\":{\"endlinecolor\":\"#2a3f5f\",\"gridcolor\":\"white\",\"linecolor\":\"white\",\"minorgridcolor\":\"white\",\"startlinecolor\":\"#2a3f5f\"},\"baxis\":{\"endlinecolor\":\"#2a3f5f\",\"gridcolor\":\"white\",\"linecolor\":\"white\",\"minorgridcolor\":\"white\",\"startlinecolor\":\"#2a3f5f\"},\"type\":\"carpet\"}],\"table\":[{\"cells\":{\"fill\":{\"color\":\"#EBF0F8\"},\"line\":{\"color\":\"white\"}},\"header\":{\"fill\":{\"color\":\"#C8D4E3\"},\"line\":{\"color\":\"white\"}},\"type\":\"table\"}],\"barpolar\":[{\"marker\":{\"line\":{\"color\":\"#E5ECF6\",\"width\":0.5},\"pattern\":{\"fillmode\":\"overlay\",\"size\":10,\"solidity\":0.2}},\"type\":\"barpolar\"}],\"pie\":[{\"automargin\":true,\"type\":\"pie\"}]},\"layout\":{\"autotypenumbers\":\"strict\",\"colorway\":[\"#636efa\",\"#EF553B\",\"#00cc96\",\"#ab63fa\",\"#FFA15A\",\"#19d3f3\",\"#FF6692\",\"#B6E880\",\"#FF97FF\",\"#FECB52\"],\"font\":{\"color\":\"#2a3f5f\"},\"hovermode\":\"closest\",\"hoverlabel\":{\"align\":\"left\"},\"paper_bgcolor\":\"white\",\"plot_bgcolor\":\"#E5ECF6\",\"polar\":{\"bgcolor\":\"#E5ECF6\",\"angularaxis\":{\"gridcolor\":\"white\",\"linecolor\":\"white\",\"ticks\":\"\"},\"radialaxis\":{\"gridcolor\":\"white\",\"linecolor\":\"white\",\"ticks\":\"\"}},\"ternary\":{\"bgcolor\":\"#E5ECF6\",\"aaxis\":{\"gridcolor\":\"white\",\"linecolor\":\"white\",\"ticks\":\"\"},\"baxis\":{\"gridcolor\":\"white\",\"linecolor\":\"white\",\"ticks\":\"\"},\"caxis\":{\"gridcolor\":\"white\",\"linecolor\":\"white\",\"ticks\":\"\"}},\"coloraxis\":{\"colorbar\":{\"outlinewidth\":0,\"ticks\":\"\"}},\"colorscale\":{\"sequential\":[[0.0,\"#0d0887\"],[0.1111111111111111,\"#46039f\"],[0.2222222222222222,\"#7201a8\"],[0.3333333333333333,\"#9c179e\"],[0.4444444444444444,\"#bd3786\"],[0.5555555555555556,\"#d8576b\"],[0.6666666666666666,\"#ed7953\"],[0.7777777777777778,\"#fb9f3a\"],[0.8888888888888888,\"#fdca26\"],[1.0,\"#f0f921\"]],\"sequentialminus\":[[0.0,\"#0d0887\"],[0.1111111111111111,\"#46039f\"],[0.2222222222222222,\"#7201a8\"],[0.3333333333333333,\"#9c179e\"],[0.4444444444444444,\"#bd3786\"],[0.5555555555555556,\"#d8576b\"],[0.6666666666666666,\"#ed7953\"],[0.7777777777777778,\"#fb9f3a\"],[0.8888888888888888,\"#fdca26\"],[1.0,\"#f0f921\"]],\"diverging\":[[0,\"#8e0152\"],[0.1,\"#c51b7d\"],[0.2,\"#de77ae\"],[0.3,\"#f1b6da\"],[0.4,\"#fde0ef\"],[0.5,\"#f7f7f7\"],[0.6,\"#e6f5d0\"],[0.7,\"#b8e186\"],[0.8,\"#7fbc41\"],[0.9,\"#4d9221\"],[1,\"#276419\"]]},\"xaxis\":{\"gridcolor\":\"white\",\"linecolor\":\"white\",\"ticks\":\"\",\"title\":{\"standoff\":15},\"zerolinecolor\":\"white\",\"automargin\":true,\"zerolinewidth\":2},\"yaxis\":{\"gridcolor\":\"white\",\"linecolor\":\"white\",\"ticks\":\"\",\"title\":{\"standoff\":15},\"zerolinecolor\":\"white\",\"automargin\":true,\"zerolinewidth\":2},\"scene\":{\"xaxis\":{\"backgroundcolor\":\"#E5ECF6\",\"gridcolor\":\"white\",\"linecolor\":\"white\",\"showbackground\":true,\"ticks\":\"\",\"zerolinecolor\":\"white\",\"gridwidth\":2},\"yaxis\":{\"backgroundcolor\":\"#E5ECF6\",\"gridcolor\":\"white\",\"linecolor\":\"white\",\"showbackground\":true,\"ticks\":\"\",\"zerolinecolor\":\"white\",\"gridwidth\":2},\"zaxis\":{\"backgroundcolor\":\"#E5ECF6\",\"gridcolor\":\"white\",\"linecolor\":\"white\",\"showbackground\":true,\"ticks\":\"\",\"zerolinecolor\":\"white\",\"gridwidth\":2}},\"shapedefaults\":{\"line\":{\"color\":\"#2a3f5f\"}},\"annotationdefaults\":{\"arrowcolor\":\"#2a3f5f\",\"arrowhead\":0,\"arrowwidth\":1},\"geo\":{\"bgcolor\":\"white\",\"landcolor\":\"#E5ECF6\",\"subunitcolor\":\"white\",\"showland\":true,\"showlakes\":true,\"lakecolor\":\"white\"},\"title\":{\"x\":0.05},\"mapbox\":{\"style\":\"light\"}}},\"title\":{\"text\":\"Customer Churn by Contract\"},\"yaxis\":{\"title\":{\"text\":\"Churn Count\"}},\"legend\":{\"title\":{\"text\":\"Churn Label\"}},\"barmode\":\"stack\",\"autosize\":false,\"width\":1500,\"height\":500},                        {\"responsive\": true}                    ).then(function(){\n",
              "                            \n",
              "var gd = document.getElementById('42e4b13c-a977-48fb-9064-178c7e4aad21');\n",
              "var x = new MutationObserver(function (mutations, observer) {{\n",
              "        var display = window.getComputedStyle(gd).display;\n",
              "        if (!display || display === 'none') {{\n",
              "            console.log([gd, 'removed!']);\n",
              "            Plotly.purge(gd);\n",
              "            observer.disconnect();\n",
              "        }}\n",
              "}});\n",
              "\n",
              "// Listen for the removal of the full notebook cells\n",
              "var notebookContainer = gd.closest('#notebook-container');\n",
              "if (notebookContainer) {{\n",
              "    x.observe(notebookContainer, {childList: true});\n",
              "}}\n",
              "\n",
              "// Listen for the clearing of the current output cell\n",
              "var outputEl = gd.closest('.output');\n",
              "if (outputEl) {{\n",
              "    x.observe(outputEl, {childList: true});\n",
              "}}\n",
              "\n",
              "                        })                };                            </script>        </div>\n",
              "</body>\n",
              "</html>"
            ]
          },
          "metadata": {}
        }
      ]
    },
    {
      "cell_type": "markdown",
      "source": [
        "* 월계약이 가장 많으면서 이탈율도 가장 높음.\n",
        "* Paperless Billing이 더 많으면서 이탈율도 더 높음.\n",
        "* Electronic check가 가장 많으면서 이탈율도 가장 높음.\n",
        "* 월마다 내는 비용이 높을수록 이탈율도 늘어나는 추세.\n",
        "* 반면 Tenure은 길어질수록 이탈율이 줄어드는 추세."
      ],
      "metadata": {
        "id": "9kZUiqM83N7E"
      }
    },
    {
      "cell_type": "markdown",
      "source": [
        "## 1.4. 핵심 요약\n",
        "1. 젊은 사람의 비중이 높지만, 고령자의 이탈율이 더 높다.\n",
        "2. 부양가족이 있는 경우가 적지만, 이탈율 또한 매우 적다.\n",
        "3. 인터넷 회선 중 Fiber optic의 이용자 수와 이탈율 모두 제일 높음.\n",
        "4. 인터넷 부가서비스를 이용하는 경우 이탈율이 더 적음.\n",
        "5. 계약방법 중 월계약이 가장 많으면서 이탈율도 가장 큼.\n",
        "6. 월마다 내는 비용이 높을수록 이탈율이 늘어나지만, Tenure가 길어질수록 이탈율이 줄어듬."
      ],
      "metadata": {
        "id": "aCDhq6mx9dvQ"
      }
    },
    {
      "cell_type": "markdown",
      "source": [
        "## 1.5. 한계점\n",
        "단일 변수로만 이탈율을 비교하는 것은 다음과 같은 위험성을 가진다 :\n",
        "1. Simpson's Paradox : A trend appears in several groups of data but disappears or reverses when the groups are combined.\n",
        "    * 간단한 예로, A그룹의 고객 이탈율이 B그룹의 고객 이탈율보다 높게 나오지만, B그룹의 고객 수가 A그룹보다 월등히 많다면, 두 그룹 모두 합쳤을 때 전반적 이탈율이 작게 나오는 효과를 볼 수 있다. 혹은 그 반대 효과도 나올 수 있다.\n",
        "        * 우리의 예상보다 고객의 패턴 종류가 다양하다면, Simpson's Paradox가 나올 여지가 더 커질 것이다.\n",
        "    * 우리의 데이터에도 비슷한 질문들을 적용해볼 수 있다 : 월계약의 이탈율이 높다는 것은, 모든 고객에게 해당되는 이야기일까?\n",
        "        * 특정 고객 군에게만 해당되는 이야기일까?\n",
        "    * 고령자의 이탈율이 높은 이유가 - 각 고객그룹의 정보를 합쳤을 때 우연히 그렇게 보이는 것이 아닐까?\n",
        "        * 각 고객 그룹의 고령자 비율이 항상 낮다면, 이탈이 일어날 때 마다 젊은 사람의 이탈율보다 고령자의 이탈율 증가가 더 클 수 밖에 없다.\n",
        "2. 변수들 간 상관성 존재 가능성.\n",
        "    * 특정 인구통계학적 특징을 가진 고객은 특정 서비스들을 연계하여 활용할 가능성이 있다.\n",
        "        * 어떤 한 요인에서 이탈율이 높게 나와 그 요인에 자칫 손보면, 그 요인과 연관된 다른 요인들도 영향받아 더 안좋은 효과를 낳을 수 있다.\n",
        "    * 그렇다면 다중변수 분석을 하면 되지 않을까?\n",
        "        * 현재 18가지의 범주형 변수에 대해 가능한 고객의 종류는 2,672,922가지. 7000여명의 고객 수보다 월등히 많은 가짓수라서 쉽지 않다."
      ],
      "metadata": {
        "id": "jk23CWf6UpbT"
      }
    },
    {
      "cell_type": "markdown",
      "source": [
        "## 1.6. 해결방안\n",
        "1. 다중변수 분석 용으로 로지스틱 회귀분석 가능.\n",
        "    * 각 변수에 대한 이탈율을 변수들 간의 상관성을 보정한 상태로 구할 수 있다.\n",
        "    * 그렇지만 이 역시 Simpson's Paradox 문제를 피하기 어렵다. 고객 그룹마다 특징이 상이할 수 있기 때문.\n",
        "        * 또한 각 그룹의 특징도 알기 어렵다.\n",
        "    * 이에 대응하기 위해, 고객 그룹이 어떻게 나뉘는지 알고 있다는 전제하에, 각 그룹에 대해 로지스틱 회귀분석 하거나 모든 고객 데이터에 대해 로지스틱 혼합 모형을 사용해볼 수 있다.\n",
        "        * 문제는 고객 군집이 어떻게 나뉘는지 알 수 없는 상태이다.\n",
        "\n",
        "2. 군집분석.\n",
        "    * 고객의 인구통계학 정보와 서비스사용 등 정보를 바탕으로 군집화하여 그룹으로 나눌 수 있다.\n",
        "        * 다중변수 분석 용으로도 용이할 뿐더러, 앞서 언급하였듯 로지스틱 회귀분석의 연장선으로도 활용 가능하다."
      ],
      "metadata": {
        "id": "bi-cGE6U9_KB"
      }
    },
    {
      "cell_type": "markdown",
      "source": [
        "# 2.고객의 정보를 바탕으로 군집화\n",
        "군집분석은 크게 두 가지로 나눌 수 있다.\n",
        "\n",
        "1. Distance-based clustering:  말 그대로 데이터 간의 dissimilarity를 먼저 측정하고 클러스터링 방법을 적용시키는 방법들을 말한다.\n",
        "    * 다음 4가지를 결정해야 한다.\n",
        "        1. 어떤 변수들을 클러스터링에 활용할 것인가?\n",
        "        2. 어떤 distance metric을 활용할 것인가?\n",
        "        3. 어떤 철학,Criterion의 클러스터링 방법을 활용할 것인가?\n",
        "        4. 클러스터링 이후, 각 군집과 변수들간의 연관성은 어떻게 측정할 것인가?\n",
        "    * 인구통계학 정보와 서비스이용 정보, 그리고 계약정보 모두 활용한다면 총 18가지의 범주형 변수를 고려하게 된다. 또한 범주형인 점을 고려하여 데이터간의 거리를 재기 위해 Simple matching이나 Gower distance 등을 활용할 수 있을 것이다.\n",
        "        * 이에 따라 K-modes/median, hierarchical clustering 등 다양하게 적용할 수 있다는 점에서 꽤나 flexible하다.\n",
        "    * 클러스터링 이후, 각 군집의 특징을 설명하기 위해 변수들과의 연관성도 측정해야한다. 클러스터 라벨도 범주형 변수로 취급한다면, Chi-square distance나 Simple matching 등 이 또한 다양한 방법들을 쓸 수 있을 것이다.\n",
        "    <!-- * 그러나 거리 기반 클러스터링은 차원의 저주 문제가 있을 수 있다는 것. -->\n",
        "        <!-- * 일차원에서 거리가 2cm였던 물체가 10차원에서는 거리가 무려 약 1km가 되어버리는 현상으로 볼 수 있다.  -->\n",
        "        <!-- * 사실 Distance metric을 어떤 것 쓰냐 따라 차원의 저주 문제에 덜 민감할 수 있고, 또한 텍스트나 이미지와 같이 low dimension space에 워낙에 clustered되있는 데이터의 경우에도 덜 민감할 수 있다. 하지만 어디까지나 그럴 수 있다는 가능성의 얘기이다. -->\n",
        "\n",
        "\n",
        "2. Model-based clustering: 데이터가 어떤 분포/방정식으로부터 생성되었을 것이라는 가정을 가지는 클러스터링 방법들을 말한다.\n",
        "    * 범주형 변수들을 바탕으로 군집화하는 대표적인 방법은 Latent Class Analysis(LCA)로써, 다음과 같은 분포 가정을 가진다.\n",
        "    \\begin{align}\n",
        "        (Z_1,...,Z_K) &\\sim Multinomial(\\phi_1,...,\\phi_K), & \\phi_k = P(Z_k=1) \\\\\n",
        "        (X_1,...,X_J)|Z_k=1 &\\sim Multinomial(\\theta_{k,1},...,\\theta_{k,J}), & \\theta_{k,j} = P(X_j|Z_k=1) \\\\\n",
        "        P(X_1,...,X_J) &= \\sum_{k=1}^K P(Z_k=1)P(X_1,...,X_J|Z_k=1) \\\\\n",
        "        &= \\sum_{k=1}^K P(Z_k=1) \\prod_{j=1}^J P(X_j|Z_k=1)\n",
        "    \\end{align}\n",
        "    * 각 범주요인이 클러스터에 속할 확률을 가진다는 점에서 해석이 용이해진다 - 어떤 고객 군집이 확률적으로 어떤 서비스들을 많이 사용하는 편인지 등의 해석이 가능한 것이다.\n",
        "\n",
        "* Distance-based clustering(DBC) VS Model-based clustering(MBC)\n",
        "    * DBC는 MBC보다 다양한 방법으로 클러스터링할 수 있다.\n",
        "        * 최선의 방법을 찾기 어려울 수 있다. 아무래도 '해석력' 기준에 맞추어 다양한 클러스터링 방법을 시도할텐데, '해석력'을 위한 변수들과의 연관성도 측정 또한 다양한 방법이 있기 때문에 문제가 복잡하다.\n",
        "    * 반면 MBC는 분포가정으로 인해 해석적인데다, LCA의 한해 거리기반 클러스터링보다 차원의 저주 문제에 자유로운 편(LCA의 알고리즘에 데이터간 거리측정하는 식이 없다, 가우시안 혼합 모형은 제외).\n",
        "\n",
        "* 따라서 LCA를 사용하기로 택하였다.\n",
        "    "
      ],
      "metadata": {
        "id": "X2J93SsT9YdN"
      }
    },
    {
      "cell_type": "code",
      "source": [
        "df_cat = Telco[['Gender', 'Senior Citizen', 'Partner', 'Dependents',\n",
        "                'Multiple Lines', 'Internet Service',\n",
        "                'Online Security', 'Online Backup', 'Device Protection', 'Tech Support',\n",
        "                'Streaming TV', 'Streaming Movies', 'Contract', 'Paperless Billing',\n",
        "                'Payment Method', 'Monthly Charges cat','Tenure Months cat', 'Churn Label']]"
      ],
      "metadata": {
        "id": "4TpfL931lOrP"
      },
      "execution_count": 9,
      "outputs": []
    },
    {
      "cell_type": "code",
      "source": [
        "%%capture\n",
        "!pip install stepmix"
      ],
      "metadata": {
        "id": "jswUKhVEemmy"
      },
      "execution_count": 10,
      "outputs": []
    },
    {
      "cell_type": "code",
      "source": [
        "%%capture\n",
        "from stepmix.stepmix import StepMix\n",
        "from sklearn.preprocessing import LabelEncoder\n",
        "import seaborn as sns\n",
        "\n",
        "category_mappings = {}\n",
        "for col in df_cat.columns:\n",
        "    label_encoder = LabelEncoder()\n",
        "    df_cat[col] =  label_encoder.fit_transform(df_cat[col])\n",
        "    category_mappings[col] = dict(zip(label_encoder.classes_,\n",
        "                                      label_encoder.transform(label_encoder.classes_)))"
      ],
      "metadata": {
        "id": "CRC9MpGyemqy"
      },
      "execution_count": 11,
      "outputs": []
    },
    {
      "cell_type": "markdown",
      "source": [
        "## 2.1. 최적의 클러스터 갯수\n",
        "* BIC와 같은 지표로 최적의 클러스터 갯수를 정할 수 있다.\n",
        "* 하지만 LCA 추정하는 알고리즘은 클러스터 갯수가 많을 수록 local optima에 취약하며, 많은 수의 클러스터 갯수를 최적이라고 진단하는 경향성을 가진다.\n",
        "    * 따라서 고려하려는 클러스터 갯수 범위를 어느 정도 제한하는 것이 좋다.\n",
        "* 최소한 하나의 클러스터에 700명은 존재한다는 가정을 한다면 - 클러스터 갯수 후보로 3개부터 9개까지 고려할 수 있다."
      ],
      "metadata": {
        "id": "LJwfRt6L5sXH"
      }
    },
    {
      "cell_type": "code",
      "source": [
        "k_candidates = range(3,10,1)\n",
        "results = dict(param_n_components=[], bic=[])\n",
        "for k in k_candidates:\n",
        "    model = StepMix(n_components=k, measurement=\"categorical\", random_state=99)\n",
        "    model.fit(df_cat)\n",
        "    results['param_n_components'].append(k)\n",
        "    results['bic'].append(model.bic(df_cat))\n",
        "\n",
        "sns.lineplot(data=results, x='param_n_components', y='bic')"
      ],
      "metadata": {
        "colab": {
          "base_uri": "https://localhost:8080/",
          "height": 743
        },
        "id": "UIzr15JBjlBB",
        "outputId": "b01506fa-3d8a-4294-cd46-16059b0512ef"
      },
      "execution_count": 20,
      "outputs": [
        {
          "output_type": "stream",
          "name": "stdout",
          "text": [
            "Fitting StepMix...\n"
          ]
        },
        {
          "output_type": "stream",
          "name": "stderr",
          "text": [
            "Initializations (n_init) : 100%|██████████| 1/1 [00:03<00:00,  3.82s/it, max_LL=-8.48e+4, max_avg_LL=-12]\n"
          ]
        },
        {
          "output_type": "stream",
          "name": "stdout",
          "text": [
            "Fitting StepMix...\n"
          ]
        },
        {
          "output_type": "stream",
          "name": "stderr",
          "text": [
            "Initializations (n_init) : 100%|██████████| 1/1 [00:05<00:00,  5.44s/it, max_LL=-8.2e+4, max_avg_LL=-11.6]\n"
          ]
        },
        {
          "output_type": "stream",
          "name": "stdout",
          "text": [
            "Fitting StepMix...\n"
          ]
        },
        {
          "output_type": "stream",
          "name": "stderr",
          "text": [
            "Initializations (n_init) : 100%|██████████| 1/1 [00:02<00:00,  2.90s/it, max_LL=-8.02e+4, max_avg_LL=-11.4]\n"
          ]
        },
        {
          "output_type": "stream",
          "name": "stdout",
          "text": [
            "Fitting StepMix...\n"
          ]
        },
        {
          "output_type": "stream",
          "name": "stderr",
          "text": [
            "Initializations (n_init) : 100%|██████████| 1/1 [00:16<00:00, 16.79s/it, max_LL=-7.91e+4, max_avg_LL=-11.2]\n"
          ]
        },
        {
          "output_type": "stream",
          "name": "stdout",
          "text": [
            "Fitting StepMix...\n"
          ]
        },
        {
          "output_type": "stream",
          "name": "stderr",
          "text": [
            "Initializations (n_init) : 100%|██████████| 1/1 [00:08<00:00,  8.91s/it, max_LL=-7.83e+4, max_avg_LL=-11.1]\n"
          ]
        },
        {
          "output_type": "stream",
          "name": "stdout",
          "text": [
            "Fitting StepMix...\n"
          ]
        },
        {
          "output_type": "stream",
          "name": "stderr",
          "text": [
            "Initializations (n_init) : 100%|██████████| 1/1 [00:03<00:00,  3.72s/it, max_LL=-7.79e+4, max_avg_LL=-11.1]\n"
          ]
        },
        {
          "output_type": "stream",
          "name": "stdout",
          "text": [
            "Fitting StepMix...\n"
          ]
        },
        {
          "output_type": "stream",
          "name": "stderr",
          "text": [
            "Initializations (n_init) : 100%|██████████| 1/1 [00:25<00:00, 25.11s/it, max_LL=-7.78e+4, max_avg_LL=-11.1]\n"
          ]
        },
        {
          "output_type": "execute_result",
          "data": {
            "text/plain": [
              "<Axes: xlabel='param_n_components', ylabel='bic'>"
            ]
          },
          "metadata": {},
          "execution_count": 20
        },
        {
          "output_type": "display_data",
          "data": {
            "text/plain": [
              "<Figure size 640x480 with 1 Axes>"
            ],
            "image/png": "[encoded data removed]"
          },
          "metadata": {}
        }
      ]
    },
    {
      "cell_type": "markdown",
      "source": [
        "* BIC는 낮을 수록 좋으, 8개가 최적의 클러스터 갯수가 된다. 이제 각 클러스터의 고객수와 Churn rate을 확인해보자."
      ],
      "metadata": {
        "id": "RGxwOqLe6yJM"
      }
    },
    {
      "cell_type": "code",
      "source": [
        "%%capture\n",
        "num_cluster = 8\n",
        "model = StepMix(n_components=num_cluster, measurement=\"categorical\", random_state=99)\n",
        "model.fit(df_cat)\n",
        "df_cat['cluster'] = model.predict(df_cat)"
      ],
      "metadata": {
        "id": "_94c47AVlL9X"
      },
      "execution_count": 13,
      "outputs": []
    },
    {
      "cell_type": "code",
      "source": [
        "cluster_counts = pd.DataFrame(df_cat['cluster'].value_counts().reset_index()).rename(columns={'index':'cluster', 'cluster':'counts'})\n",
        "cluster_churn_counts = df_cat.groupby(['cluster','Churn Label']).size().unstack()\n",
        "cluster_churn_rate = (cluster_churn_counts[1]/cluster_churn_counts.sum(axis=1)).reset_index().rename(columns={0:'Churn rate'})\n",
        "cluster_churn = pd.merge(cluster_counts,cluster_churn_rate,left_on='cluster',right_on='cluster')\n",
        "cluster_churn['cluster'] += 1\n",
        "cluster_churn"
      ],
      "metadata": {
        "colab": {
          "base_uri": "https://localhost:8080/",
          "height": 300
        },
        "id": "vE_ascngxG2b",
        "outputId": "eb75f075-4560-41f8-d01e-f98153501fde"
      },
      "execution_count": 14,
      "outputs": [
        {
          "output_type": "execute_result",
          "data": {
            "text/plain": [
              "   cluster  counts  Churn rate\n",
              "0        3    1296    0.551698\n",
              "1        6    1051    0.080875\n",
              "2        7     894    0.586130\n",
              "3        2     845    0.031953\n",
              "4        5     829    0.008444\n",
              "5        4     733    0.200546\n",
              "6        8     698    0.369628\n",
              "7        1     697    0.152080"
            ],
            "text/html": [
              "\n",
              "  <div id=\"df-c012dcb9-cae0-4c61-8436-adf0ad579899\" class=\"colab-df-container\">\n",
              "    <div>\n",
              "<style scoped>\n",
              "    .dataframe tbody tr th:only-of-type {\n",
              "        vertical-align: middle;\n",
              "    }\n",
              "\n",
              "    .dataframe tbody tr th {\n",
              "        vertical-align: top;\n",
              "    }\n",
              "\n",
              "    .dataframe thead th {\n",
              "        text-align: right;\n",
              "    }\n",
              "</style>\n",
              "<table border=\"1\" class=\"dataframe\">\n",
              "  <thead>\n",
              "    <tr style=\"text-align: right;\">\n",
              "      <th></th>\n",
              "      <th>cluster</th>\n",
              "      <th>counts</th>\n",
              "      <th>Churn rate</th>\n",
              "    </tr>\n",
              "  </thead>\n",
              "  <tbody>\n",
              "    <tr>\n",
              "      <th>0</th>\n",
              "      <td>3</td>\n",
              "      <td>1296</td>\n",
              "      <td>0.551698</td>\n",
              "    </tr>\n",
              "    <tr>\n",
              "      <th>1</th>\n",
              "      <td>6</td>\n",
              "      <td>1051</td>\n",
              "      <td>0.080875</td>\n",
              "    </tr>\n",
              "    <tr>\n",
              "      <th>2</th>\n",
              "      <td>7</td>\n",
              "      <td>894</td>\n",
              "      <td>0.586130</td>\n",
              "    </tr>\n",
              "    <tr>\n",
              "      <th>3</th>\n",
              "      <td>2</td>\n",
              "      <td>845</td>\n",
              "      <td>0.031953</td>\n",
              "    </tr>\n",
              "    <tr>\n",
              "      <th>4</th>\n",
              "      <td>5</td>\n",
              "      <td>829</td>\n",
              "      <td>0.008444</td>\n",
              "    </tr>\n",
              "    <tr>\n",
              "      <th>5</th>\n",
              "      <td>4</td>\n",
              "      <td>733</td>\n",
              "      <td>0.200546</td>\n",
              "    </tr>\n",
              "    <tr>\n",
              "      <th>6</th>\n",
              "      <td>8</td>\n",
              "      <td>698</td>\n",
              "      <td>0.369628</td>\n",
              "    </tr>\n",
              "    <tr>\n",
              "      <th>7</th>\n",
              "      <td>1</td>\n",
              "      <td>697</td>\n",
              "      <td>0.152080</td>\n",
              "    </tr>\n",
              "  </tbody>\n",
              "</table>\n",
              "</div>\n",
              "    <div class=\"colab-df-buttons\">\n",
              "\n",
              "  <div class=\"colab-df-container\">\n",
              "    <button class=\"colab-df-convert\" onclick=\"convertToInteractive('df-c012dcb9-cae0-4c61-8436-adf0ad579899')\"\n",
              "            title=\"Convert this dataframe to an interactive table.\"\n",
              "            style=\"display:none;\">\n",
              "\n",
              "  <svg xmlns=\"http://www.w3.org/2000/svg\" height=\"24px\" viewBox=\"0 -960 960 960\">\n",
              "    <path d=\"M120-120v-720h720v720H120Zm60-500h600v-160H180v160Zm220 220h160v-160H400v160Zm0 220h160v-160H400v160ZM180-400h160v-160H180v160Zm440 0h160v-160H620v160ZM180-180h160v-160H180v160Zm440 0h160v-160H620v160Z\"/>\n",
              "  </svg>\n",
              "    </button>\n",
              "\n",
              "  <style>\n",
              "    .colab-df-container {\n",
              "      display:flex;\n",
              "      gap: 12px;\n",
              "    }\n",
              "\n",
              "    .colab-df-convert {\n",
              "      background-color: #E8F0FE;\n",
              "      border: none;\n",
              "      border-radius: 50%;\n",
              "      cursor: pointer;\n",
              "      display: none;\n",
              "      fill: #1967D2;\n",
              "      height: 32px;\n",
              "      padding: 0 0 0 0;\n",
              "      width: 32px;\n",
              "    }\n",
              "\n",
              "    .colab-df-convert:hover {\n",
              "      background-color: #E2EBFA;\n",
              "      box-shadow: 0px 1px 2px rgba(60, 64, 67, 0.3), 0px 1px 3px 1px rgba(60, 64, 67, 0.15);\n",
              "      fill: #174EA6;\n",
              "    }\n",
              "\n",
              "    .colab-df-buttons div {\n",
              "      margin-bottom: 4px;\n",
              "    }\n",
              "\n",
              "    [theme=dark] .colab-df-convert {\n",
              "      background-color: #3B4455;\n",
              "      fill: #D2E3FC;\n",
              "    }\n",
              "\n",
              "    [theme=dark] .colab-df-convert:hover {\n",
              "      background-color: #434B5C;\n",
              "      box-shadow: 0px 1px 3px 1px rgba(0, 0, 0, 0.15);\n",
              "      filter: drop-shadow(0px 1px 2px rgba(0, 0, 0, 0.3));\n",
              "      fill: #FFFFFF;\n",
              "    }\n",
              "  </style>\n",
              "\n",
              "    <script>\n",
              "      const buttonEl =\n",
              "        document.querySelector('#df-c012dcb9-cae0-4c61-8436-adf0ad579899 button.colab-df-convert');\n",
              "      buttonEl.style.display =\n",
              "        google.colab.kernel.accessAllowed ? 'block' : 'none';\n",
              "\n",
              "      async function convertToInteractive(key) {\n",
              "        const element = document.querySelector('#df-c012dcb9-cae0-4c61-8436-adf0ad579899');\n",
              "        const dataTable =\n",
              "          await google.colab.kernel.invokeFunction('convertToInteractive',\n",
              "                                                    [key], {});\n",
              "        if (!dataTable) return;\n",
              "\n",
              "        const docLinkHtml = 'Like what you see? Visit the ' +\n",
              "          '<a target=\"_blank\" href=https://colab.research.google.com/notebooks/data_table.ipynb>data table notebook</a>'\n",
              "          + ' to learn more about interactive tables.';\n",
              "        element.innerHTML = '';\n",
              "        dataTable['output_type'] = 'display_data';\n",
              "        await google.colab.output.renderOutput(dataTable, element);\n",
              "        const docLink = document.createElement('div');\n",
              "        docLink.innerHTML = docLinkHtml;\n",
              "        element.appendChild(docLink);\n",
              "      }\n",
              "    </script>\n",
              "  </div>\n",
              "\n",
              "\n",
              "<div id=\"df-17a022e7-361a-4c76-b205-b93bd0f794e6\">\n",
              "  <button class=\"colab-df-quickchart\" onclick=\"quickchart('df-17a022e7-361a-4c76-b205-b93bd0f794e6')\"\n",
              "            title=\"Suggest charts.\"\n",
              "            style=\"display:none;\">\n",
              "\n",
              "<svg xmlns=\"http://www.w3.org/2000/svg\" height=\"24px\"viewBox=\"0 0 24 24\"\n",
              "     width=\"24px\">\n",
              "    <g>\n",
              "        <path d=\"M19 3H5c-1.1 0-2 .9-2 2v14c0 1.1.9 2 2 2h14c1.1 0 2-.9 2-2V5c0-1.1-.9-2-2-2zM9 17H7v-7h2v7zm4 0h-2V7h2v10zm4 0h-2v-4h2v4z\"/>\n",
              "    </g>\n",
              "</svg>\n",
              "  </button>\n",
              "\n",
              "<style>\n",
              "  .colab-df-quickchart {\n",
              "      --bg-color: #E8F0FE;\n",
              "      --fill-color: #1967D2;\n",
              "      --hover-bg-color: #E2EBFA;\n",
              "      --hover-fill-color: #174EA6;\n",
              "      --disabled-fill-color: #AAA;\n",
              "      --disabled-bg-color: #DDD;\n",
              "  }\n",
              "\n",
              "  [theme=dark] .colab-df-quickchart {\n",
              "      --bg-color: #3B4455;\n",
              "      --fill-color: #D2E3FC;\n",
              "      --hover-bg-color: #434B5C;\n",
              "      --hover-fill-color: #FFFFFF;\n",
              "      --disabled-bg-color: #3B4455;\n",
              "      --disabled-fill-color: #666;\n",
              "  }\n",
              "\n",
              "  .colab-df-quickchart {\n",
              "    background-color: var(--bg-color);\n",
              "    border: none;\n",
              "    border-radius: 50%;\n",
              "    cursor: pointer;\n",
              "    display: none;\n",
              "    fill: var(--fill-color);\n",
              "    height: 32px;\n",
              "    padding: 0;\n",
              "    width: 32px;\n",
              "  }\n",
              "\n",
              "  .colab-df-quickchart:hover {\n",
              "    background-color: var(--hover-bg-color);\n",
              "    box-shadow: 0 1px 2px rgba(60, 64, 67, 0.3), 0 1px 3px 1px rgba(60, 64, 67, 0.15);\n",
              "    fill: var(--button-hover-fill-color);\n",
              "  }\n",
              "\n",
              "  .colab-df-quickchart-complete:disabled,\n",
              "  .colab-df-quickchart-complete:disabled:hover {\n",
              "    background-color: var(--disabled-bg-color);\n",
              "    fill: var(--disabled-fill-color);\n",
              "    box-shadow: none;\n",
              "  }\n",
              "\n",
              "  .colab-df-spinner {\n",
              "    border: 2px solid var(--fill-color);\n",
              "    border-color: transparent;\n",
              "    border-bottom-color: var(--fill-color);\n",
              "    animation:\n",
              "      spin 1s steps(1) infinite;\n",
              "  }\n",
              "\n",
              "  @keyframes spin {\n",
              "    0% {\n",
              "      border-color: transparent;\n",
              "      border-bottom-color: var(--fill-color);\n",
              "      border-left-color: var(--fill-color);\n",
              "    }\n",
              "    20% {\n",
              "      border-color: transparent;\n",
              "      border-left-color: var(--fill-color);\n",
              "      border-top-color: var(--fill-color);\n",
              "    }\n",
              "    30% {\n",
              "      border-color: transparent;\n",
              "      border-left-color: var(--fill-color);\n",
              "      border-top-color: var(--fill-color);\n",
              "      border-right-color: var(--fill-color);\n",
              "    }\n",
              "    40% {\n",
              "      border-color: transparent;\n",
              "      border-right-color: var(--fill-color);\n",
              "      border-top-color: var(--fill-color);\n",
              "    }\n",
              "    60% {\n",
              "      border-color: transparent;\n",
              "      border-right-color: var(--fill-color);\n",
              "    }\n",
              "    80% {\n",
              "      border-color: transparent;\n",
              "      border-right-color: var(--fill-color);\n",
              "      border-bottom-color: var(--fill-color);\n",
              "    }\n",
              "    90% {\n",
              "      border-color: transparent;\n",
              "      border-bottom-color: var(--fill-color);\n",
              "    }\n",
              "  }\n",
              "</style>\n",
              "\n",
              "  <script>\n",
              "    async function quickchart(key) {\n",
              "      const quickchartButtonEl =\n",
              "        document.querySelector('#' + key + ' button');\n",
              "      quickchartButtonEl.disabled = true;  // To prevent multiple clicks.\n",
              "      quickchartButtonEl.classList.add('colab-df-spinner');\n",
              "      try {\n",
              "        const charts = await google.colab.kernel.invokeFunction(\n",
              "            'suggestCharts', [key], {});\n",
              "      } catch (error) {\n",
              "        console.error('Error during call to suggestCharts:', error);\n",
              "      }\n",
              "      quickchartButtonEl.classList.remove('colab-df-spinner');\n",
              "      quickchartButtonEl.classList.add('colab-df-quickchart-complete');\n",
              "    }\n",
              "    (() => {\n",
              "      let quickchartButtonEl =\n",
              "        document.querySelector('#df-17a022e7-361a-4c76-b205-b93bd0f794e6 button');\n",
              "      quickchartButtonEl.style.display =\n",
              "        google.colab.kernel.accessAllowed ? 'block' : 'none';\n",
              "    })();\n",
              "  </script>\n",
              "</div>\n",
              "    </div>\n",
              "  </div>\n"
            ]
          },
          "metadata": {},
          "execution_count": 14
        }
      ]
    },
    {
      "cell_type": "markdown",
      "source": [
        "* 각 클러스터의 고객수는 약 700명에서 1300명의 범위를 가진다.\n",
        "* cluster 3, 7에서 이탈율이 50%를 넘긴다.\n",
        "* 각 클러스터의 특징을 위해 LCA 결과를 radar chart으로 확인해보자."
      ],
      "metadata": {
        "id": "6tbfe0FVAcTj"
      }
    },
    {
      "cell_type": "code",
      "source": [
        "mm = model.get_mm_df().round(2)\n",
        "mm.index = [levels[2] for levels in mm.index]\n",
        "\n",
        "new_cat_map = {}\n",
        "for col in df_cat:\n",
        "    if col=='cluster' : continue\n",
        "    for idx, (key, val) in enumerate(category_mappings[col].items()) :\n",
        "        new_cat_map[col + '_' + str(val)] = key\n",
        "\n",
        "mm = mm.rename(index=new_cat_map)"
      ],
      "metadata": {
        "id": "58Qa0pAIShZ-"
      },
      "execution_count": 15,
      "outputs": []
    },
    {
      "cell_type": "code",
      "source": [
        "# 각 범주요인의 글자 길이를 줄이기 위함.\n",
        "mm.index = ['No Churn','Churn','Monthly','1yr','2yr',\n",
        "            'No Dep','Dependents','Protect',\n",
        "            'No int','No protect','Female','Male','DSL',\n",
        "            'Fiber optic','No int','High fee','Low fee',\n",
        "            'Mid fee','Multiple','No phone','Single',\n",
        "            'No int','No onl bck','Backup',\n",
        "            'No int','No onl sec','Security',\n",
        "            'No ppb','PaperX Bill','No_part','Partner',\n",
        "            'Bank','Credit card',\n",
        "            'Electronic','Mailed','No senior','Senior',\n",
        "            'No int','No stream mv','Stream MV',\n",
        "            'No int','No stream tv','Stream TV',\n",
        "            'No int','No tech','Tech Sup','High tenure',\n",
        "            'Low tenure','Mid tenure']"
      ],
      "metadata": {
        "id": "fOhbav1sMXsK"
      },
      "execution_count": 16,
      "outputs": []
    },
    {
      "cell_type": "code",
      "source": [
        "# State of the contract\n",
        "# state_label = ['Churn_Yes','Month-to-month','One year','Two year',\n",
        "#                'charge_high','charge_mid','charge_low',\n",
        "#                'tenure_high','tenure_mid','tenure_low']\n",
        "state_label = ['Churn','Monthly','1yr','2yr',\n",
        "               'High fee','Mid fee','Low fee',\n",
        "               'High tenure','Mid tenure','Low tenure']\n",
        "# Demographics\n",
        "# demo_label = ['w/Dependents','w/Partner','Female','Male','Senior']\n",
        "demo_label = ['Dependents','Partner','Female','Male','Senior']\n",
        "# Billing method\n",
        "# bill_label = ['Paperless Billing','Bank transfer (automatic)','Credit card (automatic)',\n",
        "#               'Electronic check','Mailed check']\n",
        "bill_label = ['PaperX Bill','Bank','Credit card',\n",
        "              'Electronic','Mailed']\n",
        "# Use Additiona; service?\n",
        "# service_label = ['Multiple Lines','Single Line','DSL','Fiber optic',\n",
        "#                  'Device Protection','Online Backup','Online Security',\n",
        "#                  'Streaming Movies','Streaming TV','Tech Support']\n",
        "service_label = ['Multiple','Single','DSL','Fiber optic',\n",
        "                 'Protect','Backup','Security',\n",
        "                 'Stream MV','Stream TV','Tech Sup']\n",
        "\n",
        "label_list = [state_label,demo_label,bill_label,service_label]\n",
        "id_vars_list = ['Contract_Status','Demographics','Billing','Service']\n",
        "\n",
        "rename_col_list = []\n",
        "for j in range(len(label_list)):\n",
        "    rename_col = {}\n",
        "    rename_col['index'] = id_vars_list[j]\n",
        "    for k in range(num_cluster):\n",
        "        rename_col[k] = 'cluster_' + str(k+1)\n",
        "    rename_col_list.append(rename_col)\n",
        "\n",
        "lca_list = [mm.loc[labels,:].reset_index() for labels in label_list]\n",
        "lca_list = [lca_list[j].rename(columns=rename_col_list[j]) for j in range(len(label_list))]\n",
        "lca_long_list = [lca_list[j].melt(id_vars=id_vars_list[j], var_name='Cluster', value_name='Probability') for j in range(len(label_list))]"
      ],
      "metadata": {
        "id": "rSuGkzvswPko"
      },
      "execution_count": 17,
      "outputs": []
    },
    {
      "cell_type": "code",
      "source": [
        "import plotly.graph_objects as go\n",
        "import plotly.express as px\n",
        "from plotly.subplots import make_subplots\n",
        "\n",
        "def Radar_SubPlot_for_Clusters(j,fig,row,col,show):\n",
        "    colors = px.colors.qualitative.Set2\n",
        "    for k in range(num_cluster):\n",
        "        r = lca_long_list[j].loc[lca_long_list[j]['Cluster']=='cluster_'+str(k+1), 'Probability'].tolist()\n",
        "        theta = lca_long_list[j].loc[lca_long_list[j]['Cluster']=='cluster_'+str(k+1), id_vars_list[j]].tolist()\n",
        "        fig.add_trace(go.Scatterpolar(\n",
        "            r=r,\n",
        "            theta=theta,\n",
        "            fill='toself',\n",
        "            line_color=colors[k],\n",
        "            opacity=0.8,\n",
        "            name='Cluster '+str(k+1),\n",
        "            showlegend=show,\n",
        "        ),row=row, col=col)\n",
        "        if row==8:\n",
        "            row=1; col+=1\n",
        "        else:\n",
        "            row+=1\n",
        "    return(fig,col)\n",
        "\n",
        "def Radar_Plot_for_Clusters():\n",
        "    fig = make_subplots(rows=8, cols=4,\n",
        "                        specs=[[{'type': 'polar'}]*4]*8)\n",
        "    show_legend = [True] + [False]*3\n",
        "    row = col = 1\n",
        "    for j in range(4):\n",
        "        fig, col = Radar_SubPlot_for_Clusters(j,fig,row,col,show_legend[j])\n",
        "    fig.update_polars(radialaxis=dict(range=[0, 1]))\n",
        "    return(fig)"
      ],
      "metadata": {
        "id": "8AfxXiLuLwV3"
      },
      "execution_count": 18,
      "outputs": []
    },
    {
      "cell_type": "code",
      "source": [
        "fig = Radar_Plot_for_Clusters()\n",
        "fig.update_layout(autosize=False,width=1300,height=1500)\n",
        "fig.show()"
      ],
      "metadata": {
        "colab": {
          "base_uri": "https://localhost:8080/",
          "height": 1000
        },
        "id": "mF05w8drDe6y",
        "outputId": "b0af423f-9511-416a-e2b0-cf2da438447f"
      },
      "execution_count": 20,
      "outputs": [
        {
          "output_type": "display_data",
          "data": {
            "text/html": [
              "<html>\n",
              "<head><meta charset=\"utf-8\" /></head>\n",
              "<body>\n",
              "    <div>            <script src=\"https://cdnjs.cloudflare.com/ajax/libs/mathjax/2.7.5/MathJax.js?config=TeX-AMS-MML_SVG\"></script><script type=\"text/javascript\">if (window.MathJax && window.MathJax.Hub && window.MathJax.Hub.Config) {window.MathJax.Hub.Config({SVG: {font: \"STIX-Web\"}});}</script>                <script type=\"text/javascript\">window.PlotlyConfig = {MathJaxConfig: 'local'};</script>\n",
              "        <script charset=\"utf-8\" src=\"https://cdn.plot.ly/plotly-2.24.1.min.js\"></script>                <div id=\"9fead4e0-b76a-4efc-9dbe-54b40d48c954\" class=\"plotly-graph-div\" style=\"height:1500px; width:1300px;\"></div>            <script type=\"text/javascript\">                                    window.PLOTLYENV=window.PLOTLYENV || {};                                    if (document.getElementById(\"9fead4e0-b76a-4efc-9dbe-54b40d48c954\")) {                    Plotly.newPlot(                        \"9fead4e0-b76a-4efc-9dbe-54b40d48c954\",                        [{\"fill\":\"toself\",\"line\":{\"color\":\"rgb(102,194,165)\"},\"name\":\"Cluster 1\",\"opacity\":0.8,\"r\":[0.15,0.74,0.23,0.03,0.0,0.0,1.0,0.0,0.3,0.7],\"showlegend\":true,\"theta\":[\"Churn\",\"Monthly\",\"1yr\",\"2yr\",\"High fee\",\"Mid fee\",\"Low fee\",\"High tenure\",\"Mid tenure\",\"Low tenure\"],\"type\":\"scatterpolar\",\"subplot\":\"polar\"},{\"fill\":\"toself\",\"line\":{\"color\":\"rgb(252,141,98)\"},\"name\":\"Cluster 2\",\"opacity\":0.8,\"r\":[0.04,0.05,0.39,0.56,0.0,0.85,0.15,0.72,0.25,0.03],\"showlegend\":true,\"theta\":[\"Churn\",\"Monthly\",\"1yr\",\"2yr\",\"High fee\",\"Mid fee\",\"Low fee\",\"High tenure\",\"Mid tenure\",\"Low tenure\"],\"type\":\"scatterpolar\",\"subplot\":\"polar5\"},{\"fill\":\"toself\",\"line\":{\"color\":\"rgb(141,160,203)\"},\"name\":\"Cluster 3\",\"opacity\":0.8,\"r\":[0.55,0.9,0.1,0.0,1.0,0.0,0.0,0.15,0.52,0.33],\"showlegend\":true,\"theta\":[\"Churn\",\"Monthly\",\"1yr\",\"2yr\",\"High fee\",\"Mid fee\",\"Low fee\",\"High tenure\",\"Mid tenure\",\"Low tenure\"],\"type\":\"scatterpolar\",\"subplot\":\"polar9\"},{\"fill\":\"toself\",\"line\":{\"color\":\"rgb(231,138,195)\"},\"name\":\"Cluster 4\",\"opacity\":0.8,\"r\":[0.2,0.74,0.25,0.0,0.0,1.0,0.0,0.04,0.53,0.43],\"showlegend\":true,\"theta\":[\"Churn\",\"Monthly\",\"1yr\",\"2yr\",\"High fee\",\"Mid fee\",\"Low fee\",\"High tenure\",\"Mid tenure\",\"Low tenure\"],\"type\":\"scatterpolar\",\"subplot\":\"polar13\"},{\"fill\":\"toself\",\"line\":{\"color\":\"rgb(166,216,84)\"},\"name\":\"Cluster 5\",\"opacity\":0.8,\"r\":[0.01,0.01,0.25,0.75,0.0,0.0,1.0,0.55,0.38,0.07],\"showlegend\":true,\"theta\":[\"Churn\",\"Monthly\",\"1yr\",\"2yr\",\"High fee\",\"Mid fee\",\"Low fee\",\"High tenure\",\"Mid tenure\",\"Low tenure\"],\"type\":\"scatterpolar\",\"subplot\":\"polar17\"},{\"fill\":\"toself\",\"line\":{\"color\":\"rgb(255,217,47)\"},\"name\":\"Cluster 6\",\"opacity\":0.8,\"r\":[0.08,0.1,0.37,0.53,1.0,0.0,0.0,0.87,0.13,0.0],\"showlegend\":true,\"theta\":[\"Churn\",\"Monthly\",\"1yr\",\"2yr\",\"High fee\",\"Mid fee\",\"Low fee\",\"High tenure\",\"Mid tenure\",\"Low tenure\"],\"type\":\"scatterpolar\",\"subplot\":\"polar21\"},{\"fill\":\"toself\",\"line\":{\"color\":\"rgb(229,196,148)\"},\"name\":\"Cluster 7\",\"opacity\":0.8,\"r\":[0.59,0.99,0.01,0.0,0.0,1.0,0.0,0.05,0.27,0.68],\"showlegend\":true,\"theta\":[\"Churn\",\"Monthly\",\"1yr\",\"2yr\",\"High fee\",\"Mid fee\",\"Low fee\",\"High tenure\",\"Mid tenure\",\"Low tenure\"],\"type\":\"scatterpolar\",\"subplot\":\"polar25\"},{\"fill\":\"toself\",\"line\":{\"color\":\"rgb(179,179,179)\"},\"name\":\"Cluster 8\",\"opacity\":0.8,\"r\":[0.37,0.9,0.09,0.01,0.0,0.0,1.0,0.05,0.29,0.66],\"showlegend\":true,\"theta\":[\"Churn\",\"Monthly\",\"1yr\",\"2yr\",\"High fee\",\"Mid fee\",\"Low fee\",\"High tenure\",\"Mid tenure\",\"Low tenure\"],\"type\":\"scatterpolar\",\"subplot\":\"polar29\"},{\"fill\":\"toself\",\"line\":{\"color\":\"rgb(102,194,165)\"},\"name\":\"Cluster 1\",\"opacity\":0.8,\"r\":[0.24,0.26,0.48,0.52,0.02],\"showlegend\":false,\"theta\":[\"Dependents\",\"Partner\",\"Female\",\"Male\",\"Senior\"],\"type\":\"scatterpolar\",\"subplot\":\"polar2\"},{\"fill\":\"toself\",\"line\":{\"color\":\"rgb(252,141,98)\"},\"name\":\"Cluster 2\",\"opacity\":0.8,\"r\":[0.3,0.7,0.47,0.53,0.1],\"showlegend\":false,\"theta\":[\"Dependents\",\"Partner\",\"Female\",\"Male\",\"Senior\"],\"type\":\"scatterpolar\",\"subplot\":\"polar6\"},{\"fill\":\"toself\",\"line\":{\"color\":\"rgb(141,160,203)\"},\"name\":\"Cluster 3\",\"opacity\":0.8,\"r\":[0.1,0.43,0.49,0.51,0.32],\"showlegend\":false,\"theta\":[\"Dependents\",\"Partner\",\"Female\",\"Male\",\"Senior\"],\"type\":\"scatterpolar\",\"subplot\":\"polar10\"},{\"fill\":\"toself\",\"line\":{\"color\":\"rgb(231,138,195)\"},\"name\":\"Cluster 4\",\"opacity\":0.8,\"r\":[0.25,0.38,0.52,0.48,0.07],\"showlegend\":false,\"theta\":[\"Dependents\",\"Partner\",\"Female\",\"Male\",\"Senior\"],\"type\":\"scatterpolar\",\"subplot\":\"polar14\"},{\"fill\":\"toself\",\"line\":{\"color\":\"rgb(166,216,84)\"},\"name\":\"Cluster 5\",\"opacity\":0.8,\"r\":[0.48,0.67,0.5,0.5,0.04],\"showlegend\":false,\"theta\":[\"Dependents\",\"Partner\",\"Female\",\"Male\",\"Senior\"],\"type\":\"scatterpolar\",\"subplot\":\"polar18\"},{\"fill\":\"toself\",\"line\":{\"color\":\"rgb(255,217,47)\"},\"name\":\"Cluster 6\",\"opacity\":0.8,\"r\":[0.29,0.73,0.51,0.49,0.18],\"showlegend\":false,\"theta\":[\"Dependents\",\"Partner\",\"Female\",\"Male\",\"Senior\"],\"type\":\"scatterpolar\",\"subplot\":\"polar22\"},{\"fill\":\"toself\",\"line\":{\"color\":\"rgb(229,196,148)\"},\"name\":\"Cluster 7\",\"opacity\":0.8,\"r\":[0.07,0.29,0.51,0.49,0.28],\"showlegend\":false,\"theta\":[\"Dependents\",\"Partner\",\"Female\",\"Male\",\"Senior\"],\"type\":\"scatterpolar\",\"subplot\":\"polar26\"},{\"fill\":\"toself\",\"line\":{\"color\":\"rgb(179,179,179)\"},\"name\":\"Cluster 8\",\"opacity\":0.8,\"r\":[0.18,0.3,0.47,0.53,0.15],\"showlegend\":false,\"theta\":[\"Dependents\",\"Partner\",\"Female\",\"Male\",\"Senior\"],\"type\":\"scatterpolar\",\"subplot\":\"polar30\"},{\"fill\":\"toself\",\"line\":{\"color\":\"rgb(102,194,165)\"},\"name\":\"Cluster 1\",\"opacity\":0.8,\"r\":[0.31,0.12,0.12,0.12,0.63],\"showlegend\":false,\"theta\":[\"PaperX Bill\",\"Bank\",\"Credit card\",\"Electronic\",\"Mailed\"],\"type\":\"scatterpolar\",\"subplot\":\"polar3\"},{\"fill\":\"toself\",\"line\":{\"color\":\"rgb(252,141,98)\"},\"name\":\"Cluster 2\",\"opacity\":0.8,\"r\":[0.5,0.36,0.37,0.13,0.15],\"showlegend\":false,\"theta\":[\"PaperX Bill\",\"Bank\",\"Credit card\",\"Electronic\",\"Mailed\"],\"type\":\"scatterpolar\",\"subplot\":\"polar7\"},{\"fill\":\"toself\",\"line\":{\"color\":\"rgb(141,160,203)\"},\"name\":\"Cluster 3\",\"opacity\":0.8,\"r\":[0.82,0.15,0.14,0.64,0.07],\"showlegend\":false,\"theta\":[\"PaperX Bill\",\"Bank\",\"Credit card\",\"Electronic\",\"Mailed\"],\"type\":\"scatterpolar\",\"subplot\":\"polar11\"},{\"fill\":\"toself\",\"line\":{\"color\":\"rgb(231,138,195)\"},\"name\":\"Cluster 4\",\"opacity\":0.8,\"r\":[0.56,0.18,0.19,0.31,0.31],\"showlegend\":false,\"theta\":[\"PaperX Bill\",\"Bank\",\"Credit card\",\"Electronic\",\"Mailed\"],\"type\":\"scatterpolar\",\"subplot\":\"polar15\"},{\"fill\":\"toself\",\"line\":{\"color\":\"rgb(166,216,84)\"},\"name\":\"Cluster 5\",\"opacity\":0.8,\"r\":[0.28,0.3,0.3,0.04,0.36],\"showlegend\":false,\"theta\":[\"PaperX Bill\",\"Bank\",\"Credit card\",\"Electronic\",\"Mailed\"],\"type\":\"scatterpolar\",\"subplot\":\"polar19\"},{\"fill\":\"toself\",\"line\":{\"color\":\"rgb(255,217,47)\"},\"name\":\"Cluster 6\",\"opacity\":0.8,\"r\":[0.71,0.34,0.35,0.24,0.07],\"showlegend\":false,\"theta\":[\"PaperX Bill\",\"Bank\",\"Credit card\",\"Electronic\",\"Mailed\"],\"type\":\"scatterpolar\",\"subplot\":\"polar23\"},{\"fill\":\"toself\",\"line\":{\"color\":\"rgb(229,196,148)\"},\"name\":\"Cluster 7\",\"opacity\":0.8,\"r\":[0.76,0.14,0.12,0.61,0.13],\"showlegend\":false,\"theta\":[\"PaperX Bill\",\"Bank\",\"Credit card\",\"Electronic\",\"Mailed\"],\"type\":\"scatterpolar\",\"subplot\":\"polar27\"},{\"fill\":\"toself\",\"line\":{\"color\":\"rgb(179,179,179)\"},\"name\":\"Cluster 8\",\"opacity\":0.8,\"r\":[0.58,0.14,0.13,0.4,0.34],\"showlegend\":false,\"theta\":[\"PaperX Bill\",\"Bank\",\"Credit card\",\"Electronic\",\"Mailed\"],\"type\":\"scatterpolar\",\"subplot\":\"polar31\"},{\"fill\":\"toself\",\"line\":{\"color\":\"rgb(102,194,165)\"},\"name\":\"Cluster 1\",\"opacity\":0.8,\"r\":[0.08,0.92,0.0,0.0,0.0,0.0,0.0,0.0,0.0,0.0],\"showlegend\":false,\"theta\":[\"Multiple\",\"Single\",\"DSL\",\"Fiber optic\",\"Protect\",\"Backup\",\"Security\",\"Stream MV\",\"Stream TV\",\"Tech Sup\"],\"type\":\"scatterpolar\",\"subplot\":\"polar4\"},{\"fill\":\"toself\",\"line\":{\"color\":\"rgb(252,141,98)\"},\"name\":\"Cluster 2\",\"opacity\":0.8,\"r\":[0.35,0.34,0.97,0.03,0.67,0.59,0.69,0.52,0.5,0.68],\"showlegend\":false,\"theta\":[\"Multiple\",\"Single\",\"DSL\",\"Fiber optic\",\"Protect\",\"Backup\",\"Security\",\"Stream MV\",\"Stream TV\",\"Tech Sup\"],\"type\":\"scatterpolar\",\"subplot\":\"polar8\"},{\"fill\":\"toself\",\"line\":{\"color\":\"rgb(141,160,203)\"},\"name\":\"Cluster 3\",\"opacity\":0.8,\"r\":[0.69,0.31,0.0,1.0,0.45,0.4,0.19,0.74,0.74,0.21],\"showlegend\":false,\"theta\":[\"Multiple\",\"Single\",\"DSL\",\"Fiber optic\",\"Protect\",\"Backup\",\"Security\",\"Stream MV\",\"Stream TV\",\"Tech Sup\"],\"type\":\"scatterpolar\",\"subplot\":\"polar12\"},{\"fill\":\"toself\",\"line\":{\"color\":\"rgb(231,138,195)\"},\"name\":\"Cluster 4\",\"opacity\":0.8,\"r\":[0.3,0.65,0.93,0.07,0.33,0.42,0.45,0.35,0.35,0.45],\"showlegend\":false,\"theta\":[\"Multiple\",\"Single\",\"DSL\",\"Fiber optic\",\"Protect\",\"Backup\",\"Security\",\"Stream MV\",\"Stream TV\",\"Tech Sup\"],\"type\":\"scatterpolar\",\"subplot\":\"polar16\"},{\"fill\":\"toself\",\"line\":{\"color\":\"rgb(166,216,84)\"},\"name\":\"Cluster 5\",\"opacity\":0.8,\"r\":[0.35,0.65,0.0,0.0,0.0,0.0,0.0,0.0,0.0,0.0],\"showlegend\":false,\"theta\":[\"Multiple\",\"Single\",\"DSL\",\"Fiber optic\",\"Protect\",\"Backup\",\"Security\",\"Stream MV\",\"Stream TV\",\"Tech Sup\"],\"type\":\"scatterpolar\",\"subplot\":\"polar20\"},{\"fill\":\"toself\",\"line\":{\"color\":\"rgb(255,217,47)\"},\"name\":\"Cluster 6\",\"opacity\":0.8,\"r\":[0.8,0.2,0.17,0.83,0.78,0.75,0.61,0.84,0.84,0.67],\"showlegend\":false,\"theta\":[\"Multiple\",\"Single\",\"DSL\",\"Fiber optic\",\"Protect\",\"Backup\",\"Security\",\"Stream MV\",\"Stream TV\",\"Tech Sup\"],\"type\":\"scatterpolar\",\"subplot\":\"polar24\"},{\"fill\":\"toself\",\"line\":{\"color\":\"rgb(229,196,148)\"},\"name\":\"Cluster 7\",\"opacity\":0.8,\"r\":[0.38,0.62,0.05,0.95,0.12,0.18,0.09,0.09,0.1,0.04],\"showlegend\":false,\"theta\":[\"Multiple\",\"Single\",\"DSL\",\"Fiber optic\",\"Protect\",\"Backup\",\"Security\",\"Stream MV\",\"Stream TV\",\"Tech Sup\"],\"type\":\"scatterpolar\",\"subplot\":\"polar28\"},{\"fill\":\"toself\",\"line\":{\"color\":\"rgb(179,179,179)\"},\"name\":\"Cluster 8\",\"opacity\":0.8,\"r\":[0.04,0.41,1.0,0.0,0.15,0.2,0.18,0.14,0.13,0.18],\"showlegend\":false,\"theta\":[\"Multiple\",\"Single\",\"DSL\",\"Fiber optic\",\"Protect\",\"Backup\",\"Security\",\"Stream MV\",\"Stream TV\",\"Tech Sup\"],\"type\":\"scatterpolar\",\"subplot\":\"polar32\"}],                        {\"template\":{\"data\":{\"histogram2dcontour\":[{\"type\":\"histogram2dcontour\",\"colorbar\":{\"outlinewidth\":0,\"ticks\":\"\"},\"colorscale\":[[0.0,\"#0d0887\"],[0.1111111111111111,\"#46039f\"],[0.2222222222222222,\"#7201a8\"],[0.3333333333333333,\"#9c179e\"],[0.4444444444444444,\"#bd3786\"],[0.5555555555555556,\"#d8576b\"],[0.6666666666666666,\"#ed7953\"],[0.7777777777777778,\"#fb9f3a\"],[0.8888888888888888,\"#fdca26\"],[1.0,\"#f0f921\"]]}],\"choropleth\":[{\"type\":\"choropleth\",\"colorbar\":{\"outlinewidth\":0,\"ticks\":\"\"}}],\"histogram2d\":[{\"type\":\"histogram2d\",\"colorbar\":{\"outlinewidth\":0,\"ticks\":\"\"},\"colorscale\":[[0.0,\"#0d0887\"],[0.1111111111111111,\"#46039f\"],[0.2222222222222222,\"#7201a8\"],[0.3333333333333333,\"#9c179e\"],[0.4444444444444444,\"#bd3786\"],[0.5555555555555556,\"#d8576b\"],[0.6666666666666666,\"#ed7953\"],[0.7777777777777778,\"#fb9f3a\"],[0.8888888888888888,\"#fdca26\"],[1.0,\"#f0f921\"]]}],\"heatmap\":[{\"type\":\"heatmap\",\"colorbar\":{\"outlinewidth\":0,\"ticks\":\"\"},\"colorscale\":[[0.0,\"#0d0887\"],[0.1111111111111111,\"#46039f\"],[0.2222222222222222,\"#7201a8\"],[0.3333333333333333,\"#9c179e\"],[0.4444444444444444,\"#bd3786\"],[0.5555555555555556,\"#d8576b\"],[0.6666666666666666,\"#ed7953\"],[0.7777777777777778,\"#fb9f3a\"],[0.8888888888888888,\"#fdca26\"],[1.0,\"#f0f921\"]]}],\"heatmapgl\":[{\"type\":\"heatmapgl\",\"colorbar\":{\"outlinewidth\":0,\"ticks\":\"\"},\"colorscale\":[[0.0,\"#0d0887\"],[0.1111111111111111,\"#46039f\"],[0.2222222222222222,\"#7201a8\"],[0.3333333333333333,\"#9c179e\"],[0.4444444444444444,\"#bd3786\"],[0.5555555555555556,\"#d8576b\"],[0.6666666666666666,\"#ed7953\"],[0.7777777777777778,\"#fb9f3a\"],[0.8888888888888888,\"#fdca26\"],[1.0,\"#f0f921\"]]}],\"contourcarpet\":[{\"type\":\"contourcarpet\",\"colorbar\":{\"outlinewidth\":0,\"ticks\":\"\"}}],\"contour\":[{\"type\":\"contour\",\"colorbar\":{\"outlinewidth\":0,\"ticks\":\"\"},\"colorscale\":[[0.0,\"#0d0887\"],[0.1111111111111111,\"#46039f\"],[0.2222222222222222,\"#7201a8\"],[0.3333333333333333,\"#9c179e\"],[0.4444444444444444,\"#bd3786\"],[0.5555555555555556,\"#d8576b\"],[0.6666666666666666,\"#ed7953\"],[0.7777777777777778,\"#fb9f3a\"],[0.8888888888888888,\"#fdca26\"],[1.0,\"#f0f921\"]]}],\"surface\":[{\"type\":\"surface\",\"colorbar\":{\"outlinewidth\":0,\"ticks\":\"\"},\"colorscale\":[[0.0,\"#0d0887\"],[0.1111111111111111,\"#46039f\"],[0.2222222222222222,\"#7201a8\"],[0.3333333333333333,\"#9c179e\"],[0.4444444444444444,\"#bd3786\"],[0.5555555555555556,\"#d8576b\"],[0.6666666666666666,\"#ed7953\"],[0.7777777777777778,\"#fb9f3a\"],[0.8888888888888888,\"#fdca26\"],[1.0,\"#f0f921\"]]}],\"mesh3d\":[{\"type\":\"mesh3d\",\"colorbar\":{\"outlinewidth\":0,\"ticks\":\"\"}}],\"scatter\":[{\"fillpattern\":{\"fillmode\":\"overlay\",\"size\":10,\"solidity\":0.2},\"type\":\"scatter\"}],\"parcoords\":[{\"type\":\"parcoords\",\"line\":{\"colorbar\":{\"outlinewidth\":0,\"ticks\":\"\"}}}],\"scatterpolargl\":[{\"type\":\"scatterpolargl\",\"marker\":{\"colorbar\":{\"outlinewidth\":0,\"ticks\":\"\"}}}],\"bar\":[{\"error_x\":{\"color\":\"#2a3f5f\"},\"error_y\":{\"color\":\"#2a3f5f\"},\"marker\":{\"line\":{\"color\":\"#E5ECF6\",\"width\":0.5},\"pattern\":{\"fillmode\":\"overlay\",\"size\":10,\"solidity\":0.2}},\"type\":\"bar\"}],\"scattergeo\":[{\"type\":\"scattergeo\",\"marker\":{\"colorbar\":{\"outlinewidth\":0,\"ticks\":\"\"}}}],\"scatterpolar\":[{\"type\":\"scatterpolar\",\"marker\":{\"colorbar\":{\"outlinewidth\":0,\"ticks\":\"\"}}}],\"histogram\":[{\"marker\":{\"pattern\":{\"fillmode\":\"overlay\",\"size\":10,\"solidity\":0.2}},\"type\":\"histogram\"}],\"scattergl\":[{\"type\":\"scattergl\",\"marker\":{\"colorbar\":{\"outlinewidth\":0,\"ticks\":\"\"}}}],\"scatter3d\":[{\"type\":\"scatter3d\",\"line\":{\"colorbar\":{\"outlinewidth\":0,\"ticks\":\"\"}},\"marker\":{\"colorbar\":{\"outlinewidth\":0,\"ticks\":\"\"}}}],\"scattermapbox\":[{\"type\":\"scattermapbox\",\"marker\":{\"colorbar\":{\"outlinewidth\":0,\"ticks\":\"\"}}}],\"scatterternary\":[{\"type\":\"scatterternary\",\"marker\":{\"colorbar\":{\"outlinewidth\":0,\"ticks\":\"\"}}}],\"scattercarpet\":[{\"type\":\"scattercarpet\",\"marker\":{\"colorbar\":{\"outlinewidth\":0,\"ticks\":\"\"}}}],\"carpet\":[{\"aaxis\":{\"endlinecolor\":\"#2a3f5f\",\"gridcolor\":\"white\",\"linecolor\":\"white\",\"minorgridcolor\":\"white\",\"startlinecolor\":\"#2a3f5f\"},\"baxis\":{\"endlinecolor\":\"#2a3f5f\",\"gridcolor\":\"white\",\"linecolor\":\"white\",\"minorgridcolor\":\"white\",\"startlinecolor\":\"#2a3f5f\"},\"type\":\"carpet\"}],\"table\":[{\"cells\":{\"fill\":{\"color\":\"#EBF0F8\"},\"line\":{\"color\":\"white\"}},\"header\":{\"fill\":{\"color\":\"#C8D4E3\"},\"line\":{\"color\":\"white\"}},\"type\":\"table\"}],\"barpolar\":[{\"marker\":{\"line\":{\"color\":\"#E5ECF6\",\"width\":0.5},\"pattern\":{\"fillmode\":\"overlay\",\"size\":10,\"solidity\":0.2}},\"type\":\"barpolar\"}],\"pie\":[{\"automargin\":true,\"type\":\"pie\"}]},\"layout\":{\"autotypenumbers\":\"strict\",\"colorway\":[\"#636efa\",\"#EF553B\",\"#00cc96\",\"#ab63fa\",\"#FFA15A\",\"#19d3f3\",\"#FF6692\",\"#B6E880\",\"#FF97FF\",\"#FECB52\"],\"font\":{\"color\":\"#2a3f5f\"},\"hovermode\":\"closest\",\"hoverlabel\":{\"align\":\"left\"},\"paper_bgcolor\":\"white\",\"plot_bgcolor\":\"#E5ECF6\",\"polar\":{\"bgcolor\":\"#E5ECF6\",\"angularaxis\":{\"gridcolor\":\"white\",\"linecolor\":\"white\",\"ticks\":\"\"},\"radialaxis\":{\"gridcolor\":\"white\",\"linecolor\":\"white\",\"ticks\":\"\"}},\"ternary\":{\"bgcolor\":\"#E5ECF6\",\"aaxis\":{\"gridcolor\":\"white\",\"linecolor\":\"white\",\"ticks\":\"\"},\"baxis\":{\"gridcolor\":\"white\",\"linecolor\":\"white\",\"ticks\":\"\"},\"caxis\":{\"gridcolor\":\"white\",\"linecolor\":\"white\",\"ticks\":\"\"}},\"coloraxis\":{\"colorbar\":{\"outlinewidth\":0,\"ticks\":\"\"}},\"colorscale\":{\"sequential\":[[0.0,\"#0d0887\"],[0.1111111111111111,\"#46039f\"],[0.2222222222222222,\"#7201a8\"],[0.3333333333333333,\"#9c179e\"],[0.4444444444444444,\"#bd3786\"],[0.5555555555555556,\"#d8576b\"],[0.6666666666666666,\"#ed7953\"],[0.7777777777777778,\"#fb9f3a\"],[0.8888888888888888,\"#fdca26\"],[1.0,\"#f0f921\"]],\"sequentialminus\":[[0.0,\"#0d0887\"],[0.1111111111111111,\"#46039f\"],[0.2222222222222222,\"#7201a8\"],[0.3333333333333333,\"#9c179e\"],[0.4444444444444444,\"#bd3786\"],[0.5555555555555556,\"#d8576b\"],[0.6666666666666666,\"#ed7953\"],[0.7777777777777778,\"#fb9f3a\"],[0.8888888888888888,\"#fdca26\"],[1.0,\"#f0f921\"]],\"diverging\":[[0,\"#8e0152\"],[0.1,\"#c51b7d\"],[0.2,\"#de77ae\"],[0.3,\"#f1b6da\"],[0.4,\"#fde0ef\"],[0.5,\"#f7f7f7\"],[0.6,\"#e6f5d0\"],[0.7,\"#b8e186\"],[0.8,\"#7fbc41\"],[0.9,\"#4d9221\"],[1,\"#276419\"]]},\"xaxis\":{\"gridcolor\":\"white\",\"linecolor\":\"white\",\"ticks\":\"\",\"title\":{\"standoff\":15},\"zerolinecolor\":\"white\",\"automargin\":true,\"zerolinewidth\":2},\"yaxis\":{\"gridcolor\":\"white\",\"linecolor\":\"white\",\"ticks\":\"\",\"title\":{\"standoff\":15},\"zerolinecolor\":\"white\",\"automargin\":true,\"zerolinewidth\":2},\"scene\":{\"xaxis\":{\"backgroundcolor\":\"#E5ECF6\",\"gridcolor\":\"white\",\"linecolor\":\"white\",\"showbackground\":true,\"ticks\":\"\",\"zerolinecolor\":\"white\",\"gridwidth\":2},\"yaxis\":{\"backgroundcolor\":\"#E5ECF6\",\"gridcolor\":\"white\",\"linecolor\":\"white\",\"showbackground\":true,\"ticks\":\"\",\"zerolinecolor\":\"white\",\"gridwidth\":2},\"zaxis\":{\"backgroundcolor\":\"#E5ECF6\",\"gridcolor\":\"white\",\"linecolor\":\"white\",\"showbackground\":true,\"ticks\":\"\",\"zerolinecolor\":\"white\",\"gridwidth\":2}},\"shapedefaults\":{\"line\":{\"color\":\"#2a3f5f\"}},\"annotationdefaults\":{\"arrowcolor\":\"#2a3f5f\",\"arrowhead\":0,\"arrowwidth\":1},\"geo\":{\"bgcolor\":\"white\",\"landcolor\":\"#E5ECF6\",\"subunitcolor\":\"white\",\"showland\":true,\"showlakes\":true,\"lakecolor\":\"white\"},\"title\":{\"x\":0.05},\"mapbox\":{\"style\":\"light\"}}},\"polar\":{\"domain\":{\"x\":[0.0,0.2125],\"y\":[0.9078124999999999,0.9999999999999999]},\"radialaxis\":{\"range\":[0,1]}},\"polar2\":{\"domain\":{\"x\":[0.2625,0.475],\"y\":[0.9078124999999999,0.9999999999999999]},\"radialaxis\":{\"range\":[0,1]}},\"polar3\":{\"domain\":{\"x\":[0.525,0.7375],\"y\":[0.9078124999999999,0.9999999999999999]},\"radialaxis\":{\"range\":[0,1]}},\"polar4\":{\"domain\":{\"x\":[0.7875,1.0],\"y\":[0.9078124999999999,0.9999999999999999]},\"radialaxis\":{\"range\":[0,1]}},\"polar5\":{\"domain\":{\"x\":[0.0,0.2125],\"y\":[0.778125,0.8703124999999999]},\"radialaxis\":{\"range\":[0,1]}},\"polar6\":{\"domain\":{\"x\":[0.2625,0.475],\"y\":[0.778125,0.8703124999999999]},\"radialaxis\":{\"range\":[0,1]}},\"polar7\":{\"domain\":{\"x\":[0.525,0.7375],\"y\":[0.778125,0.8703124999999999]},\"radialaxis\":{\"range\":[0,1]}},\"polar8\":{\"domain\":{\"x\":[0.7875,1.0],\"y\":[0.778125,0.8703124999999999]},\"radialaxis\":{\"range\":[0,1]}},\"polar9\":{\"domain\":{\"x\":[0.0,0.2125],\"y\":[0.6484375,0.740625]},\"radialaxis\":{\"range\":[0,1]}},\"polar10\":{\"domain\":{\"x\":[0.2625,0.475],\"y\":[0.6484375,0.740625]},\"radialaxis\":{\"range\":[0,1]}},\"polar11\":{\"domain\":{\"x\":[0.525,0.7375],\"y\":[0.6484375,0.740625]},\"radialaxis\":{\"range\":[0,1]}},\"polar12\":{\"domain\":{\"x\":[0.7875,1.0],\"y\":[0.6484375,0.740625]},\"radialaxis\":{\"range\":[0,1]}},\"polar13\":{\"domain\":{\"x\":[0.0,0.2125],\"y\":[0.51875,0.6109375]},\"radialaxis\":{\"range\":[0,1]}},\"polar14\":{\"domain\":{\"x\":[0.2625,0.475],\"y\":[0.51875,0.6109375]},\"radialaxis\":{\"range\":[0,1]}},\"polar15\":{\"domain\":{\"x\":[0.525,0.7375],\"y\":[0.51875,0.6109375]},\"radialaxis\":{\"range\":[0,1]}},\"polar16\":{\"domain\":{\"x\":[0.7875,1.0],\"y\":[0.51875,0.6109375]},\"radialaxis\":{\"range\":[0,1]}},\"polar17\":{\"domain\":{\"x\":[0.0,0.2125],\"y\":[0.38906250000000003,0.48125000000000007]},\"radialaxis\":{\"range\":[0,1]}},\"polar18\":{\"domain\":{\"x\":[0.2625,0.475],\"y\":[0.38906250000000003,0.48125000000000007]},\"radialaxis\":{\"range\":[0,1]}},\"polar19\":{\"domain\":{\"x\":[0.525,0.7375],\"y\":[0.38906250000000003,0.48125000000000007]},\"radialaxis\":{\"range\":[0,1]}},\"polar20\":{\"domain\":{\"x\":[0.7875,1.0],\"y\":[0.38906250000000003,0.48125000000000007]},\"radialaxis\":{\"range\":[0,1]}},\"polar21\":{\"domain\":{\"x\":[0.0,0.2125],\"y\":[0.259375,0.3515625]},\"radialaxis\":{\"range\":[0,1]}},\"polar22\":{\"domain\":{\"x\":[0.2625,0.475],\"y\":[0.259375,0.3515625]},\"radialaxis\":{\"range\":[0,1]}},\"polar23\":{\"domain\":{\"x\":[0.525,0.7375],\"y\":[0.259375,0.3515625]},\"radialaxis\":{\"range\":[0,1]}},\"polar24\":{\"domain\":{\"x\":[0.7875,1.0],\"y\":[0.259375,0.3515625]},\"radialaxis\":{\"range\":[0,1]}},\"polar25\":{\"domain\":{\"x\":[0.0,0.2125],\"y\":[0.1296875,0.22187500000000002]},\"radialaxis\":{\"range\":[0,1]}},\"polar26\":{\"domain\":{\"x\":[0.2625,0.475],\"y\":[0.1296875,0.22187500000000002]},\"radialaxis\":{\"range\":[0,1]}},\"polar27\":{\"domain\":{\"x\":[0.525,0.7375],\"y\":[0.1296875,0.22187500000000002]},\"radialaxis\":{\"range\":[0,1]}},\"polar28\":{\"domain\":{\"x\":[0.7875,1.0],\"y\":[0.1296875,0.22187500000000002]},\"radialaxis\":{\"range\":[0,1]}},\"polar29\":{\"domain\":{\"x\":[0.0,0.2125],\"y\":[0.0,0.0921875]},\"radialaxis\":{\"range\":[0,1]}},\"polar30\":{\"domain\":{\"x\":[0.2625,0.475],\"y\":[0.0,0.0921875]},\"radialaxis\":{\"range\":[0,1]}},\"polar31\":{\"domain\":{\"x\":[0.525,0.7375],\"y\":[0.0,0.0921875]},\"radialaxis\":{\"range\":[0,1]}},\"polar32\":{\"domain\":{\"x\":[0.7875,1.0],\"y\":[0.0,0.0921875]},\"radialaxis\":{\"range\":[0,1]}},\"autosize\":false,\"width\":1300,\"height\":1500},                        {\"responsive\": true}                    ).then(function(){\n",
              "                            \n",
              "var gd = document.getElementById('9fead4e0-b76a-4efc-9dbe-54b40d48c954');\n",
              "var x = new MutationObserver(function (mutations, observer) {{\n",
              "        var display = window.getComputedStyle(gd).display;\n",
              "        if (!display || display === 'none') {{\n",
              "            console.log([gd, 'removed!']);\n",
              "            Plotly.purge(gd);\n",
              "            observer.disconnect();\n",
              "        }}\n",
              "}});\n",
              "\n",
              "// Listen for the removal of the full notebook cells\n",
              "var notebookContainer = gd.closest('#notebook-container');\n",
              "if (notebookContainer) {{\n",
              "    x.observe(notebookContainer, {childList: true});\n",
              "}}\n",
              "\n",
              "// Listen for the clearing of the current output cell\n",
              "var outputEl = gd.closest('.output');\n",
              "if (outputEl) {{\n",
              "    x.observe(outputEl, {childList: true});\n",
              "}}\n",
              "\n",
              "                        })                };                            </script>        </div>\n",
              "</body>\n",
              "</html>"
            ]
          },
          "metadata": {}
        }
      ]
    },
    {
      "cell_type": "markdown",
      "source": [
        "* Radar모양으로 클러스터간 구분이 쉽고 특징도 알기 쉽다.\n",
        "* 하지만 클러스터가 많은 만큼 여전히 한눈에 파악하기 어렵다. Heatmap으로 다시 나타내보자."
      ],
      "metadata": {
        "id": "Lk3zLDjEDaGX"
      }
    },
    {
      "cell_type": "code",
      "source": [
        "import numpy as np\n",
        "\n",
        "reorder_cluster = [5,1,2,6,3,7,4,0]\n",
        "mm = mm[reorder_cluster]\n",
        "\n",
        "label_list = [['Churn'],\n",
        "              ['Multiple','Single'],\n",
        "              ['DSL','Fiber optic'],\n",
        "              ['Protect'],\n",
        "              ['Backup'],\n",
        "              ['Security'],\n",
        "              ['Stream MV'],\n",
        "              ['Stream TV'],\n",
        "              ['Tech Sup'],\n",
        "              ['High fee','Mid fee','Low fee'],\n",
        "              ['High tenure','Mid tenure','Low tenure'],\n",
        "              ['Monthly','1yr','2yr'],\n",
        "              ['Female','Male'],\n",
        "              ['Dependents'],\n",
        "              ['Partner'],\n",
        "              ['Senior'],\n",
        "              ['Bank','Credit card','Electronic','Mailed'],\n",
        "              ['PaperX Bill']]\n",
        "x_axis = ['Churn','Phone','Internet','Protect','Backup','Security','Stream MV','Stream TV','Tech Sup','Charge','Tenure','Contract','Gender','Depend','Partner','Senior','Payment','PaperX Bill']\n",
        "x_axis = ['<b>'+x+'</b>' for x in x_axis]\n",
        "df_list = [mm.loc[label,:] for label in label_list]\n",
        "df_list = [df.rename(columns=rename_col_list[0]) for df in df_list]\n",
        "\n",
        "most_cat_list = np.array([[[label_list[j][np.argmax(df_list[j][col])]] for col in df_list[j].columns] for j in range(len(df_list))])\n",
        "most_prob_list = np.array([[[df_list[j][col][np.argmax(df_list[j][col])]] for col in df_list[j].columns] for j in range(len(df_list))])\n",
        "\n",
        "show_threshold = [1/2] + [1/3] + [1/2]*7 + [1/3]*3 + [1/2]*4 + [1/4] + [1/2]\n",
        "for j in range(len(df_list)): most_cat_list[j][most_prob_list[j] < show_threshold[j]] = ''\n",
        "\n",
        "most_cat = most_cat_list[0]\n",
        "most_prob = most_prob_list[0]\n",
        "for i in range(1,len(most_cat_list),1):\n",
        "    most_cat = np.concatenate([most_cat,most_cat_list[i]],axis=1).tolist()\n",
        "    most_prob = np.concatenate([most_prob,most_prob_list[i]],axis=1).tolist()"
      ],
      "metadata": {
        "id": "dtTkVdxvEUQq"
      },
      "execution_count": 21,
      "outputs": []
    },
    {
      "cell_type": "code",
      "source": [
        "import plotly.graph_objects as go\n",
        "\n",
        "cluster_name = ['<b>'+'Cluster '+str(k+1)+'</b>' for k in reorder_cluster]\n",
        "\n",
        "fig = go.Figure(data=go.Heatmap(\n",
        "    x=x_axis,\n",
        "    y=cluster_name,\n",
        "    z=most_prob,\n",
        "    text=most_cat,\n",
        "    texttemplate=\"%{text}\",\n",
        "    colorscale='RdBu',\n",
        "    textfont={\"size\":13,\"family\":'Ariel'},\n",
        "    zmin=0, zmax=1\n",
        "))\n",
        "\n",
        "fig.update_layout(\n",
        "    title='Most Probable Category Heatmap',\n",
        "    xaxis_title='',\n",
        "    yaxis_title='',\n",
        ")\n",
        "\n",
        "fig.update_xaxes(side=\"top\",tickfont_size=13,tickfont_family='Ariel')\n",
        "fig.update_yaxes(tickfont_size=13,tickfont_family='Ariel')\n",
        "fig.update_layout(autosize=False,width=1500,height=500)\n",
        "fig.show()"
      ],
      "metadata": {
        "colab": {
          "base_uri": "https://localhost:8080/",
          "height": 537
        },
        "id": "P4cKLdiQITPM",
        "outputId": "f0420378-a390-4734-82e2-373604b7a4f7"
      },
      "execution_count": 22,
      "outputs": [
        {
          "output_type": "display_data",
          "data": {
            "text/html": [
              "<html>\n",
              "<head><meta charset=\"utf-8\" /></head>\n",
              "<body>\n",
              "    <div>            <script src=\"https://cdnjs.cloudflare.com/ajax/libs/mathjax/2.7.5/MathJax.js?config=TeX-AMS-MML_SVG\"></script><script type=\"text/javascript\">if (window.MathJax && window.MathJax.Hub && window.MathJax.Hub.Config) {window.MathJax.Hub.Config({SVG: {font: \"STIX-Web\"}});}</script>                <script type=\"text/javascript\">window.PlotlyConfig = {MathJaxConfig: 'local'};</script>\n",
              "        <script charset=\"utf-8\" src=\"https://cdn.plot.ly/plotly-2.24.1.min.js\"></script>                <div id=\"e7352746-d507-4d56-ba5d-6f24acbd34bb\" class=\"plotly-graph-div\" style=\"height:500px; width:1500px;\"></div>            <script type=\"text/javascript\">                                    window.PLOTLYENV=window.PLOTLYENV || {};                                    if (document.getElementById(\"e7352746-d507-4d56-ba5d-6f24acbd34bb\")) {                    Plotly.newPlot(                        \"e7352746-d507-4d56-ba5d-6f24acbd34bb\",                        [{\"colorscale\":[[0.0,\"rgb(103,0,31)\"],[0.1,\"rgb(178,24,43)\"],[0.2,\"rgb(214,96,77)\"],[0.3,\"rgb(244,165,130)\"],[0.4,\"rgb(253,219,199)\"],[0.5,\"rgb(247,247,247)\"],[0.6,\"rgb(209,229,240)\"],[0.7,\"rgb(146,197,222)\"],[0.8,\"rgb(67,147,195)\"],[0.9,\"rgb(33,102,172)\"],[1.0,\"rgb(5,48,97)\"]],\"text\":[[\"\",\"Multiple\",\"Fiber optic\",\"Protect\",\"Backup\",\"Security\",\"Stream MV\",\"Stream TV\",\"Tech Sup\",\"High fee\",\"High tenure\",\"2yr\",\"Female\",\"\",\"Partner\",\"\",\"Credit card\",\"PaperX Bill\"],[\"\",\"Multiple\",\"DSL\",\"Protect\",\"Backup\",\"Security\",\"Stream MV\",\"Stream TV\",\"Tech Sup\",\"Mid fee\",\"High tenure\",\"2yr\",\"Male\",\"\",\"Partner\",\"\",\"Credit card\",\"PaperX Bill\"],[\"Churn\",\"Multiple\",\"Fiber optic\",\"\",\"\",\"\",\"Stream MV\",\"Stream TV\",\"\",\"High fee\",\"Mid tenure\",\"Monthly\",\"Male\",\"\",\"\",\"\",\"Electronic\",\"PaperX Bill\"],[\"Churn\",\"Single\",\"Fiber optic\",\"\",\"\",\"\",\"\",\"\",\"\",\"Mid fee\",\"Low tenure\",\"Monthly\",\"Female\",\"\",\"\",\"\",\"Electronic\",\"PaperX Bill\"],[\"\",\"Single\",\"DSL\",\"\",\"\",\"\",\"\",\"\",\"\",\"Mid fee\",\"Mid tenure\",\"Monthly\",\"Female\",\"\",\"\",\"\",\"Electronic\",\"PaperX Bill\"],[\"\",\"Single\",\"DSL\",\"\",\"\",\"\",\"\",\"\",\"\",\"Low fee\",\"Low tenure\",\"Monthly\",\"Male\",\"\",\"\",\"\",\"Electronic\",\"PaperX Bill\"],[\"\",\"Single\",\"\",\"\",\"\",\"\",\"\",\"\",\"\",\"Low fee\",\"High tenure\",\"2yr\",\"Female\",\"\",\"Partner\",\"\",\"Mailed\",\"\"],[\"\",\"Single\",\"\",\"\",\"\",\"\",\"\",\"\",\"\",\"Low fee\",\"Low tenure\",\"Monthly\",\"Male\",\"\",\"\",\"\",\"Mailed\",\"\"]],\"textfont\":{\"family\":\"Ariel\",\"size\":13},\"texttemplate\":\"%{text}\",\"x\":[\"\\u003cb\\u003eChurn\\u003c\\u002fb\\u003e\",\"\\u003cb\\u003ePhone\\u003c\\u002fb\\u003e\",\"\\u003cb\\u003eInternet\\u003c\\u002fb\\u003e\",\"\\u003cb\\u003eProtect\\u003c\\u002fb\\u003e\",\"\\u003cb\\u003eBackup\\u003c\\u002fb\\u003e\",\"\\u003cb\\u003eSecurity\\u003c\\u002fb\\u003e\",\"\\u003cb\\u003eStream MV\\u003c\\u002fb\\u003e\",\"\\u003cb\\u003eStream TV\\u003c\\u002fb\\u003e\",\"\\u003cb\\u003eTech Sup\\u003c\\u002fb\\u003e\",\"\\u003cb\\u003eCharge\\u003c\\u002fb\\u003e\",\"\\u003cb\\u003eTenure\\u003c\\u002fb\\u003e\",\"\\u003cb\\u003eContract\\u003c\\u002fb\\u003e\",\"\\u003cb\\u003eGender\\u003c\\u002fb\\u003e\",\"\\u003cb\\u003eDepend\\u003c\\u002fb\\u003e\",\"\\u003cb\\u003ePartner\\u003c\\u002fb\\u003e\",\"\\u003cb\\u003eSenior\\u003c\\u002fb\\u003e\",\"\\u003cb\\u003ePayment\\u003c\\u002fb\\u003e\",\"\\u003cb\\u003ePaperX Bill\\u003c\\u002fb\\u003e\"],\"y\":[\"\\u003cb\\u003eCluster 6\\u003c\\u002fb\\u003e\",\"\\u003cb\\u003eCluster 2\\u003c\\u002fb\\u003e\",\"\\u003cb\\u003eCluster 3\\u003c\\u002fb\\u003e\",\"\\u003cb\\u003eCluster 7\\u003c\\u002fb\\u003e\",\"\\u003cb\\u003eCluster 4\\u003c\\u002fb\\u003e\",\"\\u003cb\\u003eCluster 8\\u003c\\u002fb\\u003e\",\"\\u003cb\\u003eCluster 5\\u003c\\u002fb\\u003e\",\"\\u003cb\\u003eCluster 1\\u003c\\u002fb\\u003e\"],\"z\":[[0.08,0.8,0.83,0.78,0.75,0.61,0.84,0.84,0.67,1.0,0.87,0.53,0.51,0.29,0.73,0.18,0.35,0.71],[0.04,0.35,0.97,0.67,0.59,0.69,0.52,0.5,0.68,0.85,0.72,0.56,0.53,0.3,0.7,0.1,0.37,0.5],[0.55,0.69,1.0,0.45,0.4,0.19,0.74,0.74,0.21,1.0,0.52,0.9,0.51,0.1,0.43,0.32,0.64,0.82],[0.59,0.62,0.95,0.12,0.18,0.09,0.09,0.1,0.04,1.0,0.68,0.99,0.51,0.07,0.29,0.28,0.61,0.76],[0.2,0.65,0.93,0.33,0.42,0.45,0.35,0.35,0.45,1.0,0.53,0.74,0.52,0.25,0.38,0.07,0.31,0.56],[0.37,0.41,1.0,0.15,0.2,0.18,0.14,0.13,0.18,1.0,0.66,0.9,0.53,0.18,0.3,0.15,0.4,0.58],[0.01,0.65,0.0,0.0,0.0,0.0,0.0,0.0,0.0,1.0,0.55,0.75,0.5,0.48,0.67,0.04,0.36,0.28],[0.15,0.92,0.0,0.0,0.0,0.0,0.0,0.0,0.0,1.0,0.7,0.74,0.52,0.24,0.26,0.02,0.63,0.31]],\"zmax\":1,\"zmin\":0,\"type\":\"heatmap\"}],                        {\"template\":{\"data\":{\"histogram2dcontour\":[{\"type\":\"histogram2dcontour\",\"colorbar\":{\"outlinewidth\":0,\"ticks\":\"\"},\"colorscale\":[[0.0,\"#0d0887\"],[0.1111111111111111,\"#46039f\"],[0.2222222222222222,\"#7201a8\"],[0.3333333333333333,\"#9c179e\"],[0.4444444444444444,\"#bd3786\"],[0.5555555555555556,\"#d8576b\"],[0.6666666666666666,\"#ed7953\"],[0.7777777777777778,\"#fb9f3a\"],[0.8888888888888888,\"#fdca26\"],[1.0,\"#f0f921\"]]}],\"choropleth\":[{\"type\":\"choropleth\",\"colorbar\":{\"outlinewidth\":0,\"ticks\":\"\"}}],\"histogram2d\":[{\"type\":\"histogram2d\",\"colorbar\":{\"outlinewidth\":0,\"ticks\":\"\"},\"colorscale\":[[0.0,\"#0d0887\"],[0.1111111111111111,\"#46039f\"],[0.2222222222222222,\"#7201a8\"],[0.3333333333333333,\"#9c179e\"],[0.4444444444444444,\"#bd3786\"],[0.5555555555555556,\"#d8576b\"],[0.6666666666666666,\"#ed7953\"],[0.7777777777777778,\"#fb9f3a\"],[0.8888888888888888,\"#fdca26\"],[1.0,\"#f0f921\"]]}],\"heatmap\":[{\"type\":\"heatmap\",\"colorbar\":{\"outlinewidth\":0,\"ticks\":\"\"},\"colorscale\":[[0.0,\"#0d0887\"],[0.1111111111111111,\"#46039f\"],[0.2222222222222222,\"#7201a8\"],[0.3333333333333333,\"#9c179e\"],[0.4444444444444444,\"#bd3786\"],[0.5555555555555556,\"#d8576b\"],[0.6666666666666666,\"#ed7953\"],[0.7777777777777778,\"#fb9f3a\"],[0.8888888888888888,\"#fdca26\"],[1.0,\"#f0f921\"]]}],\"heatmapgl\":[{\"type\":\"heatmapgl\",\"colorbar\":{\"outlinewidth\":0,\"ticks\":\"\"},\"colorscale\":[[0.0,\"#0d0887\"],[0.1111111111111111,\"#46039f\"],[0.2222222222222222,\"#7201a8\"],[0.3333333333333333,\"#9c179e\"],[0.4444444444444444,\"#bd3786\"],[0.5555555555555556,\"#d8576b\"],[0.6666666666666666,\"#ed7953\"],[0.7777777777777778,\"#fb9f3a\"],[0.8888888888888888,\"#fdca26\"],[1.0,\"#f0f921\"]]}],\"contourcarpet\":[{\"type\":\"contourcarpet\",\"colorbar\":{\"outlinewidth\":0,\"ticks\":\"\"}}],\"contour\":[{\"type\":\"contour\",\"colorbar\":{\"outlinewidth\":0,\"ticks\":\"\"},\"colorscale\":[[0.0,\"#0d0887\"],[0.1111111111111111,\"#46039f\"],[0.2222222222222222,\"#7201a8\"],[0.3333333333333333,\"#9c179e\"],[0.4444444444444444,\"#bd3786\"],[0.5555555555555556,\"#d8576b\"],[0.6666666666666666,\"#ed7953\"],[0.7777777777777778,\"#fb9f3a\"],[0.8888888888888888,\"#fdca26\"],[1.0,\"#f0f921\"]]}],\"surface\":[{\"type\":\"surface\",\"colorbar\":{\"outlinewidth\":0,\"ticks\":\"\"},\"colorscale\":[[0.0,\"#0d0887\"],[0.1111111111111111,\"#46039f\"],[0.2222222222222222,\"#7201a8\"],[0.3333333333333333,\"#9c179e\"],[0.4444444444444444,\"#bd3786\"],[0.5555555555555556,\"#d8576b\"],[0.6666666666666666,\"#ed7953\"],[0.7777777777777778,\"#fb9f3a\"],[0.8888888888888888,\"#fdca26\"],[1.0,\"#f0f921\"]]}],\"mesh3d\":[{\"type\":\"mesh3d\",\"colorbar\":{\"outlinewidth\":0,\"ticks\":\"\"}}],\"scatter\":[{\"fillpattern\":{\"fillmode\":\"overlay\",\"size\":10,\"solidity\":0.2},\"type\":\"scatter\"}],\"parcoords\":[{\"type\":\"parcoords\",\"line\":{\"colorbar\":{\"outlinewidth\":0,\"ticks\":\"\"}}}],\"scatterpolargl\":[{\"type\":\"scatterpolargl\",\"marker\":{\"colorbar\":{\"outlinewidth\":0,\"ticks\":\"\"}}}],\"bar\":[{\"error_x\":{\"color\":\"#2a3f5f\"},\"error_y\":{\"color\":\"#2a3f5f\"},\"marker\":{\"line\":{\"color\":\"#E5ECF6\",\"width\":0.5},\"pattern\":{\"fillmode\":\"overlay\",\"size\":10,\"solidity\":0.2}},\"type\":\"bar\"}],\"scattergeo\":[{\"type\":\"scattergeo\",\"marker\":{\"colorbar\":{\"outlinewidth\":0,\"ticks\":\"\"}}}],\"scatterpolar\":[{\"type\":\"scatterpolar\",\"marker\":{\"colorbar\":{\"outlinewidth\":0,\"ticks\":\"\"}}}],\"histogram\":[{\"marker\":{\"pattern\":{\"fillmode\":\"overlay\",\"size\":10,\"solidity\":0.2}},\"type\":\"histogram\"}],\"scattergl\":[{\"type\":\"scattergl\",\"marker\":{\"colorbar\":{\"outlinewidth\":0,\"ticks\":\"\"}}}],\"scatter3d\":[{\"type\":\"scatter3d\",\"line\":{\"colorbar\":{\"outlinewidth\":0,\"ticks\":\"\"}},\"marker\":{\"colorbar\":{\"outlinewidth\":0,\"ticks\":\"\"}}}],\"scattermapbox\":[{\"type\":\"scattermapbox\",\"marker\":{\"colorbar\":{\"outlinewidth\":0,\"ticks\":\"\"}}}],\"scatterternary\":[{\"type\":\"scatterternary\",\"marker\":{\"colorbar\":{\"outlinewidth\":0,\"ticks\":\"\"}}}],\"scattercarpet\":[{\"type\":\"scattercarpet\",\"marker\":{\"colorbar\":{\"outlinewidth\":0,\"ticks\":\"\"}}}],\"carpet\":[{\"aaxis\":{\"endlinecolor\":\"#2a3f5f\",\"gridcolor\":\"white\",\"linecolor\":\"white\",\"minorgridcolor\":\"white\",\"startlinecolor\":\"#2a3f5f\"},\"baxis\":{\"endlinecolor\":\"#2a3f5f\",\"gridcolor\":\"white\",\"linecolor\":\"white\",\"minorgridcolor\":\"white\",\"startlinecolor\":\"#2a3f5f\"},\"type\":\"carpet\"}],\"table\":[{\"cells\":{\"fill\":{\"color\":\"#EBF0F8\"},\"line\":{\"color\":\"white\"}},\"header\":{\"fill\":{\"color\":\"#C8D4E3\"},\"line\":{\"color\":\"white\"}},\"type\":\"table\"}],\"barpolar\":[{\"marker\":{\"line\":{\"color\":\"#E5ECF6\",\"width\":0.5},\"pattern\":{\"fillmode\":\"overlay\",\"size\":10,\"solidity\":0.2}},\"type\":\"barpolar\"}],\"pie\":[{\"automargin\":true,\"type\":\"pie\"}]},\"layout\":{\"autotypenumbers\":\"strict\",\"colorway\":[\"#636efa\",\"#EF553B\",\"#00cc96\",\"#ab63fa\",\"#FFA15A\",\"#19d3f3\",\"#FF6692\",\"#B6E880\",\"#FF97FF\",\"#FECB52\"],\"font\":{\"color\":\"#2a3f5f\"},\"hovermode\":\"closest\",\"hoverlabel\":{\"align\":\"left\"},\"paper_bgcolor\":\"white\",\"plot_bgcolor\":\"#E5ECF6\",\"polar\":{\"bgcolor\":\"#E5ECF6\",\"angularaxis\":{\"gridcolor\":\"white\",\"linecolor\":\"white\",\"ticks\":\"\"},\"radialaxis\":{\"gridcolor\":\"white\",\"linecolor\":\"white\",\"ticks\":\"\"}},\"ternary\":{\"bgcolor\":\"#E5ECF6\",\"aaxis\":{\"gridcolor\":\"white\",\"linecolor\":\"white\",\"ticks\":\"\"},\"baxis\":{\"gridcolor\":\"white\",\"linecolor\":\"white\",\"ticks\":\"\"},\"caxis\":{\"gridcolor\":\"white\",\"linecolor\":\"white\",\"ticks\":\"\"}},\"coloraxis\":{\"colorbar\":{\"outlinewidth\":0,\"ticks\":\"\"}},\"colorscale\":{\"sequential\":[[0.0,\"#0d0887\"],[0.1111111111111111,\"#46039f\"],[0.2222222222222222,\"#7201a8\"],[0.3333333333333333,\"#9c179e\"],[0.4444444444444444,\"#bd3786\"],[0.5555555555555556,\"#d8576b\"],[0.6666666666666666,\"#ed7953\"],[0.7777777777777778,\"#fb9f3a\"],[0.8888888888888888,\"#fdca26\"],[1.0,\"#f0f921\"]],\"sequentialminus\":[[0.0,\"#0d0887\"],[0.1111111111111111,\"#46039f\"],[0.2222222222222222,\"#7201a8\"],[0.3333333333333333,\"#9c179e\"],[0.4444444444444444,\"#bd3786\"],[0.5555555555555556,\"#d8576b\"],[0.6666666666666666,\"#ed7953\"],[0.7777777777777778,\"#fb9f3a\"],[0.8888888888888888,\"#fdca26\"],[1.0,\"#f0f921\"]],\"diverging\":[[0,\"#8e0152\"],[0.1,\"#c51b7d\"],[0.2,\"#de77ae\"],[0.3,\"#f1b6da\"],[0.4,\"#fde0ef\"],[0.5,\"#f7f7f7\"],[0.6,\"#e6f5d0\"],[0.7,\"#b8e186\"],[0.8,\"#7fbc41\"],[0.9,\"#4d9221\"],[1,\"#276419\"]]},\"xaxis\":{\"gridcolor\":\"white\",\"linecolor\":\"white\",\"ticks\":\"\",\"title\":{\"standoff\":15},\"zerolinecolor\":\"white\",\"automargin\":true,\"zerolinewidth\":2},\"yaxis\":{\"gridcolor\":\"white\",\"linecolor\":\"white\",\"ticks\":\"\",\"title\":{\"standoff\":15},\"zerolinecolor\":\"white\",\"automargin\":true,\"zerolinewidth\":2},\"scene\":{\"xaxis\":{\"backgroundcolor\":\"#E5ECF6\",\"gridcolor\":\"white\",\"linecolor\":\"white\",\"showbackground\":true,\"ticks\":\"\",\"zerolinecolor\":\"white\",\"gridwidth\":2},\"yaxis\":{\"backgroundcolor\":\"#E5ECF6\",\"gridcolor\":\"white\",\"linecolor\":\"white\",\"showbackground\":true,\"ticks\":\"\",\"zerolinecolor\":\"white\",\"gridwidth\":2},\"zaxis\":{\"backgroundcolor\":\"#E5ECF6\",\"gridcolor\":\"white\",\"linecolor\":\"white\",\"showbackground\":true,\"ticks\":\"\",\"zerolinecolor\":\"white\",\"gridwidth\":2}},\"shapedefaults\":{\"line\":{\"color\":\"#2a3f5f\"}},\"annotationdefaults\":{\"arrowcolor\":\"#2a3f5f\",\"arrowhead\":0,\"arrowwidth\":1},\"geo\":{\"bgcolor\":\"white\",\"landcolor\":\"#E5ECF6\",\"subunitcolor\":\"white\",\"showland\":true,\"showlakes\":true,\"lakecolor\":\"white\"},\"title\":{\"x\":0.05},\"mapbox\":{\"style\":\"light\"}}},\"title\":{\"text\":\"Most Probable Category Heatmap\"},\"xaxis\":{\"title\":{\"text\":\"\"},\"tickfont\":{\"size\":13,\"family\":\"Ariel\"},\"side\":\"top\"},\"yaxis\":{\"title\":{\"text\":\"\"},\"tickfont\":{\"size\":13,\"family\":\"Ariel\"}},\"autosize\":false,\"width\":1500,\"height\":500},                        {\"responsive\": true}                    ).then(function(){\n",
              "                            \n",
              "var gd = document.getElementById('e7352746-d507-4d56-ba5d-6f24acbd34bb');\n",
              "var x = new MutationObserver(function (mutations, observer) {{\n",
              "        var display = window.getComputedStyle(gd).display;\n",
              "        if (!display || display === 'none') {{\n",
              "            console.log([gd, 'removed!']);\n",
              "            Plotly.purge(gd);\n",
              "            observer.disconnect();\n",
              "        }}\n",
              "}});\n",
              "\n",
              "// Listen for the removal of the full notebook cells\n",
              "var notebookContainer = gd.closest('#notebook-container');\n",
              "if (notebookContainer) {{\n",
              "    x.observe(notebookContainer, {childList: true});\n",
              "}}\n",
              "\n",
              "// Listen for the clearing of the current output cell\n",
              "var outputEl = gd.closest('.output');\n",
              "if (outputEl) {{\n",
              "    x.observe(outputEl, {childList: true});\n",
              "}}\n",
              "\n",
              "                        })                };                            </script>        </div>\n",
              "</body>\n",
              "</html>"
            ]
          },
          "metadata": {}
        }
      ]
    },
    {
      "cell_type": "markdown",
      "source": [
        "* 각 범주형 변수에서 확률이 가장 큰 범주요인만 색상와 글씨를 표시하였다.\n",
        "    * 예를 들어, Payment에서 Electronic의 확률이 0.3으로 가장 크다면 그것만 표시하였다.\n",
        "* 만약 범주요인 중 'No..'라는 글자를 가진 경우 시각화에 제외하였다."
      ],
      "metadata": {
        "id": "2FAW5cXJJFnM"
      }
    },
    {
      "cell_type": "markdown",
      "source": [
        "위의 8개의 클러스터를 대략 4개로도 묶어 볼 수 있다.\n",
        "1. Cluster 1, Cluster 5 : Single 전화서비스만 이용하는 고객군.\n",
        "    * Cluster 5가 tenure이 더 길고 계약기간도 길며, Partner가 존재하는 경향이 더 크다.\n",
        "2. Cluster 8, Cluster 4 : Single 전화서비스와 DSL 인터넷을 월계약으로 이용하는 고객군.\n",
        "    * Cluster 4가 Tenure이 더 길고  Single 전화서비스 사용 경향이 더 크다.\n",
        "3. Cluster 7, Cluster 3 : Fiber optic 인터넷을 월계약으로 이용하는데 이탈율이 50% 이상인 위험고객군.\n",
        "    * Cluster 7은 Multiple 전화서비스에다 Streaming 서비스도 이용하는 고소비 고객층.\n",
        "4. Cluster 2, Cluster 6 : 인터넷 부가서비스 두루두루 이용하면서 긴 계약기간에 tenure도 가장 긴 VIP고객군.\n",
        "    * Cluster 2가 상대적으로 전화서비스 이용안하고 DSL 인터넷 사용하기 때문에, Cluster 6로 유입시키는 전략을 짜야한다."
      ],
      "metadata": {
        "id": "zRDESaTT6-Ft"
      }
    },
    {
      "cell_type": "code",
      "source": [
        "df_cat_reg = df_cat\n",
        "df_cat_reg_list = [df_cat_reg[df_cat_reg['cluster']==k].reset_index(drop=True) for k in range(num_cluster)]\n",
        "for k in range(num_cluster):\n",
        "    df_cat_reg_list[k].columns = df_cat_reg_list[k].columns.str.replace(\" \",\"_\")"
      ],
      "metadata": {
        "id": "uH-XTkmhPc6W"
      },
      "execution_count": 27,
      "outputs": []
    },
    {
      "cell_type": "code",
      "source": [
        "cluster_consider = [2,6]\n",
        "\n",
        "model_formula = \"Churn_Label ~ \"\n",
        "model_formula_list = [model_formula for k in cluster_consider]\n",
        "covariate_drop_list = []\n",
        "covariate_drop_list.append(['Internet_Service','Dependents'])\n",
        "covariate_drop_list.append(['Internet_Service','Online_Security','Streaming_TV','Streaming_Movies','Tech_Support','Dependents'])\n",
        "\n",
        "j = 0\n",
        "for k in cluster_consider:\n",
        "    for col in df_cat_reg_list[k].columns:\n",
        "        if col not in covariate_drop_list[j]+['Churn_Label','cluster']:\n",
        "            model_formula_list[j] += 'C(' + col + ')'\n",
        "            if col != 'Tenure_Months_cat':\n",
        "                model_formula_list[j] += ' + '\n",
        "    j+=1"
      ],
      "metadata": {
        "id": "1YwFW7dlfTZM"
      },
      "execution_count": 28,
      "outputs": []
    },
    {
      "cell_type": "code",
      "source": [
        "import statsmodels.formula.api as smf\n",
        "\n",
        "model_list = []\n",
        "cluster_consider = [2,6]\n",
        "for j in range(2):\n",
        "    print(j)\n",
        "    model_list.append(smf.logit(model_formula_list[j], data=df_cat_reg_list[cluster_consider[j]]).fit())"
      ],
      "metadata": {
        "colab": {
          "base_uri": "https://localhost:8080/"
        },
        "id": "kEveV9iGfTbi",
        "outputId": "f2aad3c0-67d7-484b-9659-434dad659f46"
      },
      "execution_count": 29,
      "outputs": [
        {
          "output_type": "stream",
          "name": "stdout",
          "text": [
            "0\n",
            "Optimization terminated successfully.\n",
            "         Current function value: 0.627313\n",
            "         Iterations 5\n",
            "1\n",
            "Warning: Maximum number of iterations has been exceeded.\n",
            "         Current function value: 0.628627\n",
            "         Iterations: 35\n"
          ]
        },
        {
          "output_type": "stream",
          "name": "stderr",
          "text": [
            "/usr/local/lib/python3.10/dist-packages/statsmodels/base/model.py:607: ConvergenceWarning:\n",
            "\n",
            "Maximum Likelihood optimization failed to converge. Check mle_retvals\n",
            "\n"
          ]
        }
      ]
    },
    {
      "cell_type": "code",
      "source": [
        "model_list[0].summary()"
      ],
      "metadata": {
        "colab": {
          "base_uri": "https://localhost:8080/",
          "height": 587
        },
        "id": "d8aP5auDlRWE",
        "outputId": "8b667c1a-4392-4fd3-f7da-02fdc64a7503"
      },
      "execution_count": 30,
      "outputs": [
        {
          "output_type": "execute_result",
          "data": {
            "text/plain": [
              "<class 'statsmodels.iolib.summary.Summary'>\n",
              "\"\"\"\n",
              "                           Logit Regression Results                           \n",
              "==============================================================================\n",
              "Dep. Variable:            Churn_Label   No. Observations:                 1296\n",
              "Model:                          Logit   Df Residuals:                     1278\n",
              "Method:                           MLE   Df Model:                           17\n",
              "Date:                Wed, 01 Nov 2023   Pseudo R-squ.:                 0.08793\n",
              "Time:                        05:15:45   Log-Likelihood:                -813.00\n",
              "converged:                       True   LL-Null:                       -891.38\n",
              "Covariance Type:            nonrobust   LLR p-value:                 1.153e-24\n",
              "=============================================================================================\n",
              "                                coef    std err          z      P>|z|      [0.025      0.975]\n",
              "---------------------------------------------------------------------------------------------\n",
              "Intercept                    -0.9178      0.327     -2.804      0.005      -1.559      -0.276\n",
              "C(Gender)[T.1]               -0.2329      0.119     -1.949      0.051      -0.467       0.001\n",
              "C(Senior_Citizen)[T.1]        0.1332      0.131      1.017      0.309      -0.124       0.390\n",
              "C(Partner)[T.1]               0.1143      0.124      0.923      0.356      -0.128       0.357\n",
              "C(Multiple_Lines)[T.2]       -0.5522      0.138     -3.995      0.000      -0.823      -0.281\n",
              "C(Online_Security)[T.2]      -0.2007      0.155     -1.293      0.196      -0.505       0.104\n",
              "C(Online_Backup)[T.2]        -0.0642      0.125     -0.516      0.606      -0.308       0.180\n",
              "C(Device_Protection)[T.2]    -0.0288      0.121     -0.237      0.813      -0.267       0.209\n",
              "C(Tech_Support)[T.2]         -0.1957      0.147     -1.333      0.183      -0.484       0.092\n",
              "C(Streaming_TV)[T.2]          0.4535      0.140      3.243      0.001       0.179       0.728\n",
              "C(Streaming_Movies)[T.2]      0.4080      0.139      2.928      0.003       0.135       0.681\n",
              "C(Contract)[T.1]             -0.0523      0.212     -0.247      0.805      -0.468       0.363\n",
              "C(Paperless_Billing)[T.1]     0.3687      0.156      2.371      0.018       0.064       0.674\n",
              "C(Payment_Method)[T.1]       -0.0644      0.222     -0.291      0.771      -0.499       0.370\n",
              "C(Payment_Method)[T.2]        0.1313      0.169      0.777      0.437      -0.200       0.462\n",
              "C(Payment_Method)[T.3]        0.0260      0.273      0.095      0.924      -0.509       0.561\n",
              "C(Tenure_Months_cat)[T.1]     1.3536      0.210      6.454      0.000       0.943       1.765\n",
              "C(Tenure_Months_cat)[T.2]     0.0470      0.174      0.270      0.787      -0.295       0.389\n",
              "=============================================================================================\n",
              "\"\"\""
            ],
            "text/html": [
              "<table class=\"simpletable\">\n",
              "<caption>Logit Regression Results</caption>\n",
              "<tr>\n",
              "  <th>Dep. Variable:</th>      <td>Churn_Label</td>   <th>  No. Observations:  </th>  <td>  1296</td>  \n",
              "</tr>\n",
              "<tr>\n",
              "  <th>Model:</th>                 <td>Logit</td>      <th>  Df Residuals:      </th>  <td>  1278</td>  \n",
              "</tr>\n",
              "<tr>\n",
              "  <th>Method:</th>                 <td>MLE</td>       <th>  Df Model:          </th>  <td>    17</td>  \n",
              "</tr>\n",
              "<tr>\n",
              "  <th>Date:</th>            <td>Wed, 01 Nov 2023</td> <th>  Pseudo R-squ.:     </th>  <td>0.08793</td> \n",
              "</tr>\n",
              "<tr>\n",
              "  <th>Time:</th>                <td>05:15:45</td>     <th>  Log-Likelihood:    </th> <td> -813.00</td> \n",
              "</tr>\n",
              "<tr>\n",
              "  <th>converged:</th>             <td>True</td>       <th>  LL-Null:           </th> <td> -891.38</td> \n",
              "</tr>\n",
              "<tr>\n",
              "  <th>Covariance Type:</th>     <td>nonrobust</td>    <th>  LLR p-value:       </th> <td>1.153e-24</td>\n",
              "</tr>\n",
              "</table>\n",
              "<table class=\"simpletable\">\n",
              "<tr>\n",
              "              <td></td>                 <th>coef</th>     <th>std err</th>      <th>z</th>      <th>P>|z|</th>  <th>[0.025</th>    <th>0.975]</th>  \n",
              "</tr>\n",
              "<tr>\n",
              "  <th>Intercept</th>                 <td>   -0.9178</td> <td>    0.327</td> <td>   -2.804</td> <td> 0.005</td> <td>   -1.559</td> <td>   -0.276</td>\n",
              "</tr>\n",
              "<tr>\n",
              "  <th>C(Gender)[T.1]</th>            <td>   -0.2329</td> <td>    0.119</td> <td>   -1.949</td> <td> 0.051</td> <td>   -0.467</td> <td>    0.001</td>\n",
              "</tr>\n",
              "<tr>\n",
              "  <th>C(Senior_Citizen)[T.1]</th>    <td>    0.1332</td> <td>    0.131</td> <td>    1.017</td> <td> 0.309</td> <td>   -0.124</td> <td>    0.390</td>\n",
              "</tr>\n",
              "<tr>\n",
              "  <th>C(Partner)[T.1]</th>           <td>    0.1143</td> <td>    0.124</td> <td>    0.923</td> <td> 0.356</td> <td>   -0.128</td> <td>    0.357</td>\n",
              "</tr>\n",
              "<tr>\n",
              "  <th>C(Multiple_Lines)[T.2]</th>    <td>   -0.5522</td> <td>    0.138</td> <td>   -3.995</td> <td> 0.000</td> <td>   -0.823</td> <td>   -0.281</td>\n",
              "</tr>\n",
              "<tr>\n",
              "  <th>C(Online_Security)[T.2]</th>   <td>   -0.2007</td> <td>    0.155</td> <td>   -1.293</td> <td> 0.196</td> <td>   -0.505</td> <td>    0.104</td>\n",
              "</tr>\n",
              "<tr>\n",
              "  <th>C(Online_Backup)[T.2]</th>     <td>   -0.0642</td> <td>    0.125</td> <td>   -0.516</td> <td> 0.606</td> <td>   -0.308</td> <td>    0.180</td>\n",
              "</tr>\n",
              "<tr>\n",
              "  <th>C(Device_Protection)[T.2]</th> <td>   -0.0288</td> <td>    0.121</td> <td>   -0.237</td> <td> 0.813</td> <td>   -0.267</td> <td>    0.209</td>\n",
              "</tr>\n",
              "<tr>\n",
              "  <th>C(Tech_Support)[T.2]</th>      <td>   -0.1957</td> <td>    0.147</td> <td>   -1.333</td> <td> 0.183</td> <td>   -0.484</td> <td>    0.092</td>\n",
              "</tr>\n",
              "<tr>\n",
              "  <th>C(Streaming_TV)[T.2]</th>      <td>    0.4535</td> <td>    0.140</td> <td>    3.243</td> <td> 0.001</td> <td>    0.179</td> <td>    0.728</td>\n",
              "</tr>\n",
              "<tr>\n",
              "  <th>C(Streaming_Movies)[T.2]</th>  <td>    0.4080</td> <td>    0.139</td> <td>    2.928</td> <td> 0.003</td> <td>    0.135</td> <td>    0.681</td>\n",
              "</tr>\n",
              "<tr>\n",
              "  <th>C(Contract)[T.1]</th>          <td>   -0.0523</td> <td>    0.212</td> <td>   -0.247</td> <td> 0.805</td> <td>   -0.468</td> <td>    0.363</td>\n",
              "</tr>\n",
              "<tr>\n",
              "  <th>C(Paperless_Billing)[T.1]</th> <td>    0.3687</td> <td>    0.156</td> <td>    2.371</td> <td> 0.018</td> <td>    0.064</td> <td>    0.674</td>\n",
              "</tr>\n",
              "<tr>\n",
              "  <th>C(Payment_Method)[T.1]</th>    <td>   -0.0644</td> <td>    0.222</td> <td>   -0.291</td> <td> 0.771</td> <td>   -0.499</td> <td>    0.370</td>\n",
              "</tr>\n",
              "<tr>\n",
              "  <th>C(Payment_Method)[T.2]</th>    <td>    0.1313</td> <td>    0.169</td> <td>    0.777</td> <td> 0.437</td> <td>   -0.200</td> <td>    0.462</td>\n",
              "</tr>\n",
              "<tr>\n",
              "  <th>C(Payment_Method)[T.3]</th>    <td>    0.0260</td> <td>    0.273</td> <td>    0.095</td> <td> 0.924</td> <td>   -0.509</td> <td>    0.561</td>\n",
              "</tr>\n",
              "<tr>\n",
              "  <th>C(Tenure_Months_cat)[T.1]</th> <td>    1.3536</td> <td>    0.210</td> <td>    6.454</td> <td> 0.000</td> <td>    0.943</td> <td>    1.765</td>\n",
              "</tr>\n",
              "<tr>\n",
              "  <th>C(Tenure_Months_cat)[T.2]</th> <td>    0.0470</td> <td>    0.174</td> <td>    0.270</td> <td> 0.787</td> <td>   -0.295</td> <td>    0.389</td>\n",
              "</tr>\n",
              "</table>"
            ],
            "text/latex": "\\begin{center}\n\\begin{tabular}{lclc}\n\\toprule\n\\textbf{Dep. Variable:}              &   Churn\\_Label   & \\textbf{  No. Observations:  } &     1296    \\\\\n\\textbf{Model:}                      &      Logit       & \\textbf{  Df Residuals:      } &     1278    \\\\\n\\textbf{Method:}                     &       MLE        & \\textbf{  Df Model:          } &       17    \\\\\n\\textbf{Date:}                       & Wed, 01 Nov 2023 & \\textbf{  Pseudo R-squ.:     } &  0.08793    \\\\\n\\textbf{Time:}                       &     05:15:45     & \\textbf{  Log-Likelihood:    } &   -813.00   \\\\\n\\textbf{converged:}                  &       True       & \\textbf{  LL-Null:           } &   -891.38   \\\\\n\\textbf{Covariance Type:}            &    nonrobust     & \\textbf{  LLR p-value:       } & 1.153e-24   \\\\\n\\bottomrule\n\\end{tabular}\n\\begin{tabular}{lcccccc}\n                                     & \\textbf{coef} & \\textbf{std err} & \\textbf{z} & \\textbf{P$> |$z$|$} & \\textbf{[0.025} & \\textbf{0.975]}  \\\\\n\\midrule\n\\textbf{Intercept}                   &      -0.9178  &        0.327     &    -2.804  &         0.005        &       -1.559    &       -0.276     \\\\\n\\textbf{C(Gender)[T.1]}              &      -0.2329  &        0.119     &    -1.949  &         0.051        &       -0.467    &        0.001     \\\\\n\\textbf{C(Senior\\_Citizen)[T.1]}     &       0.1332  &        0.131     &     1.017  &         0.309        &       -0.124    &        0.390     \\\\\n\\textbf{C(Partner)[T.1]}             &       0.1143  &        0.124     &     0.923  &         0.356        &       -0.128    &        0.357     \\\\\n\\textbf{C(Multiple\\_Lines)[T.2]}     &      -0.5522  &        0.138     &    -3.995  &         0.000        &       -0.823    &       -0.281     \\\\\n\\textbf{C(Online\\_Security)[T.2]}    &      -0.2007  &        0.155     &    -1.293  &         0.196        &       -0.505    &        0.104     \\\\\n\\textbf{C(Online\\_Backup)[T.2]}      &      -0.0642  &        0.125     &    -0.516  &         0.606        &       -0.308    &        0.180     \\\\\n\\textbf{C(Device\\_Protection)[T.2]}  &      -0.0288  &        0.121     &    -0.237  &         0.813        &       -0.267    &        0.209     \\\\\n\\textbf{C(Tech\\_Support)[T.2]}       &      -0.1957  &        0.147     &    -1.333  &         0.183        &       -0.484    &        0.092     \\\\\n\\textbf{C(Streaming\\_TV)[T.2]}       &       0.4535  &        0.140     &     3.243  &         0.001        &        0.179    &        0.728     \\\\\n\\textbf{C(Streaming\\_Movies)[T.2]}   &       0.4080  &        0.139     &     2.928  &         0.003        &        0.135    &        0.681     \\\\\n\\textbf{C(Contract)[T.1]}            &      -0.0523  &        0.212     &    -0.247  &         0.805        &       -0.468    &        0.363     \\\\\n\\textbf{C(Paperless\\_Billing)[T.1]}  &       0.3687  &        0.156     &     2.371  &         0.018        &        0.064    &        0.674     \\\\\n\\textbf{C(Payment\\_Method)[T.1]}     &      -0.0644  &        0.222     &    -0.291  &         0.771        &       -0.499    &        0.370     \\\\\n\\textbf{C(Payment\\_Method)[T.2]}     &       0.1313  &        0.169     &     0.777  &         0.437        &       -0.200    &        0.462     \\\\\n\\textbf{C(Payment\\_Method)[T.3]}     &       0.0260  &        0.273     &     0.095  &         0.924        &       -0.509    &        0.561     \\\\\n\\textbf{C(Tenure\\_Months\\_cat)[T.1]} &       1.3536  &        0.210     &     6.454  &         0.000        &        0.943    &        1.765     \\\\\n\\textbf{C(Tenure\\_Months\\_cat)[T.2]} &       0.0470  &        0.174     &     0.270  &         0.787        &       -0.295    &        0.389     \\\\\n\\bottomrule\n\\end{tabular}\n%\\caption{Logit Regression Results}\n\\end{center}"
          },
          "metadata": {},
          "execution_count": 30
        }
      ]
    },
    {
      "cell_type": "markdown",
      "source": [
        "유의한 변수 : Multiple Lines(-), Streaming_TV(+), Streaming_Movies(+), Paperless_Billing(+), Tenure_middle(+)\n",
        "* Streaming 서비스와 Paperless_Bill은 이탈율 증가와 연관성이 있다.\n",
        "* Tenure가 low인 경우보다 middle일때 이탈율 증가와 연관성이 커진다. 서비스를 이용하다가 불만이 더 커졌다고도 볼 수 있다.\n",
        "    * 하지만 high인 경우 유의하지 않다.\n",
        "* 전화서비스의 다중회선 서비스는 반대로 이탈율 감소와 연관성이 있다. 즉, 다중회선 서비스 자체는 큰 문제가 없을수도."
      ],
      "metadata": {
        "id": "7OGIz48msvdg"
      }
    },
    {
      "cell_type": "code",
      "source": [
        "model_list[1].summary()"
      ],
      "metadata": {
        "colab": {
          "base_uri": "https://localhost:8080/",
          "height": 524
        },
        "id": "tBIJ4jIVlvYj",
        "outputId": "862fa74a-af3e-4bef-ccd2-3c6a30b10007"
      },
      "execution_count": 31,
      "outputs": [
        {
          "output_type": "execute_result",
          "data": {
            "text/plain": [
              "<class 'statsmodels.iolib.summary.Summary'>\n",
              "\"\"\"\n",
              "                           Logit Regression Results                           \n",
              "==============================================================================\n",
              "Dep. Variable:            Churn_Label   No. Observations:                  894\n",
              "Model:                          Logit   Df Residuals:                      879\n",
              "Method:                           MLE   Df Model:                           14\n",
              "Date:                Wed, 01 Nov 2023   Pseudo R-squ.:                 0.07314\n",
              "Time:                        05:15:51   Log-Likelihood:                -561.99\n",
              "converged:                      False   LL-Null:                       -606.34\n",
              "Covariance Type:            nonrobust   LLR p-value:                 6.673e-13\n",
              "=============================================================================================\n",
              "                                coef    std err          z      P>|z|      [0.025      0.975]\n",
              "---------------------------------------------------------------------------------------------\n",
              "Intercept                    -1.7106      0.476     -3.596      0.000      -2.643      -0.778\n",
              "C(Gender)[T.1]               -0.0356      0.144     -0.247      0.805      -0.318       0.247\n",
              "C(Senior_Citizen)[T.1]        0.0390      0.162      0.241      0.810      -0.278       0.357\n",
              "C(Partner)[T.1]               0.0922      0.163      0.566      0.571      -0.227       0.412\n",
              "C(Multiple_Lines)[T.2]       -0.1562      0.153     -1.019      0.308      -0.457       0.144\n",
              "C(Online_Backup)[T.2]         0.0535      0.192      0.279      0.780      -0.322       0.429\n",
              "C(Device_Protection)[T.2]     0.0787      0.216      0.365      0.715      -0.344       0.502\n",
              "C(Contract)[T.1]             -0.5194      0.716     -0.726      0.468      -1.922       0.884\n",
              "C(Contract)[T.2]             16.6263   3953.389      0.004      0.997   -7731.873    7765.126\n",
              "C(Paperless_Billing)[T.1]     0.3759      0.168      2.242      0.025       0.047       0.705\n",
              "C(Payment_Method)[T.1]       -0.4238      0.279     -1.521      0.128      -0.970       0.122\n",
              "C(Payment_Method)[T.2]        0.2524      0.217      1.163      0.245      -0.173       0.678\n",
              "C(Payment_Method)[T.3]       -0.2028      0.278     -0.729      0.466      -0.748       0.342\n",
              "C(Tenure_Months_cat)[T.1]     2.0669      0.394      5.246      0.000       1.295       2.839\n",
              "C(Tenure_Months_cat)[T.2]     1.1769      0.392      2.999      0.003       0.408       1.946\n",
              "=============================================================================================\n",
              "\"\"\""
            ],
            "text/html": [
              "<table class=\"simpletable\">\n",
              "<caption>Logit Regression Results</caption>\n",
              "<tr>\n",
              "  <th>Dep. Variable:</th>      <td>Churn_Label</td>   <th>  No. Observations:  </th>  <td>   894</td>  \n",
              "</tr>\n",
              "<tr>\n",
              "  <th>Model:</th>                 <td>Logit</td>      <th>  Df Residuals:      </th>  <td>   879</td>  \n",
              "</tr>\n",
              "<tr>\n",
              "  <th>Method:</th>                 <td>MLE</td>       <th>  Df Model:          </th>  <td>    14</td>  \n",
              "</tr>\n",
              "<tr>\n",
              "  <th>Date:</th>            <td>Wed, 01 Nov 2023</td> <th>  Pseudo R-squ.:     </th>  <td>0.07314</td> \n",
              "</tr>\n",
              "<tr>\n",
              "  <th>Time:</th>                <td>05:15:51</td>     <th>  Log-Likelihood:    </th> <td> -561.99</td> \n",
              "</tr>\n",
              "<tr>\n",
              "  <th>converged:</th>             <td>False</td>      <th>  LL-Null:           </th> <td> -606.34</td> \n",
              "</tr>\n",
              "<tr>\n",
              "  <th>Covariance Type:</th>     <td>nonrobust</td>    <th>  LLR p-value:       </th> <td>6.673e-13</td>\n",
              "</tr>\n",
              "</table>\n",
              "<table class=\"simpletable\">\n",
              "<tr>\n",
              "              <td></td>                 <th>coef</th>     <th>std err</th>      <th>z</th>      <th>P>|z|</th>  <th>[0.025</th>    <th>0.975]</th>  \n",
              "</tr>\n",
              "<tr>\n",
              "  <th>Intercept</th>                 <td>   -1.7106</td> <td>    0.476</td> <td>   -3.596</td> <td> 0.000</td> <td>   -2.643</td> <td>   -0.778</td>\n",
              "</tr>\n",
              "<tr>\n",
              "  <th>C(Gender)[T.1]</th>            <td>   -0.0356</td> <td>    0.144</td> <td>   -0.247</td> <td> 0.805</td> <td>   -0.318</td> <td>    0.247</td>\n",
              "</tr>\n",
              "<tr>\n",
              "  <th>C(Senior_Citizen)[T.1]</th>    <td>    0.0390</td> <td>    0.162</td> <td>    0.241</td> <td> 0.810</td> <td>   -0.278</td> <td>    0.357</td>\n",
              "</tr>\n",
              "<tr>\n",
              "  <th>C(Partner)[T.1]</th>           <td>    0.0922</td> <td>    0.163</td> <td>    0.566</td> <td> 0.571</td> <td>   -0.227</td> <td>    0.412</td>\n",
              "</tr>\n",
              "<tr>\n",
              "  <th>C(Multiple_Lines)[T.2]</th>    <td>   -0.1562</td> <td>    0.153</td> <td>   -1.019</td> <td> 0.308</td> <td>   -0.457</td> <td>    0.144</td>\n",
              "</tr>\n",
              "<tr>\n",
              "  <th>C(Online_Backup)[T.2]</th>     <td>    0.0535</td> <td>    0.192</td> <td>    0.279</td> <td> 0.780</td> <td>   -0.322</td> <td>    0.429</td>\n",
              "</tr>\n",
              "<tr>\n",
              "  <th>C(Device_Protection)[T.2]</th> <td>    0.0787</td> <td>    0.216</td> <td>    0.365</td> <td> 0.715</td> <td>   -0.344</td> <td>    0.502</td>\n",
              "</tr>\n",
              "<tr>\n",
              "  <th>C(Contract)[T.1]</th>          <td>   -0.5194</td> <td>    0.716</td> <td>   -0.726</td> <td> 0.468</td> <td>   -1.922</td> <td>    0.884</td>\n",
              "</tr>\n",
              "<tr>\n",
              "  <th>C(Contract)[T.2]</th>          <td>   16.6263</td> <td> 3953.389</td> <td>    0.004</td> <td> 0.997</td> <td>-7731.873</td> <td> 7765.126</td>\n",
              "</tr>\n",
              "<tr>\n",
              "  <th>C(Paperless_Billing)[T.1]</th> <td>    0.3759</td> <td>    0.168</td> <td>    2.242</td> <td> 0.025</td> <td>    0.047</td> <td>    0.705</td>\n",
              "</tr>\n",
              "<tr>\n",
              "  <th>C(Payment_Method)[T.1]</th>    <td>   -0.4238</td> <td>    0.279</td> <td>   -1.521</td> <td> 0.128</td> <td>   -0.970</td> <td>    0.122</td>\n",
              "</tr>\n",
              "<tr>\n",
              "  <th>C(Payment_Method)[T.2]</th>    <td>    0.2524</td> <td>    0.217</td> <td>    1.163</td> <td> 0.245</td> <td>   -0.173</td> <td>    0.678</td>\n",
              "</tr>\n",
              "<tr>\n",
              "  <th>C(Payment_Method)[T.3]</th>    <td>   -0.2028</td> <td>    0.278</td> <td>   -0.729</td> <td> 0.466</td> <td>   -0.748</td> <td>    0.342</td>\n",
              "</tr>\n",
              "<tr>\n",
              "  <th>C(Tenure_Months_cat)[T.1]</th> <td>    2.0669</td> <td>    0.394</td> <td>    5.246</td> <td> 0.000</td> <td>    1.295</td> <td>    2.839</td>\n",
              "</tr>\n",
              "<tr>\n",
              "  <th>C(Tenure_Months_cat)[T.2]</th> <td>    1.1769</td> <td>    0.392</td> <td>    2.999</td> <td> 0.003</td> <td>    0.408</td> <td>    1.946</td>\n",
              "</tr>\n",
              "</table>"
            ],
            "text/latex": "\\begin{center}\n\\begin{tabular}{lclc}\n\\toprule\n\\textbf{Dep. Variable:}              &   Churn\\_Label   & \\textbf{  No. Observations:  } &      894    \\\\\n\\textbf{Model:}                      &      Logit       & \\textbf{  Df Residuals:      } &      879    \\\\\n\\textbf{Method:}                     &       MLE        & \\textbf{  Df Model:          } &       14    \\\\\n\\textbf{Date:}                       & Wed, 01 Nov 2023 & \\textbf{  Pseudo R-squ.:     } &  0.07314    \\\\\n\\textbf{Time:}                       &     05:15:51     & \\textbf{  Log-Likelihood:    } &   -561.99   \\\\\n\\textbf{converged:}                  &      False       & \\textbf{  LL-Null:           } &   -606.34   \\\\\n\\textbf{Covariance Type:}            &    nonrobust     & \\textbf{  LLR p-value:       } & 6.673e-13   \\\\\n\\bottomrule\n\\end{tabular}\n\\begin{tabular}{lcccccc}\n                                     & \\textbf{coef} & \\textbf{std err} & \\textbf{z} & \\textbf{P$> |$z$|$} & \\textbf{[0.025} & \\textbf{0.975]}  \\\\\n\\midrule\n\\textbf{Intercept}                   &      -1.7106  &        0.476     &    -3.596  &         0.000        &       -2.643    &       -0.778     \\\\\n\\textbf{C(Gender)[T.1]}              &      -0.0356  &        0.144     &    -0.247  &         0.805        &       -0.318    &        0.247     \\\\\n\\textbf{C(Senior\\_Citizen)[T.1]}     &       0.0390  &        0.162     &     0.241  &         0.810        &       -0.278    &        0.357     \\\\\n\\textbf{C(Partner)[T.1]}             &       0.0922  &        0.163     &     0.566  &         0.571        &       -0.227    &        0.412     \\\\\n\\textbf{C(Multiple\\_Lines)[T.2]}     &      -0.1562  &        0.153     &    -1.019  &         0.308        &       -0.457    &        0.144     \\\\\n\\textbf{C(Online\\_Backup)[T.2]}      &       0.0535  &        0.192     &     0.279  &         0.780        &       -0.322    &        0.429     \\\\\n\\textbf{C(Device\\_Protection)[T.2]}  &       0.0787  &        0.216     &     0.365  &         0.715        &       -0.344    &        0.502     \\\\\n\\textbf{C(Contract)[T.1]}            &      -0.5194  &        0.716     &    -0.726  &         0.468        &       -1.922    &        0.884     \\\\\n\\textbf{C(Contract)[T.2]}            &      16.6263  &     3953.389     &     0.004  &         0.997        &    -7731.873    &     7765.126     \\\\\n\\textbf{C(Paperless\\_Billing)[T.1]}  &       0.3759  &        0.168     &     2.242  &         0.025        &        0.047    &        0.705     \\\\\n\\textbf{C(Payment\\_Method)[T.1]}     &      -0.4238  &        0.279     &    -1.521  &         0.128        &       -0.970    &        0.122     \\\\\n\\textbf{C(Payment\\_Method)[T.2]}     &       0.2524  &        0.217     &     1.163  &         0.245        &       -0.173    &        0.678     \\\\\n\\textbf{C(Payment\\_Method)[T.3]}     &      -0.2028  &        0.278     &    -0.729  &         0.466        &       -0.748    &        0.342     \\\\\n\\textbf{C(Tenure\\_Months\\_cat)[T.1]} &       2.0669  &        0.394     &     5.246  &         0.000        &        1.295    &        2.839     \\\\\n\\textbf{C(Tenure\\_Months\\_cat)[T.2]} &       1.1769  &        0.392     &     2.999  &         0.003        &        0.408    &        1.946     \\\\\n\\bottomrule\n\\end{tabular}\n%\\caption{Logit Regression Results}\n\\end{center}"
          },
          "metadata": {},
          "execution_count": 31
        }
      ]
    },
    {
      "cell_type": "markdown",
      "source": [
        "유의한 변수 : Paperless_Billing(+), Tenure_Middle(+), Tenure_High(+)\n",
        "* Paperless_Bill은 이탈율 증가와 연관성이 있다.\n",
        "* Tenure이 middle인 경우와 high인 경우 모두 이탈율 증가와 연관성이 있다."
      ],
      "metadata": {
        "id": "T3bFjnyztKAs"
      }
    },
    {
      "cell_type": "code",
      "source": [],
      "metadata": {
        "id": "RNOBWV-gb_X3"
      },
      "execution_count": null,
      "outputs": []
    }
  ]
}
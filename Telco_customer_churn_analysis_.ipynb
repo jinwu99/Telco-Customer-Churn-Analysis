{
  "nbformat": 4,
  "nbformat_minor": 0,
  "metadata": {
    "colab": {
      "provenance": [],
      "authorship_tag": "ABX9TyPizQ/DToPaNblblqUAsIJQ",
      "include_colab_link": true
    },
    "kernelspec": {
      "name": "python3",
      "display_name": "Python 3"
    },
    "language_info": {
      "name": "python"
    }
  },
  "cells": [
    {
      "cell_type": "markdown",
      "metadata": {
        "id": "view-in-github",
        "colab_type": "text"
      },
      "source": [
        "<a href=\"https://colab.research.google.com/github/jinwu99/Telco-Customer-Churn-Analysis/blob/main/Telco_customer_churn_analysis_.ipynb\" target=\"_parent\"><img src=\"https://colab.research.google.com/assets/colab-badge.svg\" alt=\"Open In Colab\"/></a>"
      ]
    },
    {
      "cell_type": "code",
      "execution_count": 1,
      "metadata": {
        "id": "7Az61GN1eN7_",
        "colab": {
          "base_uri": "https://localhost:8080/"
        },
        "outputId": "5e28d551-9afd-49cc-d848-c3692ce619ea"
      },
      "outputs": [
        {
          "output_type": "stream",
          "name": "stdout",
          "text": [
            "Mounted at ./MyDrive\n"
          ]
        }
      ],
      "source": [
        "from google.colab import drive\n",
        "drive.mount('./MyDrive')"
      ]
    },
    {
      "cell_type": "code",
      "source": [
        "cd MyDrive/My Drive/Colab Notebooks"
      ],
      "metadata": {
        "id": "_IETJZiZeXIw",
        "colab": {
          "base_uri": "https://localhost:8080/"
        },
        "outputId": "201f79bd-7e4b-4c61-e4ef-81065ce5882d"
      },
      "execution_count": 2,
      "outputs": [
        {
          "output_type": "stream",
          "name": "stdout",
          "text": [
            "/content/MyDrive/My Drive/Colab Notebooks\n"
          ]
        }
      ]
    },
    {
      "cell_type": "markdown",
      "source": [
        "Data description :\n",
        "* California 지역, 가상의 통신회사의 약 7000명 3분기 고객데이터\n",
        "* 출처 : https://www.kaggle.com/datasets/yeanzc/telco-customer-churn-ibm-dataset/"
      ],
      "metadata": {
        "id": "OYvh_K0OY7fE"
      }
    },
    {
      "cell_type": "markdown",
      "source": [
        "# 분석 목적\n",
        "* **고객의 서비스이용 패턴 탐색** 및 이탈율이 높은 이용패턴에 대한 **해결방안 제시**\n",
        "\n",
        "## 분석 과정\n",
        "1. 고객의 서비스이용 현황 파악\n",
        "2. 고객의 정보를 바탕으로 군집화\n",
        "3. 각 고객군집의 특성 파악 및 이탈율 높은 군집 분석"
      ],
      "metadata": {
        "id": "Wwl0LZDVBM3T"
      }
    },
    {
      "cell_type": "code",
      "source": [
        "import pandas as pd\n",
        "\n",
        "Telco = pd.read_csv('Telco_customer_churn.csv')\n",
        "print(Telco.shape)\n",
        "Telco.keys()"
      ],
      "metadata": {
        "colab": {
          "base_uri": "https://localhost:8080/"
        },
        "id": "LcnebzM3eenu",
        "outputId": "8b09c275-f7ee-4e16-dd9a-9c3d3e8b7be9"
      },
      "execution_count": 3,
      "outputs": [
        {
          "output_type": "stream",
          "name": "stdout",
          "text": [
            "(7043, 33)\n"
          ]
        },
        {
          "output_type": "execute_result",
          "data": {
            "text/plain": [
              "Index(['CustomerID', 'Count', 'Country', 'State', 'City', 'Zip Code',\n",
              "       'Lat Long', 'Latitude', 'Longitude', 'Gender', 'Senior Citizen',\n",
              "       'Partner', 'Dependents', 'Tenure Months', 'Phone Service',\n",
              "       'Multiple Lines', 'Internet Service', 'Online Security',\n",
              "       'Online Backup', 'Device Protection', 'Tech Support', 'Streaming TV',\n",
              "       'Streaming Movies', 'Contract', 'Paperless Billing', 'Payment Method',\n",
              "       'Monthly Charges', 'Total Charges', 'Churn Label', 'Churn Value',\n",
              "       'Churn Score', 'CLTV', 'Churn Reason'],\n",
              "      dtype='object')"
            ]
          },
          "metadata": {},
          "execution_count": 3
        }
      ]
    },
    {
      "cell_type": "markdown",
      "source": [
        "* 분석에 앞서, 각 범주요인의 이름을 좀 더 구체화하자.\n",
        "* 또한 Tenure과 Monthly Charges를 3분위수로 범주화하자."
      ],
      "metadata": {
        "id": "G_69sq9emJUC"
      }
    },
    {
      "cell_type": "code",
      "source": [
        "Telco.loc[Telco['Churn Label']=='Yes', 'Churn Label'] = 'Churn_Yes'\n",
        "Telco.loc[Telco['Churn Label']=='No', 'Churn Label'] = 'Churn_No'\n",
        "Telco.loc[Telco['Senior Citizen']=='Yes', 'Senior Citizen'] = 'Senior'\n",
        "Telco.loc[Telco['Senior Citizen']=='No', 'Senior Citizen'] = 'Not_Senior'\n",
        "Telco.loc[Telco['Partner']=='Yes', 'Partner'] = 'w/Partner'\n",
        "Telco.loc[Telco['Partner']=='No', 'Partner'] = 'No_Partner'\n",
        "Telco.loc[Telco['Dependents']=='Yes', 'Dependents'] = 'w/Dependents'\n",
        "Telco.loc[Telco['Dependents']=='No', 'Dependents'] = 'No_Dependents'\n",
        "Telco = Telco.drop(columns=['Phone Service'])\n",
        "Telco.loc[Telco['Multiple Lines']=='Yes', 'Multiple Lines'] = 'Multiple Lines'\n",
        "Telco.loc[Telco['Multiple Lines']=='No', 'Multiple Lines'] = 'Single Line'\n",
        "Telco.loc[Telco['Internet Service']=='No', 'Internet Service'] = 'No_Internet_Service'\n",
        "Telco.loc[Telco['Online Security']=='Yes', 'Online Security'] = 'Online Security'\n",
        "Telco.loc[Telco['Online Security']=='No', 'Online Security'] = 'No_Online Security'\n",
        "Telco.loc[Telco['Online Backup']=='Yes', 'Online Backup'] = 'Online Backup'\n",
        "Telco.loc[Telco['Online Backup']=='No', 'Online Backup'] = 'No_Online Backup'\n",
        "Telco.loc[Telco['Device Protection']=='Yes', 'Device Protection'] = 'Device Protection'\n",
        "Telco.loc[Telco['Device Protection']=='No', 'Device Protection'] = 'No_Device Protection'\n",
        "Telco.loc[Telco['Tech Support']=='Yes', 'Tech Support'] = 'Tech Support'\n",
        "Telco.loc[Telco['Tech Support']=='No', 'Tech Support'] = 'No_Tech Support'\n",
        "Telco.loc[Telco['Streaming TV']=='Yes', 'Streaming TV'] = 'Streaming TV'\n",
        "Telco.loc[Telco['Streaming TV']=='No', 'Streaming TV'] = 'No_Streaming TV'\n",
        "Telco.loc[Telco['Streaming Movies']=='Yes', 'Streaming Movies'] = 'Streaming Movies'\n",
        "Telco.loc[Telco['Streaming Movies']=='No', 'Streaming Movies'] = 'No_Streaming Movies'\n",
        "Telco.loc[Telco['Paperless Billing']=='Yes', 'Paperless Billing'] = 'Paperless Billing'\n",
        "Telco.loc[Telco['Paperless Billing']=='No', 'Paperless Billing'] = 'No_Paperless Billing'\n",
        "Telco['Monthly Charges cat'] = pd.qcut(Telco['Monthly Charges'],q=3).cat.codes\n",
        "Telco.loc[Telco['Monthly Charges cat']==0,'Monthly Charges cat'] = 'charge_low'\n",
        "Telco.loc[Telco['Monthly Charges cat']==1,'Monthly Charges cat'] = 'charge_mid'\n",
        "Telco.loc[Telco['Monthly Charges cat']==2,'Monthly Charges cat'] = 'charge_high'\n",
        "Telco['Tenure Months cat'] = pd.qcut(Telco['Tenure Months'],q=3).cat.codes\n",
        "Telco.loc[Telco['Tenure Months cat']==0,'Tenure Months cat'] = 'tenure_low'\n",
        "Telco.loc[Telco['Tenure Months cat']==1,'Tenure Months cat'] = 'tenure_mid'\n",
        "Telco.loc[Telco['Tenure Months cat']==2,'Tenure Months cat'] = 'tenure_high'"
      ],
      "metadata": {
        "id": "MtfhR_jlmIXa"
      },
      "execution_count": 4,
      "outputs": []
    },
    {
      "cell_type": "code",
      "source": [
        "import plotly.io as pio\n",
        "pio.renderers.default = \"colab\""
      ],
      "metadata": {
        "id": "mS9q6J3GQUUS"
      },
      "execution_count": 5,
      "outputs": []
    },
    {
      "cell_type": "markdown",
      "source": [
        "# 1.고객의 서비스이용 현황 파악\n",
        "고객 데이터는 대략적으로 4가지 정보를 가진다 : \\\n",
        "1. 인구통계학적 정보\n",
        "2. 이용하는 인터넷/전화 서비스 정보\n",
        "3. 계약정보\n",
        "4. 이탈이유\n",
        "\n",
        "각 정보에 대한 고객의 현황을 살펴보자."
      ],
      "metadata": {
        "id": "fQnfjL_P7Fgh"
      }
    },
    {
      "cell_type": "markdown",
      "source": [
        "## 1.1. 인구통계학적 정보"
      ],
      "metadata": {
        "id": "R_oOXNGPX7D3"
      }
    },
    {
      "cell_type": "code",
      "source": [
        "import plotly.graph_objects as go\n",
        "\n",
        "colors = ['lightgreen','salmon']\n",
        "demo = ['Gender','Senior Citizen','Partner','Dependents']\n",
        "churn = ['Churn_No','Churn_Yes']\n",
        "showlegend = [True] + [False]*(len(demo)-1)\n",
        "spacing = ['',' ','  ']\n",
        "\n",
        "fig = go.Figure()\n",
        "\n",
        "for d in range(len(demo)):\n",
        "    grouped = Telco.groupby([demo[d], 'Churn Label']).size().unstack(fill_value=0).reset_index()\n",
        "    for c in range(len(churn)):\n",
        "        fig.add_trace(go.Bar(x=grouped[demo[d]], y=grouped[churn[c]], name=churn[c],\n",
        "                             marker_color=colors[c], showlegend=showlegend[d]))\n",
        "    if d < (len(demo)-1):\n",
        "        fig.add_trace(go.Bar(x=[spacing[d]], y=[0], showlegend=False))\n",
        "\n",
        "fig.update_layout(\n",
        "    title=\"Customer Churn by Demographics\",\n",
        "    yaxis_title=\"Churn Count\",\n",
        "    legend_title=\"Churn Label\",\n",
        "    barmode='stack'\n",
        ")\n",
        "\n",
        "fig.update_layout(autosize=False,width=1200,height=500)\n",
        "fig.show()"
      ],
      "metadata": {
        "colab": {
          "base_uri": "https://localhost:8080/",
          "height": 537
        },
        "id": "MK32ZxsctsT6",
        "outputId": "96eafbde-4bab-4d25-8099-2f2b0fd0648c"
      },
      "execution_count": 6,
      "outputs": [
        {
          "output_type": "display_data",
          "data": {
            "text/html": [
              "<html>\n",
              "<head><meta charset=\"utf-8\" /></head>\n",
              "<body>\n",
              "    <div>            <script src=\"https://cdnjs.cloudflare.com/ajax/libs/mathjax/2.7.5/MathJax.js?config=TeX-AMS-MML_SVG\"></script><script type=\"text/javascript\">if (window.MathJax && window.MathJax.Hub && window.MathJax.Hub.Config) {window.MathJax.Hub.Config({SVG: {font: \"STIX-Web\"}});}</script>                <script type=\"text/javascript\">window.PlotlyConfig = {MathJaxConfig: 'local'};</script>\n",
              "        <script charset=\"utf-8\" src=\"https://cdn.plot.ly/plotly-2.24.1.min.js\"></script>                <div id=\"e56bb209-b68e-4165-9508-64810011614f\" class=\"plotly-graph-div\" style=\"height:500px; width:1200px;\"></div>            <script type=\"text/javascript\">                                    window.PLOTLYENV=window.PLOTLYENV || {};                                    if (document.getElementById(\"e56bb209-b68e-4165-9508-64810011614f\")) {                    Plotly.newPlot(                        \"e56bb209-b68e-4165-9508-64810011614f\",                        [{\"marker\":{\"color\":\"lightgreen\"},\"name\":\"Churn_No\",\"showlegend\":true,\"x\":[\"Female\",\"Male\"],\"y\":[2549,2625],\"type\":\"bar\"},{\"marker\":{\"color\":\"salmon\"},\"name\":\"Churn_Yes\",\"showlegend\":true,\"x\":[\"Female\",\"Male\"],\"y\":[939,930],\"type\":\"bar\"},{\"showlegend\":false,\"x\":[\"\"],\"y\":[0],\"type\":\"bar\"},{\"marker\":{\"color\":\"lightgreen\"},\"name\":\"Churn_No\",\"showlegend\":false,\"x\":[\"Not_Senior\",\"Senior\"],\"y\":[4508,666],\"type\":\"bar\"},{\"marker\":{\"color\":\"salmon\"},\"name\":\"Churn_Yes\",\"showlegend\":false,\"x\":[\"Not_Senior\",\"Senior\"],\"y\":[1393,476],\"type\":\"bar\"},{\"showlegend\":false,\"x\":[\" \"],\"y\":[0],\"type\":\"bar\"},{\"marker\":{\"color\":\"lightgreen\"},\"name\":\"Churn_No\",\"showlegend\":false,\"x\":[\"No_Partner\",\"w\\u002fPartner\"],\"y\":[2441,2733],\"type\":\"bar\"},{\"marker\":{\"color\":\"salmon\"},\"name\":\"Churn_Yes\",\"showlegend\":false,\"x\":[\"No_Partner\",\"w\\u002fPartner\"],\"y\":[1200,669],\"type\":\"bar\"},{\"showlegend\":false,\"x\":[\"  \"],\"y\":[0],\"type\":\"bar\"},{\"marker\":{\"color\":\"lightgreen\"},\"name\":\"Churn_No\",\"showlegend\":false,\"x\":[\"No_Dependents\",\"w\\u002fDependents\"],\"y\":[3653,1521],\"type\":\"bar\"},{\"marker\":{\"color\":\"salmon\"},\"name\":\"Churn_Yes\",\"showlegend\":false,\"x\":[\"No_Dependents\",\"w\\u002fDependents\"],\"y\":[1763,106],\"type\":\"bar\"}],                        {\"template\":{\"data\":{\"histogram2dcontour\":[{\"type\":\"histogram2dcontour\",\"colorbar\":{\"outlinewidth\":0,\"ticks\":\"\"},\"colorscale\":[[0.0,\"#0d0887\"],[0.1111111111111111,\"#46039f\"],[0.2222222222222222,\"#7201a8\"],[0.3333333333333333,\"#9c179e\"],[0.4444444444444444,\"#bd3786\"],[0.5555555555555556,\"#d8576b\"],[0.6666666666666666,\"#ed7953\"],[0.7777777777777778,\"#fb9f3a\"],[0.8888888888888888,\"#fdca26\"],[1.0,\"#f0f921\"]]}],\"choropleth\":[{\"type\":\"choropleth\",\"colorbar\":{\"outlinewidth\":0,\"ticks\":\"\"}}],\"histogram2d\":[{\"type\":\"histogram2d\",\"colorbar\":{\"outlinewidth\":0,\"ticks\":\"\"},\"colorscale\":[[0.0,\"#0d0887\"],[0.1111111111111111,\"#46039f\"],[0.2222222222222222,\"#7201a8\"],[0.3333333333333333,\"#9c179e\"],[0.4444444444444444,\"#bd3786\"],[0.5555555555555556,\"#d8576b\"],[0.6666666666666666,\"#ed7953\"],[0.7777777777777778,\"#fb9f3a\"],[0.8888888888888888,\"#fdca26\"],[1.0,\"#f0f921\"]]}],\"heatmap\":[{\"type\":\"heatmap\",\"colorbar\":{\"outlinewidth\":0,\"ticks\":\"\"},\"colorscale\":[[0.0,\"#0d0887\"],[0.1111111111111111,\"#46039f\"],[0.2222222222222222,\"#7201a8\"],[0.3333333333333333,\"#9c179e\"],[0.4444444444444444,\"#bd3786\"],[0.5555555555555556,\"#d8576b\"],[0.6666666666666666,\"#ed7953\"],[0.7777777777777778,\"#fb9f3a\"],[0.8888888888888888,\"#fdca26\"],[1.0,\"#f0f921\"]]}],\"heatmapgl\":[{\"type\":\"heatmapgl\",\"colorbar\":{\"outlinewidth\":0,\"ticks\":\"\"},\"colorscale\":[[0.0,\"#0d0887\"],[0.1111111111111111,\"#46039f\"],[0.2222222222222222,\"#7201a8\"],[0.3333333333333333,\"#9c179e\"],[0.4444444444444444,\"#bd3786\"],[0.5555555555555556,\"#d8576b\"],[0.6666666666666666,\"#ed7953\"],[0.7777777777777778,\"#fb9f3a\"],[0.8888888888888888,\"#fdca26\"],[1.0,\"#f0f921\"]]}],\"contourcarpet\":[{\"type\":\"contourcarpet\",\"colorbar\":{\"outlinewidth\":0,\"ticks\":\"\"}}],\"contour\":[{\"type\":\"contour\",\"colorbar\":{\"outlinewidth\":0,\"ticks\":\"\"},\"colorscale\":[[0.0,\"#0d0887\"],[0.1111111111111111,\"#46039f\"],[0.2222222222222222,\"#7201a8\"],[0.3333333333333333,\"#9c179e\"],[0.4444444444444444,\"#bd3786\"],[0.5555555555555556,\"#d8576b\"],[0.6666666666666666,\"#ed7953\"],[0.7777777777777778,\"#fb9f3a\"],[0.8888888888888888,\"#fdca26\"],[1.0,\"#f0f921\"]]}],\"surface\":[{\"type\":\"surface\",\"colorbar\":{\"outlinewidth\":0,\"ticks\":\"\"},\"colorscale\":[[0.0,\"#0d0887\"],[0.1111111111111111,\"#46039f\"],[0.2222222222222222,\"#7201a8\"],[0.3333333333333333,\"#9c179e\"],[0.4444444444444444,\"#bd3786\"],[0.5555555555555556,\"#d8576b\"],[0.6666666666666666,\"#ed7953\"],[0.7777777777777778,\"#fb9f3a\"],[0.8888888888888888,\"#fdca26\"],[1.0,\"#f0f921\"]]}],\"mesh3d\":[{\"type\":\"mesh3d\",\"colorbar\":{\"outlinewidth\":0,\"ticks\":\"\"}}],\"scatter\":[{\"fillpattern\":{\"fillmode\":\"overlay\",\"size\":10,\"solidity\":0.2},\"type\":\"scatter\"}],\"parcoords\":[{\"type\":\"parcoords\",\"line\":{\"colorbar\":{\"outlinewidth\":0,\"ticks\":\"\"}}}],\"scatterpolargl\":[{\"type\":\"scatterpolargl\",\"marker\":{\"colorbar\":{\"outlinewidth\":0,\"ticks\":\"\"}}}],\"bar\":[{\"error_x\":{\"color\":\"#2a3f5f\"},\"error_y\":{\"color\":\"#2a3f5f\"},\"marker\":{\"line\":{\"color\":\"#E5ECF6\",\"width\":0.5},\"pattern\":{\"fillmode\":\"overlay\",\"size\":10,\"solidity\":0.2}},\"type\":\"bar\"}],\"scattergeo\":[{\"type\":\"scattergeo\",\"marker\":{\"colorbar\":{\"outlinewidth\":0,\"ticks\":\"\"}}}],\"scatterpolar\":[{\"type\":\"scatterpolar\",\"marker\":{\"colorbar\":{\"outlinewidth\":0,\"ticks\":\"\"}}}],\"histogram\":[{\"marker\":{\"pattern\":{\"fillmode\":\"overlay\",\"size\":10,\"solidity\":0.2}},\"type\":\"histogram\"}],\"scattergl\":[{\"type\":\"scattergl\",\"marker\":{\"colorbar\":{\"outlinewidth\":0,\"ticks\":\"\"}}}],\"scatter3d\":[{\"type\":\"scatter3d\",\"line\":{\"colorbar\":{\"outlinewidth\":0,\"ticks\":\"\"}},\"marker\":{\"colorbar\":{\"outlinewidth\":0,\"ticks\":\"\"}}}],\"scattermapbox\":[{\"type\":\"scattermapbox\",\"marker\":{\"colorbar\":{\"outlinewidth\":0,\"ticks\":\"\"}}}],\"scatterternary\":[{\"type\":\"scatterternary\",\"marker\":{\"colorbar\":{\"outlinewidth\":0,\"ticks\":\"\"}}}],\"scattercarpet\":[{\"type\":\"scattercarpet\",\"marker\":{\"colorbar\":{\"outlinewidth\":0,\"ticks\":\"\"}}}],\"carpet\":[{\"aaxis\":{\"endlinecolor\":\"#2a3f5f\",\"gridcolor\":\"white\",\"linecolor\":\"white\",\"minorgridcolor\":\"white\",\"startlinecolor\":\"#2a3f5f\"},\"baxis\":{\"endlinecolor\":\"#2a3f5f\",\"gridcolor\":\"white\",\"linecolor\":\"white\",\"minorgridcolor\":\"white\",\"startlinecolor\":\"#2a3f5f\"},\"type\":\"carpet\"}],\"table\":[{\"cells\":{\"fill\":{\"color\":\"#EBF0F8\"},\"line\":{\"color\":\"white\"}},\"header\":{\"fill\":{\"color\":\"#C8D4E3\"},\"line\":{\"color\":\"white\"}},\"type\":\"table\"}],\"barpolar\":[{\"marker\":{\"line\":{\"color\":\"#E5ECF6\",\"width\":0.5},\"pattern\":{\"fillmode\":\"overlay\",\"size\":10,\"solidity\":0.2}},\"type\":\"barpolar\"}],\"pie\":[{\"automargin\":true,\"type\":\"pie\"}]},\"layout\":{\"autotypenumbers\":\"strict\",\"colorway\":[\"#636efa\",\"#EF553B\",\"#00cc96\",\"#ab63fa\",\"#FFA15A\",\"#19d3f3\",\"#FF6692\",\"#B6E880\",\"#FF97FF\",\"#FECB52\"],\"font\":{\"color\":\"#2a3f5f\"},\"hovermode\":\"closest\",\"hoverlabel\":{\"align\":\"left\"},\"paper_bgcolor\":\"white\",\"plot_bgcolor\":\"#E5ECF6\",\"polar\":{\"bgcolor\":\"#E5ECF6\",\"angularaxis\":{\"gridcolor\":\"white\",\"linecolor\":\"white\",\"ticks\":\"\"},\"radialaxis\":{\"gridcolor\":\"white\",\"linecolor\":\"white\",\"ticks\":\"\"}},\"ternary\":{\"bgcolor\":\"#E5ECF6\",\"aaxis\":{\"gridcolor\":\"white\",\"linecolor\":\"white\",\"ticks\":\"\"},\"baxis\":{\"gridcolor\":\"white\",\"linecolor\":\"white\",\"ticks\":\"\"},\"caxis\":{\"gridcolor\":\"white\",\"linecolor\":\"white\",\"ticks\":\"\"}},\"coloraxis\":{\"colorbar\":{\"outlinewidth\":0,\"ticks\":\"\"}},\"colorscale\":{\"sequential\":[[0.0,\"#0d0887\"],[0.1111111111111111,\"#46039f\"],[0.2222222222222222,\"#7201a8\"],[0.3333333333333333,\"#9c179e\"],[0.4444444444444444,\"#bd3786\"],[0.5555555555555556,\"#d8576b\"],[0.6666666666666666,\"#ed7953\"],[0.7777777777777778,\"#fb9f3a\"],[0.8888888888888888,\"#fdca26\"],[1.0,\"#f0f921\"]],\"sequentialminus\":[[0.0,\"#0d0887\"],[0.1111111111111111,\"#46039f\"],[0.2222222222222222,\"#7201a8\"],[0.3333333333333333,\"#9c179e\"],[0.4444444444444444,\"#bd3786\"],[0.5555555555555556,\"#d8576b\"],[0.6666666666666666,\"#ed7953\"],[0.7777777777777778,\"#fb9f3a\"],[0.8888888888888888,\"#fdca26\"],[1.0,\"#f0f921\"]],\"diverging\":[[0,\"#8e0152\"],[0.1,\"#c51b7d\"],[0.2,\"#de77ae\"],[0.3,\"#f1b6da\"],[0.4,\"#fde0ef\"],[0.5,\"#f7f7f7\"],[0.6,\"#e6f5d0\"],[0.7,\"#b8e186\"],[0.8,\"#7fbc41\"],[0.9,\"#4d9221\"],[1,\"#276419\"]]},\"xaxis\":{\"gridcolor\":\"white\",\"linecolor\":\"white\",\"ticks\":\"\",\"title\":{\"standoff\":15},\"zerolinecolor\":\"white\",\"automargin\":true,\"zerolinewidth\":2},\"yaxis\":{\"gridcolor\":\"white\",\"linecolor\":\"white\",\"ticks\":\"\",\"title\":{\"standoff\":15},\"zerolinecolor\":\"white\",\"automargin\":true,\"zerolinewidth\":2},\"scene\":{\"xaxis\":{\"backgroundcolor\":\"#E5ECF6\",\"gridcolor\":\"white\",\"linecolor\":\"white\",\"showbackground\":true,\"ticks\":\"\",\"zerolinecolor\":\"white\",\"gridwidth\":2},\"yaxis\":{\"backgroundcolor\":\"#E5ECF6\",\"gridcolor\":\"white\",\"linecolor\":\"white\",\"showbackground\":true,\"ticks\":\"\",\"zerolinecolor\":\"white\",\"gridwidth\":2},\"zaxis\":{\"backgroundcolor\":\"#E5ECF6\",\"gridcolor\":\"white\",\"linecolor\":\"white\",\"showbackground\":true,\"ticks\":\"\",\"zerolinecolor\":\"white\",\"gridwidth\":2}},\"shapedefaults\":{\"line\":{\"color\":\"#2a3f5f\"}},\"annotationdefaults\":{\"arrowcolor\":\"#2a3f5f\",\"arrowhead\":0,\"arrowwidth\":1},\"geo\":{\"bgcolor\":\"white\",\"landcolor\":\"#E5ECF6\",\"subunitcolor\":\"white\",\"showland\":true,\"showlakes\":true,\"lakecolor\":\"white\"},\"title\":{\"x\":0.05},\"mapbox\":{\"style\":\"light\"}}},\"title\":{\"text\":\"Customer Churn by Demographics\"},\"yaxis\":{\"title\":{\"text\":\"Churn Count\"}},\"legend\":{\"title\":{\"text\":\"Churn Label\"}},\"barmode\":\"stack\",\"autosize\":false,\"width\":1200,\"height\":500},                        {\"responsive\": true}                    ).then(function(){\n",
              "                            \n",
              "var gd = document.getElementById('e56bb209-b68e-4165-9508-64810011614f');\n",
              "var x = new MutationObserver(function (mutations, observer) {{\n",
              "        var display = window.getComputedStyle(gd).display;\n",
              "        if (!display || display === 'none') {{\n",
              "            console.log([gd, 'removed!']);\n",
              "            Plotly.purge(gd);\n",
              "            observer.disconnect();\n",
              "        }}\n",
              "}});\n",
              "\n",
              "// Listen for the removal of the full notebook cells\n",
              "var notebookContainer = gd.closest('#notebook-container');\n",
              "if (notebookContainer) {{\n",
              "    x.observe(notebookContainer, {childList: true});\n",
              "}}\n",
              "\n",
              "// Listen for the clearing of the current output cell\n",
              "var outputEl = gd.closest('.output');\n",
              "if (outputEl) {{\n",
              "    x.observe(outputEl, {childList: true});\n",
              "}}\n",
              "\n",
              "                        })                };                            </script>        </div>\n",
              "</body>\n",
              "</html>"
            ]
          },
          "metadata": {}
        }
      ]
    },
    {
      "cell_type": "markdown",
      "source": [
        "* 성별 비율이 비슷, 각 성별의 이탈율도 비슷하다.\n",
        "* Senior(65세 이상)인 경우가 월등히 적되, 이탈율이 더 높은 편.\n",
        "* 파트너 유무 비율이 비슷, 파트너가 있는 경우의 이탈율이 조금 더 높은 편.\n",
        "* 부양가족이 있는 경우가 월등히 적되, 이탈율이 더 적은 편."
      ],
      "metadata": {
        "id": "tl5TeUiU7Axs"
      }
    },
    {
      "cell_type": "markdown",
      "source": [
        "## 1.2. 이용하는 인터넷/전화 서비스 정보"
      ],
      "metadata": {
        "id": "ipeKsjDc_Xix"
      }
    },
    {
      "cell_type": "code",
      "source": [
        "colors = ['lightgreen','salmon']\n",
        "service = ['Multiple Lines',\n",
        "           'Internet Service','Online Security','Online Backup','Device Protection','Tech Support',\n",
        "           'Streaming TV','Streaming Movies']\n",
        "churn = ['Churn_No','Churn_Yes']\n",
        "showlegend = [True] + [False]*(len(service)-1)\n",
        "spacing = ['',' ','  ','   ','    ','     ','      ','       ','        ']\n",
        "\n",
        "fig = go.Figure()\n",
        "\n",
        "for d in range(len(service)):\n",
        "    grouped = Telco.groupby([service[d], 'Churn Label']).size().unstack(fill_value=0).reset_index()\n",
        "    if d > 1 :\n",
        "        grouped = grouped.set_index(service[d]).drop(index='No internet service').reset_index()\n",
        "    for c in range(len(churn)):\n",
        "        fig.add_trace(go.Bar(x=grouped[service[d]], y=grouped[churn[c]], name=churn[c],\n",
        "                             marker_color=colors[c], showlegend=showlegend[d]))\n",
        "    if d < (len(service)-1):\n",
        "        fig.add_trace(go.Bar(x=[spacing[d]], y=[0], showlegend=False))\n",
        "\n",
        "fig.update_layout(\n",
        "    title=\"Customer Churn by Service\",\n",
        "    yaxis_title=\"Churn Count\",\n",
        "    legend_title=\"Churn Label\",\n",
        "    barmode='stack'\n",
        ")\n",
        "\n",
        "fig.update_layout(autosize=False,width=1500,height=500)\n",
        "fig.show()"
      ],
      "metadata": {
        "id": "PP29-7ERrfhU",
        "colab": {
          "base_uri": "https://localhost:8080/",
          "height": 537
        },
        "outputId": "fa1778f3-90cd-4ee8-f426-b870beaa440c"
      },
      "execution_count": 7,
      "outputs": [
        {
          "output_type": "display_data",
          "data": {
            "text/html": [
              "<html>\n",
              "<head><meta charset=\"utf-8\" /></head>\n",
              "<body>\n",
              "    <div>            <script src=\"https://cdnjs.cloudflare.com/ajax/libs/mathjax/2.7.5/MathJax.js?config=TeX-AMS-MML_SVG\"></script><script type=\"text/javascript\">if (window.MathJax && window.MathJax.Hub && window.MathJax.Hub.Config) {window.MathJax.Hub.Config({SVG: {font: \"STIX-Web\"}});}</script>                <script type=\"text/javascript\">window.PlotlyConfig = {MathJaxConfig: 'local'};</script>\n",
              "        <script charset=\"utf-8\" src=\"https://cdn.plot.ly/plotly-2.24.1.min.js\"></script>                <div id=\"74605604-db27-4b8f-9171-c95af2a1db57\" class=\"plotly-graph-div\" style=\"height:500px; width:1500px;\"></div>            <script type=\"text/javascript\">                                    window.PLOTLYENV=window.PLOTLYENV || {};                                    if (document.getElementById(\"74605604-db27-4b8f-9171-c95af2a1db57\")) {                    Plotly.newPlot(                        \"74605604-db27-4b8f-9171-c95af2a1db57\",                        [{\"marker\":{\"color\":\"lightgreen\"},\"name\":\"Churn_No\",\"showlegend\":true,\"x\":[\"Multiple Lines\",\"No phone service\",\"Single Line\"],\"y\":[2121,512,2541],\"type\":\"bar\"},{\"marker\":{\"color\":\"salmon\"},\"name\":\"Churn_Yes\",\"showlegend\":true,\"x\":[\"Multiple Lines\",\"No phone service\",\"Single Line\"],\"y\":[850,170,849],\"type\":\"bar\"},{\"showlegend\":false,\"x\":[\"\"],\"y\":[0],\"type\":\"bar\"},{\"marker\":{\"color\":\"lightgreen\"},\"name\":\"Churn_No\",\"showlegend\":false,\"x\":[\"DSL\",\"Fiber optic\",\"No_Internet_Service\"],\"y\":[1962,1799,1413],\"type\":\"bar\"},{\"marker\":{\"color\":\"salmon\"},\"name\":\"Churn_Yes\",\"showlegend\":false,\"x\":[\"DSL\",\"Fiber optic\",\"No_Internet_Service\"],\"y\":[459,1297,113],\"type\":\"bar\"},{\"showlegend\":false,\"x\":[\" \"],\"y\":[0],\"type\":\"bar\"},{\"marker\":{\"color\":\"lightgreen\"},\"name\":\"Churn_No\",\"showlegend\":false,\"x\":[\"No_Online Security\",\"Online Security\"],\"y\":[2037,1724],\"type\":\"bar\"},{\"marker\":{\"color\":\"salmon\"},\"name\":\"Churn_Yes\",\"showlegend\":false,\"x\":[\"No_Online Security\",\"Online Security\"],\"y\":[1461,295],\"type\":\"bar\"},{\"showlegend\":false,\"x\":[\"  \"],\"y\":[0],\"type\":\"bar\"},{\"marker\":{\"color\":\"lightgreen\"},\"name\":\"Churn_No\",\"showlegend\":false,\"x\":[\"No_Online Backup\",\"Online Backup\"],\"y\":[1855,1906],\"type\":\"bar\"},{\"marker\":{\"color\":\"salmon\"},\"name\":\"Churn_Yes\",\"showlegend\":false,\"x\":[\"No_Online Backup\",\"Online Backup\"],\"y\":[1233,523],\"type\":\"bar\"},{\"showlegend\":false,\"x\":[\"   \"],\"y\":[0],\"type\":\"bar\"},{\"marker\":{\"color\":\"lightgreen\"},\"name\":\"Churn_No\",\"showlegend\":false,\"x\":[\"Device Protection\",\"No_Device Protection\"],\"y\":[1877,1884],\"type\":\"bar\"},{\"marker\":{\"color\":\"salmon\"},\"name\":\"Churn_Yes\",\"showlegend\":false,\"x\":[\"Device Protection\",\"No_Device Protection\"],\"y\":[545,1211],\"type\":\"bar\"},{\"showlegend\":false,\"x\":[\"    \"],\"y\":[0],\"type\":\"bar\"},{\"marker\":{\"color\":\"lightgreen\"},\"name\":\"Churn_No\",\"showlegend\":false,\"x\":[\"No_Tech Support\",\"Tech Support\"],\"y\":[2027,1734],\"type\":\"bar\"},{\"marker\":{\"color\":\"salmon\"},\"name\":\"Churn_Yes\",\"showlegend\":false,\"x\":[\"No_Tech Support\",\"Tech Support\"],\"y\":[1446,310],\"type\":\"bar\"},{\"showlegend\":false,\"x\":[\"     \"],\"y\":[0],\"type\":\"bar\"},{\"marker\":{\"color\":\"lightgreen\"},\"name\":\"Churn_No\",\"showlegend\":false,\"x\":[\"No_Streaming TV\",\"Streaming TV\"],\"y\":[1868,1893],\"type\":\"bar\"},{\"marker\":{\"color\":\"salmon\"},\"name\":\"Churn_Yes\",\"showlegend\":false,\"x\":[\"No_Streaming TV\",\"Streaming TV\"],\"y\":[942,814],\"type\":\"bar\"},{\"showlegend\":false,\"x\":[\"      \"],\"y\":[0],\"type\":\"bar\"},{\"marker\":{\"color\":\"lightgreen\"},\"name\":\"Churn_No\",\"showlegend\":false,\"x\":[\"No_Streaming Movies\",\"Streaming Movies\"],\"y\":[1847,1914],\"type\":\"bar\"},{\"marker\":{\"color\":\"salmon\"},\"name\":\"Churn_Yes\",\"showlegend\":false,\"x\":[\"No_Streaming Movies\",\"Streaming Movies\"],\"y\":[938,818],\"type\":\"bar\"}],                        {\"template\":{\"data\":{\"histogram2dcontour\":[{\"type\":\"histogram2dcontour\",\"colorbar\":{\"outlinewidth\":0,\"ticks\":\"\"},\"colorscale\":[[0.0,\"#0d0887\"],[0.1111111111111111,\"#46039f\"],[0.2222222222222222,\"#7201a8\"],[0.3333333333333333,\"#9c179e\"],[0.4444444444444444,\"#bd3786\"],[0.5555555555555556,\"#d8576b\"],[0.6666666666666666,\"#ed7953\"],[0.7777777777777778,\"#fb9f3a\"],[0.8888888888888888,\"#fdca26\"],[1.0,\"#f0f921\"]]}],\"choropleth\":[{\"type\":\"choropleth\",\"colorbar\":{\"outlinewidth\":0,\"ticks\":\"\"}}],\"histogram2d\":[{\"type\":\"histogram2d\",\"colorbar\":{\"outlinewidth\":0,\"ticks\":\"\"},\"colorscale\":[[0.0,\"#0d0887\"],[0.1111111111111111,\"#46039f\"],[0.2222222222222222,\"#7201a8\"],[0.3333333333333333,\"#9c179e\"],[0.4444444444444444,\"#bd3786\"],[0.5555555555555556,\"#d8576b\"],[0.6666666666666666,\"#ed7953\"],[0.7777777777777778,\"#fb9f3a\"],[0.8888888888888888,\"#fdca26\"],[1.0,\"#f0f921\"]]}],\"heatmap\":[{\"type\":\"heatmap\",\"colorbar\":{\"outlinewidth\":0,\"ticks\":\"\"},\"colorscale\":[[0.0,\"#0d0887\"],[0.1111111111111111,\"#46039f\"],[0.2222222222222222,\"#7201a8\"],[0.3333333333333333,\"#9c179e\"],[0.4444444444444444,\"#bd3786\"],[0.5555555555555556,\"#d8576b\"],[0.6666666666666666,\"#ed7953\"],[0.7777777777777778,\"#fb9f3a\"],[0.8888888888888888,\"#fdca26\"],[1.0,\"#f0f921\"]]}],\"heatmapgl\":[{\"type\":\"heatmapgl\",\"colorbar\":{\"outlinewidth\":0,\"ticks\":\"\"},\"colorscale\":[[0.0,\"#0d0887\"],[0.1111111111111111,\"#46039f\"],[0.2222222222222222,\"#7201a8\"],[0.3333333333333333,\"#9c179e\"],[0.4444444444444444,\"#bd3786\"],[0.5555555555555556,\"#d8576b\"],[0.6666666666666666,\"#ed7953\"],[0.7777777777777778,\"#fb9f3a\"],[0.8888888888888888,\"#fdca26\"],[1.0,\"#f0f921\"]]}],\"contourcarpet\":[{\"type\":\"contourcarpet\",\"colorbar\":{\"outlinewidth\":0,\"ticks\":\"\"}}],\"contour\":[{\"type\":\"contour\",\"colorbar\":{\"outlinewidth\":0,\"ticks\":\"\"},\"colorscale\":[[0.0,\"#0d0887\"],[0.1111111111111111,\"#46039f\"],[0.2222222222222222,\"#7201a8\"],[0.3333333333333333,\"#9c179e\"],[0.4444444444444444,\"#bd3786\"],[0.5555555555555556,\"#d8576b\"],[0.6666666666666666,\"#ed7953\"],[0.7777777777777778,\"#fb9f3a\"],[0.8888888888888888,\"#fdca26\"],[1.0,\"#f0f921\"]]}],\"surface\":[{\"type\":\"surface\",\"colorbar\":{\"outlinewidth\":0,\"ticks\":\"\"},\"colorscale\":[[0.0,\"#0d0887\"],[0.1111111111111111,\"#46039f\"],[0.2222222222222222,\"#7201a8\"],[0.3333333333333333,\"#9c179e\"],[0.4444444444444444,\"#bd3786\"],[0.5555555555555556,\"#d8576b\"],[0.6666666666666666,\"#ed7953\"],[0.7777777777777778,\"#fb9f3a\"],[0.8888888888888888,\"#fdca26\"],[1.0,\"#f0f921\"]]}],\"mesh3d\":[{\"type\":\"mesh3d\",\"colorbar\":{\"outlinewidth\":0,\"ticks\":\"\"}}],\"scatter\":[{\"fillpattern\":{\"fillmode\":\"overlay\",\"size\":10,\"solidity\":0.2},\"type\":\"scatter\"}],\"parcoords\":[{\"type\":\"parcoords\",\"line\":{\"colorbar\":{\"outlinewidth\":0,\"ticks\":\"\"}}}],\"scatterpolargl\":[{\"type\":\"scatterpolargl\",\"marker\":{\"colorbar\":{\"outlinewidth\":0,\"ticks\":\"\"}}}],\"bar\":[{\"error_x\":{\"color\":\"#2a3f5f\"},\"error_y\":{\"color\":\"#2a3f5f\"},\"marker\":{\"line\":{\"color\":\"#E5ECF6\",\"width\":0.5},\"pattern\":{\"fillmode\":\"overlay\",\"size\":10,\"solidity\":0.2}},\"type\":\"bar\"}],\"scattergeo\":[{\"type\":\"scattergeo\",\"marker\":{\"colorbar\":{\"outlinewidth\":0,\"ticks\":\"\"}}}],\"scatterpolar\":[{\"type\":\"scatterpolar\",\"marker\":{\"colorbar\":{\"outlinewidth\":0,\"ticks\":\"\"}}}],\"histogram\":[{\"marker\":{\"pattern\":{\"fillmode\":\"overlay\",\"size\":10,\"solidity\":0.2}},\"type\":\"histogram\"}],\"scattergl\":[{\"type\":\"scattergl\",\"marker\":{\"colorbar\":{\"outlinewidth\":0,\"ticks\":\"\"}}}],\"scatter3d\":[{\"type\":\"scatter3d\",\"line\":{\"colorbar\":{\"outlinewidth\":0,\"ticks\":\"\"}},\"marker\":{\"colorbar\":{\"outlinewidth\":0,\"ticks\":\"\"}}}],\"scattermapbox\":[{\"type\":\"scattermapbox\",\"marker\":{\"colorbar\":{\"outlinewidth\":0,\"ticks\":\"\"}}}],\"scatterternary\":[{\"type\":\"scatterternary\",\"marker\":{\"colorbar\":{\"outlinewidth\":0,\"ticks\":\"\"}}}],\"scattercarpet\":[{\"type\":\"scattercarpet\",\"marker\":{\"colorbar\":{\"outlinewidth\":0,\"ticks\":\"\"}}}],\"carpet\":[{\"aaxis\":{\"endlinecolor\":\"#2a3f5f\",\"gridcolor\":\"white\",\"linecolor\":\"white\",\"minorgridcolor\":\"white\",\"startlinecolor\":\"#2a3f5f\"},\"baxis\":{\"endlinecolor\":\"#2a3f5f\",\"gridcolor\":\"white\",\"linecolor\":\"white\",\"minorgridcolor\":\"white\",\"startlinecolor\":\"#2a3f5f\"},\"type\":\"carpet\"}],\"table\":[{\"cells\":{\"fill\":{\"color\":\"#EBF0F8\"},\"line\":{\"color\":\"white\"}},\"header\":{\"fill\":{\"color\":\"#C8D4E3\"},\"line\":{\"color\":\"white\"}},\"type\":\"table\"}],\"barpolar\":[{\"marker\":{\"line\":{\"color\":\"#E5ECF6\",\"width\":0.5},\"pattern\":{\"fillmode\":\"overlay\",\"size\":10,\"solidity\":0.2}},\"type\":\"barpolar\"}],\"pie\":[{\"automargin\":true,\"type\":\"pie\"}]},\"layout\":{\"autotypenumbers\":\"strict\",\"colorway\":[\"#636efa\",\"#EF553B\",\"#00cc96\",\"#ab63fa\",\"#FFA15A\",\"#19d3f3\",\"#FF6692\",\"#B6E880\",\"#FF97FF\",\"#FECB52\"],\"font\":{\"color\":\"#2a3f5f\"},\"hovermode\":\"closest\",\"hoverlabel\":{\"align\":\"left\"},\"paper_bgcolor\":\"white\",\"plot_bgcolor\":\"#E5ECF6\",\"polar\":{\"bgcolor\":\"#E5ECF6\",\"angularaxis\":{\"gridcolor\":\"white\",\"linecolor\":\"white\",\"ticks\":\"\"},\"radialaxis\":{\"gridcolor\":\"white\",\"linecolor\":\"white\",\"ticks\":\"\"}},\"ternary\":{\"bgcolor\":\"#E5ECF6\",\"aaxis\":{\"gridcolor\":\"white\",\"linecolor\":\"white\",\"ticks\":\"\"},\"baxis\":{\"gridcolor\":\"white\",\"linecolor\":\"white\",\"ticks\":\"\"},\"caxis\":{\"gridcolor\":\"white\",\"linecolor\":\"white\",\"ticks\":\"\"}},\"coloraxis\":{\"colorbar\":{\"outlinewidth\":0,\"ticks\":\"\"}},\"colorscale\":{\"sequential\":[[0.0,\"#0d0887\"],[0.1111111111111111,\"#46039f\"],[0.2222222222222222,\"#7201a8\"],[0.3333333333333333,\"#9c179e\"],[0.4444444444444444,\"#bd3786\"],[0.5555555555555556,\"#d8576b\"],[0.6666666666666666,\"#ed7953\"],[0.7777777777777778,\"#fb9f3a\"],[0.8888888888888888,\"#fdca26\"],[1.0,\"#f0f921\"]],\"sequentialminus\":[[0.0,\"#0d0887\"],[0.1111111111111111,\"#46039f\"],[0.2222222222222222,\"#7201a8\"],[0.3333333333333333,\"#9c179e\"],[0.4444444444444444,\"#bd3786\"],[0.5555555555555556,\"#d8576b\"],[0.6666666666666666,\"#ed7953\"],[0.7777777777777778,\"#fb9f3a\"],[0.8888888888888888,\"#fdca26\"],[1.0,\"#f0f921\"]],\"diverging\":[[0,\"#8e0152\"],[0.1,\"#c51b7d\"],[0.2,\"#de77ae\"],[0.3,\"#f1b6da\"],[0.4,\"#fde0ef\"],[0.5,\"#f7f7f7\"],[0.6,\"#e6f5d0\"],[0.7,\"#b8e186\"],[0.8,\"#7fbc41\"],[0.9,\"#4d9221\"],[1,\"#276419\"]]},\"xaxis\":{\"gridcolor\":\"white\",\"linecolor\":\"white\",\"ticks\":\"\",\"title\":{\"standoff\":15},\"zerolinecolor\":\"white\",\"automargin\":true,\"zerolinewidth\":2},\"yaxis\":{\"gridcolor\":\"white\",\"linecolor\":\"white\",\"ticks\":\"\",\"title\":{\"standoff\":15},\"zerolinecolor\":\"white\",\"automargin\":true,\"zerolinewidth\":2},\"scene\":{\"xaxis\":{\"backgroundcolor\":\"#E5ECF6\",\"gridcolor\":\"white\",\"linecolor\":\"white\",\"showbackground\":true,\"ticks\":\"\",\"zerolinecolor\":\"white\",\"gridwidth\":2},\"yaxis\":{\"backgroundcolor\":\"#E5ECF6\",\"gridcolor\":\"white\",\"linecolor\":\"white\",\"showbackground\":true,\"ticks\":\"\",\"zerolinecolor\":\"white\",\"gridwidth\":2},\"zaxis\":{\"backgroundcolor\":\"#E5ECF6\",\"gridcolor\":\"white\",\"linecolor\":\"white\",\"showbackground\":true,\"ticks\":\"\",\"zerolinecolor\":\"white\",\"gridwidth\":2}},\"shapedefaults\":{\"line\":{\"color\":\"#2a3f5f\"}},\"annotationdefaults\":{\"arrowcolor\":\"#2a3f5f\",\"arrowhead\":0,\"arrowwidth\":1},\"geo\":{\"bgcolor\":\"white\",\"landcolor\":\"#E5ECF6\",\"subunitcolor\":\"white\",\"showland\":true,\"showlakes\":true,\"lakecolor\":\"white\"},\"title\":{\"x\":0.05},\"mapbox\":{\"style\":\"light\"}}},\"title\":{\"text\":\"Customer Churn by Service\"},\"yaxis\":{\"title\":{\"text\":\"Churn Count\"}},\"legend\":{\"title\":{\"text\":\"Churn Label\"}},\"barmode\":\"stack\",\"autosize\":false,\"width\":1500,\"height\":500},                        {\"responsive\": true}                    ).then(function(){\n",
              "                            \n",
              "var gd = document.getElementById('74605604-db27-4b8f-9171-c95af2a1db57');\n",
              "var x = new MutationObserver(function (mutations, observer) {{\n",
              "        var display = window.getComputedStyle(gd).display;\n",
              "        if (!display || display === 'none') {{\n",
              "            console.log([gd, 'removed!']);\n",
              "            Plotly.purge(gd);\n",
              "            observer.disconnect();\n",
              "        }}\n",
              "}});\n",
              "\n",
              "// Listen for the removal of the full notebook cells\n",
              "var notebookContainer = gd.closest('#notebook-container');\n",
              "if (notebookContainer) {{\n",
              "    x.observe(notebookContainer, {childList: true});\n",
              "}}\n",
              "\n",
              "// Listen for the clearing of the current output cell\n",
              "var outputEl = gd.closest('.output');\n",
              "if (outputEl) {{\n",
              "    x.observe(outputEl, {childList: true});\n",
              "}}\n",
              "\n",
              "                        })                };                            </script>        </div>\n",
              "</body>\n",
              "</html>"
            ]
          },
          "metadata": {}
        }
      ]
    },
    {
      "cell_type": "markdown",
      "source": [
        "* 전화회선은 단일이 제일 많고 이탈고객 수는 다중과 비슷.\n",
        "* 인터넷회선 중 Fiber optic 이용자가 제일 많으면서 이탈율도 제일 높음.\n",
        "* 보안, 백업, 보호, tech support 모두 이용자의 이탈율이 비이용자보다 적은 편.\n",
        "* Streaming service에 대한 차이는 별로 없음."
      ],
      "metadata": {
        "id": "ShD216m_GNOn"
      }
    },
    {
      "cell_type": "markdown",
      "source": [
        "## 1.3. 계약정보\n"
      ],
      "metadata": {
        "id": "YXtc6vfz0BzS"
      }
    },
    {
      "cell_type": "code",
      "source": [
        "colors = ['lightgreen','salmon']\n",
        "service = ['Contract','Paperless Billing','Payment Method','Monthly Charges cat','Tenure Months cat']\n",
        "churn = ['Churn_No','Churn_Yes']\n",
        "showlegend = [True] + [False]*(len(service)-1)\n",
        "spacing = ['',' ','  ','   ','    ','     ','      ','       ','        ']\n",
        "\n",
        "fig = go.Figure()\n",
        "\n",
        "for d in range(len(service)):\n",
        "    grouped = Telco.groupby([service[d], 'Churn Label']).size().unstack(fill_value=0).reset_index()\n",
        "    for c in range(len(churn)):\n",
        "        fig.add_trace(go.Bar(x=grouped[service[d]], y=grouped[churn[c]], name=churn[c],\n",
        "                             marker_color=colors[c], showlegend=showlegend[d]))\n",
        "    if d < (len(service)-1):\n",
        "        fig.add_trace(go.Bar(x=[spacing[d]], y=[0], showlegend=False))\n",
        "\n",
        "fig.update_layout(\n",
        "    title=\"Customer Churn by Contract\",\n",
        "    yaxis_title=\"Churn Count\",\n",
        "    legend_title=\"Churn Label\",\n",
        "    barmode='stack'\n",
        ")\n",
        "\n",
        "fig.update_layout(autosize=False,width=1500,height=500)\n",
        "fig.show()"
      ],
      "metadata": {
        "colab": {
          "base_uri": "https://localhost:8080/",
          "height": 537
        },
        "id": "PODv_gA20jX7",
        "outputId": "20134d89-8206-47da-d4ce-f62a1b58af0a"
      },
      "execution_count": 8,
      "outputs": [
        {
          "output_type": "display_data",
          "data": {
            "text/html": [
              "<html>\n",
              "<head><meta charset=\"utf-8\" /></head>\n",
              "<body>\n",
              "    <div>            <script src=\"https://cdnjs.cloudflare.com/ajax/libs/mathjax/2.7.5/MathJax.js?config=TeX-AMS-MML_SVG\"></script><script type=\"text/javascript\">if (window.MathJax && window.MathJax.Hub && window.MathJax.Hub.Config) {window.MathJax.Hub.Config({SVG: {font: \"STIX-Web\"}});}</script>                <script type=\"text/javascript\">window.PlotlyConfig = {MathJaxConfig: 'local'};</script>\n",
              "        <script charset=\"utf-8\" src=\"https://cdn.plot.ly/plotly-2.24.1.min.js\"></script>                <div id=\"c4de238b-419b-414c-af85-6f78215f8c7a\" class=\"plotly-graph-div\" style=\"height:500px; width:1500px;\"></div>            <script type=\"text/javascript\">                                    window.PLOTLYENV=window.PLOTLYENV || {};                                    if (document.getElementById(\"c4de238b-419b-414c-af85-6f78215f8c7a\")) {                    Plotly.newPlot(                        \"c4de238b-419b-414c-af85-6f78215f8c7a\",                        [{\"marker\":{\"color\":\"lightgreen\"},\"name\":\"Churn_No\",\"showlegend\":true,\"x\":[\"Month-to-month\",\"One year\",\"Two year\"],\"y\":[2220,1307,1647],\"type\":\"bar\"},{\"marker\":{\"color\":\"salmon\"},\"name\":\"Churn_Yes\",\"showlegend\":true,\"x\":[\"Month-to-month\",\"One year\",\"Two year\"],\"y\":[1655,166,48],\"type\":\"bar\"},{\"showlegend\":false,\"x\":[\"\"],\"y\":[0],\"type\":\"bar\"},{\"marker\":{\"color\":\"lightgreen\"},\"name\":\"Churn_No\",\"showlegend\":false,\"x\":[\"No_Paperless Billing\",\"Paperless Billing\"],\"y\":[2403,2771],\"type\":\"bar\"},{\"marker\":{\"color\":\"salmon\"},\"name\":\"Churn_Yes\",\"showlegend\":false,\"x\":[\"No_Paperless Billing\",\"Paperless Billing\"],\"y\":[469,1400],\"type\":\"bar\"},{\"showlegend\":false,\"x\":[\" \"],\"y\":[0],\"type\":\"bar\"},{\"marker\":{\"color\":\"lightgreen\"},\"name\":\"Churn_No\",\"showlegend\":false,\"x\":[\"Bank transfer (automatic)\",\"Credit card (automatic)\",\"Electronic check\",\"Mailed check\"],\"y\":[1286,1290,1294,1304],\"type\":\"bar\"},{\"marker\":{\"color\":\"salmon\"},\"name\":\"Churn_Yes\",\"showlegend\":false,\"x\":[\"Bank transfer (automatic)\",\"Credit card (automatic)\",\"Electronic check\",\"Mailed check\"],\"y\":[258,232,1071,308],\"type\":\"bar\"},{\"showlegend\":false,\"x\":[\"  \"],\"y\":[0],\"type\":\"bar\"},{\"marker\":{\"color\":\"lightgreen\"},\"name\":\"Churn_No\",\"showlegend\":false,\"x\":[\"charge_high\",\"charge_low\",\"charge_mid\"],\"y\":[1547,1978,1649],\"type\":\"bar\"},{\"marker\":{\"color\":\"salmon\"},\"name\":\"Churn_Yes\",\"showlegend\":false,\"x\":[\"charge_high\",\"charge_low\",\"charge_mid\"],\"y\":[800,373,696],\"type\":\"bar\"},{\"showlegend\":false,\"x\":[\"   \"],\"y\":[0],\"type\":\"bar\"},{\"marker\":{\"color\":\"lightgreen\"},\"name\":\"Churn_No\",\"showlegend\":false,\"x\":[\"tenure_high\",\"tenure_low\",\"tenure_mid\"],\"y\":[2081,1272,1821],\"type\":\"bar\"},{\"marker\":{\"color\":\"salmon\"},\"name\":\"Churn_Yes\",\"showlegend\":false,\"x\":[\"tenure_high\",\"tenure_low\",\"tenure_mid\"],\"y\":[222,1099,548],\"type\":\"bar\"}],                        {\"template\":{\"data\":{\"histogram2dcontour\":[{\"type\":\"histogram2dcontour\",\"colorbar\":{\"outlinewidth\":0,\"ticks\":\"\"},\"colorscale\":[[0.0,\"#0d0887\"],[0.1111111111111111,\"#46039f\"],[0.2222222222222222,\"#7201a8\"],[0.3333333333333333,\"#9c179e\"],[0.4444444444444444,\"#bd3786\"],[0.5555555555555556,\"#d8576b\"],[0.6666666666666666,\"#ed7953\"],[0.7777777777777778,\"#fb9f3a\"],[0.8888888888888888,\"#fdca26\"],[1.0,\"#f0f921\"]]}],\"choropleth\":[{\"type\":\"choropleth\",\"colorbar\":{\"outlinewidth\":0,\"ticks\":\"\"}}],\"histogram2d\":[{\"type\":\"histogram2d\",\"colorbar\":{\"outlinewidth\":0,\"ticks\":\"\"},\"colorscale\":[[0.0,\"#0d0887\"],[0.1111111111111111,\"#46039f\"],[0.2222222222222222,\"#7201a8\"],[0.3333333333333333,\"#9c179e\"],[0.4444444444444444,\"#bd3786\"],[0.5555555555555556,\"#d8576b\"],[0.6666666666666666,\"#ed7953\"],[0.7777777777777778,\"#fb9f3a\"],[0.8888888888888888,\"#fdca26\"],[1.0,\"#f0f921\"]]}],\"heatmap\":[{\"type\":\"heatmap\",\"colorbar\":{\"outlinewidth\":0,\"ticks\":\"\"},\"colorscale\":[[0.0,\"#0d0887\"],[0.1111111111111111,\"#46039f\"],[0.2222222222222222,\"#7201a8\"],[0.3333333333333333,\"#9c179e\"],[0.4444444444444444,\"#bd3786\"],[0.5555555555555556,\"#d8576b\"],[0.6666666666666666,\"#ed7953\"],[0.7777777777777778,\"#fb9f3a\"],[0.8888888888888888,\"#fdca26\"],[1.0,\"#f0f921\"]]}],\"heatmapgl\":[{\"type\":\"heatmapgl\",\"colorbar\":{\"outlinewidth\":0,\"ticks\":\"\"},\"colorscale\":[[0.0,\"#0d0887\"],[0.1111111111111111,\"#46039f\"],[0.2222222222222222,\"#7201a8\"],[0.3333333333333333,\"#9c179e\"],[0.4444444444444444,\"#bd3786\"],[0.5555555555555556,\"#d8576b\"],[0.6666666666666666,\"#ed7953\"],[0.7777777777777778,\"#fb9f3a\"],[0.8888888888888888,\"#fdca26\"],[1.0,\"#f0f921\"]]}],\"contourcarpet\":[{\"type\":\"contourcarpet\",\"colorbar\":{\"outlinewidth\":0,\"ticks\":\"\"}}],\"contour\":[{\"type\":\"contour\",\"colorbar\":{\"outlinewidth\":0,\"ticks\":\"\"},\"colorscale\":[[0.0,\"#0d0887\"],[0.1111111111111111,\"#46039f\"],[0.2222222222222222,\"#7201a8\"],[0.3333333333333333,\"#9c179e\"],[0.4444444444444444,\"#bd3786\"],[0.5555555555555556,\"#d8576b\"],[0.6666666666666666,\"#ed7953\"],[0.7777777777777778,\"#fb9f3a\"],[0.8888888888888888,\"#fdca26\"],[1.0,\"#f0f921\"]]}],\"surface\":[{\"type\":\"surface\",\"colorbar\":{\"outlinewidth\":0,\"ticks\":\"\"},\"colorscale\":[[0.0,\"#0d0887\"],[0.1111111111111111,\"#46039f\"],[0.2222222222222222,\"#7201a8\"],[0.3333333333333333,\"#9c179e\"],[0.4444444444444444,\"#bd3786\"],[0.5555555555555556,\"#d8576b\"],[0.6666666666666666,\"#ed7953\"],[0.7777777777777778,\"#fb9f3a\"],[0.8888888888888888,\"#fdca26\"],[1.0,\"#f0f921\"]]}],\"mesh3d\":[{\"type\":\"mesh3d\",\"colorbar\":{\"outlinewidth\":0,\"ticks\":\"\"}}],\"scatter\":[{\"fillpattern\":{\"fillmode\":\"overlay\",\"size\":10,\"solidity\":0.2},\"type\":\"scatter\"}],\"parcoords\":[{\"type\":\"parcoords\",\"line\":{\"colorbar\":{\"outlinewidth\":0,\"ticks\":\"\"}}}],\"scatterpolargl\":[{\"type\":\"scatterpolargl\",\"marker\":{\"colorbar\":{\"outlinewidth\":0,\"ticks\":\"\"}}}],\"bar\":[{\"error_x\":{\"color\":\"#2a3f5f\"},\"error_y\":{\"color\":\"#2a3f5f\"},\"marker\":{\"line\":{\"color\":\"#E5ECF6\",\"width\":0.5},\"pattern\":{\"fillmode\":\"overlay\",\"size\":10,\"solidity\":0.2}},\"type\":\"bar\"}],\"scattergeo\":[{\"type\":\"scattergeo\",\"marker\":{\"colorbar\":{\"outlinewidth\":0,\"ticks\":\"\"}}}],\"scatterpolar\":[{\"type\":\"scatterpolar\",\"marker\":{\"colorbar\":{\"outlinewidth\":0,\"ticks\":\"\"}}}],\"histogram\":[{\"marker\":{\"pattern\":{\"fillmode\":\"overlay\",\"size\":10,\"solidity\":0.2}},\"type\":\"histogram\"}],\"scattergl\":[{\"type\":\"scattergl\",\"marker\":{\"colorbar\":{\"outlinewidth\":0,\"ticks\":\"\"}}}],\"scatter3d\":[{\"type\":\"scatter3d\",\"line\":{\"colorbar\":{\"outlinewidth\":0,\"ticks\":\"\"}},\"marker\":{\"colorbar\":{\"outlinewidth\":0,\"ticks\":\"\"}}}],\"scattermapbox\":[{\"type\":\"scattermapbox\",\"marker\":{\"colorbar\":{\"outlinewidth\":0,\"ticks\":\"\"}}}],\"scatterternary\":[{\"type\":\"scatterternary\",\"marker\":{\"colorbar\":{\"outlinewidth\":0,\"ticks\":\"\"}}}],\"scattercarpet\":[{\"type\":\"scattercarpet\",\"marker\":{\"colorbar\":{\"outlinewidth\":0,\"ticks\":\"\"}}}],\"carpet\":[{\"aaxis\":{\"endlinecolor\":\"#2a3f5f\",\"gridcolor\":\"white\",\"linecolor\":\"white\",\"minorgridcolor\":\"white\",\"startlinecolor\":\"#2a3f5f\"},\"baxis\":{\"endlinecolor\":\"#2a3f5f\",\"gridcolor\":\"white\",\"linecolor\":\"white\",\"minorgridcolor\":\"white\",\"startlinecolor\":\"#2a3f5f\"},\"type\":\"carpet\"}],\"table\":[{\"cells\":{\"fill\":{\"color\":\"#EBF0F8\"},\"line\":{\"color\":\"white\"}},\"header\":{\"fill\":{\"color\":\"#C8D4E3\"},\"line\":{\"color\":\"white\"}},\"type\":\"table\"}],\"barpolar\":[{\"marker\":{\"line\":{\"color\":\"#E5ECF6\",\"width\":0.5},\"pattern\":{\"fillmode\":\"overlay\",\"size\":10,\"solidity\":0.2}},\"type\":\"barpolar\"}],\"pie\":[{\"automargin\":true,\"type\":\"pie\"}]},\"layout\":{\"autotypenumbers\":\"strict\",\"colorway\":[\"#636efa\",\"#EF553B\",\"#00cc96\",\"#ab63fa\",\"#FFA15A\",\"#19d3f3\",\"#FF6692\",\"#B6E880\",\"#FF97FF\",\"#FECB52\"],\"font\":{\"color\":\"#2a3f5f\"},\"hovermode\":\"closest\",\"hoverlabel\":{\"align\":\"left\"},\"paper_bgcolor\":\"white\",\"plot_bgcolor\":\"#E5ECF6\",\"polar\":{\"bgcolor\":\"#E5ECF6\",\"angularaxis\":{\"gridcolor\":\"white\",\"linecolor\":\"white\",\"ticks\":\"\"},\"radialaxis\":{\"gridcolor\":\"white\",\"linecolor\":\"white\",\"ticks\":\"\"}},\"ternary\":{\"bgcolor\":\"#E5ECF6\",\"aaxis\":{\"gridcolor\":\"white\",\"linecolor\":\"white\",\"ticks\":\"\"},\"baxis\":{\"gridcolor\":\"white\",\"linecolor\":\"white\",\"ticks\":\"\"},\"caxis\":{\"gridcolor\":\"white\",\"linecolor\":\"white\",\"ticks\":\"\"}},\"coloraxis\":{\"colorbar\":{\"outlinewidth\":0,\"ticks\":\"\"}},\"colorscale\":{\"sequential\":[[0.0,\"#0d0887\"],[0.1111111111111111,\"#46039f\"],[0.2222222222222222,\"#7201a8\"],[0.3333333333333333,\"#9c179e\"],[0.4444444444444444,\"#bd3786\"],[0.5555555555555556,\"#d8576b\"],[0.6666666666666666,\"#ed7953\"],[0.7777777777777778,\"#fb9f3a\"],[0.8888888888888888,\"#fdca26\"],[1.0,\"#f0f921\"]],\"sequentialminus\":[[0.0,\"#0d0887\"],[0.1111111111111111,\"#46039f\"],[0.2222222222222222,\"#7201a8\"],[0.3333333333333333,\"#9c179e\"],[0.4444444444444444,\"#bd3786\"],[0.5555555555555556,\"#d8576b\"],[0.6666666666666666,\"#ed7953\"],[0.7777777777777778,\"#fb9f3a\"],[0.8888888888888888,\"#fdca26\"],[1.0,\"#f0f921\"]],\"diverging\":[[0,\"#8e0152\"],[0.1,\"#c51b7d\"],[0.2,\"#de77ae\"],[0.3,\"#f1b6da\"],[0.4,\"#fde0ef\"],[0.5,\"#f7f7f7\"],[0.6,\"#e6f5d0\"],[0.7,\"#b8e186\"],[0.8,\"#7fbc41\"],[0.9,\"#4d9221\"],[1,\"#276419\"]]},\"xaxis\":{\"gridcolor\":\"white\",\"linecolor\":\"white\",\"ticks\":\"\",\"title\":{\"standoff\":15},\"zerolinecolor\":\"white\",\"automargin\":true,\"zerolinewidth\":2},\"yaxis\":{\"gridcolor\":\"white\",\"linecolor\":\"white\",\"ticks\":\"\",\"title\":{\"standoff\":15},\"zerolinecolor\":\"white\",\"automargin\":true,\"zerolinewidth\":2},\"scene\":{\"xaxis\":{\"backgroundcolor\":\"#E5ECF6\",\"gridcolor\":\"white\",\"linecolor\":\"white\",\"showbackground\":true,\"ticks\":\"\",\"zerolinecolor\":\"white\",\"gridwidth\":2},\"yaxis\":{\"backgroundcolor\":\"#E5ECF6\",\"gridcolor\":\"white\",\"linecolor\":\"white\",\"showbackground\":true,\"ticks\":\"\",\"zerolinecolor\":\"white\",\"gridwidth\":2},\"zaxis\":{\"backgroundcolor\":\"#E5ECF6\",\"gridcolor\":\"white\",\"linecolor\":\"white\",\"showbackground\":true,\"ticks\":\"\",\"zerolinecolor\":\"white\",\"gridwidth\":2}},\"shapedefaults\":{\"line\":{\"color\":\"#2a3f5f\"}},\"annotationdefaults\":{\"arrowcolor\":\"#2a3f5f\",\"arrowhead\":0,\"arrowwidth\":1},\"geo\":{\"bgcolor\":\"white\",\"landcolor\":\"#E5ECF6\",\"subunitcolor\":\"white\",\"showland\":true,\"showlakes\":true,\"lakecolor\":\"white\"},\"title\":{\"x\":0.05},\"mapbox\":{\"style\":\"light\"}}},\"title\":{\"text\":\"Customer Churn by Contract\"},\"yaxis\":{\"title\":{\"text\":\"Churn Count\"}},\"legend\":{\"title\":{\"text\":\"Churn Label\"}},\"barmode\":\"stack\",\"autosize\":false,\"width\":1500,\"height\":500},                        {\"responsive\": true}                    ).then(function(){\n",
              "                            \n",
              "var gd = document.getElementById('c4de238b-419b-414c-af85-6f78215f8c7a');\n",
              "var x = new MutationObserver(function (mutations, observer) {{\n",
              "        var display = window.getComputedStyle(gd).display;\n",
              "        if (!display || display === 'none') {{\n",
              "            console.log([gd, 'removed!']);\n",
              "            Plotly.purge(gd);\n",
              "            observer.disconnect();\n",
              "        }}\n",
              "}});\n",
              "\n",
              "// Listen for the removal of the full notebook cells\n",
              "var notebookContainer = gd.closest('#notebook-container');\n",
              "if (notebookContainer) {{\n",
              "    x.observe(notebookContainer, {childList: true});\n",
              "}}\n",
              "\n",
              "// Listen for the clearing of the current output cell\n",
              "var outputEl = gd.closest('.output');\n",
              "if (outputEl) {{\n",
              "    x.observe(outputEl, {childList: true});\n",
              "}}\n",
              "\n",
              "                        })                };                            </script>        </div>\n",
              "</body>\n",
              "</html>"
            ]
          },
          "metadata": {}
        }
      ]
    },
    {
      "cell_type": "markdown",
      "source": [
        "* 월계약이 가장 많으면서 이탈율도 가장 높음.\n",
        "* Paperless Billing이 더 많으면서 이탈율도 더 높음.\n",
        "* Electronic check가 가장 많으면서 이탈율도 가장 높음.\n",
        "* 월마다 내는 비용이 높을수록 이탈율도 늘어나는 추세.\n",
        "* 반면 Tenure은 길어질수록 이탈율이 줄어드는 추세."
      ],
      "metadata": {
        "id": "9kZUiqM83N7E"
      }
    },
    {
      "cell_type": "markdown",
      "source": [
        "## 1.4. 핵심 요약\n",
        "1. 젊은 사람의 비중이 높지만, 고령자의 이탈율이 더 높다.\n",
        "2. 부양가족이 있는 경우가 적지만, 이탈율 또한 매우 적다.\n",
        "3. 인터넷 회선 중 Fiber optic의 이용자 수와 이탈율 모두 제일 높음.\n",
        "4. 인터넷 부가서비스를 이용하는 경우 이탈율이 더 적음.\n",
        "5. 계약방법 중 월계약이 가장 많으면서 이탈율도 가장 큼.\n",
        "6. 월마다 내는 비용이 높을수록 이탈율이 늘어나지만, Tenure가 길어질수록 이탈율이 줄어듬."
      ],
      "metadata": {
        "id": "aCDhq6mx9dvQ"
      }
    },
    {
      "cell_type": "markdown",
      "source": [
        "## 1.5. 한계점\n",
        "단일 변수로만 이탈율을 비교하는 것은 다음과 같은 위험성을 가진다 :\n",
        "1. Simpson's Paradox : A trend appears in several groups of data but disappears or reverses when the groups are combined.\n",
        "    * 간단한 예로, A그룹의 고객 이탈율이 B그룹의 고객 이탈율보다 높게 나오지만, B그룹의 고객 수가 A그룹보다 월등히 많다면, 두 그룹 모두 합쳤을 때 전반적 이탈율이 작게 나오는 효과를 볼 수 있다. 혹은 그 반대 효과도 나올 수 있다.\n",
        "        * 우리의 예상보다 고객의 패턴 종류가 다양하다면, Simpson's Paradox가 나올 여지가 더 커질 것이다.\n",
        "    * 우리의 데이터에도 비슷한 질문들을 적용해볼 수 있다 : 월계약의 이탈율이 높다는 것은, 모든 고객에게 해당되는 이야기일까?\n",
        "        \n",
        "2. 변수들 간 상관성 존재 가능성.\n",
        "    * 특정 인구통계학적 특징을 가진 고객은 특정 서비스들을 연계하여 활용할 가능성이 있다.\n",
        "        * 어떤 한 요인에서 이탈율이 높게 나와 그 요인에 자칫 손보면, 그 요인과 연관된 다른 요인들도 영향받아 더 안좋은 효과를 낳을 수 있다.\n",
        "    * 그렇다면 다중변수 분석을 하면 되지 않을까?\n",
        "        * 2~3개의 변수들로 분석이 가능하겠지만, 그 이상의 갯수로 분석하는 것은 어렵다."
      ],
      "metadata": {
        "id": "jk23CWf6UpbT"
      }
    },
    {
      "cell_type": "markdown",
      "source": [
        "## 1.6. 해결방안\n",
        "1. 다중변수 분석 용으로 로지스틱 회귀분석 가능.\n",
        "    * 각 변수에 대한 이탈율을 변수들 간의 상관성을 보정한 상태로 구할 수 있다.\n",
        "    * 그렇지만 이 역시 Simpson's Paradox 문제를 피하기 어렵다. 고객 그룹마다 특징이 상이할 수 있기 때문.\n",
        "        * 또한 각 그룹의 특징도 알기 어렵다.\n",
        "    * 이에 대응하기 위해, 고객 그룹이 어떻게 나뉘는지 알고 있다는 전제하에, 각 그룹에 대해 로지스틱 회귀분석 하거나 모든 고객 데이터에 대해 로지스틱 혼합 모형을 사용해볼 수 있다.\n",
        "        * 문제는 고객 군집이 어떻게 나뉘는지 알 수 없는 상태이다.\n",
        "\n",
        "2. 군집분석.\n",
        "    * 고객의 인구통계학 정보와 서비스사용 등 정보를 바탕으로 군집화하여 그룹으로 나눌 수 있다.\n",
        "        * 18가지의 범주형 변수에 대해 가능한 고객의 종류는 2,672,922가지이고 현재 고객의 수는 7000여명인 점을 고려하면, 비슷한 특징의 고객들끼리 군집되어있음도 짐작할 수 있다.\n",
        "    * 다중변수 분석 용으로도 용이할 뿐더러, 앞서 언급하였듯 로지스틱 회귀분석의 연장선으로도 활용 가능하다."
      ],
      "metadata": {
        "id": "bi-cGE6U9_KB"
      }
    },
    {
      "cell_type": "markdown",
      "source": [
        "# 2.고객의 정보를 바탕으로 군집화\n",
        "군집분석은 크게 두 가지로 나눌 수 있다.\n",
        "\n",
        "1. Distance-based clustering:  말 그대로 데이터 간의 dissimilarity를 먼저 측정하고 클러스터링 방법을 적용시키는 방법들을 말한다.\n",
        "    * 다음 4가지를 결정해야 한다.\n",
        "        1. 어떤 변수들을 클러스터링에 활용할 것인가?\n",
        "        2. 어떤 distance metric을 활용할 것인가?\n",
        "        3. 어떤 철학,Criterion의 클러스터링 방법을 활용할 것인가?\n",
        "    * 인구통계학 정보와 서비스이용 정보, 그리고 계약정보 모두 활용한다면 총 18가지의 범주형 변수를 고려하게 된다. 또한 범주형인 점을 고려하여 데이터간의 거리를 재기 위해 Simple matching이나 Gower distance 등을 활용할 수 있을 것이다.\n",
        "        * 이에 따라 K-modes/median, hierarchical clustering 등 다양하게 적용할 수 있다는 점에서 꽤나 flexible하다.\n",
        "    * 클러스터링 이후, 각 군집의 특징을 설명하기 위해 변수들과의 연관성도 측정해야한다. 클러스터 라벨도 범주형 변수로 취급한다면, Chi-square distance나 Simple matching 등 이 또한 다양한 방법들을 쓸 수 있을 것이다.\n",
        "    <!-- * 그러나 거리 기반 클러스터링은 차원의 저주 문제가 있을 수 있다는 것. -->\n",
        "        <!-- * 일차원에서 거리가 2cm였던 물체가 10차원에서는 거리가 무려 약 1km가 되어버리는 현상으로 볼 수 있다.  -->\n",
        "        <!-- * 사실 Distance metric을 어떤 것 쓰냐 따라 차원의 저주 문제에 덜 민감할 수 있고, 또한 텍스트나 이미지와 같이 low dimension space에 워낙에 clustered되있는 데이터의 경우에도 덜 민감할 수 있다. 하지만 어디까지나 그럴 수 있다는 가능성의 얘기이다. -->\n",
        "\n",
        "\n",
        "2. Model-based clustering: 데이터가 어떤 분포/방정식으로부터 생성되었을 것이라는 가정을 가지는 클러스터링 방법들을 말한다.\n",
        "    * (항상은 아니지만) 주로 해석력에서 우수한 특징을 가지는데, 변수들 간의 관계식을 직관적 논리 아래 가정하기 때문이다.\n",
        "    * 범주형 변수들을 바탕으로 군집화하는 대표적인 방법은 Latent Class Analysis(LCA)로써, 다음과 같은 분포 가정을 가진다.\n",
        "    \\begin{align}\n",
        "        (Z_1,...,Z_K) &\\sim Multinomial(\\phi_1,...,\\phi_K), & \\phi_k = P(Z_k=1) \\\\\n",
        "        (X_1,...,X_J)|Z_k=1 &\\sim Multinomial(\\theta_{k,1},...,\\theta_{k,J}), & \\theta_{k,j} = P(X_j|Z_k=1) \\\\\n",
        "        P(X_1,...,X_J) &= \\sum_{k=1}^K P(Z_k=1)P(X_1,...,X_J|Z_k=1) \\\\\n",
        "        &= \\sum_{k=1}^K P(Z_k=1) \\prod_{j=1}^J P(X_j|Z_k=1)\n",
        "    \\end{align}\n",
        "    * 각 범주요인이 클러스터에 속할 확률을 가진다는 점에서 해석이 용이해진다 - 어떤 고객 군집이 확률적으로 어떤 서비스들을 많이 사용하는 편인지 등의 해석이 가능한 것이다.\n",
        "\n",
        "* Distance-based clustering(DBC) versus LCA\n",
        "    * DBC는 LCA보다 다양한 방법으로 클러스터링할 수 있지만, 최선의 방법을 찾기 어려울 수 있다.\n",
        "        * DBC는 Distance metric과 Clustering criterion에 의존하는 방법론이지, 해석력을 높이기 위한 방법론은 아니다.\n",
        "    * 반면 LCA는 해석적인데다 거리기반 클러스터링보다 차원의 저주 문제에 자유로운 편(LCA의 알고리즘에 데이터간 거리측정하는 식이 없다).\n",
        "    * 우리의 목표는 군집화와 더불어 각 군집의 특징도 해석하는 것이기 때문에, LCA를 사용하기로 택한다.\n",
        "    "
      ],
      "metadata": {
        "id": "X2J93SsT9YdN"
      }
    },
    {
      "cell_type": "code",
      "source": [
        "df_cat = Telco[['Gender', 'Senior Citizen', 'Partner', 'Dependents',\n",
        "                'Multiple Lines', 'Internet Service',\n",
        "                'Online Security', 'Online Backup', 'Device Protection', 'Tech Support',\n",
        "                'Streaming TV', 'Streaming Movies', 'Contract', 'Paperless Billing',\n",
        "                'Payment Method', 'Monthly Charges cat','Tenure Months cat', 'Churn Label']]"
      ],
      "metadata": {
        "id": "4TpfL931lOrP"
      },
      "execution_count": 9,
      "outputs": []
    },
    {
      "cell_type": "code",
      "source": [
        "%%capture\n",
        "!pip install stepmix"
      ],
      "metadata": {
        "id": "jswUKhVEemmy"
      },
      "execution_count": 10,
      "outputs": []
    },
    {
      "cell_type": "code",
      "source": [
        "%%capture\n",
        "from stepmix.stepmix import StepMix\n",
        "from sklearn.preprocessing import LabelEncoder\n",
        "import seaborn as sns\n",
        "\n",
        "category_mappings = {}\n",
        "for col in df_cat.columns:\n",
        "    label_encoder = LabelEncoder()\n",
        "    df_cat[col] =  label_encoder.fit_transform(df_cat[col])\n",
        "    category_mappings[col] = dict(zip(label_encoder.classes_,\n",
        "                                      label_encoder.transform(label_encoder.classes_)))"
      ],
      "metadata": {
        "id": "CRC9MpGyemqy"
      },
      "execution_count": 11,
      "outputs": []
    },
    {
      "cell_type": "markdown",
      "source": [
        "## 2.1. 최적의 클러스터 갯수\n",
        "* BIC와 같은 지표로 최적의 클러스터 갯수를 정할 수 있다.\n",
        "* 하지만 LCA 추정하는 EM 알고리즘은 클러스터 갯수를 많이 설정할수록 local optima에 취약하며, 클러스터 갯수가 많을 수록 최적이라고 진단하는 경향성도 가진다.\n",
        "    * 따라서 고려하려는 클러스터 갯수 범위를 어느 정도 제한하는 것이 좋다.\n",
        "* 최소한 하나의 클러스터에 700명은 존재한다는 가정을 한다면 - 클러스터 갯수 후보로 3개부터 9개까지 고려할 수 있다."
      ],
      "metadata": {
        "id": "LJwfRt6L5sXH"
      }
    },
    {
      "cell_type": "code",
      "source": [
        "import plotly.express as px\n",
        "\n",
        "k_candidates = range(3,10,1)\n",
        "results = dict(param_n_components=[], bic=[])\n",
        "for k in k_candidates:\n",
        "    model = StepMix(n_components=k, measurement=\"categorical\", random_state=99)\n",
        "    model.fit(df_cat)\n",
        "    results['param_n_components'].append(k)\n",
        "    results['bic'].append(model.bic(df_cat))\n",
        "\n",
        "fig = px.line(pd.DataFrame(results), x=\"param_n_components\", y=\"bic\")\n",
        "\n",
        "fig.update_layout(\n",
        "    title=\"Model Selection via BIC\",\n",
        "    yaxis_title=\"BIC\",\n",
        "    xaxis_title=\"Number of clusters\",\n",
        ")\n",
        "\n",
        "fig.update_layout(autosize=False,width=600,height=400)\n",
        "fig.show()"
      ],
      "metadata": {
        "colab": {
          "base_uri": "https://localhost:8080/",
          "height": 674
        },
        "id": "UIzr15JBjlBB",
        "outputId": "42d17c15-90da-4bf2-d4c2-0376153328b1"
      },
      "execution_count": 12,
      "outputs": [
        {
          "output_type": "stream",
          "name": "stdout",
          "text": [
            "Fitting StepMix...\n"
          ]
        },
        {
          "output_type": "stream",
          "name": "stderr",
          "text": [
            "Initializations (n_init) : 100%|██████████| 1/1 [00:01<00:00,  1.71s/it, max_LL=-8.48e+4, max_avg_LL=-12]\n"
          ]
        },
        {
          "output_type": "stream",
          "name": "stdout",
          "text": [
            "Fitting StepMix...\n"
          ]
        },
        {
          "output_type": "stream",
          "name": "stderr",
          "text": [
            "Initializations (n_init) : 100%|██████████| 1/1 [00:06<00:00,  6.26s/it, max_LL=-8.2e+4, max_avg_LL=-11.6]\n"
          ]
        },
        {
          "output_type": "stream",
          "name": "stdout",
          "text": [
            "Fitting StepMix...\n"
          ]
        },
        {
          "output_type": "stream",
          "name": "stderr",
          "text": [
            "Initializations (n_init) : 100%|██████████| 1/1 [00:05<00:00,  5.68s/it, max_LL=-8.02e+4, max_avg_LL=-11.4]\n"
          ]
        },
        {
          "output_type": "stream",
          "name": "stdout",
          "text": [
            "Fitting StepMix...\n"
          ]
        },
        {
          "output_type": "stream",
          "name": "stderr",
          "text": [
            "Initializations (n_init) : 100%|██████████| 1/1 [00:33<00:00, 33.80s/it, max_LL=-7.91e+4, max_avg_LL=-11.2]\n"
          ]
        },
        {
          "output_type": "stream",
          "name": "stdout",
          "text": [
            "Fitting StepMix...\n"
          ]
        },
        {
          "output_type": "stream",
          "name": "stderr",
          "text": [
            "Initializations (n_init) : 100%|██████████| 1/1 [00:10<00:00, 10.34s/it, max_LL=-7.83e+4, max_avg_LL=-11.1]\n"
          ]
        },
        {
          "output_type": "stream",
          "name": "stdout",
          "text": [
            "Fitting StepMix...\n"
          ]
        },
        {
          "output_type": "stream",
          "name": "stderr",
          "text": [
            "Initializations (n_init) : 100%|██████████| 1/1 [00:06<00:00,  6.46s/it, max_LL=-7.79e+4, max_avg_LL=-11.1]\n"
          ]
        },
        {
          "output_type": "stream",
          "name": "stdout",
          "text": [
            "Fitting StepMix...\n"
          ]
        },
        {
          "output_type": "stream",
          "name": "stderr",
          "text": [
            "Initializations (n_init) : 100%|██████████| 1/1 [00:24<00:00, 24.92s/it, max_LL=-7.78e+4, max_avg_LL=-11.1]\n"
          ]
        },
        {
          "output_type": "display_data",
          "data": {
            "text/html": [
              "<html>\n",
              "<head><meta charset=\"utf-8\" /></head>\n",
              "<body>\n",
              "    <div>            <script src=\"https://cdnjs.cloudflare.com/ajax/libs/mathjax/2.7.5/MathJax.js?config=TeX-AMS-MML_SVG\"></script><script type=\"text/javascript\">if (window.MathJax && window.MathJax.Hub && window.MathJax.Hub.Config) {window.MathJax.Hub.Config({SVG: {font: \"STIX-Web\"}});}</script>                <script type=\"text/javascript\">window.PlotlyConfig = {MathJaxConfig: 'local'};</script>\n",
              "        <script charset=\"utf-8\" src=\"https://cdn.plot.ly/plotly-2.24.1.min.js\"></script>                <div id=\"e1787f80-e8ce-4309-b2ba-149849b6a9da\" class=\"plotly-graph-div\" style=\"height:400px; width:600px;\"></div>            <script type=\"text/javascript\">                                    window.PLOTLYENV=window.PLOTLYENV || {};                                    if (document.getElementById(\"e1787f80-e8ce-4309-b2ba-149849b6a9da\")) {                    Plotly.newPlot(                        \"e1787f80-e8ce-4309-b2ba-149849b6a9da\",                        [{\"hovertemplate\":\"param_n_components=%{x}\\u003cbr\\u003ebic=%{y}\\u003cextra\\u003e\\u003c\\u002fextra\\u003e\",\"legendgroup\":\"\",\"line\":{\"color\":\"#636efa\",\"dash\":\"solid\"},\"marker\":{\"symbol\":\"circle\"},\"mode\":\"lines\",\"name\":\"\",\"orientation\":\"v\",\"showlegend\":false,\"x\":[3,4,5,6,7,8,9],\"xaxis\":\"x\",\"y\":[170444.39433375568,165141.0240158183,161781.22654663562,159863.93278198462,158651.2842366886,158013.81988167446,158221.18501962363],\"yaxis\":\"y\",\"type\":\"scatter\"}],                        {\"template\":{\"data\":{\"histogram2dcontour\":[{\"type\":\"histogram2dcontour\",\"colorbar\":{\"outlinewidth\":0,\"ticks\":\"\"},\"colorscale\":[[0.0,\"#0d0887\"],[0.1111111111111111,\"#46039f\"],[0.2222222222222222,\"#7201a8\"],[0.3333333333333333,\"#9c179e\"],[0.4444444444444444,\"#bd3786\"],[0.5555555555555556,\"#d8576b\"],[0.6666666666666666,\"#ed7953\"],[0.7777777777777778,\"#fb9f3a\"],[0.8888888888888888,\"#fdca26\"],[1.0,\"#f0f921\"]]}],\"choropleth\":[{\"type\":\"choropleth\",\"colorbar\":{\"outlinewidth\":0,\"ticks\":\"\"}}],\"histogram2d\":[{\"type\":\"histogram2d\",\"colorbar\":{\"outlinewidth\":0,\"ticks\":\"\"},\"colorscale\":[[0.0,\"#0d0887\"],[0.1111111111111111,\"#46039f\"],[0.2222222222222222,\"#7201a8\"],[0.3333333333333333,\"#9c179e\"],[0.4444444444444444,\"#bd3786\"],[0.5555555555555556,\"#d8576b\"],[0.6666666666666666,\"#ed7953\"],[0.7777777777777778,\"#fb9f3a\"],[0.8888888888888888,\"#fdca26\"],[1.0,\"#f0f921\"]]}],\"heatmap\":[{\"type\":\"heatmap\",\"colorbar\":{\"outlinewidth\":0,\"ticks\":\"\"},\"colorscale\":[[0.0,\"#0d0887\"],[0.1111111111111111,\"#46039f\"],[0.2222222222222222,\"#7201a8\"],[0.3333333333333333,\"#9c179e\"],[0.4444444444444444,\"#bd3786\"],[0.5555555555555556,\"#d8576b\"],[0.6666666666666666,\"#ed7953\"],[0.7777777777777778,\"#fb9f3a\"],[0.8888888888888888,\"#fdca26\"],[1.0,\"#f0f921\"]]}],\"heatmapgl\":[{\"type\":\"heatmapgl\",\"colorbar\":{\"outlinewidth\":0,\"ticks\":\"\"},\"colorscale\":[[0.0,\"#0d0887\"],[0.1111111111111111,\"#46039f\"],[0.2222222222222222,\"#7201a8\"],[0.3333333333333333,\"#9c179e\"],[0.4444444444444444,\"#bd3786\"],[0.5555555555555556,\"#d8576b\"],[0.6666666666666666,\"#ed7953\"],[0.7777777777777778,\"#fb9f3a\"],[0.8888888888888888,\"#fdca26\"],[1.0,\"#f0f921\"]]}],\"contourcarpet\":[{\"type\":\"contourcarpet\",\"colorbar\":{\"outlinewidth\":0,\"ticks\":\"\"}}],\"contour\":[{\"type\":\"contour\",\"colorbar\":{\"outlinewidth\":0,\"ticks\":\"\"},\"colorscale\":[[0.0,\"#0d0887\"],[0.1111111111111111,\"#46039f\"],[0.2222222222222222,\"#7201a8\"],[0.3333333333333333,\"#9c179e\"],[0.4444444444444444,\"#bd3786\"],[0.5555555555555556,\"#d8576b\"],[0.6666666666666666,\"#ed7953\"],[0.7777777777777778,\"#fb9f3a\"],[0.8888888888888888,\"#fdca26\"],[1.0,\"#f0f921\"]]}],\"surface\":[{\"type\":\"surface\",\"colorbar\":{\"outlinewidth\":0,\"ticks\":\"\"},\"colorscale\":[[0.0,\"#0d0887\"],[0.1111111111111111,\"#46039f\"],[0.2222222222222222,\"#7201a8\"],[0.3333333333333333,\"#9c179e\"],[0.4444444444444444,\"#bd3786\"],[0.5555555555555556,\"#d8576b\"],[0.6666666666666666,\"#ed7953\"],[0.7777777777777778,\"#fb9f3a\"],[0.8888888888888888,\"#fdca26\"],[1.0,\"#f0f921\"]]}],\"mesh3d\":[{\"type\":\"mesh3d\",\"colorbar\":{\"outlinewidth\":0,\"ticks\":\"\"}}],\"scatter\":[{\"fillpattern\":{\"fillmode\":\"overlay\",\"size\":10,\"solidity\":0.2},\"type\":\"scatter\"}],\"parcoords\":[{\"type\":\"parcoords\",\"line\":{\"colorbar\":{\"outlinewidth\":0,\"ticks\":\"\"}}}],\"scatterpolargl\":[{\"type\":\"scatterpolargl\",\"marker\":{\"colorbar\":{\"outlinewidth\":0,\"ticks\":\"\"}}}],\"bar\":[{\"error_x\":{\"color\":\"#2a3f5f\"},\"error_y\":{\"color\":\"#2a3f5f\"},\"marker\":{\"line\":{\"color\":\"#E5ECF6\",\"width\":0.5},\"pattern\":{\"fillmode\":\"overlay\",\"size\":10,\"solidity\":0.2}},\"type\":\"bar\"}],\"scattergeo\":[{\"type\":\"scattergeo\",\"marker\":{\"colorbar\":{\"outlinewidth\":0,\"ticks\":\"\"}}}],\"scatterpolar\":[{\"type\":\"scatterpolar\",\"marker\":{\"colorbar\":{\"outlinewidth\":0,\"ticks\":\"\"}}}],\"histogram\":[{\"marker\":{\"pattern\":{\"fillmode\":\"overlay\",\"size\":10,\"solidity\":0.2}},\"type\":\"histogram\"}],\"scattergl\":[{\"type\":\"scattergl\",\"marker\":{\"colorbar\":{\"outlinewidth\":0,\"ticks\":\"\"}}}],\"scatter3d\":[{\"type\":\"scatter3d\",\"line\":{\"colorbar\":{\"outlinewidth\":0,\"ticks\":\"\"}},\"marker\":{\"colorbar\":{\"outlinewidth\":0,\"ticks\":\"\"}}}],\"scattermapbox\":[{\"type\":\"scattermapbox\",\"marker\":{\"colorbar\":{\"outlinewidth\":0,\"ticks\":\"\"}}}],\"scatterternary\":[{\"type\":\"scatterternary\",\"marker\":{\"colorbar\":{\"outlinewidth\":0,\"ticks\":\"\"}}}],\"scattercarpet\":[{\"type\":\"scattercarpet\",\"marker\":{\"colorbar\":{\"outlinewidth\":0,\"ticks\":\"\"}}}],\"carpet\":[{\"aaxis\":{\"endlinecolor\":\"#2a3f5f\",\"gridcolor\":\"white\",\"linecolor\":\"white\",\"minorgridcolor\":\"white\",\"startlinecolor\":\"#2a3f5f\"},\"baxis\":{\"endlinecolor\":\"#2a3f5f\",\"gridcolor\":\"white\",\"linecolor\":\"white\",\"minorgridcolor\":\"white\",\"startlinecolor\":\"#2a3f5f\"},\"type\":\"carpet\"}],\"table\":[{\"cells\":{\"fill\":{\"color\":\"#EBF0F8\"},\"line\":{\"color\":\"white\"}},\"header\":{\"fill\":{\"color\":\"#C8D4E3\"},\"line\":{\"color\":\"white\"}},\"type\":\"table\"}],\"barpolar\":[{\"marker\":{\"line\":{\"color\":\"#E5ECF6\",\"width\":0.5},\"pattern\":{\"fillmode\":\"overlay\",\"size\":10,\"solidity\":0.2}},\"type\":\"barpolar\"}],\"pie\":[{\"automargin\":true,\"type\":\"pie\"}]},\"layout\":{\"autotypenumbers\":\"strict\",\"colorway\":[\"#636efa\",\"#EF553B\",\"#00cc96\",\"#ab63fa\",\"#FFA15A\",\"#19d3f3\",\"#FF6692\",\"#B6E880\",\"#FF97FF\",\"#FECB52\"],\"font\":{\"color\":\"#2a3f5f\"},\"hovermode\":\"closest\",\"hoverlabel\":{\"align\":\"left\"},\"paper_bgcolor\":\"white\",\"plot_bgcolor\":\"#E5ECF6\",\"polar\":{\"bgcolor\":\"#E5ECF6\",\"angularaxis\":{\"gridcolor\":\"white\",\"linecolor\":\"white\",\"ticks\":\"\"},\"radialaxis\":{\"gridcolor\":\"white\",\"linecolor\":\"white\",\"ticks\":\"\"}},\"ternary\":{\"bgcolor\":\"#E5ECF6\",\"aaxis\":{\"gridcolor\":\"white\",\"linecolor\":\"white\",\"ticks\":\"\"},\"baxis\":{\"gridcolor\":\"white\",\"linecolor\":\"white\",\"ticks\":\"\"},\"caxis\":{\"gridcolor\":\"white\",\"linecolor\":\"white\",\"ticks\":\"\"}},\"coloraxis\":{\"colorbar\":{\"outlinewidth\":0,\"ticks\":\"\"}},\"colorscale\":{\"sequential\":[[0.0,\"#0d0887\"],[0.1111111111111111,\"#46039f\"],[0.2222222222222222,\"#7201a8\"],[0.3333333333333333,\"#9c179e\"],[0.4444444444444444,\"#bd3786\"],[0.5555555555555556,\"#d8576b\"],[0.6666666666666666,\"#ed7953\"],[0.7777777777777778,\"#fb9f3a\"],[0.8888888888888888,\"#fdca26\"],[1.0,\"#f0f921\"]],\"sequentialminus\":[[0.0,\"#0d0887\"],[0.1111111111111111,\"#46039f\"],[0.2222222222222222,\"#7201a8\"],[0.3333333333333333,\"#9c179e\"],[0.4444444444444444,\"#bd3786\"],[0.5555555555555556,\"#d8576b\"],[0.6666666666666666,\"#ed7953\"],[0.7777777777777778,\"#fb9f3a\"],[0.8888888888888888,\"#fdca26\"],[1.0,\"#f0f921\"]],\"diverging\":[[0,\"#8e0152\"],[0.1,\"#c51b7d\"],[0.2,\"#de77ae\"],[0.3,\"#f1b6da\"],[0.4,\"#fde0ef\"],[0.5,\"#f7f7f7\"],[0.6,\"#e6f5d0\"],[0.7,\"#b8e186\"],[0.8,\"#7fbc41\"],[0.9,\"#4d9221\"],[1,\"#276419\"]]},\"xaxis\":{\"gridcolor\":\"white\",\"linecolor\":\"white\",\"ticks\":\"\",\"title\":{\"standoff\":15},\"zerolinecolor\":\"white\",\"automargin\":true,\"zerolinewidth\":2},\"yaxis\":{\"gridcolor\":\"white\",\"linecolor\":\"white\",\"ticks\":\"\",\"title\":{\"standoff\":15},\"zerolinecolor\":\"white\",\"automargin\":true,\"zerolinewidth\":2},\"scene\":{\"xaxis\":{\"backgroundcolor\":\"#E5ECF6\",\"gridcolor\":\"white\",\"linecolor\":\"white\",\"showbackground\":true,\"ticks\":\"\",\"zerolinecolor\":\"white\",\"gridwidth\":2},\"yaxis\":{\"backgroundcolor\":\"#E5ECF6\",\"gridcolor\":\"white\",\"linecolor\":\"white\",\"showbackground\":true,\"ticks\":\"\",\"zerolinecolor\":\"white\",\"gridwidth\":2},\"zaxis\":{\"backgroundcolor\":\"#E5ECF6\",\"gridcolor\":\"white\",\"linecolor\":\"white\",\"showbackground\":true,\"ticks\":\"\",\"zerolinecolor\":\"white\",\"gridwidth\":2}},\"shapedefaults\":{\"line\":{\"color\":\"#2a3f5f\"}},\"annotationdefaults\":{\"arrowcolor\":\"#2a3f5f\",\"arrowhead\":0,\"arrowwidth\":1},\"geo\":{\"bgcolor\":\"white\",\"landcolor\":\"#E5ECF6\",\"subunitcolor\":\"white\",\"showland\":true,\"showlakes\":true,\"lakecolor\":\"white\"},\"title\":{\"x\":0.05},\"mapbox\":{\"style\":\"light\"}}},\"xaxis\":{\"anchor\":\"y\",\"domain\":[0.0,1.0],\"title\":{\"text\":\"Number of clusters\"}},\"yaxis\":{\"anchor\":\"x\",\"domain\":[0.0,1.0],\"title\":{\"text\":\"BIC\"}},\"legend\":{\"tracegroupgap\":0},\"margin\":{\"t\":60},\"title\":{\"text\":\"Model Selection via BIC\"},\"autosize\":false,\"width\":600,\"height\":400},                        {\"responsive\": true}                    ).then(function(){\n",
              "                            \n",
              "var gd = document.getElementById('e1787f80-e8ce-4309-b2ba-149849b6a9da');\n",
              "var x = new MutationObserver(function (mutations, observer) {{\n",
              "        var display = window.getComputedStyle(gd).display;\n",
              "        if (!display || display === 'none') {{\n",
              "            console.log([gd, 'removed!']);\n",
              "            Plotly.purge(gd);\n",
              "            observer.disconnect();\n",
              "        }}\n",
              "}});\n",
              "\n",
              "// Listen for the removal of the full notebook cells\n",
              "var notebookContainer = gd.closest('#notebook-container');\n",
              "if (notebookContainer) {{\n",
              "    x.observe(notebookContainer, {childList: true});\n",
              "}}\n",
              "\n",
              "// Listen for the clearing of the current output cell\n",
              "var outputEl = gd.closest('.output');\n",
              "if (outputEl) {{\n",
              "    x.observe(outputEl, {childList: true});\n",
              "}}\n",
              "\n",
              "                        })                };                            </script>        </div>\n",
              "</body>\n",
              "</html>"
            ]
          },
          "metadata": {}
        }
      ]
    },
    {
      "cell_type": "markdown",
      "source": [
        "* BIC는 낮을 수록 좋으며, 8개가 최적의 클러스터 갯수가 된다. 이제 각 클러스터의 고객수와 Churn rate을 확인해보자."
      ],
      "metadata": {
        "id": "RGxwOqLe6yJM"
      }
    },
    {
      "cell_type": "code",
      "source": [
        "%%capture\n",
        "num_cluster = 8\n",
        "model = StepMix(n_components=num_cluster, measurement=\"categorical\", random_state=99)\n",
        "model.fit(df_cat)\n",
        "df_cat['cluster'] = model.predict(df_cat)"
      ],
      "metadata": {
        "id": "_94c47AVlL9X"
      },
      "execution_count": 13,
      "outputs": []
    },
    {
      "cell_type": "markdown",
      "source": [
        "# 3. 각 고객군집의 특성 파악 및 이탈율 높은 군집 분석\n",
        "* 각 클러스터의 고객 수와 Churn rate을 확인해보자."
      ],
      "metadata": {
        "id": "6nlUd75w1UaY"
      }
    },
    {
      "cell_type": "code",
      "source": [
        "import plotly.express as px\n",
        "\n",
        "cluster_counts = pd.DataFrame(df_cat['cluster'].value_counts().reset_index()).rename(columns={'index':'cluster', 'cluster':'counts'})\n",
        "cluster_churn_counts = df_cat.groupby(['cluster','Churn Label']).size().unstack()\n",
        "cluster_churn_rate = (cluster_churn_counts[1]/cluster_churn_counts.sum(axis=1)).reset_index().rename(columns={0:'Churn rate'})\n",
        "\n",
        "cluster_churn_counts = cluster_churn_counts.reset_index().rename(columns={0:'No Churn', 1:'Churn'})\n",
        "cluster_rename = {}\n",
        "for k in range(num_cluster):\n",
        "    cluster_rename[k] = 'Cluster ' + str(k+1)\n",
        "\n",
        "cluster_churn_counts = cluster_churn_counts.reset_index().rename(columns={0:'No Churn', 1:'Churn'})\n",
        "cluster_churn_counts['cluster'] = cluster_churn_counts.cluster.map(cluster_rename)\n",
        "\n",
        "fig = px.bar(cluster_churn_counts, x=\"cluster\", y=[\"No Churn\", \"Churn\"])\n",
        "\n",
        "fig.update_layout(\n",
        "    title=\"Cluster counts and Churn ratio\",\n",
        "    yaxis_title=\"Count\",\n",
        "    xaxis_title=\"Clusters\",\n",
        ")\n",
        "\n",
        "fig.update_layout(autosize=False,width=1000,height=500)\n",
        "fig.show()\n",
        "\n",
        "# cluster_churn = pd.merge(cluster_counts,cluster_churn_rate,left_on='cluster',right_on='cluster')\n",
        "# cluster_churn['cluster'] += 1\n",
        "# cluster_churn"
      ],
      "metadata": {
        "colab": {
          "base_uri": "https://localhost:8080/",
          "height": 537
        },
        "id": "vE_ascngxG2b",
        "outputId": "b9db9a24-82b8-4d44-d4f9-4bd76fa4176d"
      },
      "execution_count": 14,
      "outputs": [
        {
          "output_type": "display_data",
          "data": {
            "text/html": [
              "<html>\n",
              "<head><meta charset=\"utf-8\" /></head>\n",
              "<body>\n",
              "    <div>            <script src=\"https://cdnjs.cloudflare.com/ajax/libs/mathjax/2.7.5/MathJax.js?config=TeX-AMS-MML_SVG\"></script><script type=\"text/javascript\">if (window.MathJax && window.MathJax.Hub && window.MathJax.Hub.Config) {window.MathJax.Hub.Config({SVG: {font: \"STIX-Web\"}});}</script>                <script type=\"text/javascript\">window.PlotlyConfig = {MathJaxConfig: 'local'};</script>\n",
              "        <script charset=\"utf-8\" src=\"https://cdn.plot.ly/plotly-2.24.1.min.js\"></script>                <div id=\"ef6f605e-bca0-4f61-8e8b-a35f273a9002\" class=\"plotly-graph-div\" style=\"height:500px; width:1000px;\"></div>            <script type=\"text/javascript\">                                    window.PLOTLYENV=window.PLOTLYENV || {};                                    if (document.getElementById(\"ef6f605e-bca0-4f61-8e8b-a35f273a9002\")) {                    Plotly.newPlot(                        \"ef6f605e-bca0-4f61-8e8b-a35f273a9002\",                        [{\"alignmentgroup\":\"True\",\"hovertemplate\":\"variable=No Churn\\u003cbr\\u003ecluster=%{x}\\u003cbr\\u003evalue=%{y}\\u003cextra\\u003e\\u003c\\u002fextra\\u003e\",\"legendgroup\":\"No Churn\",\"marker\":{\"color\":\"#636efa\",\"pattern\":{\"shape\":\"\"}},\"name\":\"No Churn\",\"offsetgroup\":\"No Churn\",\"orientation\":\"v\",\"showlegend\":true,\"textposition\":\"auto\",\"x\":[\"Cluster 1\",\"Cluster 2\",\"Cluster 3\",\"Cluster 4\",\"Cluster 5\",\"Cluster 6\",\"Cluster 7\",\"Cluster 8\"],\"xaxis\":\"x\",\"y\":[591,818,581,586,822,966,370,440],\"yaxis\":\"y\",\"type\":\"bar\"},{\"alignmentgroup\":\"True\",\"hovertemplate\":\"variable=Churn\\u003cbr\\u003ecluster=%{x}\\u003cbr\\u003evalue=%{y}\\u003cextra\\u003e\\u003c\\u002fextra\\u003e\",\"legendgroup\":\"Churn\",\"marker\":{\"color\":\"#EF553B\",\"pattern\":{\"shape\":\"\"}},\"name\":\"Churn\",\"offsetgroup\":\"Churn\",\"orientation\":\"v\",\"showlegend\":true,\"textposition\":\"auto\",\"x\":[\"Cluster 1\",\"Cluster 2\",\"Cluster 3\",\"Cluster 4\",\"Cluster 5\",\"Cluster 6\",\"Cluster 7\",\"Cluster 8\"],\"xaxis\":\"x\",\"y\":[106,27,715,147,7,85,524,258],\"yaxis\":\"y\",\"type\":\"bar\"}],                        {\"template\":{\"data\":{\"histogram2dcontour\":[{\"type\":\"histogram2dcontour\",\"colorbar\":{\"outlinewidth\":0,\"ticks\":\"\"},\"colorscale\":[[0.0,\"#0d0887\"],[0.1111111111111111,\"#46039f\"],[0.2222222222222222,\"#7201a8\"],[0.3333333333333333,\"#9c179e\"],[0.4444444444444444,\"#bd3786\"],[0.5555555555555556,\"#d8576b\"],[0.6666666666666666,\"#ed7953\"],[0.7777777777777778,\"#fb9f3a\"],[0.8888888888888888,\"#fdca26\"],[1.0,\"#f0f921\"]]}],\"choropleth\":[{\"type\":\"choropleth\",\"colorbar\":{\"outlinewidth\":0,\"ticks\":\"\"}}],\"histogram2d\":[{\"type\":\"histogram2d\",\"colorbar\":{\"outlinewidth\":0,\"ticks\":\"\"},\"colorscale\":[[0.0,\"#0d0887\"],[0.1111111111111111,\"#46039f\"],[0.2222222222222222,\"#7201a8\"],[0.3333333333333333,\"#9c179e\"],[0.4444444444444444,\"#bd3786\"],[0.5555555555555556,\"#d8576b\"],[0.6666666666666666,\"#ed7953\"],[0.7777777777777778,\"#fb9f3a\"],[0.8888888888888888,\"#fdca26\"],[1.0,\"#f0f921\"]]}],\"heatmap\":[{\"type\":\"heatmap\",\"colorbar\":{\"outlinewidth\":0,\"ticks\":\"\"},\"colorscale\":[[0.0,\"#0d0887\"],[0.1111111111111111,\"#46039f\"],[0.2222222222222222,\"#7201a8\"],[0.3333333333333333,\"#9c179e\"],[0.4444444444444444,\"#bd3786\"],[0.5555555555555556,\"#d8576b\"],[0.6666666666666666,\"#ed7953\"],[0.7777777777777778,\"#fb9f3a\"],[0.8888888888888888,\"#fdca26\"],[1.0,\"#f0f921\"]]}],\"heatmapgl\":[{\"type\":\"heatmapgl\",\"colorbar\":{\"outlinewidth\":0,\"ticks\":\"\"},\"colorscale\":[[0.0,\"#0d0887\"],[0.1111111111111111,\"#46039f\"],[0.2222222222222222,\"#7201a8\"],[0.3333333333333333,\"#9c179e\"],[0.4444444444444444,\"#bd3786\"],[0.5555555555555556,\"#d8576b\"],[0.6666666666666666,\"#ed7953\"],[0.7777777777777778,\"#fb9f3a\"],[0.8888888888888888,\"#fdca26\"],[1.0,\"#f0f921\"]]}],\"contourcarpet\":[{\"type\":\"contourcarpet\",\"colorbar\":{\"outlinewidth\":0,\"ticks\":\"\"}}],\"contour\":[{\"type\":\"contour\",\"colorbar\":{\"outlinewidth\":0,\"ticks\":\"\"},\"colorscale\":[[0.0,\"#0d0887\"],[0.1111111111111111,\"#46039f\"],[0.2222222222222222,\"#7201a8\"],[0.3333333333333333,\"#9c179e\"],[0.4444444444444444,\"#bd3786\"],[0.5555555555555556,\"#d8576b\"],[0.6666666666666666,\"#ed7953\"],[0.7777777777777778,\"#fb9f3a\"],[0.8888888888888888,\"#fdca26\"],[1.0,\"#f0f921\"]]}],\"surface\":[{\"type\":\"surface\",\"colorbar\":{\"outlinewidth\":0,\"ticks\":\"\"},\"colorscale\":[[0.0,\"#0d0887\"],[0.1111111111111111,\"#46039f\"],[0.2222222222222222,\"#7201a8\"],[0.3333333333333333,\"#9c179e\"],[0.4444444444444444,\"#bd3786\"],[0.5555555555555556,\"#d8576b\"],[0.6666666666666666,\"#ed7953\"],[0.7777777777777778,\"#fb9f3a\"],[0.8888888888888888,\"#fdca26\"],[1.0,\"#f0f921\"]]}],\"mesh3d\":[{\"type\":\"mesh3d\",\"colorbar\":{\"outlinewidth\":0,\"ticks\":\"\"}}],\"scatter\":[{\"fillpattern\":{\"fillmode\":\"overlay\",\"size\":10,\"solidity\":0.2},\"type\":\"scatter\"}],\"parcoords\":[{\"type\":\"parcoords\",\"line\":{\"colorbar\":{\"outlinewidth\":0,\"ticks\":\"\"}}}],\"scatterpolargl\":[{\"type\":\"scatterpolargl\",\"marker\":{\"colorbar\":{\"outlinewidth\":0,\"ticks\":\"\"}}}],\"bar\":[{\"error_x\":{\"color\":\"#2a3f5f\"},\"error_y\":{\"color\":\"#2a3f5f\"},\"marker\":{\"line\":{\"color\":\"#E5ECF6\",\"width\":0.5},\"pattern\":{\"fillmode\":\"overlay\",\"size\":10,\"solidity\":0.2}},\"type\":\"bar\"}],\"scattergeo\":[{\"type\":\"scattergeo\",\"marker\":{\"colorbar\":{\"outlinewidth\":0,\"ticks\":\"\"}}}],\"scatterpolar\":[{\"type\":\"scatterpolar\",\"marker\":{\"colorbar\":{\"outlinewidth\":0,\"ticks\":\"\"}}}],\"histogram\":[{\"marker\":{\"pattern\":{\"fillmode\":\"overlay\",\"size\":10,\"solidity\":0.2}},\"type\":\"histogram\"}],\"scattergl\":[{\"type\":\"scattergl\",\"marker\":{\"colorbar\":{\"outlinewidth\":0,\"ticks\":\"\"}}}],\"scatter3d\":[{\"type\":\"scatter3d\",\"line\":{\"colorbar\":{\"outlinewidth\":0,\"ticks\":\"\"}},\"marker\":{\"colorbar\":{\"outlinewidth\":0,\"ticks\":\"\"}}}],\"scattermapbox\":[{\"type\":\"scattermapbox\",\"marker\":{\"colorbar\":{\"outlinewidth\":0,\"ticks\":\"\"}}}],\"scatterternary\":[{\"type\":\"scatterternary\",\"marker\":{\"colorbar\":{\"outlinewidth\":0,\"ticks\":\"\"}}}],\"scattercarpet\":[{\"type\":\"scattercarpet\",\"marker\":{\"colorbar\":{\"outlinewidth\":0,\"ticks\":\"\"}}}],\"carpet\":[{\"aaxis\":{\"endlinecolor\":\"#2a3f5f\",\"gridcolor\":\"white\",\"linecolor\":\"white\",\"minorgridcolor\":\"white\",\"startlinecolor\":\"#2a3f5f\"},\"baxis\":{\"endlinecolor\":\"#2a3f5f\",\"gridcolor\":\"white\",\"linecolor\":\"white\",\"minorgridcolor\":\"white\",\"startlinecolor\":\"#2a3f5f\"},\"type\":\"carpet\"}],\"table\":[{\"cells\":{\"fill\":{\"color\":\"#EBF0F8\"},\"line\":{\"color\":\"white\"}},\"header\":{\"fill\":{\"color\":\"#C8D4E3\"},\"line\":{\"color\":\"white\"}},\"type\":\"table\"}],\"barpolar\":[{\"marker\":{\"line\":{\"color\":\"#E5ECF6\",\"width\":0.5},\"pattern\":{\"fillmode\":\"overlay\",\"size\":10,\"solidity\":0.2}},\"type\":\"barpolar\"}],\"pie\":[{\"automargin\":true,\"type\":\"pie\"}]},\"layout\":{\"autotypenumbers\":\"strict\",\"colorway\":[\"#636efa\",\"#EF553B\",\"#00cc96\",\"#ab63fa\",\"#FFA15A\",\"#19d3f3\",\"#FF6692\",\"#B6E880\",\"#FF97FF\",\"#FECB52\"],\"font\":{\"color\":\"#2a3f5f\"},\"hovermode\":\"closest\",\"hoverlabel\":{\"align\":\"left\"},\"paper_bgcolor\":\"white\",\"plot_bgcolor\":\"#E5ECF6\",\"polar\":{\"bgcolor\":\"#E5ECF6\",\"angularaxis\":{\"gridcolor\":\"white\",\"linecolor\":\"white\",\"ticks\":\"\"},\"radialaxis\":{\"gridcolor\":\"white\",\"linecolor\":\"white\",\"ticks\":\"\"}},\"ternary\":{\"bgcolor\":\"#E5ECF6\",\"aaxis\":{\"gridcolor\":\"white\",\"linecolor\":\"white\",\"ticks\":\"\"},\"baxis\":{\"gridcolor\":\"white\",\"linecolor\":\"white\",\"ticks\":\"\"},\"caxis\":{\"gridcolor\":\"white\",\"linecolor\":\"white\",\"ticks\":\"\"}},\"coloraxis\":{\"colorbar\":{\"outlinewidth\":0,\"ticks\":\"\"}},\"colorscale\":{\"sequential\":[[0.0,\"#0d0887\"],[0.1111111111111111,\"#46039f\"],[0.2222222222222222,\"#7201a8\"],[0.3333333333333333,\"#9c179e\"],[0.4444444444444444,\"#bd3786\"],[0.5555555555555556,\"#d8576b\"],[0.6666666666666666,\"#ed7953\"],[0.7777777777777778,\"#fb9f3a\"],[0.8888888888888888,\"#fdca26\"],[1.0,\"#f0f921\"]],\"sequentialminus\":[[0.0,\"#0d0887\"],[0.1111111111111111,\"#46039f\"],[0.2222222222222222,\"#7201a8\"],[0.3333333333333333,\"#9c179e\"],[0.4444444444444444,\"#bd3786\"],[0.5555555555555556,\"#d8576b\"],[0.6666666666666666,\"#ed7953\"],[0.7777777777777778,\"#fb9f3a\"],[0.8888888888888888,\"#fdca26\"],[1.0,\"#f0f921\"]],\"diverging\":[[0,\"#8e0152\"],[0.1,\"#c51b7d\"],[0.2,\"#de77ae\"],[0.3,\"#f1b6da\"],[0.4,\"#fde0ef\"],[0.5,\"#f7f7f7\"],[0.6,\"#e6f5d0\"],[0.7,\"#b8e186\"],[0.8,\"#7fbc41\"],[0.9,\"#4d9221\"],[1,\"#276419\"]]},\"xaxis\":{\"gridcolor\":\"white\",\"linecolor\":\"white\",\"ticks\":\"\",\"title\":{\"standoff\":15},\"zerolinecolor\":\"white\",\"automargin\":true,\"zerolinewidth\":2},\"yaxis\":{\"gridcolor\":\"white\",\"linecolor\":\"white\",\"ticks\":\"\",\"title\":{\"standoff\":15},\"zerolinecolor\":\"white\",\"automargin\":true,\"zerolinewidth\":2},\"scene\":{\"xaxis\":{\"backgroundcolor\":\"#E5ECF6\",\"gridcolor\":\"white\",\"linecolor\":\"white\",\"showbackground\":true,\"ticks\":\"\",\"zerolinecolor\":\"white\",\"gridwidth\":2},\"yaxis\":{\"backgroundcolor\":\"#E5ECF6\",\"gridcolor\":\"white\",\"linecolor\":\"white\",\"showbackground\":true,\"ticks\":\"\",\"zerolinecolor\":\"white\",\"gridwidth\":2},\"zaxis\":{\"backgroundcolor\":\"#E5ECF6\",\"gridcolor\":\"white\",\"linecolor\":\"white\",\"showbackground\":true,\"ticks\":\"\",\"zerolinecolor\":\"white\",\"gridwidth\":2}},\"shapedefaults\":{\"line\":{\"color\":\"#2a3f5f\"}},\"annotationdefaults\":{\"arrowcolor\":\"#2a3f5f\",\"arrowhead\":0,\"arrowwidth\":1},\"geo\":{\"bgcolor\":\"white\",\"landcolor\":\"#E5ECF6\",\"subunitcolor\":\"white\",\"showland\":true,\"showlakes\":true,\"lakecolor\":\"white\"},\"title\":{\"x\":0.05},\"mapbox\":{\"style\":\"light\"}}},\"xaxis\":{\"anchor\":\"y\",\"domain\":[0.0,1.0],\"title\":{\"text\":\"Clusters\"}},\"yaxis\":{\"anchor\":\"x\",\"domain\":[0.0,1.0],\"title\":{\"text\":\"Count\"}},\"legend\":{\"title\":{\"text\":\"variable\"},\"tracegroupgap\":0},\"margin\":{\"t\":60},\"barmode\":\"relative\",\"title\":{\"text\":\"Cluster counts and Churn ratio\"},\"autosize\":false,\"width\":1000,\"height\":500},                        {\"responsive\": true}                    ).then(function(){\n",
              "                            \n",
              "var gd = document.getElementById('ef6f605e-bca0-4f61-8e8b-a35f273a9002');\n",
              "var x = new MutationObserver(function (mutations, observer) {{\n",
              "        var display = window.getComputedStyle(gd).display;\n",
              "        if (!display || display === 'none') {{\n",
              "            console.log([gd, 'removed!']);\n",
              "            Plotly.purge(gd);\n",
              "            observer.disconnect();\n",
              "        }}\n",
              "}});\n",
              "\n",
              "// Listen for the removal of the full notebook cells\n",
              "var notebookContainer = gd.closest('#notebook-container');\n",
              "if (notebookContainer) {{\n",
              "    x.observe(notebookContainer, {childList: true});\n",
              "}}\n",
              "\n",
              "// Listen for the clearing of the current output cell\n",
              "var outputEl = gd.closest('.output');\n",
              "if (outputEl) {{\n",
              "    x.observe(outputEl, {childList: true});\n",
              "}}\n",
              "\n",
              "                        })                };                            </script>        </div>\n",
              "</body>\n",
              "</html>"
            ]
          },
          "metadata": {}
        }
      ]
    },
    {
      "cell_type": "markdown",
      "source": [
        "* 각 클러스터의 고객수는 약 700명에서 1300명의 범위를 가진다.\n",
        "* cluster 3, 7에서 이탈율이 50%를 넘긴다.\n",
        "* 각 클러스터의 특징을 위해 LCA 결과를 radar chart으로 확인해보자."
      ],
      "metadata": {
        "id": "6tbfe0FVAcTj"
      }
    },
    {
      "cell_type": "code",
      "source": [
        "mm = model.get_mm_df().round(2)\n",
        "mm.index = [levels[2] for levels in mm.index]\n",
        "\n",
        "new_cat_map = {}\n",
        "for col in df_cat:\n",
        "    if col=='cluster' : continue\n",
        "    for idx, (key, val) in enumerate(category_mappings[col].items()) :\n",
        "        new_cat_map[col + '_' + str(val)] = key\n",
        "\n",
        "mm = mm.rename(index=new_cat_map)"
      ],
      "metadata": {
        "id": "58Qa0pAIShZ-"
      },
      "execution_count": 15,
      "outputs": []
    },
    {
      "cell_type": "code",
      "source": [
        "# 각 범주요인의 글자 길이를 줄이기 위함.\n",
        "mm.index = ['No Churn','Churn','Monthly','1yr','2yr',\n",
        "            'No Dep','Dependents','Protect',\n",
        "            'No int','No protect','Female','Male','DSL',\n",
        "            'Fiber optic','No int','High fee','Low fee',\n",
        "            'Mid fee','Multiple','No phone','Single',\n",
        "            'No int','No onl bck','Backup',\n",
        "            'No int','No onl sec','Security',\n",
        "            'No ppb','PaperX Bill','No_part','Partner',\n",
        "            'Bank','Credit card',\n",
        "            'Electronic','Mailed','No senior','Senior',\n",
        "            'No int','No stream mv','Stream MV',\n",
        "            'No int','No stream tv','Stream TV',\n",
        "            'No int','No tech','Tech Sup','High tenure',\n",
        "            'Low tenure','Mid tenure']"
      ],
      "metadata": {
        "id": "fOhbav1sMXsK"
      },
      "execution_count": 16,
      "outputs": []
    },
    {
      "cell_type": "code",
      "source": [
        "# State of the contract\n",
        "# state_label = ['Churn_Yes','Month-to-month','One year','Two year',\n",
        "#                'charge_high','charge_mid','charge_low',\n",
        "#                'tenure_high','tenure_mid','tenure_low']\n",
        "state_label = ['Churn','Monthly','1yr','2yr',\n",
        "               'High fee','Mid fee','Low fee',\n",
        "               'High tenure','Mid tenure','Low tenure']\n",
        "# Demographics\n",
        "# demo_label = ['w/Dependents','w/Partner','Female','Male','Senior']\n",
        "demo_label = ['Dependents','Partner','Female','Male','Senior']\n",
        "# Billing method\n",
        "# bill_label = ['Paperless Billing','Bank transfer (automatic)','Credit card (automatic)',\n",
        "#               'Electronic check','Mailed check']\n",
        "bill_label = ['PaperX Bill','Bank','Credit card',\n",
        "              'Electronic','Mailed']\n",
        "# Use Additiona; service?\n",
        "# service_label = ['Multiple Lines','Single Line','DSL','Fiber optic',\n",
        "#                  'Device Protection','Online Backup','Online Security',\n",
        "#                  'Streaming Movies','Streaming TV','Tech Support']\n",
        "service_label = ['Multiple','Single','DSL','Fiber optic',\n",
        "                 'Protect','Backup','Security',\n",
        "                 'Stream MV','Stream TV','Tech Sup']\n",
        "\n",
        "label_list = [state_label,demo_label,bill_label,service_label]\n",
        "id_vars_list = ['Contract_Status','Demographics','Billing','Service']\n",
        "\n",
        "rename_col_list = []\n",
        "for j in range(len(label_list)):\n",
        "    rename_col = {}\n",
        "    rename_col['index'] = id_vars_list[j]\n",
        "    for k in range(num_cluster):\n",
        "        rename_col[k] = 'cluster_' + str(k+1)\n",
        "    rename_col_list.append(rename_col)\n",
        "\n",
        "lca_list = [mm.loc[labels,:].reset_index() for labels in label_list]\n",
        "lca_list = [lca_list[j].rename(columns=rename_col_list[j]) for j in range(len(label_list))]\n",
        "lca_long_list = [lca_list[j].melt(id_vars=id_vars_list[j], var_name='Cluster', value_name='Probability') for j in range(len(label_list))]"
      ],
      "metadata": {
        "id": "rSuGkzvswPko"
      },
      "execution_count": 17,
      "outputs": []
    },
    {
      "cell_type": "code",
      "source": [
        "import plotly.graph_objects as go\n",
        "import plotly.express as px\n",
        "from plotly.subplots import make_subplots\n",
        "\n",
        "def Radar_SubPlot_for_Clusters(j,fig,row,col,show):\n",
        "    colors = px.colors.qualitative.Set2\n",
        "    for k in range(num_cluster):\n",
        "        r = lca_long_list[j].loc[lca_long_list[j]['Cluster']=='cluster_'+str(k+1), 'Probability'].tolist()\n",
        "        theta = lca_long_list[j].loc[lca_long_list[j]['Cluster']=='cluster_'+str(k+1), id_vars_list[j]].tolist()\n",
        "        fig.add_trace(go.Scatterpolar(\n",
        "            r=r,\n",
        "            theta=theta,\n",
        "            fill='toself',\n",
        "            line_color=colors[k],\n",
        "            opacity=0.8,\n",
        "            name='Cluster '+str(k+1),\n",
        "            showlegend=show,\n",
        "        ),row=row, col=col)\n",
        "        if row==8:\n",
        "            row=1; col+=1\n",
        "        else:\n",
        "            row+=1\n",
        "    return(fig,col)\n",
        "\n",
        "def Radar_Plot_for_Clusters():\n",
        "    fig = make_subplots(rows=8, cols=4,\n",
        "                        specs=[[{'type': 'polar'}]*4]*8)\n",
        "    show_legend = [True] + [False]*3\n",
        "    annotations_list = [\n",
        "       go.layout.Annotation(\n",
        "            showarrow=False,\n",
        "            text='<b>Contract</b>',\n",
        "            x=0.06,\n",
        "            y=1.04,\n",
        "            font=dict(\n",
        "                size=18\n",
        "            )\n",
        "        ),\n",
        "        go.layout.Annotation(\n",
        "            showarrow=False,\n",
        "            text='<b>Demographics</b>',\n",
        "            x=0.3,\n",
        "            y=1.04,\n",
        "            font=dict(\n",
        "                size=18\n",
        "            )\n",
        "        ),\n",
        "        go.layout.Annotation(\n",
        "            showarrow=False,\n",
        "            text='<b>Pay & Bill</b>',\n",
        "            x=0.63,\n",
        "            y=1.04,\n",
        "            font=dict(\n",
        "                size=18\n",
        "            )\n",
        "        ),\n",
        "        go.layout.Annotation(\n",
        "            showarrow=False,\n",
        "            text='<b>Service</b>',\n",
        "            x=0.93,\n",
        "            y=1.04,\n",
        "            font=dict(\n",
        "                size=18\n",
        "            )\n",
        "        )]\n",
        "    row = col = 1\n",
        "    for j in range(4):\n",
        "        fig, col = Radar_SubPlot_for_Clusters(j,fig,row,col,show_legend[j])\n",
        "    fig.update_polars(radialaxis=dict(range=[0, 1]))\n",
        "    fig.update_layout(annotations=annotations_list)\n",
        "    return(fig)"
      ],
      "metadata": {
        "id": "8AfxXiLuLwV3"
      },
      "execution_count": 18,
      "outputs": []
    },
    {
      "cell_type": "code",
      "source": [
        "fig = Radar_Plot_for_Clusters()\n",
        "\n",
        "\n",
        "fig.update_layout(autosize=False,width=1300,height=1500)\n",
        "fig.show()"
      ],
      "metadata": {
        "colab": {
          "base_uri": "https://localhost:8080/",
          "height": 1000
        },
        "id": "mF05w8drDe6y",
        "outputId": "c6d30a79-362a-48b5-ba9b-da62cc2758e8"
      },
      "execution_count": 19,
      "outputs": [
        {
          "output_type": "display_data",
          "data": {
            "text/html": [
              "<html>\n",
              "<head><meta charset=\"utf-8\" /></head>\n",
              "<body>\n",
              "    <div>            <script src=\"https://cdnjs.cloudflare.com/ajax/libs/mathjax/2.7.5/MathJax.js?config=TeX-AMS-MML_SVG\"></script><script type=\"text/javascript\">if (window.MathJax && window.MathJax.Hub && window.MathJax.Hub.Config) {window.MathJax.Hub.Config({SVG: {font: \"STIX-Web\"}});}</script>                <script type=\"text/javascript\">window.PlotlyConfig = {MathJaxConfig: 'local'};</script>\n",
              "        <script charset=\"utf-8\" src=\"https://cdn.plot.ly/plotly-2.24.1.min.js\"></script>                <div id=\"1f1201e2-370d-47e3-a46b-c179062963f0\" class=\"plotly-graph-div\" style=\"height:1500px; width:1300px;\"></div>            <script type=\"text/javascript\">                                    window.PLOTLYENV=window.PLOTLYENV || {};                                    if (document.getElementById(\"1f1201e2-370d-47e3-a46b-c179062963f0\")) {                    Plotly.newPlot(                        \"1f1201e2-370d-47e3-a46b-c179062963f0\",                        [{\"fill\":\"toself\",\"line\":{\"color\":\"rgb(102,194,165)\"},\"name\":\"Cluster 1\",\"opacity\":0.8,\"r\":[0.15,0.74,0.23,0.03,0.0,0.0,1.0,0.0,0.3,0.7],\"showlegend\":true,\"theta\":[\"Churn\",\"Monthly\",\"1yr\",\"2yr\",\"High fee\",\"Mid fee\",\"Low fee\",\"High tenure\",\"Mid tenure\",\"Low tenure\"],\"type\":\"scatterpolar\",\"subplot\":\"polar\"},{\"fill\":\"toself\",\"line\":{\"color\":\"rgb(252,141,98)\"},\"name\":\"Cluster 2\",\"opacity\":0.8,\"r\":[0.04,0.05,0.39,0.56,0.0,0.85,0.15,0.72,0.25,0.03],\"showlegend\":true,\"theta\":[\"Churn\",\"Monthly\",\"1yr\",\"2yr\",\"High fee\",\"Mid fee\",\"Low fee\",\"High tenure\",\"Mid tenure\",\"Low tenure\"],\"type\":\"scatterpolar\",\"subplot\":\"polar5\"},{\"fill\":\"toself\",\"line\":{\"color\":\"rgb(141,160,203)\"},\"name\":\"Cluster 3\",\"opacity\":0.8,\"r\":[0.55,0.9,0.1,0.0,1.0,0.0,0.0,0.15,0.52,0.33],\"showlegend\":true,\"theta\":[\"Churn\",\"Monthly\",\"1yr\",\"2yr\",\"High fee\",\"Mid fee\",\"Low fee\",\"High tenure\",\"Mid tenure\",\"Low tenure\"],\"type\":\"scatterpolar\",\"subplot\":\"polar9\"},{\"fill\":\"toself\",\"line\":{\"color\":\"rgb(231,138,195)\"},\"name\":\"Cluster 4\",\"opacity\":0.8,\"r\":[0.2,0.74,0.25,0.0,0.0,1.0,0.0,0.04,0.53,0.43],\"showlegend\":true,\"theta\":[\"Churn\",\"Monthly\",\"1yr\",\"2yr\",\"High fee\",\"Mid fee\",\"Low fee\",\"High tenure\",\"Mid tenure\",\"Low tenure\"],\"type\":\"scatterpolar\",\"subplot\":\"polar13\"},{\"fill\":\"toself\",\"line\":{\"color\":\"rgb(166,216,84)\"},\"name\":\"Cluster 5\",\"opacity\":0.8,\"r\":[0.01,0.01,0.25,0.75,0.0,0.0,1.0,0.55,0.38,0.07],\"showlegend\":true,\"theta\":[\"Churn\",\"Monthly\",\"1yr\",\"2yr\",\"High fee\",\"Mid fee\",\"Low fee\",\"High tenure\",\"Mid tenure\",\"Low tenure\"],\"type\":\"scatterpolar\",\"subplot\":\"polar17\"},{\"fill\":\"toself\",\"line\":{\"color\":\"rgb(255,217,47)\"},\"name\":\"Cluster 6\",\"opacity\":0.8,\"r\":[0.08,0.1,0.37,0.53,1.0,0.0,0.0,0.87,0.13,0.0],\"showlegend\":true,\"theta\":[\"Churn\",\"Monthly\",\"1yr\",\"2yr\",\"High fee\",\"Mid fee\",\"Low fee\",\"High tenure\",\"Mid tenure\",\"Low tenure\"],\"type\":\"scatterpolar\",\"subplot\":\"polar21\"},{\"fill\":\"toself\",\"line\":{\"color\":\"rgb(229,196,148)\"},\"name\":\"Cluster 7\",\"opacity\":0.8,\"r\":[0.59,0.99,0.01,0.0,0.0,1.0,0.0,0.05,0.27,0.68],\"showlegend\":true,\"theta\":[\"Churn\",\"Monthly\",\"1yr\",\"2yr\",\"High fee\",\"Mid fee\",\"Low fee\",\"High tenure\",\"Mid tenure\",\"Low tenure\"],\"type\":\"scatterpolar\",\"subplot\":\"polar25\"},{\"fill\":\"toself\",\"line\":{\"color\":\"rgb(179,179,179)\"},\"name\":\"Cluster 8\",\"opacity\":0.8,\"r\":[0.37,0.9,0.09,0.01,0.0,0.0,1.0,0.05,0.29,0.66],\"showlegend\":true,\"theta\":[\"Churn\",\"Monthly\",\"1yr\",\"2yr\",\"High fee\",\"Mid fee\",\"Low fee\",\"High tenure\",\"Mid tenure\",\"Low tenure\"],\"type\":\"scatterpolar\",\"subplot\":\"polar29\"},{\"fill\":\"toself\",\"line\":{\"color\":\"rgb(102,194,165)\"},\"name\":\"Cluster 1\",\"opacity\":0.8,\"r\":[0.24,0.26,0.48,0.52,0.02],\"showlegend\":false,\"theta\":[\"Dependents\",\"Partner\",\"Female\",\"Male\",\"Senior\"],\"type\":\"scatterpolar\",\"subplot\":\"polar2\"},{\"fill\":\"toself\",\"line\":{\"color\":\"rgb(252,141,98)\"},\"name\":\"Cluster 2\",\"opacity\":0.8,\"r\":[0.3,0.7,0.47,0.53,0.1],\"showlegend\":false,\"theta\":[\"Dependents\",\"Partner\",\"Female\",\"Male\",\"Senior\"],\"type\":\"scatterpolar\",\"subplot\":\"polar6\"},{\"fill\":\"toself\",\"line\":{\"color\":\"rgb(141,160,203)\"},\"name\":\"Cluster 3\",\"opacity\":0.8,\"r\":[0.1,0.43,0.49,0.51,0.32],\"showlegend\":false,\"theta\":[\"Dependents\",\"Partner\",\"Female\",\"Male\",\"Senior\"],\"type\":\"scatterpolar\",\"subplot\":\"polar10\"},{\"fill\":\"toself\",\"line\":{\"color\":\"rgb(231,138,195)\"},\"name\":\"Cluster 4\",\"opacity\":0.8,\"r\":[0.25,0.38,0.52,0.48,0.07],\"showlegend\":false,\"theta\":[\"Dependents\",\"Partner\",\"Female\",\"Male\",\"Senior\"],\"type\":\"scatterpolar\",\"subplot\":\"polar14\"},{\"fill\":\"toself\",\"line\":{\"color\":\"rgb(166,216,84)\"},\"name\":\"Cluster 5\",\"opacity\":0.8,\"r\":[0.48,0.67,0.5,0.5,0.04],\"showlegend\":false,\"theta\":[\"Dependents\",\"Partner\",\"Female\",\"Male\",\"Senior\"],\"type\":\"scatterpolar\",\"subplot\":\"polar18\"},{\"fill\":\"toself\",\"line\":{\"color\":\"rgb(255,217,47)\"},\"name\":\"Cluster 6\",\"opacity\":0.8,\"r\":[0.29,0.73,0.51,0.49,0.18],\"showlegend\":false,\"theta\":[\"Dependents\",\"Partner\",\"Female\",\"Male\",\"Senior\"],\"type\":\"scatterpolar\",\"subplot\":\"polar22\"},{\"fill\":\"toself\",\"line\":{\"color\":\"rgb(229,196,148)\"},\"name\":\"Cluster 7\",\"opacity\":0.8,\"r\":[0.07,0.29,0.51,0.49,0.28],\"showlegend\":false,\"theta\":[\"Dependents\",\"Partner\",\"Female\",\"Male\",\"Senior\"],\"type\":\"scatterpolar\",\"subplot\":\"polar26\"},{\"fill\":\"toself\",\"line\":{\"color\":\"rgb(179,179,179)\"},\"name\":\"Cluster 8\",\"opacity\":0.8,\"r\":[0.18,0.3,0.47,0.53,0.15],\"showlegend\":false,\"theta\":[\"Dependents\",\"Partner\",\"Female\",\"Male\",\"Senior\"],\"type\":\"scatterpolar\",\"subplot\":\"polar30\"},{\"fill\":\"toself\",\"line\":{\"color\":\"rgb(102,194,165)\"},\"name\":\"Cluster 1\",\"opacity\":0.8,\"r\":[0.31,0.12,0.12,0.12,0.63],\"showlegend\":false,\"theta\":[\"PaperX Bill\",\"Bank\",\"Credit card\",\"Electronic\",\"Mailed\"],\"type\":\"scatterpolar\",\"subplot\":\"polar3\"},{\"fill\":\"toself\",\"line\":{\"color\":\"rgb(252,141,98)\"},\"name\":\"Cluster 2\",\"opacity\":0.8,\"r\":[0.5,0.36,0.37,0.13,0.15],\"showlegend\":false,\"theta\":[\"PaperX Bill\",\"Bank\",\"Credit card\",\"Electronic\",\"Mailed\"],\"type\":\"scatterpolar\",\"subplot\":\"polar7\"},{\"fill\":\"toself\",\"line\":{\"color\":\"rgb(141,160,203)\"},\"name\":\"Cluster 3\",\"opacity\":0.8,\"r\":[0.82,0.15,0.14,0.64,0.07],\"showlegend\":false,\"theta\":[\"PaperX Bill\",\"Bank\",\"Credit card\",\"Electronic\",\"Mailed\"],\"type\":\"scatterpolar\",\"subplot\":\"polar11\"},{\"fill\":\"toself\",\"line\":{\"color\":\"rgb(231,138,195)\"},\"name\":\"Cluster 4\",\"opacity\":0.8,\"r\":[0.56,0.18,0.19,0.31,0.31],\"showlegend\":false,\"theta\":[\"PaperX Bill\",\"Bank\",\"Credit card\",\"Electronic\",\"Mailed\"],\"type\":\"scatterpolar\",\"subplot\":\"polar15\"},{\"fill\":\"toself\",\"line\":{\"color\":\"rgb(166,216,84)\"},\"name\":\"Cluster 5\",\"opacity\":0.8,\"r\":[0.28,0.3,0.3,0.04,0.36],\"showlegend\":false,\"theta\":[\"PaperX Bill\",\"Bank\",\"Credit card\",\"Electronic\",\"Mailed\"],\"type\":\"scatterpolar\",\"subplot\":\"polar19\"},{\"fill\":\"toself\",\"line\":{\"color\":\"rgb(255,217,47)\"},\"name\":\"Cluster 6\",\"opacity\":0.8,\"r\":[0.71,0.34,0.35,0.24,0.07],\"showlegend\":false,\"theta\":[\"PaperX Bill\",\"Bank\",\"Credit card\",\"Electronic\",\"Mailed\"],\"type\":\"scatterpolar\",\"subplot\":\"polar23\"},{\"fill\":\"toself\",\"line\":{\"color\":\"rgb(229,196,148)\"},\"name\":\"Cluster 7\",\"opacity\":0.8,\"r\":[0.76,0.14,0.12,0.61,0.13],\"showlegend\":false,\"theta\":[\"PaperX Bill\",\"Bank\",\"Credit card\",\"Electronic\",\"Mailed\"],\"type\":\"scatterpolar\",\"subplot\":\"polar27\"},{\"fill\":\"toself\",\"line\":{\"color\":\"rgb(179,179,179)\"},\"name\":\"Cluster 8\",\"opacity\":0.8,\"r\":[0.58,0.14,0.13,0.4,0.34],\"showlegend\":false,\"theta\":[\"PaperX Bill\",\"Bank\",\"Credit card\",\"Electronic\",\"Mailed\"],\"type\":\"scatterpolar\",\"subplot\":\"polar31\"},{\"fill\":\"toself\",\"line\":{\"color\":\"rgb(102,194,165)\"},\"name\":\"Cluster 1\",\"opacity\":0.8,\"r\":[0.08,0.92,0.0,0.0,0.0,0.0,0.0,0.0,0.0,0.0],\"showlegend\":false,\"theta\":[\"Multiple\",\"Single\",\"DSL\",\"Fiber optic\",\"Protect\",\"Backup\",\"Security\",\"Stream MV\",\"Stream TV\",\"Tech Sup\"],\"type\":\"scatterpolar\",\"subplot\":\"polar4\"},{\"fill\":\"toself\",\"line\":{\"color\":\"rgb(252,141,98)\"},\"name\":\"Cluster 2\",\"opacity\":0.8,\"r\":[0.35,0.34,0.97,0.03,0.67,0.59,0.69,0.52,0.5,0.68],\"showlegend\":false,\"theta\":[\"Multiple\",\"Single\",\"DSL\",\"Fiber optic\",\"Protect\",\"Backup\",\"Security\",\"Stream MV\",\"Stream TV\",\"Tech Sup\"],\"type\":\"scatterpolar\",\"subplot\":\"polar8\"},{\"fill\":\"toself\",\"line\":{\"color\":\"rgb(141,160,203)\"},\"name\":\"Cluster 3\",\"opacity\":0.8,\"r\":[0.69,0.31,0.0,1.0,0.45,0.4,0.19,0.74,0.74,0.21],\"showlegend\":false,\"theta\":[\"Multiple\",\"Single\",\"DSL\",\"Fiber optic\",\"Protect\",\"Backup\",\"Security\",\"Stream MV\",\"Stream TV\",\"Tech Sup\"],\"type\":\"scatterpolar\",\"subplot\":\"polar12\"},{\"fill\":\"toself\",\"line\":{\"color\":\"rgb(231,138,195)\"},\"name\":\"Cluster 4\",\"opacity\":0.8,\"r\":[0.3,0.65,0.93,0.07,0.33,0.42,0.45,0.35,0.35,0.45],\"showlegend\":false,\"theta\":[\"Multiple\",\"Single\",\"DSL\",\"Fiber optic\",\"Protect\",\"Backup\",\"Security\",\"Stream MV\",\"Stream TV\",\"Tech Sup\"],\"type\":\"scatterpolar\",\"subplot\":\"polar16\"},{\"fill\":\"toself\",\"line\":{\"color\":\"rgb(166,216,84)\"},\"name\":\"Cluster 5\",\"opacity\":0.8,\"r\":[0.35,0.65,0.0,0.0,0.0,0.0,0.0,0.0,0.0,0.0],\"showlegend\":false,\"theta\":[\"Multiple\",\"Single\",\"DSL\",\"Fiber optic\",\"Protect\",\"Backup\",\"Security\",\"Stream MV\",\"Stream TV\",\"Tech Sup\"],\"type\":\"scatterpolar\",\"subplot\":\"polar20\"},{\"fill\":\"toself\",\"line\":{\"color\":\"rgb(255,217,47)\"},\"name\":\"Cluster 6\",\"opacity\":0.8,\"r\":[0.8,0.2,0.17,0.83,0.78,0.75,0.61,0.84,0.84,0.67],\"showlegend\":false,\"theta\":[\"Multiple\",\"Single\",\"DSL\",\"Fiber optic\",\"Protect\",\"Backup\",\"Security\",\"Stream MV\",\"Stream TV\",\"Tech Sup\"],\"type\":\"scatterpolar\",\"subplot\":\"polar24\"},{\"fill\":\"toself\",\"line\":{\"color\":\"rgb(229,196,148)\"},\"name\":\"Cluster 7\",\"opacity\":0.8,\"r\":[0.38,0.62,0.05,0.95,0.12,0.18,0.09,0.09,0.1,0.04],\"showlegend\":false,\"theta\":[\"Multiple\",\"Single\",\"DSL\",\"Fiber optic\",\"Protect\",\"Backup\",\"Security\",\"Stream MV\",\"Stream TV\",\"Tech Sup\"],\"type\":\"scatterpolar\",\"subplot\":\"polar28\"},{\"fill\":\"toself\",\"line\":{\"color\":\"rgb(179,179,179)\"},\"name\":\"Cluster 8\",\"opacity\":0.8,\"r\":[0.04,0.41,1.0,0.0,0.15,0.2,0.18,0.14,0.13,0.18],\"showlegend\":false,\"theta\":[\"Multiple\",\"Single\",\"DSL\",\"Fiber optic\",\"Protect\",\"Backup\",\"Security\",\"Stream MV\",\"Stream TV\",\"Tech Sup\"],\"type\":\"scatterpolar\",\"subplot\":\"polar32\"}],                        {\"template\":{\"data\":{\"histogram2dcontour\":[{\"type\":\"histogram2dcontour\",\"colorbar\":{\"outlinewidth\":0,\"ticks\":\"\"},\"colorscale\":[[0.0,\"#0d0887\"],[0.1111111111111111,\"#46039f\"],[0.2222222222222222,\"#7201a8\"],[0.3333333333333333,\"#9c179e\"],[0.4444444444444444,\"#bd3786\"],[0.5555555555555556,\"#d8576b\"],[0.6666666666666666,\"#ed7953\"],[0.7777777777777778,\"#fb9f3a\"],[0.8888888888888888,\"#fdca26\"],[1.0,\"#f0f921\"]]}],\"choropleth\":[{\"type\":\"choropleth\",\"colorbar\":{\"outlinewidth\":0,\"ticks\":\"\"}}],\"histogram2d\":[{\"type\":\"histogram2d\",\"colorbar\":{\"outlinewidth\":0,\"ticks\":\"\"},\"colorscale\":[[0.0,\"#0d0887\"],[0.1111111111111111,\"#46039f\"],[0.2222222222222222,\"#7201a8\"],[0.3333333333333333,\"#9c179e\"],[0.4444444444444444,\"#bd3786\"],[0.5555555555555556,\"#d8576b\"],[0.6666666666666666,\"#ed7953\"],[0.7777777777777778,\"#fb9f3a\"],[0.8888888888888888,\"#fdca26\"],[1.0,\"#f0f921\"]]}],\"heatmap\":[{\"type\":\"heatmap\",\"colorbar\":{\"outlinewidth\":0,\"ticks\":\"\"},\"colorscale\":[[0.0,\"#0d0887\"],[0.1111111111111111,\"#46039f\"],[0.2222222222222222,\"#7201a8\"],[0.3333333333333333,\"#9c179e\"],[0.4444444444444444,\"#bd3786\"],[0.5555555555555556,\"#d8576b\"],[0.6666666666666666,\"#ed7953\"],[0.7777777777777778,\"#fb9f3a\"],[0.8888888888888888,\"#fdca26\"],[1.0,\"#f0f921\"]]}],\"heatmapgl\":[{\"type\":\"heatmapgl\",\"colorbar\":{\"outlinewidth\":0,\"ticks\":\"\"},\"colorscale\":[[0.0,\"#0d0887\"],[0.1111111111111111,\"#46039f\"],[0.2222222222222222,\"#7201a8\"],[0.3333333333333333,\"#9c179e\"],[0.4444444444444444,\"#bd3786\"],[0.5555555555555556,\"#d8576b\"],[0.6666666666666666,\"#ed7953\"],[0.7777777777777778,\"#fb9f3a\"],[0.8888888888888888,\"#fdca26\"],[1.0,\"#f0f921\"]]}],\"contourcarpet\":[{\"type\":\"contourcarpet\",\"colorbar\":{\"outlinewidth\":0,\"ticks\":\"\"}}],\"contour\":[{\"type\":\"contour\",\"colorbar\":{\"outlinewidth\":0,\"ticks\":\"\"},\"colorscale\":[[0.0,\"#0d0887\"],[0.1111111111111111,\"#46039f\"],[0.2222222222222222,\"#7201a8\"],[0.3333333333333333,\"#9c179e\"],[0.4444444444444444,\"#bd3786\"],[0.5555555555555556,\"#d8576b\"],[0.6666666666666666,\"#ed7953\"],[0.7777777777777778,\"#fb9f3a\"],[0.8888888888888888,\"#fdca26\"],[1.0,\"#f0f921\"]]}],\"surface\":[{\"type\":\"surface\",\"colorbar\":{\"outlinewidth\":0,\"ticks\":\"\"},\"colorscale\":[[0.0,\"#0d0887\"],[0.1111111111111111,\"#46039f\"],[0.2222222222222222,\"#7201a8\"],[0.3333333333333333,\"#9c179e\"],[0.4444444444444444,\"#bd3786\"],[0.5555555555555556,\"#d8576b\"],[0.6666666666666666,\"#ed7953\"],[0.7777777777777778,\"#fb9f3a\"],[0.8888888888888888,\"#fdca26\"],[1.0,\"#f0f921\"]]}],\"mesh3d\":[{\"type\":\"mesh3d\",\"colorbar\":{\"outlinewidth\":0,\"ticks\":\"\"}}],\"scatter\":[{\"fillpattern\":{\"fillmode\":\"overlay\",\"size\":10,\"solidity\":0.2},\"type\":\"scatter\"}],\"parcoords\":[{\"type\":\"parcoords\",\"line\":{\"colorbar\":{\"outlinewidth\":0,\"ticks\":\"\"}}}],\"scatterpolargl\":[{\"type\":\"scatterpolargl\",\"marker\":{\"colorbar\":{\"outlinewidth\":0,\"ticks\":\"\"}}}],\"bar\":[{\"error_x\":{\"color\":\"#2a3f5f\"},\"error_y\":{\"color\":\"#2a3f5f\"},\"marker\":{\"line\":{\"color\":\"#E5ECF6\",\"width\":0.5},\"pattern\":{\"fillmode\":\"overlay\",\"size\":10,\"solidity\":0.2}},\"type\":\"bar\"}],\"scattergeo\":[{\"type\":\"scattergeo\",\"marker\":{\"colorbar\":{\"outlinewidth\":0,\"ticks\":\"\"}}}],\"scatterpolar\":[{\"type\":\"scatterpolar\",\"marker\":{\"colorbar\":{\"outlinewidth\":0,\"ticks\":\"\"}}}],\"histogram\":[{\"marker\":{\"pattern\":{\"fillmode\":\"overlay\",\"size\":10,\"solidity\":0.2}},\"type\":\"histogram\"}],\"scattergl\":[{\"type\":\"scattergl\",\"marker\":{\"colorbar\":{\"outlinewidth\":0,\"ticks\":\"\"}}}],\"scatter3d\":[{\"type\":\"scatter3d\",\"line\":{\"colorbar\":{\"outlinewidth\":0,\"ticks\":\"\"}},\"marker\":{\"colorbar\":{\"outlinewidth\":0,\"ticks\":\"\"}}}],\"scattermapbox\":[{\"type\":\"scattermapbox\",\"marker\":{\"colorbar\":{\"outlinewidth\":0,\"ticks\":\"\"}}}],\"scatterternary\":[{\"type\":\"scatterternary\",\"marker\":{\"colorbar\":{\"outlinewidth\":0,\"ticks\":\"\"}}}],\"scattercarpet\":[{\"type\":\"scattercarpet\",\"marker\":{\"colorbar\":{\"outlinewidth\":0,\"ticks\":\"\"}}}],\"carpet\":[{\"aaxis\":{\"endlinecolor\":\"#2a3f5f\",\"gridcolor\":\"white\",\"linecolor\":\"white\",\"minorgridcolor\":\"white\",\"startlinecolor\":\"#2a3f5f\"},\"baxis\":{\"endlinecolor\":\"#2a3f5f\",\"gridcolor\":\"white\",\"linecolor\":\"white\",\"minorgridcolor\":\"white\",\"startlinecolor\":\"#2a3f5f\"},\"type\":\"carpet\"}],\"table\":[{\"cells\":{\"fill\":{\"color\":\"#EBF0F8\"},\"line\":{\"color\":\"white\"}},\"header\":{\"fill\":{\"color\":\"#C8D4E3\"},\"line\":{\"color\":\"white\"}},\"type\":\"table\"}],\"barpolar\":[{\"marker\":{\"line\":{\"color\":\"#E5ECF6\",\"width\":0.5},\"pattern\":{\"fillmode\":\"overlay\",\"size\":10,\"solidity\":0.2}},\"type\":\"barpolar\"}],\"pie\":[{\"automargin\":true,\"type\":\"pie\"}]},\"layout\":{\"autotypenumbers\":\"strict\",\"colorway\":[\"#636efa\",\"#EF553B\",\"#00cc96\",\"#ab63fa\",\"#FFA15A\",\"#19d3f3\",\"#FF6692\",\"#B6E880\",\"#FF97FF\",\"#FECB52\"],\"font\":{\"color\":\"#2a3f5f\"},\"hovermode\":\"closest\",\"hoverlabel\":{\"align\":\"left\"},\"paper_bgcolor\":\"white\",\"plot_bgcolor\":\"#E5ECF6\",\"polar\":{\"bgcolor\":\"#E5ECF6\",\"angularaxis\":{\"gridcolor\":\"white\",\"linecolor\":\"white\",\"ticks\":\"\"},\"radialaxis\":{\"gridcolor\":\"white\",\"linecolor\":\"white\",\"ticks\":\"\"}},\"ternary\":{\"bgcolor\":\"#E5ECF6\",\"aaxis\":{\"gridcolor\":\"white\",\"linecolor\":\"white\",\"ticks\":\"\"},\"baxis\":{\"gridcolor\":\"white\",\"linecolor\":\"white\",\"ticks\":\"\"},\"caxis\":{\"gridcolor\":\"white\",\"linecolor\":\"white\",\"ticks\":\"\"}},\"coloraxis\":{\"colorbar\":{\"outlinewidth\":0,\"ticks\":\"\"}},\"colorscale\":{\"sequential\":[[0.0,\"#0d0887\"],[0.1111111111111111,\"#46039f\"],[0.2222222222222222,\"#7201a8\"],[0.3333333333333333,\"#9c179e\"],[0.4444444444444444,\"#bd3786\"],[0.5555555555555556,\"#d8576b\"],[0.6666666666666666,\"#ed7953\"],[0.7777777777777778,\"#fb9f3a\"],[0.8888888888888888,\"#fdca26\"],[1.0,\"#f0f921\"]],\"sequentialminus\":[[0.0,\"#0d0887\"],[0.1111111111111111,\"#46039f\"],[0.2222222222222222,\"#7201a8\"],[0.3333333333333333,\"#9c179e\"],[0.4444444444444444,\"#bd3786\"],[0.5555555555555556,\"#d8576b\"],[0.6666666666666666,\"#ed7953\"],[0.7777777777777778,\"#fb9f3a\"],[0.8888888888888888,\"#fdca26\"],[1.0,\"#f0f921\"]],\"diverging\":[[0,\"#8e0152\"],[0.1,\"#c51b7d\"],[0.2,\"#de77ae\"],[0.3,\"#f1b6da\"],[0.4,\"#fde0ef\"],[0.5,\"#f7f7f7\"],[0.6,\"#e6f5d0\"],[0.7,\"#b8e186\"],[0.8,\"#7fbc41\"],[0.9,\"#4d9221\"],[1,\"#276419\"]]},\"xaxis\":{\"gridcolor\":\"white\",\"linecolor\":\"white\",\"ticks\":\"\",\"title\":{\"standoff\":15},\"zerolinecolor\":\"white\",\"automargin\":true,\"zerolinewidth\":2},\"yaxis\":{\"gridcolor\":\"white\",\"linecolor\":\"white\",\"ticks\":\"\",\"title\":{\"standoff\":15},\"zerolinecolor\":\"white\",\"automargin\":true,\"zerolinewidth\":2},\"scene\":{\"xaxis\":{\"backgroundcolor\":\"#E5ECF6\",\"gridcolor\":\"white\",\"linecolor\":\"white\",\"showbackground\":true,\"ticks\":\"\",\"zerolinecolor\":\"white\",\"gridwidth\":2},\"yaxis\":{\"backgroundcolor\":\"#E5ECF6\",\"gridcolor\":\"white\",\"linecolor\":\"white\",\"showbackground\":true,\"ticks\":\"\",\"zerolinecolor\":\"white\",\"gridwidth\":2},\"zaxis\":{\"backgroundcolor\":\"#E5ECF6\",\"gridcolor\":\"white\",\"linecolor\":\"white\",\"showbackground\":true,\"ticks\":\"\",\"zerolinecolor\":\"white\",\"gridwidth\":2}},\"shapedefaults\":{\"line\":{\"color\":\"#2a3f5f\"}},\"annotationdefaults\":{\"arrowcolor\":\"#2a3f5f\",\"arrowhead\":0,\"arrowwidth\":1},\"geo\":{\"bgcolor\":\"white\",\"landcolor\":\"#E5ECF6\",\"subunitcolor\":\"white\",\"showland\":true,\"showlakes\":true,\"lakecolor\":\"white\"},\"title\":{\"x\":0.05},\"mapbox\":{\"style\":\"light\"}}},\"polar\":{\"domain\":{\"x\":[0.0,0.2125],\"y\":[0.9078124999999999,0.9999999999999999]},\"radialaxis\":{\"range\":[0,1]}},\"polar2\":{\"domain\":{\"x\":[0.2625,0.475],\"y\":[0.9078124999999999,0.9999999999999999]},\"radialaxis\":{\"range\":[0,1]}},\"polar3\":{\"domain\":{\"x\":[0.525,0.7375],\"y\":[0.9078124999999999,0.9999999999999999]},\"radialaxis\":{\"range\":[0,1]}},\"polar4\":{\"domain\":{\"x\":[0.7875,1.0],\"y\":[0.9078124999999999,0.9999999999999999]},\"radialaxis\":{\"range\":[0,1]}},\"polar5\":{\"domain\":{\"x\":[0.0,0.2125],\"y\":[0.778125,0.8703124999999999]},\"radialaxis\":{\"range\":[0,1]}},\"polar6\":{\"domain\":{\"x\":[0.2625,0.475],\"y\":[0.778125,0.8703124999999999]},\"radialaxis\":{\"range\":[0,1]}},\"polar7\":{\"domain\":{\"x\":[0.525,0.7375],\"y\":[0.778125,0.8703124999999999]},\"radialaxis\":{\"range\":[0,1]}},\"polar8\":{\"domain\":{\"x\":[0.7875,1.0],\"y\":[0.778125,0.8703124999999999]},\"radialaxis\":{\"range\":[0,1]}},\"polar9\":{\"domain\":{\"x\":[0.0,0.2125],\"y\":[0.6484375,0.740625]},\"radialaxis\":{\"range\":[0,1]}},\"polar10\":{\"domain\":{\"x\":[0.2625,0.475],\"y\":[0.6484375,0.740625]},\"radialaxis\":{\"range\":[0,1]}},\"polar11\":{\"domain\":{\"x\":[0.525,0.7375],\"y\":[0.6484375,0.740625]},\"radialaxis\":{\"range\":[0,1]}},\"polar12\":{\"domain\":{\"x\":[0.7875,1.0],\"y\":[0.6484375,0.740625]},\"radialaxis\":{\"range\":[0,1]}},\"polar13\":{\"domain\":{\"x\":[0.0,0.2125],\"y\":[0.51875,0.6109375]},\"radialaxis\":{\"range\":[0,1]}},\"polar14\":{\"domain\":{\"x\":[0.2625,0.475],\"y\":[0.51875,0.6109375]},\"radialaxis\":{\"range\":[0,1]}},\"polar15\":{\"domain\":{\"x\":[0.525,0.7375],\"y\":[0.51875,0.6109375]},\"radialaxis\":{\"range\":[0,1]}},\"polar16\":{\"domain\":{\"x\":[0.7875,1.0],\"y\":[0.51875,0.6109375]},\"radialaxis\":{\"range\":[0,1]}},\"polar17\":{\"domain\":{\"x\":[0.0,0.2125],\"y\":[0.38906250000000003,0.48125000000000007]},\"radialaxis\":{\"range\":[0,1]}},\"polar18\":{\"domain\":{\"x\":[0.2625,0.475],\"y\":[0.38906250000000003,0.48125000000000007]},\"radialaxis\":{\"range\":[0,1]}},\"polar19\":{\"domain\":{\"x\":[0.525,0.7375],\"y\":[0.38906250000000003,0.48125000000000007]},\"radialaxis\":{\"range\":[0,1]}},\"polar20\":{\"domain\":{\"x\":[0.7875,1.0],\"y\":[0.38906250000000003,0.48125000000000007]},\"radialaxis\":{\"range\":[0,1]}},\"polar21\":{\"domain\":{\"x\":[0.0,0.2125],\"y\":[0.259375,0.3515625]},\"radialaxis\":{\"range\":[0,1]}},\"polar22\":{\"domain\":{\"x\":[0.2625,0.475],\"y\":[0.259375,0.3515625]},\"radialaxis\":{\"range\":[0,1]}},\"polar23\":{\"domain\":{\"x\":[0.525,0.7375],\"y\":[0.259375,0.3515625]},\"radialaxis\":{\"range\":[0,1]}},\"polar24\":{\"domain\":{\"x\":[0.7875,1.0],\"y\":[0.259375,0.3515625]},\"radialaxis\":{\"range\":[0,1]}},\"polar25\":{\"domain\":{\"x\":[0.0,0.2125],\"y\":[0.1296875,0.22187500000000002]},\"radialaxis\":{\"range\":[0,1]}},\"polar26\":{\"domain\":{\"x\":[0.2625,0.475],\"y\":[0.1296875,0.22187500000000002]},\"radialaxis\":{\"range\":[0,1]}},\"polar27\":{\"domain\":{\"x\":[0.525,0.7375],\"y\":[0.1296875,0.22187500000000002]},\"radialaxis\":{\"range\":[0,1]}},\"polar28\":{\"domain\":{\"x\":[0.7875,1.0],\"y\":[0.1296875,0.22187500000000002]},\"radialaxis\":{\"range\":[0,1]}},\"polar29\":{\"domain\":{\"x\":[0.0,0.2125],\"y\":[0.0,0.0921875]},\"radialaxis\":{\"range\":[0,1]}},\"polar30\":{\"domain\":{\"x\":[0.2625,0.475],\"y\":[0.0,0.0921875]},\"radialaxis\":{\"range\":[0,1]}},\"polar31\":{\"domain\":{\"x\":[0.525,0.7375],\"y\":[0.0,0.0921875]},\"radialaxis\":{\"range\":[0,1]}},\"polar32\":{\"domain\":{\"x\":[0.7875,1.0],\"y\":[0.0,0.0921875]},\"radialaxis\":{\"range\":[0,1]}},\"annotations\":[{\"font\":{\"size\":18},\"showarrow\":false,\"text\":\"\\u003cb\\u003eContract\\u003c\\u002fb\\u003e\",\"x\":0.06,\"y\":1.04},{\"font\":{\"size\":18},\"showarrow\":false,\"text\":\"\\u003cb\\u003eDemographics\\u003c\\u002fb\\u003e\",\"x\":0.3,\"y\":1.04},{\"font\":{\"size\":18},\"showarrow\":false,\"text\":\"\\u003cb\\u003ePay & Bill\\u003c\\u002fb\\u003e\",\"x\":0.63,\"y\":1.04},{\"font\":{\"size\":18},\"showarrow\":false,\"text\":\"\\u003cb\\u003eService\\u003c\\u002fb\\u003e\",\"x\":0.93,\"y\":1.04}],\"autosize\":false,\"width\":1300,\"height\":1500},                        {\"responsive\": true}                    ).then(function(){\n",
              "                            \n",
              "var gd = document.getElementById('1f1201e2-370d-47e3-a46b-c179062963f0');\n",
              "var x = new MutationObserver(function (mutations, observer) {{\n",
              "        var display = window.getComputedStyle(gd).display;\n",
              "        if (!display || display === 'none') {{\n",
              "            console.log([gd, 'removed!']);\n",
              "            Plotly.purge(gd);\n",
              "            observer.disconnect();\n",
              "        }}\n",
              "}});\n",
              "\n",
              "// Listen for the removal of the full notebook cells\n",
              "var notebookContainer = gd.closest('#notebook-container');\n",
              "if (notebookContainer) {{\n",
              "    x.observe(notebookContainer, {childList: true});\n",
              "}}\n",
              "\n",
              "// Listen for the clearing of the current output cell\n",
              "var outputEl = gd.closest('.output');\n",
              "if (outputEl) {{\n",
              "    x.observe(outputEl, {childList: true});\n",
              "}}\n",
              "\n",
              "                        })                };                            </script>        </div>\n",
              "</body>\n",
              "</html>"
            ]
          },
          "metadata": {}
        }
      ]
    },
    {
      "cell_type": "markdown",
      "source": [
        "* Radar모양으로 클러스터간 구분이 쉽고 특징도 알기 쉽다.\n",
        "* 하지만 클러스터가 많은 만큼 여전히 한눈에 파악하기 어렵다. Heatmap으로 다시 나타내보자."
      ],
      "metadata": {
        "id": "Lk3zLDjEDaGX"
      }
    },
    {
      "cell_type": "code",
      "source": [
        "import numpy as np\n",
        "\n",
        "reorder_cluster = [5,1,2,6,3,7,4,0]\n",
        "mm = mm[reorder_cluster]\n",
        "\n",
        "label_list = [['Churn'],\n",
        "              ['Multiple','Single'],\n",
        "              ['DSL','Fiber optic'],\n",
        "              ['Protect'],\n",
        "              ['Backup'],\n",
        "              ['Security'],\n",
        "              ['Stream MV'],\n",
        "              ['Stream TV'],\n",
        "              ['Tech Sup'],\n",
        "              ['High fee','Mid fee','Low fee'],\n",
        "              ['High tenure','Mid tenure','Low tenure'],\n",
        "              ['Monthly','1yr','2yr'],\n",
        "              ['Female','Male'],\n",
        "              ['Dependents'],\n",
        "              ['Partner'],\n",
        "              ['Senior'],\n",
        "              ['Bank','Credit card','Electronic','Mailed'],\n",
        "              ['PaperX Bill']]\n",
        "x_axis = ['Churn','Phone','Internet','Protect','Backup','Security','Stream MV','Stream TV','Tech Sup','Charge','Tenure','Contract','Gender','Depend','Partner','Senior','Payment','PaperX Bill']\n",
        "x_axis = ['<b>'+x+'</b>' for x in x_axis]\n",
        "df_list = [mm.loc[label,:] for label in label_list]\n",
        "df_list = [df.rename(columns=rename_col_list[0]) for df in df_list]\n",
        "\n",
        "most_cat_list = np.array([[[label_list[j][np.argmax(df_list[j][col])]] for col in df_list[j].columns] for j in range(len(df_list))])\n",
        "most_prob_list = np.array([[[df_list[j][col][np.argmax(df_list[j][col])]] for col in df_list[j].columns] for j in range(len(df_list))])\n",
        "\n",
        "show_threshold = [1/2] + [1/3] + [1/2]*7 + [1/3]*3 + [1/2]*4 + [1/4] + [1/2]\n",
        "for j in range(len(df_list)): most_cat_list[j][most_prob_list[j] < show_threshold[j]] = ''\n",
        "\n",
        "most_cat = most_cat_list[0]\n",
        "most_prob = most_prob_list[0]\n",
        "for i in range(1,len(most_cat_list),1):\n",
        "    most_cat = np.concatenate([most_cat,most_cat_list[i]],axis=1).tolist()\n",
        "    most_prob = np.concatenate([most_prob,most_prob_list[i]],axis=1).tolist()"
      ],
      "metadata": {
        "id": "dtTkVdxvEUQq"
      },
      "execution_count": 20,
      "outputs": []
    },
    {
      "cell_type": "code",
      "source": [
        "import plotly.graph_objects as go\n",
        "\n",
        "cluster_name = ['<b>'+'Cluster '+str(k+1)+'</b>' for k in reorder_cluster]\n",
        "\n",
        "fig = go.Figure(data=go.Heatmap(\n",
        "    x=x_axis,\n",
        "    y=cluster_name,\n",
        "    z=most_prob,\n",
        "    text=most_cat,\n",
        "    texttemplate=\"%{text}\",\n",
        "    colorscale='RdBu',\n",
        "    textfont={\"size\":13,\"family\":'Ariel'},\n",
        "    zmin=0, zmax=1\n",
        "))\n",
        "\n",
        "fig.update_layout(\n",
        "    title='Most Probable Category Heatmap',\n",
        "    xaxis_title='',\n",
        "    yaxis_title='',\n",
        ")\n",
        "\n",
        "fig.update_xaxes(side=\"top\",tickfont_size=13,tickfont_family='Ariel')\n",
        "fig.update_yaxes(tickfont_size=13,tickfont_family='Ariel')\n",
        "fig.update_layout(autosize=False,width=1500,height=500)\n",
        "fig.show()"
      ],
      "metadata": {
        "colab": {
          "base_uri": "https://localhost:8080/",
          "height": 537
        },
        "id": "P4cKLdiQITPM",
        "outputId": "650f588f-7539-4e50-c5c3-f4788f230902"
      },
      "execution_count": 21,
      "outputs": [
        {
          "output_type": "display_data",
          "data": {
            "text/html": [
              "<html>\n",
              "<head><meta charset=\"utf-8\" /></head>\n",
              "<body>\n",
              "    <div>            <script src=\"https://cdnjs.cloudflare.com/ajax/libs/mathjax/2.7.5/MathJax.js?config=TeX-AMS-MML_SVG\"></script><script type=\"text/javascript\">if (window.MathJax && window.MathJax.Hub && window.MathJax.Hub.Config) {window.MathJax.Hub.Config({SVG: {font: \"STIX-Web\"}});}</script>                <script type=\"text/javascript\">window.PlotlyConfig = {MathJaxConfig: 'local'};</script>\n",
              "        <script charset=\"utf-8\" src=\"https://cdn.plot.ly/plotly-2.24.1.min.js\"></script>                <div id=\"b29d3ccc-3c94-4ea9-9986-392e49789e81\" class=\"plotly-graph-div\" style=\"height:500px; width:1500px;\"></div>            <script type=\"text/javascript\">                                    window.PLOTLYENV=window.PLOTLYENV || {};                                    if (document.getElementById(\"b29d3ccc-3c94-4ea9-9986-392e49789e81\")) {                    Plotly.newPlot(                        \"b29d3ccc-3c94-4ea9-9986-392e49789e81\",                        [{\"colorscale\":[[0.0,\"rgb(103,0,31)\"],[0.1,\"rgb(178,24,43)\"],[0.2,\"rgb(214,96,77)\"],[0.3,\"rgb(244,165,130)\"],[0.4,\"rgb(253,219,199)\"],[0.5,\"rgb(247,247,247)\"],[0.6,\"rgb(209,229,240)\"],[0.7,\"rgb(146,197,222)\"],[0.8,\"rgb(67,147,195)\"],[0.9,\"rgb(33,102,172)\"],[1.0,\"rgb(5,48,97)\"]],\"text\":[[\"\",\"Multiple\",\"Fiber optic\",\"Protect\",\"Backup\",\"Security\",\"Stream MV\",\"Stream TV\",\"Tech Sup\",\"High fee\",\"High tenure\",\"2yr\",\"Female\",\"\",\"Partner\",\"\",\"Credit card\",\"PaperX Bill\"],[\"\",\"Multiple\",\"DSL\",\"Protect\",\"Backup\",\"Security\",\"Stream MV\",\"Stream TV\",\"Tech Sup\",\"Mid fee\",\"High tenure\",\"2yr\",\"Male\",\"\",\"Partner\",\"\",\"Credit card\",\"PaperX Bill\"],[\"Churn\",\"Multiple\",\"Fiber optic\",\"\",\"\",\"\",\"Stream MV\",\"Stream TV\",\"\",\"High fee\",\"Mid tenure\",\"Monthly\",\"Male\",\"\",\"\",\"\",\"Electronic\",\"PaperX Bill\"],[\"Churn\",\"Single\",\"Fiber optic\",\"\",\"\",\"\",\"\",\"\",\"\",\"Mid fee\",\"Low tenure\",\"Monthly\",\"Female\",\"\",\"\",\"\",\"Electronic\",\"PaperX Bill\"],[\"\",\"Single\",\"DSL\",\"\",\"\",\"\",\"\",\"\",\"\",\"Mid fee\",\"Mid tenure\",\"Monthly\",\"Female\",\"\",\"\",\"\",\"Electronic\",\"PaperX Bill\"],[\"\",\"Single\",\"DSL\",\"\",\"\",\"\",\"\",\"\",\"\",\"Low fee\",\"Low tenure\",\"Monthly\",\"Male\",\"\",\"\",\"\",\"Electronic\",\"PaperX Bill\"],[\"\",\"Single\",\"\",\"\",\"\",\"\",\"\",\"\",\"\",\"Low fee\",\"High tenure\",\"2yr\",\"Female\",\"\",\"Partner\",\"\",\"Mailed\",\"\"],[\"\",\"Single\",\"\",\"\",\"\",\"\",\"\",\"\",\"\",\"Low fee\",\"Low tenure\",\"Monthly\",\"Male\",\"\",\"\",\"\",\"Mailed\",\"\"]],\"textfont\":{\"family\":\"Ariel\",\"size\":13},\"texttemplate\":\"%{text}\",\"x\":[\"\\u003cb\\u003eChurn\\u003c\\u002fb\\u003e\",\"\\u003cb\\u003ePhone\\u003c\\u002fb\\u003e\",\"\\u003cb\\u003eInternet\\u003c\\u002fb\\u003e\",\"\\u003cb\\u003eProtect\\u003c\\u002fb\\u003e\",\"\\u003cb\\u003eBackup\\u003c\\u002fb\\u003e\",\"\\u003cb\\u003eSecurity\\u003c\\u002fb\\u003e\",\"\\u003cb\\u003eStream MV\\u003c\\u002fb\\u003e\",\"\\u003cb\\u003eStream TV\\u003c\\u002fb\\u003e\",\"\\u003cb\\u003eTech Sup\\u003c\\u002fb\\u003e\",\"\\u003cb\\u003eCharge\\u003c\\u002fb\\u003e\",\"\\u003cb\\u003eTenure\\u003c\\u002fb\\u003e\",\"\\u003cb\\u003eContract\\u003c\\u002fb\\u003e\",\"\\u003cb\\u003eGender\\u003c\\u002fb\\u003e\",\"\\u003cb\\u003eDepend\\u003c\\u002fb\\u003e\",\"\\u003cb\\u003ePartner\\u003c\\u002fb\\u003e\",\"\\u003cb\\u003eSenior\\u003c\\u002fb\\u003e\",\"\\u003cb\\u003ePayment\\u003c\\u002fb\\u003e\",\"\\u003cb\\u003ePaperX Bill\\u003c\\u002fb\\u003e\"],\"y\":[\"\\u003cb\\u003eCluster 6\\u003c\\u002fb\\u003e\",\"\\u003cb\\u003eCluster 2\\u003c\\u002fb\\u003e\",\"\\u003cb\\u003eCluster 3\\u003c\\u002fb\\u003e\",\"\\u003cb\\u003eCluster 7\\u003c\\u002fb\\u003e\",\"\\u003cb\\u003eCluster 4\\u003c\\u002fb\\u003e\",\"\\u003cb\\u003eCluster 8\\u003c\\u002fb\\u003e\",\"\\u003cb\\u003eCluster 5\\u003c\\u002fb\\u003e\",\"\\u003cb\\u003eCluster 1\\u003c\\u002fb\\u003e\"],\"z\":[[0.08,0.8,0.83,0.78,0.75,0.61,0.84,0.84,0.67,1.0,0.87,0.53,0.51,0.29,0.73,0.18,0.35,0.71],[0.04,0.35,0.97,0.67,0.59,0.69,0.52,0.5,0.68,0.85,0.72,0.56,0.53,0.3,0.7,0.1,0.37,0.5],[0.55,0.69,1.0,0.45,0.4,0.19,0.74,0.74,0.21,1.0,0.52,0.9,0.51,0.1,0.43,0.32,0.64,0.82],[0.59,0.62,0.95,0.12,0.18,0.09,0.09,0.1,0.04,1.0,0.68,0.99,0.51,0.07,0.29,0.28,0.61,0.76],[0.2,0.65,0.93,0.33,0.42,0.45,0.35,0.35,0.45,1.0,0.53,0.74,0.52,0.25,0.38,0.07,0.31,0.56],[0.37,0.41,1.0,0.15,0.2,0.18,0.14,0.13,0.18,1.0,0.66,0.9,0.53,0.18,0.3,0.15,0.4,0.58],[0.01,0.65,0.0,0.0,0.0,0.0,0.0,0.0,0.0,1.0,0.55,0.75,0.5,0.48,0.67,0.04,0.36,0.28],[0.15,0.92,0.0,0.0,0.0,0.0,0.0,0.0,0.0,1.0,0.7,0.74,0.52,0.24,0.26,0.02,0.63,0.31]],\"zmax\":1,\"zmin\":0,\"type\":\"heatmap\"}],                        {\"template\":{\"data\":{\"histogram2dcontour\":[{\"type\":\"histogram2dcontour\",\"colorbar\":{\"outlinewidth\":0,\"ticks\":\"\"},\"colorscale\":[[0.0,\"#0d0887\"],[0.1111111111111111,\"#46039f\"],[0.2222222222222222,\"#7201a8\"],[0.3333333333333333,\"#9c179e\"],[0.4444444444444444,\"#bd3786\"],[0.5555555555555556,\"#d8576b\"],[0.6666666666666666,\"#ed7953\"],[0.7777777777777778,\"#fb9f3a\"],[0.8888888888888888,\"#fdca26\"],[1.0,\"#f0f921\"]]}],\"choropleth\":[{\"type\":\"choropleth\",\"colorbar\":{\"outlinewidth\":0,\"ticks\":\"\"}}],\"histogram2d\":[{\"type\":\"histogram2d\",\"colorbar\":{\"outlinewidth\":0,\"ticks\":\"\"},\"colorscale\":[[0.0,\"#0d0887\"],[0.1111111111111111,\"#46039f\"],[0.2222222222222222,\"#7201a8\"],[0.3333333333333333,\"#9c179e\"],[0.4444444444444444,\"#bd3786\"],[0.5555555555555556,\"#d8576b\"],[0.6666666666666666,\"#ed7953\"],[0.7777777777777778,\"#fb9f3a\"],[0.8888888888888888,\"#fdca26\"],[1.0,\"#f0f921\"]]}],\"heatmap\":[{\"type\":\"heatmap\",\"colorbar\":{\"outlinewidth\":0,\"ticks\":\"\"},\"colorscale\":[[0.0,\"#0d0887\"],[0.1111111111111111,\"#46039f\"],[0.2222222222222222,\"#7201a8\"],[0.3333333333333333,\"#9c179e\"],[0.4444444444444444,\"#bd3786\"],[0.5555555555555556,\"#d8576b\"],[0.6666666666666666,\"#ed7953\"],[0.7777777777777778,\"#fb9f3a\"],[0.8888888888888888,\"#fdca26\"],[1.0,\"#f0f921\"]]}],\"heatmapgl\":[{\"type\":\"heatmapgl\",\"colorbar\":{\"outlinewidth\":0,\"ticks\":\"\"},\"colorscale\":[[0.0,\"#0d0887\"],[0.1111111111111111,\"#46039f\"],[0.2222222222222222,\"#7201a8\"],[0.3333333333333333,\"#9c179e\"],[0.4444444444444444,\"#bd3786\"],[0.5555555555555556,\"#d8576b\"],[0.6666666666666666,\"#ed7953\"],[0.7777777777777778,\"#fb9f3a\"],[0.8888888888888888,\"#fdca26\"],[1.0,\"#f0f921\"]]}],\"contourcarpet\":[{\"type\":\"contourcarpet\",\"colorbar\":{\"outlinewidth\":0,\"ticks\":\"\"}}],\"contour\":[{\"type\":\"contour\",\"colorbar\":{\"outlinewidth\":0,\"ticks\":\"\"},\"colorscale\":[[0.0,\"#0d0887\"],[0.1111111111111111,\"#46039f\"],[0.2222222222222222,\"#7201a8\"],[0.3333333333333333,\"#9c179e\"],[0.4444444444444444,\"#bd3786\"],[0.5555555555555556,\"#d8576b\"],[0.6666666666666666,\"#ed7953\"],[0.7777777777777778,\"#fb9f3a\"],[0.8888888888888888,\"#fdca26\"],[1.0,\"#f0f921\"]]}],\"surface\":[{\"type\":\"surface\",\"colorbar\":{\"outlinewidth\":0,\"ticks\":\"\"},\"colorscale\":[[0.0,\"#0d0887\"],[0.1111111111111111,\"#46039f\"],[0.2222222222222222,\"#7201a8\"],[0.3333333333333333,\"#9c179e\"],[0.4444444444444444,\"#bd3786\"],[0.5555555555555556,\"#d8576b\"],[0.6666666666666666,\"#ed7953\"],[0.7777777777777778,\"#fb9f3a\"],[0.8888888888888888,\"#fdca26\"],[1.0,\"#f0f921\"]]}],\"mesh3d\":[{\"type\":\"mesh3d\",\"colorbar\":{\"outlinewidth\":0,\"ticks\":\"\"}}],\"scatter\":[{\"fillpattern\":{\"fillmode\":\"overlay\",\"size\":10,\"solidity\":0.2},\"type\":\"scatter\"}],\"parcoords\":[{\"type\":\"parcoords\",\"line\":{\"colorbar\":{\"outlinewidth\":0,\"ticks\":\"\"}}}],\"scatterpolargl\":[{\"type\":\"scatterpolargl\",\"marker\":{\"colorbar\":{\"outlinewidth\":0,\"ticks\":\"\"}}}],\"bar\":[{\"error_x\":{\"color\":\"#2a3f5f\"},\"error_y\":{\"color\":\"#2a3f5f\"},\"marker\":{\"line\":{\"color\":\"#E5ECF6\",\"width\":0.5},\"pattern\":{\"fillmode\":\"overlay\",\"size\":10,\"solidity\":0.2}},\"type\":\"bar\"}],\"scattergeo\":[{\"type\":\"scattergeo\",\"marker\":{\"colorbar\":{\"outlinewidth\":0,\"ticks\":\"\"}}}],\"scatterpolar\":[{\"type\":\"scatterpolar\",\"marker\":{\"colorbar\":{\"outlinewidth\":0,\"ticks\":\"\"}}}],\"histogram\":[{\"marker\":{\"pattern\":{\"fillmode\":\"overlay\",\"size\":10,\"solidity\":0.2}},\"type\":\"histogram\"}],\"scattergl\":[{\"type\":\"scattergl\",\"marker\":{\"colorbar\":{\"outlinewidth\":0,\"ticks\":\"\"}}}],\"scatter3d\":[{\"type\":\"scatter3d\",\"line\":{\"colorbar\":{\"outlinewidth\":0,\"ticks\":\"\"}},\"marker\":{\"colorbar\":{\"outlinewidth\":0,\"ticks\":\"\"}}}],\"scattermapbox\":[{\"type\":\"scattermapbox\",\"marker\":{\"colorbar\":{\"outlinewidth\":0,\"ticks\":\"\"}}}],\"scatterternary\":[{\"type\":\"scatterternary\",\"marker\":{\"colorbar\":{\"outlinewidth\":0,\"ticks\":\"\"}}}],\"scattercarpet\":[{\"type\":\"scattercarpet\",\"marker\":{\"colorbar\":{\"outlinewidth\":0,\"ticks\":\"\"}}}],\"carpet\":[{\"aaxis\":{\"endlinecolor\":\"#2a3f5f\",\"gridcolor\":\"white\",\"linecolor\":\"white\",\"minorgridcolor\":\"white\",\"startlinecolor\":\"#2a3f5f\"},\"baxis\":{\"endlinecolor\":\"#2a3f5f\",\"gridcolor\":\"white\",\"linecolor\":\"white\",\"minorgridcolor\":\"white\",\"startlinecolor\":\"#2a3f5f\"},\"type\":\"carpet\"}],\"table\":[{\"cells\":{\"fill\":{\"color\":\"#EBF0F8\"},\"line\":{\"color\":\"white\"}},\"header\":{\"fill\":{\"color\":\"#C8D4E3\"},\"line\":{\"color\":\"white\"}},\"type\":\"table\"}],\"barpolar\":[{\"marker\":{\"line\":{\"color\":\"#E5ECF6\",\"width\":0.5},\"pattern\":{\"fillmode\":\"overlay\",\"size\":10,\"solidity\":0.2}},\"type\":\"barpolar\"}],\"pie\":[{\"automargin\":true,\"type\":\"pie\"}]},\"layout\":{\"autotypenumbers\":\"strict\",\"colorway\":[\"#636efa\",\"#EF553B\",\"#00cc96\",\"#ab63fa\",\"#FFA15A\",\"#19d3f3\",\"#FF6692\",\"#B6E880\",\"#FF97FF\",\"#FECB52\"],\"font\":{\"color\":\"#2a3f5f\"},\"hovermode\":\"closest\",\"hoverlabel\":{\"align\":\"left\"},\"paper_bgcolor\":\"white\",\"plot_bgcolor\":\"#E5ECF6\",\"polar\":{\"bgcolor\":\"#E5ECF6\",\"angularaxis\":{\"gridcolor\":\"white\",\"linecolor\":\"white\",\"ticks\":\"\"},\"radialaxis\":{\"gridcolor\":\"white\",\"linecolor\":\"white\",\"ticks\":\"\"}},\"ternary\":{\"bgcolor\":\"#E5ECF6\",\"aaxis\":{\"gridcolor\":\"white\",\"linecolor\":\"white\",\"ticks\":\"\"},\"baxis\":{\"gridcolor\":\"white\",\"linecolor\":\"white\",\"ticks\":\"\"},\"caxis\":{\"gridcolor\":\"white\",\"linecolor\":\"white\",\"ticks\":\"\"}},\"coloraxis\":{\"colorbar\":{\"outlinewidth\":0,\"ticks\":\"\"}},\"colorscale\":{\"sequential\":[[0.0,\"#0d0887\"],[0.1111111111111111,\"#46039f\"],[0.2222222222222222,\"#7201a8\"],[0.3333333333333333,\"#9c179e\"],[0.4444444444444444,\"#bd3786\"],[0.5555555555555556,\"#d8576b\"],[0.6666666666666666,\"#ed7953\"],[0.7777777777777778,\"#fb9f3a\"],[0.8888888888888888,\"#fdca26\"],[1.0,\"#f0f921\"]],\"sequentialminus\":[[0.0,\"#0d0887\"],[0.1111111111111111,\"#46039f\"],[0.2222222222222222,\"#7201a8\"],[0.3333333333333333,\"#9c179e\"],[0.4444444444444444,\"#bd3786\"],[0.5555555555555556,\"#d8576b\"],[0.6666666666666666,\"#ed7953\"],[0.7777777777777778,\"#fb9f3a\"],[0.8888888888888888,\"#fdca26\"],[1.0,\"#f0f921\"]],\"diverging\":[[0,\"#8e0152\"],[0.1,\"#c51b7d\"],[0.2,\"#de77ae\"],[0.3,\"#f1b6da\"],[0.4,\"#fde0ef\"],[0.5,\"#f7f7f7\"],[0.6,\"#e6f5d0\"],[0.7,\"#b8e186\"],[0.8,\"#7fbc41\"],[0.9,\"#4d9221\"],[1,\"#276419\"]]},\"xaxis\":{\"gridcolor\":\"white\",\"linecolor\":\"white\",\"ticks\":\"\",\"title\":{\"standoff\":15},\"zerolinecolor\":\"white\",\"automargin\":true,\"zerolinewidth\":2},\"yaxis\":{\"gridcolor\":\"white\",\"linecolor\":\"white\",\"ticks\":\"\",\"title\":{\"standoff\":15},\"zerolinecolor\":\"white\",\"automargin\":true,\"zerolinewidth\":2},\"scene\":{\"xaxis\":{\"backgroundcolor\":\"#E5ECF6\",\"gridcolor\":\"white\",\"linecolor\":\"white\",\"showbackground\":true,\"ticks\":\"\",\"zerolinecolor\":\"white\",\"gridwidth\":2},\"yaxis\":{\"backgroundcolor\":\"#E5ECF6\",\"gridcolor\":\"white\",\"linecolor\":\"white\",\"showbackground\":true,\"ticks\":\"\",\"zerolinecolor\":\"white\",\"gridwidth\":2},\"zaxis\":{\"backgroundcolor\":\"#E5ECF6\",\"gridcolor\":\"white\",\"linecolor\":\"white\",\"showbackground\":true,\"ticks\":\"\",\"zerolinecolor\":\"white\",\"gridwidth\":2}},\"shapedefaults\":{\"line\":{\"color\":\"#2a3f5f\"}},\"annotationdefaults\":{\"arrowcolor\":\"#2a3f5f\",\"arrowhead\":0,\"arrowwidth\":1},\"geo\":{\"bgcolor\":\"white\",\"landcolor\":\"#E5ECF6\",\"subunitcolor\":\"white\",\"showland\":true,\"showlakes\":true,\"lakecolor\":\"white\"},\"title\":{\"x\":0.05},\"mapbox\":{\"style\":\"light\"}}},\"title\":{\"text\":\"Most Probable Category Heatmap\"},\"xaxis\":{\"title\":{\"text\":\"\"},\"tickfont\":{\"size\":13,\"family\":\"Ariel\"},\"side\":\"top\"},\"yaxis\":{\"title\":{\"text\":\"\"},\"tickfont\":{\"size\":13,\"family\":\"Ariel\"}},\"autosize\":false,\"width\":1500,\"height\":500},                        {\"responsive\": true}                    ).then(function(){\n",
              "                            \n",
              "var gd = document.getElementById('b29d3ccc-3c94-4ea9-9986-392e49789e81');\n",
              "var x = new MutationObserver(function (mutations, observer) {{\n",
              "        var display = window.getComputedStyle(gd).display;\n",
              "        if (!display || display === 'none') {{\n",
              "            console.log([gd, 'removed!']);\n",
              "            Plotly.purge(gd);\n",
              "            observer.disconnect();\n",
              "        }}\n",
              "}});\n",
              "\n",
              "// Listen for the removal of the full notebook cells\n",
              "var notebookContainer = gd.closest('#notebook-container');\n",
              "if (notebookContainer) {{\n",
              "    x.observe(notebookContainer, {childList: true});\n",
              "}}\n",
              "\n",
              "// Listen for the clearing of the current output cell\n",
              "var outputEl = gd.closest('.output');\n",
              "if (outputEl) {{\n",
              "    x.observe(outputEl, {childList: true});\n",
              "}}\n",
              "\n",
              "                        })                };                            </script>        </div>\n",
              "</body>\n",
              "</html>"
            ]
          },
          "metadata": {}
        }
      ]
    },
    {
      "cell_type": "markdown",
      "source": [
        "* 각 범주형 변수에서 확률이 가장 큰 범주요인만 색상와 글씨를 표시하였다.\n",
        "    * 예를 들어, Payment에서 Electronic의 확률이 0.3으로 가장 크다면 그것만 표시하였다.\n",
        "* 만약 범주요인 중 'No..'라는 글자를 가진 경우 시각화에 제외하였다."
      ],
      "metadata": {
        "id": "2FAW5cXJJFnM"
      }
    },
    {
      "cell_type": "markdown",
      "source": [
        "위의 8개의 클러스터를 대략 4개로도 묶어 볼 수 있다.\n",
        "1. Cluster 1, Cluster 5 : Single 전화서비스만 이용하는 고객군.\n",
        "    * Cluster 5가 tenure이 더 길고 계약기간도 길며, Partner가 존재하는 경향이 더 크다.\n",
        "2. Cluster 8, Cluster 4 : Single 전화서비스와 DSL 인터넷을 월계약으로 이용하는 고객군.\n",
        "    * Cluster 4가 Tenure이 더 길고  Single 전화서비스 사용 경향이 더 크다.\n",
        "3. Cluster 7, Cluster 3 : Fiber optic 인터넷을 월계약으로 이용하는데 이탈율이 50% 이상인 위험고객군.\n",
        "    * Cluster 7은 Multiple 전화서비스에다 Streaming 서비스도 이용하는 고소비 고객층.\n",
        "4. Cluster 2, Cluster 6 : 인터넷 부가서비스 두루두루 이용하면서 긴 계약기간에 tenure도 가장 긴 VIP고객군.\n",
        "    * Cluster 2가 상대적으로 전화서비스 이용안하고 DSL 인터넷 사용하기 때문에, Cluster 6로 유입시키는 전략을 짜야한다."
      ],
      "metadata": {
        "id": "zRDESaTT6-Ft"
      }
    },
    {
      "cell_type": "code",
      "source": [
        "# df_cat_reg = df_cat\n",
        "# df_cat_reg.to_csv('Telco_clustered.csv',index=False)\n",
        "#df_cat_reg = pd.read_csv('Telco_clustered.csv')\n",
        "#df_cat_reg.columns"
      ],
      "metadata": {
        "id": "JzZV8CWpNLFA"
      },
      "execution_count": 22,
      "outputs": []
    },
    {
      "cell_type": "code",
      "source": [
        "df_cat_reg = pd.read_csv('df_cat_reg.csv')"
      ],
      "metadata": {
        "id": "4gZXP7RtpeLD"
      },
      "execution_count": 23,
      "outputs": []
    },
    {
      "cell_type": "code",
      "source": [
        "df_cat_reg_list = [df_cat_reg[df_cat_reg['cluster']==k].reset_index(drop=True) for k in range(num_cluster)]\n",
        "for k in range(num_cluster):\n",
        "    df_cat_reg_list[k].columns = df_cat_reg_list[k].columns.str.replace(\" \",\"_\")"
      ],
      "metadata": {
        "id": "uH-XTkmhPc6W"
      },
      "execution_count": 24,
      "outputs": []
    },
    {
      "cell_type": "code",
      "source": [
        "cluster_consider = [2,6,7]\n",
        "\n",
        "model_formula = \"Churn_Label ~ \"\n",
        "model_formula_list = [model_formula for k in cluster_consider]\n",
        "covariate_drop_list = []\n",
        "covariate_drop_list.append(['Internet_Service','Dependents','Monthly Charges cat'])\n",
        "covariate_drop_list.append(['Internet_Service','Online_Security','Streaming_TV','Streaming_Movies','Tech_Support','Dependents','Monthly Charges cat'])\n",
        "covariate_drop_list.append(['Internet_Service','Monthly Charges cat'])\n",
        "\n",
        "for j in range(len(cluster_consider)):\n",
        "    for col in df_cat_reg_list[cluster_consider[j]].columns:\n",
        "        if col not in covariate_drop_list[j]+['Churn_Label','cluster','Contract']:\n",
        "            model_formula_list[j] += 'C(' + col + ')'\n",
        "            if col != 'Tenure_Months_cat':\n",
        "                model_formula_list[j] += ' + '"
      ],
      "metadata": {
        "id": "1YwFW7dlfTZM"
      },
      "execution_count": 25,
      "outputs": []
    },
    {
      "cell_type": "code",
      "source": [
        "import statsmodels.formula.api as smf\n",
        "\n",
        "model_list = []\n",
        "for j in range(len(cluster_consider)):\n",
        "    model_list.append(smf.logit(model_formula_list[j], data=df_cat_reg_list[cluster_consider[j]]).fit())"
      ],
      "metadata": {
        "colab": {
          "base_uri": "https://localhost:8080/"
        },
        "id": "kEveV9iGfTbi",
        "outputId": "aa485017-7ac8-4588-d6c6-78eeb40b9d73"
      },
      "execution_count": 26,
      "outputs": [
        {
          "output_type": "stream",
          "name": "stdout",
          "text": [
            "Optimization terminated successfully.\n",
            "         Current function value: 0.627337\n",
            "         Iterations 5\n",
            "Optimization terminated successfully.\n",
            "         Current function value: 0.629740\n",
            "         Iterations 5\n",
            "Optimization terminated successfully.\n",
            "         Current function value: 0.569314\n",
            "         Iterations 6\n"
          ]
        }
      ]
    },
    {
      "cell_type": "code",
      "source": [
        "model_list[0].summary()"
      ],
      "metadata": {
        "colab": {
          "base_uri": "https://localhost:8080/",
          "height": 572
        },
        "id": "FIc2-yUEWCkQ",
        "outputId": "c9744800-141a-49e3-b091-c1c5c51413e2"
      },
      "execution_count": 27,
      "outputs": [
        {
          "output_type": "execute_result",
          "data": {
            "text/plain": [
              "<class 'statsmodels.iolib.summary.Summary'>\n",
              "\"\"\"\n",
              "                           Logit Regression Results                           \n",
              "==============================================================================\n",
              "Dep. Variable:            Churn_Label   No. Observations:                 1296\n",
              "Model:                          Logit   Df Residuals:                     1279\n",
              "Method:                           MLE   Df Model:                           16\n",
              "Date:                Mon, 06 Nov 2023   Pseudo R-squ.:                 0.08790\n",
              "Time:                        05:51:31   Log-Likelihood:                -813.03\n",
              "converged:                       True   LL-Null:                       -891.38\n",
              "Covariance Type:            nonrobust   LLR p-value:                 3.705e-25\n",
              "=============================================================================================\n",
              "                                coef    std err          z      P>|z|      [0.025      0.975]\n",
              "---------------------------------------------------------------------------------------------\n",
              "Intercept                    -0.9246      0.326     -2.835      0.005      -1.564      -0.285\n",
              "C(Gender)[T.1]               -0.2332      0.119     -1.952      0.051      -0.467       0.001\n",
              "C(Senior_Citizen)[T.1]        0.1336      0.131      1.020      0.308      -0.123       0.390\n",
              "C(Partner)[T.1]               0.1154      0.124      0.932      0.351      -0.127       0.358\n",
              "C(Multiple_Lines)[T.2]       -0.5561      0.137     -4.050      0.000      -0.825      -0.287\n",
              "C(Online_Security)[T.2]      -0.2008      0.155     -1.294      0.196      -0.505       0.103\n",
              "C(Online_Backup)[T.2]        -0.0640      0.125     -0.514      0.607      -0.308       0.180\n",
              "C(Device_Protection)[T.2]    -0.0272      0.121     -0.224      0.823      -0.265       0.210\n",
              "C(Tech_Support)[T.2]         -0.1969      0.147     -1.341      0.180      -0.485       0.091\n",
              "C(Streaming_TV)[T.2]          0.4511      0.140      3.233      0.001       0.178       0.724\n",
              "C(Streaming_Movies)[T.2]      0.4066      0.139      2.921      0.003       0.134       0.679\n",
              "C(Paperless_Billing)[T.1]     0.3697      0.155      2.378      0.017       0.065       0.674\n",
              "C(Payment_Method)[T.1]       -0.0624      0.221     -0.282      0.778      -0.496       0.372\n",
              "C(Payment_Method)[T.2]        0.1327      0.169      0.786      0.432      -0.198       0.463\n",
              "C(Payment_Method)[T.3]        0.0266      0.273      0.097      0.922      -0.509       0.562\n",
              "C(Tenure_Months_cat)[T.1]     1.3608      0.208      6.551      0.000       0.954       1.768\n",
              "C(Tenure_Months_cat)[T.2]     0.0489      0.174      0.281      0.779      -0.293       0.390\n",
              "=============================================================================================\n",
              "\"\"\""
            ],
            "text/html": [
              "<table class=\"simpletable\">\n",
              "<caption>Logit Regression Results</caption>\n",
              "<tr>\n",
              "  <th>Dep. Variable:</th>      <td>Churn_Label</td>   <th>  No. Observations:  </th>  <td>  1296</td>  \n",
              "</tr>\n",
              "<tr>\n",
              "  <th>Model:</th>                 <td>Logit</td>      <th>  Df Residuals:      </th>  <td>  1279</td>  \n",
              "</tr>\n",
              "<tr>\n",
              "  <th>Method:</th>                 <td>MLE</td>       <th>  Df Model:          </th>  <td>    16</td>  \n",
              "</tr>\n",
              "<tr>\n",
              "  <th>Date:</th>            <td>Mon, 06 Nov 2023</td> <th>  Pseudo R-squ.:     </th>  <td>0.08790</td> \n",
              "</tr>\n",
              "<tr>\n",
              "  <th>Time:</th>                <td>05:51:31</td>     <th>  Log-Likelihood:    </th> <td> -813.03</td> \n",
              "</tr>\n",
              "<tr>\n",
              "  <th>converged:</th>             <td>True</td>       <th>  LL-Null:           </th> <td> -891.38</td> \n",
              "</tr>\n",
              "<tr>\n",
              "  <th>Covariance Type:</th>     <td>nonrobust</td>    <th>  LLR p-value:       </th> <td>3.705e-25</td>\n",
              "</tr>\n",
              "</table>\n",
              "<table class=\"simpletable\">\n",
              "<tr>\n",
              "              <td></td>                 <th>coef</th>     <th>std err</th>      <th>z</th>      <th>P>|z|</th>  <th>[0.025</th>    <th>0.975]</th>  \n",
              "</tr>\n",
              "<tr>\n",
              "  <th>Intercept</th>                 <td>   -0.9246</td> <td>    0.326</td> <td>   -2.835</td> <td> 0.005</td> <td>   -1.564</td> <td>   -0.285</td>\n",
              "</tr>\n",
              "<tr>\n",
              "  <th>C(Gender)[T.1]</th>            <td>   -0.2332</td> <td>    0.119</td> <td>   -1.952</td> <td> 0.051</td> <td>   -0.467</td> <td>    0.001</td>\n",
              "</tr>\n",
              "<tr>\n",
              "  <th>C(Senior_Citizen)[T.1]</th>    <td>    0.1336</td> <td>    0.131</td> <td>    1.020</td> <td> 0.308</td> <td>   -0.123</td> <td>    0.390</td>\n",
              "</tr>\n",
              "<tr>\n",
              "  <th>C(Partner)[T.1]</th>           <td>    0.1154</td> <td>    0.124</td> <td>    0.932</td> <td> 0.351</td> <td>   -0.127</td> <td>    0.358</td>\n",
              "</tr>\n",
              "<tr>\n",
              "  <th>C(Multiple_Lines)[T.2]</th>    <td>   -0.5561</td> <td>    0.137</td> <td>   -4.050</td> <td> 0.000</td> <td>   -0.825</td> <td>   -0.287</td>\n",
              "</tr>\n",
              "<tr>\n",
              "  <th>C(Online_Security)[T.2]</th>   <td>   -0.2008</td> <td>    0.155</td> <td>   -1.294</td> <td> 0.196</td> <td>   -0.505</td> <td>    0.103</td>\n",
              "</tr>\n",
              "<tr>\n",
              "  <th>C(Online_Backup)[T.2]</th>     <td>   -0.0640</td> <td>    0.125</td> <td>   -0.514</td> <td> 0.607</td> <td>   -0.308</td> <td>    0.180</td>\n",
              "</tr>\n",
              "<tr>\n",
              "  <th>C(Device_Protection)[T.2]</th> <td>   -0.0272</td> <td>    0.121</td> <td>   -0.224</td> <td> 0.823</td> <td>   -0.265</td> <td>    0.210</td>\n",
              "</tr>\n",
              "<tr>\n",
              "  <th>C(Tech_Support)[T.2]</th>      <td>   -0.1969</td> <td>    0.147</td> <td>   -1.341</td> <td> 0.180</td> <td>   -0.485</td> <td>    0.091</td>\n",
              "</tr>\n",
              "<tr>\n",
              "  <th>C(Streaming_TV)[T.2]</th>      <td>    0.4511</td> <td>    0.140</td> <td>    3.233</td> <td> 0.001</td> <td>    0.178</td> <td>    0.724</td>\n",
              "</tr>\n",
              "<tr>\n",
              "  <th>C(Streaming_Movies)[T.2]</th>  <td>    0.4066</td> <td>    0.139</td> <td>    2.921</td> <td> 0.003</td> <td>    0.134</td> <td>    0.679</td>\n",
              "</tr>\n",
              "<tr>\n",
              "  <th>C(Paperless_Billing)[T.1]</th> <td>    0.3697</td> <td>    0.155</td> <td>    2.378</td> <td> 0.017</td> <td>    0.065</td> <td>    0.674</td>\n",
              "</tr>\n",
              "<tr>\n",
              "  <th>C(Payment_Method)[T.1]</th>    <td>   -0.0624</td> <td>    0.221</td> <td>   -0.282</td> <td> 0.778</td> <td>   -0.496</td> <td>    0.372</td>\n",
              "</tr>\n",
              "<tr>\n",
              "  <th>C(Payment_Method)[T.2]</th>    <td>    0.1327</td> <td>    0.169</td> <td>    0.786</td> <td> 0.432</td> <td>   -0.198</td> <td>    0.463</td>\n",
              "</tr>\n",
              "<tr>\n",
              "  <th>C(Payment_Method)[T.3]</th>    <td>    0.0266</td> <td>    0.273</td> <td>    0.097</td> <td> 0.922</td> <td>   -0.509</td> <td>    0.562</td>\n",
              "</tr>\n",
              "<tr>\n",
              "  <th>C(Tenure_Months_cat)[T.1]</th> <td>    1.3608</td> <td>    0.208</td> <td>    6.551</td> <td> 0.000</td> <td>    0.954</td> <td>    1.768</td>\n",
              "</tr>\n",
              "<tr>\n",
              "  <th>C(Tenure_Months_cat)[T.2]</th> <td>    0.0489</td> <td>    0.174</td> <td>    0.281</td> <td> 0.779</td> <td>   -0.293</td> <td>    0.390</td>\n",
              "</tr>\n",
              "</table>"
            ],
            "text/latex": "\\begin{center}\n\\begin{tabular}{lclc}\n\\toprule\n\\textbf{Dep. Variable:}              &   Churn\\_Label   & \\textbf{  No. Observations:  } &     1296    \\\\\n\\textbf{Model:}                      &      Logit       & \\textbf{  Df Residuals:      } &     1279    \\\\\n\\textbf{Method:}                     &       MLE        & \\textbf{  Df Model:          } &       16    \\\\\n\\textbf{Date:}                       & Mon, 06 Nov 2023 & \\textbf{  Pseudo R-squ.:     } &  0.08790    \\\\\n\\textbf{Time:}                       &     05:51:31     & \\textbf{  Log-Likelihood:    } &   -813.03   \\\\\n\\textbf{converged:}                  &       True       & \\textbf{  LL-Null:           } &   -891.38   \\\\\n\\textbf{Covariance Type:}            &    nonrobust     & \\textbf{  LLR p-value:       } & 3.705e-25   \\\\\n\\bottomrule\n\\end{tabular}\n\\begin{tabular}{lcccccc}\n                                     & \\textbf{coef} & \\textbf{std err} & \\textbf{z} & \\textbf{P$> |$z$|$} & \\textbf{[0.025} & \\textbf{0.975]}  \\\\\n\\midrule\n\\textbf{Intercept}                   &      -0.9246  &        0.326     &    -2.835  &         0.005        &       -1.564    &       -0.285     \\\\\n\\textbf{C(Gender)[T.1]}              &      -0.2332  &        0.119     &    -1.952  &         0.051        &       -0.467    &        0.001     \\\\\n\\textbf{C(Senior\\_Citizen)[T.1]}     &       0.1336  &        0.131     &     1.020  &         0.308        &       -0.123    &        0.390     \\\\\n\\textbf{C(Partner)[T.1]}             &       0.1154  &        0.124     &     0.932  &         0.351        &       -0.127    &        0.358     \\\\\n\\textbf{C(Multiple\\_Lines)[T.2]}     &      -0.5561  &        0.137     &    -4.050  &         0.000        &       -0.825    &       -0.287     \\\\\n\\textbf{C(Online\\_Security)[T.2]}    &      -0.2008  &        0.155     &    -1.294  &         0.196        &       -0.505    &        0.103     \\\\\n\\textbf{C(Online\\_Backup)[T.2]}      &      -0.0640  &        0.125     &    -0.514  &         0.607        &       -0.308    &        0.180     \\\\\n\\textbf{C(Device\\_Protection)[T.2]}  &      -0.0272  &        0.121     &    -0.224  &         0.823        &       -0.265    &        0.210     \\\\\n\\textbf{C(Tech\\_Support)[T.2]}       &      -0.1969  &        0.147     &    -1.341  &         0.180        &       -0.485    &        0.091     \\\\\n\\textbf{C(Streaming\\_TV)[T.2]}       &       0.4511  &        0.140     &     3.233  &         0.001        &        0.178    &        0.724     \\\\\n\\textbf{C(Streaming\\_Movies)[T.2]}   &       0.4066  &        0.139     &     2.921  &         0.003        &        0.134    &        0.679     \\\\\n\\textbf{C(Paperless\\_Billing)[T.1]}  &       0.3697  &        0.155     &     2.378  &         0.017        &        0.065    &        0.674     \\\\\n\\textbf{C(Payment\\_Method)[T.1]}     &      -0.0624  &        0.221     &    -0.282  &         0.778        &       -0.496    &        0.372     \\\\\n\\textbf{C(Payment\\_Method)[T.2]}     &       0.1327  &        0.169     &     0.786  &         0.432        &       -0.198    &        0.463     \\\\\n\\textbf{C(Payment\\_Method)[T.3]}     &       0.0266  &        0.273     &     0.097  &         0.922        &       -0.509    &        0.562     \\\\\n\\textbf{C(Tenure\\_Months\\_cat)[T.1]} &       1.3608  &        0.208     &     6.551  &         0.000        &        0.954    &        1.768     \\\\\n\\textbf{C(Tenure\\_Months\\_cat)[T.2]} &       0.0489  &        0.174     &     0.281  &         0.779        &       -0.293    &        0.390     \\\\\n\\bottomrule\n\\end{tabular}\n%\\caption{Logit Regression Results}\n\\end{center}"
          },
          "metadata": {},
          "execution_count": 27
        }
      ]
    },
    {
      "cell_type": "markdown",
      "source": [
        "유의한 변수 : Multiple Lines, Streaming_TV, Streaming_Movies, Paperless_Billing, Tenure_middle"
      ],
      "metadata": {
        "id": "7OGIz48msvdg"
      }
    },
    {
      "cell_type": "code",
      "source": [
        "model_list[1].summary()"
      ],
      "metadata": {
        "colab": {
          "base_uri": "https://localhost:8080/",
          "height": 487
        },
        "id": "tBIJ4jIVlvYj",
        "outputId": "0f49251d-59e6-4020-fe10-4a944a033dad"
      },
      "execution_count": 28,
      "outputs": [
        {
          "output_type": "execute_result",
          "data": {
            "text/plain": [
              "<class 'statsmodels.iolib.summary.Summary'>\n",
              "\"\"\"\n",
              "                           Logit Regression Results                           \n",
              "==============================================================================\n",
              "Dep. Variable:            Churn_Label   No. Observations:                  894\n",
              "Model:                          Logit   Df Residuals:                      881\n",
              "Method:                           MLE   Df Model:                           12\n",
              "Date:                Mon, 06 Nov 2023   Pseudo R-squ.:                 0.07150\n",
              "Time:                        05:51:31   Log-Likelihood:                -562.99\n",
              "converged:                       True   LL-Null:                       -606.34\n",
              "Covariance Type:            nonrobust   LLR p-value:                 2.132e-13\n",
              "=============================================================================================\n",
              "                                coef    std err          z      P>|z|      [0.025      0.975]\n",
              "---------------------------------------------------------------------------------------------\n",
              "Intercept                    -1.7609      0.469     -3.756      0.000      -2.680      -0.842\n",
              "C(Gender)[T.1]               -0.0425      0.144     -0.295      0.768      -0.325       0.240\n",
              "C(Senior_Citizen)[T.1]        0.0390      0.162      0.241      0.809      -0.278       0.356\n",
              "C(Partner)[T.1]               0.0859      0.163      0.528      0.598      -0.233       0.405\n",
              "C(Multiple_Lines)[T.2]       -0.1507      0.153     -0.985      0.325      -0.451       0.149\n",
              "C(Online_Backup)[T.2]         0.0431      0.191      0.225      0.822      -0.332       0.418\n",
              "C(Device_Protection)[T.2]     0.0565      0.215      0.263      0.793      -0.365       0.478\n",
              "C(Paperless_Billing)[T.1]     0.3754      0.168      2.241      0.025       0.047       0.704\n",
              "C(Payment_Method)[T.1]       -0.4218      0.278     -1.515      0.130      -0.967       0.124\n",
              "C(Payment_Method)[T.2]        0.2637      0.217      1.217      0.224      -0.161       0.688\n",
              "C(Payment_Method)[T.3]       -0.2030      0.278     -0.731      0.465      -0.747       0.341\n",
              "C(Tenure_Months_cat)[T.1]     2.1308      0.384      5.553      0.000       1.379       2.883\n",
              "C(Tenure_Months_cat)[T.2]     1.2471      0.384      3.247      0.001       0.494       2.000\n",
              "=============================================================================================\n",
              "\"\"\""
            ],
            "text/html": [
              "<table class=\"simpletable\">\n",
              "<caption>Logit Regression Results</caption>\n",
              "<tr>\n",
              "  <th>Dep. Variable:</th>      <td>Churn_Label</td>   <th>  No. Observations:  </th>  <td>   894</td>  \n",
              "</tr>\n",
              "<tr>\n",
              "  <th>Model:</th>                 <td>Logit</td>      <th>  Df Residuals:      </th>  <td>   881</td>  \n",
              "</tr>\n",
              "<tr>\n",
              "  <th>Method:</th>                 <td>MLE</td>       <th>  Df Model:          </th>  <td>    12</td>  \n",
              "</tr>\n",
              "<tr>\n",
              "  <th>Date:</th>            <td>Mon, 06 Nov 2023</td> <th>  Pseudo R-squ.:     </th>  <td>0.07150</td> \n",
              "</tr>\n",
              "<tr>\n",
              "  <th>Time:</th>                <td>05:51:31</td>     <th>  Log-Likelihood:    </th> <td> -562.99</td> \n",
              "</tr>\n",
              "<tr>\n",
              "  <th>converged:</th>             <td>True</td>       <th>  LL-Null:           </th> <td> -606.34</td> \n",
              "</tr>\n",
              "<tr>\n",
              "  <th>Covariance Type:</th>     <td>nonrobust</td>    <th>  LLR p-value:       </th> <td>2.132e-13</td>\n",
              "</tr>\n",
              "</table>\n",
              "<table class=\"simpletable\">\n",
              "<tr>\n",
              "              <td></td>                 <th>coef</th>     <th>std err</th>      <th>z</th>      <th>P>|z|</th>  <th>[0.025</th>    <th>0.975]</th>  \n",
              "</tr>\n",
              "<tr>\n",
              "  <th>Intercept</th>                 <td>   -1.7609</td> <td>    0.469</td> <td>   -3.756</td> <td> 0.000</td> <td>   -2.680</td> <td>   -0.842</td>\n",
              "</tr>\n",
              "<tr>\n",
              "  <th>C(Gender)[T.1]</th>            <td>   -0.0425</td> <td>    0.144</td> <td>   -0.295</td> <td> 0.768</td> <td>   -0.325</td> <td>    0.240</td>\n",
              "</tr>\n",
              "<tr>\n",
              "  <th>C(Senior_Citizen)[T.1]</th>    <td>    0.0390</td> <td>    0.162</td> <td>    0.241</td> <td> 0.809</td> <td>   -0.278</td> <td>    0.356</td>\n",
              "</tr>\n",
              "<tr>\n",
              "  <th>C(Partner)[T.1]</th>           <td>    0.0859</td> <td>    0.163</td> <td>    0.528</td> <td> 0.598</td> <td>   -0.233</td> <td>    0.405</td>\n",
              "</tr>\n",
              "<tr>\n",
              "  <th>C(Multiple_Lines)[T.2]</th>    <td>   -0.1507</td> <td>    0.153</td> <td>   -0.985</td> <td> 0.325</td> <td>   -0.451</td> <td>    0.149</td>\n",
              "</tr>\n",
              "<tr>\n",
              "  <th>C(Online_Backup)[T.2]</th>     <td>    0.0431</td> <td>    0.191</td> <td>    0.225</td> <td> 0.822</td> <td>   -0.332</td> <td>    0.418</td>\n",
              "</tr>\n",
              "<tr>\n",
              "  <th>C(Device_Protection)[T.2]</th> <td>    0.0565</td> <td>    0.215</td> <td>    0.263</td> <td> 0.793</td> <td>   -0.365</td> <td>    0.478</td>\n",
              "</tr>\n",
              "<tr>\n",
              "  <th>C(Paperless_Billing)[T.1]</th> <td>    0.3754</td> <td>    0.168</td> <td>    2.241</td> <td> 0.025</td> <td>    0.047</td> <td>    0.704</td>\n",
              "</tr>\n",
              "<tr>\n",
              "  <th>C(Payment_Method)[T.1]</th>    <td>   -0.4218</td> <td>    0.278</td> <td>   -1.515</td> <td> 0.130</td> <td>   -0.967</td> <td>    0.124</td>\n",
              "</tr>\n",
              "<tr>\n",
              "  <th>C(Payment_Method)[T.2]</th>    <td>    0.2637</td> <td>    0.217</td> <td>    1.217</td> <td> 0.224</td> <td>   -0.161</td> <td>    0.688</td>\n",
              "</tr>\n",
              "<tr>\n",
              "  <th>C(Payment_Method)[T.3]</th>    <td>   -0.2030</td> <td>    0.278</td> <td>   -0.731</td> <td> 0.465</td> <td>   -0.747</td> <td>    0.341</td>\n",
              "</tr>\n",
              "<tr>\n",
              "  <th>C(Tenure_Months_cat)[T.1]</th> <td>    2.1308</td> <td>    0.384</td> <td>    5.553</td> <td> 0.000</td> <td>    1.379</td> <td>    2.883</td>\n",
              "</tr>\n",
              "<tr>\n",
              "  <th>C(Tenure_Months_cat)[T.2]</th> <td>    1.2471</td> <td>    0.384</td> <td>    3.247</td> <td> 0.001</td> <td>    0.494</td> <td>    2.000</td>\n",
              "</tr>\n",
              "</table>"
            ],
            "text/latex": "\\begin{center}\n\\begin{tabular}{lclc}\n\\toprule\n\\textbf{Dep. Variable:}              &   Churn\\_Label   & \\textbf{  No. Observations:  } &      894    \\\\\n\\textbf{Model:}                      &      Logit       & \\textbf{  Df Residuals:      } &      881    \\\\\n\\textbf{Method:}                     &       MLE        & \\textbf{  Df Model:          } &       12    \\\\\n\\textbf{Date:}                       & Mon, 06 Nov 2023 & \\textbf{  Pseudo R-squ.:     } &  0.07150    \\\\\n\\textbf{Time:}                       &     05:51:31     & \\textbf{  Log-Likelihood:    } &   -562.99   \\\\\n\\textbf{converged:}                  &       True       & \\textbf{  LL-Null:           } &   -606.34   \\\\\n\\textbf{Covariance Type:}            &    nonrobust     & \\textbf{  LLR p-value:       } & 2.132e-13   \\\\\n\\bottomrule\n\\end{tabular}\n\\begin{tabular}{lcccccc}\n                                     & \\textbf{coef} & \\textbf{std err} & \\textbf{z} & \\textbf{P$> |$z$|$} & \\textbf{[0.025} & \\textbf{0.975]}  \\\\\n\\midrule\n\\textbf{Intercept}                   &      -1.7609  &        0.469     &    -3.756  &         0.000        &       -2.680    &       -0.842     \\\\\n\\textbf{C(Gender)[T.1]}              &      -0.0425  &        0.144     &    -0.295  &         0.768        &       -0.325    &        0.240     \\\\\n\\textbf{C(Senior\\_Citizen)[T.1]}     &       0.0390  &        0.162     &     0.241  &         0.809        &       -0.278    &        0.356     \\\\\n\\textbf{C(Partner)[T.1]}             &       0.0859  &        0.163     &     0.528  &         0.598        &       -0.233    &        0.405     \\\\\n\\textbf{C(Multiple\\_Lines)[T.2]}     &      -0.1507  &        0.153     &    -0.985  &         0.325        &       -0.451    &        0.149     \\\\\n\\textbf{C(Online\\_Backup)[T.2]}      &       0.0431  &        0.191     &     0.225  &         0.822        &       -0.332    &        0.418     \\\\\n\\textbf{C(Device\\_Protection)[T.2]}  &       0.0565  &        0.215     &     0.263  &         0.793        &       -0.365    &        0.478     \\\\\n\\textbf{C(Paperless\\_Billing)[T.1]}  &       0.3754  &        0.168     &     2.241  &         0.025        &        0.047    &        0.704     \\\\\n\\textbf{C(Payment\\_Method)[T.1]}     &      -0.4218  &        0.278     &    -1.515  &         0.130        &       -0.967    &        0.124     \\\\\n\\textbf{C(Payment\\_Method)[T.2]}     &       0.2637  &        0.217     &     1.217  &         0.224        &       -0.161    &        0.688     \\\\\n\\textbf{C(Payment\\_Method)[T.3]}     &      -0.2030  &        0.278     &    -0.731  &         0.465        &       -0.747    &        0.341     \\\\\n\\textbf{C(Tenure\\_Months\\_cat)[T.1]} &       2.1308  &        0.384     &     5.553  &         0.000        &        1.379    &        2.883     \\\\\n\\textbf{C(Tenure\\_Months\\_cat)[T.2]} &       1.2471  &        0.384     &     3.247  &         0.001        &        0.494    &        2.000     \\\\\n\\bottomrule\n\\end{tabular}\n%\\caption{Logit Regression Results}\n\\end{center}"
          },
          "metadata": {},
          "execution_count": 28
        }
      ]
    },
    {
      "cell_type": "markdown",
      "source": [
        "유의한 변수 : Paperless_Billing(+), Tenure_Middle(+), Tenure_High(+)"
      ],
      "metadata": {
        "id": "T3bFjnyztKAs"
      }
    },
    {
      "cell_type": "code",
      "source": [
        "model_list[2].summary()"
      ],
      "metadata": {
        "id": "RNOBWV-gb_X3",
        "colab": {
          "base_uri": "https://localhost:8080/",
          "height": 615
        },
        "outputId": "8742cf69-ed97-4c0b-8994-e55eef608371"
      },
      "execution_count": 29,
      "outputs": [
        {
          "output_type": "execute_result",
          "data": {
            "text/plain": [
              "<class 'statsmodels.iolib.summary.Summary'>\n",
              "\"\"\"\n",
              "                           Logit Regression Results                           \n",
              "==============================================================================\n",
              "Dep. Variable:            Churn_Label   No. Observations:                  698\n",
              "Model:                          Logit   Df Residuals:                      679\n",
              "Method:                           MLE   Df Model:                           18\n",
              "Date:                Mon, 06 Nov 2023   Pseudo R-squ.:                  0.1358\n",
              "Time:                        05:51:31   Log-Likelihood:                -397.38\n",
              "converged:                       True   LL-Null:                       -459.81\n",
              "Covariance Type:            nonrobust   LLR p-value:                 5.041e-18\n",
              "=============================================================================================\n",
              "                                coef    std err          z      P>|z|      [0.025      0.975]\n",
              "---------------------------------------------------------------------------------------------\n",
              "Intercept                    -2.4538      0.770     -3.188      0.001      -3.962      -0.945\n",
              "C(Gender)[T.1]                0.2908      0.176      1.652      0.098      -0.054       0.636\n",
              "C(Senior_Citizen)[T.1]        0.6180      0.243      2.543      0.011       0.142       1.094\n",
              "C(Partner)[T.1]               0.1470      0.209      0.702      0.483      -0.264       0.558\n",
              "C(Dependents)[T.1]           -0.9634      0.273     -3.527      0.000      -1.499      -0.428\n",
              "C(Multiple_Lines)[T.1]        0.3986      0.490      0.813      0.416      -0.563       1.360\n",
              "C(Multiple_Lines)[T.2]        0.0609      0.475      0.128      0.898      -0.870       0.992\n",
              "C(Online_Security)[T.2]      -0.1968      0.239     -0.822      0.411      -0.666       0.273\n",
              "C(Online_Backup)[T.2]        -0.3406      0.236     -1.441      0.149      -0.804       0.123\n",
              "C(Device_Protection)[T.2]    -0.1428      0.261     -0.548      0.584      -0.654       0.368\n",
              "C(Tech_Support)[T.2]         -0.6708      0.257     -2.606      0.009      -1.175      -0.166\n",
              "C(Streaming_TV)[T.2]          0.2739      0.298      0.920      0.358      -0.310       0.857\n",
              "C(Streaming_Movies)[T.2]      0.1552      0.285      0.544      0.587      -0.404       0.715\n",
              "C(Paperless_Billing)[T.1]     0.5520      0.183      3.009      0.003       0.192       0.911\n",
              "C(Payment_Method)[T.1]       -0.1515      0.346     -0.438      0.662      -0.830       0.527\n",
              "C(Payment_Method)[T.2]        0.3404      0.280      1.216      0.224      -0.208       0.889\n",
              "C(Payment_Method)[T.3]       -0.2220      0.291     -0.763      0.445      -0.792       0.348\n",
              "C(Tenure_Months_cat)[T.1]     1.8394      0.482      3.815      0.000       0.894       2.784\n",
              "C(Tenure_Months_cat)[T.2]     0.5023      0.485      1.035      0.301      -0.449       1.453\n",
              "=============================================================================================\n",
              "\"\"\""
            ],
            "text/html": [
              "<table class=\"simpletable\">\n",
              "<caption>Logit Regression Results</caption>\n",
              "<tr>\n",
              "  <th>Dep. Variable:</th>      <td>Churn_Label</td>   <th>  No. Observations:  </th>  <td>   698</td>  \n",
              "</tr>\n",
              "<tr>\n",
              "  <th>Model:</th>                 <td>Logit</td>      <th>  Df Residuals:      </th>  <td>   679</td>  \n",
              "</tr>\n",
              "<tr>\n",
              "  <th>Method:</th>                 <td>MLE</td>       <th>  Df Model:          </th>  <td>    18</td>  \n",
              "</tr>\n",
              "<tr>\n",
              "  <th>Date:</th>            <td>Mon, 06 Nov 2023</td> <th>  Pseudo R-squ.:     </th>  <td>0.1358</td>  \n",
              "</tr>\n",
              "<tr>\n",
              "  <th>Time:</th>                <td>05:51:31</td>     <th>  Log-Likelihood:    </th> <td> -397.38</td> \n",
              "</tr>\n",
              "<tr>\n",
              "  <th>converged:</th>             <td>True</td>       <th>  LL-Null:           </th> <td> -459.81</td> \n",
              "</tr>\n",
              "<tr>\n",
              "  <th>Covariance Type:</th>     <td>nonrobust</td>    <th>  LLR p-value:       </th> <td>5.041e-18</td>\n",
              "</tr>\n",
              "</table>\n",
              "<table class=\"simpletable\">\n",
              "<tr>\n",
              "              <td></td>                 <th>coef</th>     <th>std err</th>      <th>z</th>      <th>P>|z|</th>  <th>[0.025</th>    <th>0.975]</th>  \n",
              "</tr>\n",
              "<tr>\n",
              "  <th>Intercept</th>                 <td>   -2.4538</td> <td>    0.770</td> <td>   -3.188</td> <td> 0.001</td> <td>   -3.962</td> <td>   -0.945</td>\n",
              "</tr>\n",
              "<tr>\n",
              "  <th>C(Gender)[T.1]</th>            <td>    0.2908</td> <td>    0.176</td> <td>    1.652</td> <td> 0.098</td> <td>   -0.054</td> <td>    0.636</td>\n",
              "</tr>\n",
              "<tr>\n",
              "  <th>C(Senior_Citizen)[T.1]</th>    <td>    0.6180</td> <td>    0.243</td> <td>    2.543</td> <td> 0.011</td> <td>    0.142</td> <td>    1.094</td>\n",
              "</tr>\n",
              "<tr>\n",
              "  <th>C(Partner)[T.1]</th>           <td>    0.1470</td> <td>    0.209</td> <td>    0.702</td> <td> 0.483</td> <td>   -0.264</td> <td>    0.558</td>\n",
              "</tr>\n",
              "<tr>\n",
              "  <th>C(Dependents)[T.1]</th>        <td>   -0.9634</td> <td>    0.273</td> <td>   -3.527</td> <td> 0.000</td> <td>   -1.499</td> <td>   -0.428</td>\n",
              "</tr>\n",
              "<tr>\n",
              "  <th>C(Multiple_Lines)[T.1]</th>    <td>    0.3986</td> <td>    0.490</td> <td>    0.813</td> <td> 0.416</td> <td>   -0.563</td> <td>    1.360</td>\n",
              "</tr>\n",
              "<tr>\n",
              "  <th>C(Multiple_Lines)[T.2]</th>    <td>    0.0609</td> <td>    0.475</td> <td>    0.128</td> <td> 0.898</td> <td>   -0.870</td> <td>    0.992</td>\n",
              "</tr>\n",
              "<tr>\n",
              "  <th>C(Online_Security)[T.2]</th>   <td>   -0.1968</td> <td>    0.239</td> <td>   -0.822</td> <td> 0.411</td> <td>   -0.666</td> <td>    0.273</td>\n",
              "</tr>\n",
              "<tr>\n",
              "  <th>C(Online_Backup)[T.2]</th>     <td>   -0.3406</td> <td>    0.236</td> <td>   -1.441</td> <td> 0.149</td> <td>   -0.804</td> <td>    0.123</td>\n",
              "</tr>\n",
              "<tr>\n",
              "  <th>C(Device_Protection)[T.2]</th> <td>   -0.1428</td> <td>    0.261</td> <td>   -0.548</td> <td> 0.584</td> <td>   -0.654</td> <td>    0.368</td>\n",
              "</tr>\n",
              "<tr>\n",
              "  <th>C(Tech_Support)[T.2]</th>      <td>   -0.6708</td> <td>    0.257</td> <td>   -2.606</td> <td> 0.009</td> <td>   -1.175</td> <td>   -0.166</td>\n",
              "</tr>\n",
              "<tr>\n",
              "  <th>C(Streaming_TV)[T.2]</th>      <td>    0.2739</td> <td>    0.298</td> <td>    0.920</td> <td> 0.358</td> <td>   -0.310</td> <td>    0.857</td>\n",
              "</tr>\n",
              "<tr>\n",
              "  <th>C(Streaming_Movies)[T.2]</th>  <td>    0.1552</td> <td>    0.285</td> <td>    0.544</td> <td> 0.587</td> <td>   -0.404</td> <td>    0.715</td>\n",
              "</tr>\n",
              "<tr>\n",
              "  <th>C(Paperless_Billing)[T.1]</th> <td>    0.5520</td> <td>    0.183</td> <td>    3.009</td> <td> 0.003</td> <td>    0.192</td> <td>    0.911</td>\n",
              "</tr>\n",
              "<tr>\n",
              "  <th>C(Payment_Method)[T.1]</th>    <td>   -0.1515</td> <td>    0.346</td> <td>   -0.438</td> <td> 0.662</td> <td>   -0.830</td> <td>    0.527</td>\n",
              "</tr>\n",
              "<tr>\n",
              "  <th>C(Payment_Method)[T.2]</th>    <td>    0.3404</td> <td>    0.280</td> <td>    1.216</td> <td> 0.224</td> <td>   -0.208</td> <td>    0.889</td>\n",
              "</tr>\n",
              "<tr>\n",
              "  <th>C(Payment_Method)[T.3]</th>    <td>   -0.2220</td> <td>    0.291</td> <td>   -0.763</td> <td> 0.445</td> <td>   -0.792</td> <td>    0.348</td>\n",
              "</tr>\n",
              "<tr>\n",
              "  <th>C(Tenure_Months_cat)[T.1]</th> <td>    1.8394</td> <td>    0.482</td> <td>    3.815</td> <td> 0.000</td> <td>    0.894</td> <td>    2.784</td>\n",
              "</tr>\n",
              "<tr>\n",
              "  <th>C(Tenure_Months_cat)[T.2]</th> <td>    0.5023</td> <td>    0.485</td> <td>    1.035</td> <td> 0.301</td> <td>   -0.449</td> <td>    1.453</td>\n",
              "</tr>\n",
              "</table>"
            ],
            "text/latex": "\\begin{center}\n\\begin{tabular}{lclc}\n\\toprule\n\\textbf{Dep. Variable:}              &   Churn\\_Label   & \\textbf{  No. Observations:  } &      698    \\\\\n\\textbf{Model:}                      &      Logit       & \\textbf{  Df Residuals:      } &      679    \\\\\n\\textbf{Method:}                     &       MLE        & \\textbf{  Df Model:          } &       18    \\\\\n\\textbf{Date:}                       & Mon, 06 Nov 2023 & \\textbf{  Pseudo R-squ.:     } &   0.1358    \\\\\n\\textbf{Time:}                       &     05:51:31     & \\textbf{  Log-Likelihood:    } &   -397.38   \\\\\n\\textbf{converged:}                  &       True       & \\textbf{  LL-Null:           } &   -459.81   \\\\\n\\textbf{Covariance Type:}            &    nonrobust     & \\textbf{  LLR p-value:       } & 5.041e-18   \\\\\n\\bottomrule\n\\end{tabular}\n\\begin{tabular}{lcccccc}\n                                     & \\textbf{coef} & \\textbf{std err} & \\textbf{z} & \\textbf{P$> |$z$|$} & \\textbf{[0.025} & \\textbf{0.975]}  \\\\\n\\midrule\n\\textbf{Intercept}                   &      -2.4538  &        0.770     &    -3.188  &         0.001        &       -3.962    &       -0.945     \\\\\n\\textbf{C(Gender)[T.1]}              &       0.2908  &        0.176     &     1.652  &         0.098        &       -0.054    &        0.636     \\\\\n\\textbf{C(Senior\\_Citizen)[T.1]}     &       0.6180  &        0.243     &     2.543  &         0.011        &        0.142    &        1.094     \\\\\n\\textbf{C(Partner)[T.1]}             &       0.1470  &        0.209     &     0.702  &         0.483        &       -0.264    &        0.558     \\\\\n\\textbf{C(Dependents)[T.1]}          &      -0.9634  &        0.273     &    -3.527  &         0.000        &       -1.499    &       -0.428     \\\\\n\\textbf{C(Multiple\\_Lines)[T.1]}     &       0.3986  &        0.490     &     0.813  &         0.416        &       -0.563    &        1.360     \\\\\n\\textbf{C(Multiple\\_Lines)[T.2]}     &       0.0609  &        0.475     &     0.128  &         0.898        &       -0.870    &        0.992     \\\\\n\\textbf{C(Online\\_Security)[T.2]}    &      -0.1968  &        0.239     &    -0.822  &         0.411        &       -0.666    &        0.273     \\\\\n\\textbf{C(Online\\_Backup)[T.2]}      &      -0.3406  &        0.236     &    -1.441  &         0.149        &       -0.804    &        0.123     \\\\\n\\textbf{C(Device\\_Protection)[T.2]}  &      -0.1428  &        0.261     &    -0.548  &         0.584        &       -0.654    &        0.368     \\\\\n\\textbf{C(Tech\\_Support)[T.2]}       &      -0.6708  &        0.257     &    -2.606  &         0.009        &       -1.175    &       -0.166     \\\\\n\\textbf{C(Streaming\\_TV)[T.2]}       &       0.2739  &        0.298     &     0.920  &         0.358        &       -0.310    &        0.857     \\\\\n\\textbf{C(Streaming\\_Movies)[T.2]}   &       0.1552  &        0.285     &     0.544  &         0.587        &       -0.404    &        0.715     \\\\\n\\textbf{C(Paperless\\_Billing)[T.1]}  &       0.5520  &        0.183     &     3.009  &         0.003        &        0.192    &        0.911     \\\\\n\\textbf{C(Payment\\_Method)[T.1]}     &      -0.1515  &        0.346     &    -0.438  &         0.662        &       -0.830    &        0.527     \\\\\n\\textbf{C(Payment\\_Method)[T.2]}     &       0.3404  &        0.280     &     1.216  &         0.224        &       -0.208    &        0.889     \\\\\n\\textbf{C(Payment\\_Method)[T.3]}     &      -0.2220  &        0.291     &    -0.763  &         0.445        &       -0.792    &        0.348     \\\\\n\\textbf{C(Tenure\\_Months\\_cat)[T.1]} &       1.8394  &        0.482     &     3.815  &         0.000        &        0.894    &        2.784     \\\\\n\\textbf{C(Tenure\\_Months\\_cat)[T.2]} &       0.5023  &        0.485     &     1.035  &         0.301        &       -0.449    &        1.453     \\\\\n\\bottomrule\n\\end{tabular}\n%\\caption{Logit Regression Results}\n\\end{center}"
          },
          "metadata": {},
          "execution_count": 29
        }
      ]
    },
    {
      "cell_type": "markdown",
      "source": [
        "유의한 변수 : Senior(+), Dependents(-), Tech Support(-), Paperless_Billing(+), Tenure_Middle(+)"
      ],
      "metadata": {
        "id": "GTT2Uq_PWVH7"
      }
    },
    {
      "cell_type": "code",
      "source": [
        "model_formula = \"Churn_Label ~ \"\n",
        "model_formula_list = [model_formula for k in cluster_consider]\n",
        "reduced_covariate_list = []\n",
        "reduced_covariate_list.append(['Multiple_Lines','Streaming_TV','Streaming_Movies','Paperless_Billing','Tenure_Months_cat'])\n",
        "reduced_covariate_list.append(['Paperless_Billing','Tenure_Months_cat'])\n",
        "reduced_covariate_list.append(['Senior_Citizen','Dependents','Tech_Support','Paperless_Billing','Tenure_Months_cat'])\n",
        "\n",
        "for j in range(len(cluster_consider)):\n",
        "    for col in df_cat_reg_list[cluster_consider[j]].columns:\n",
        "        if col in reduced_covariate_list[j]:\n",
        "            model_formula_list[j] += 'C(' + col + ')'\n",
        "            if col != 'Tenure_Months_cat':\n",
        "                model_formula_list[j] += ' + '\n",
        "\n",
        "reduced_model_list = []\n",
        "for j in range(len(cluster_consider)):\n",
        "    reduced_model_list.append(smf.logit(model_formula_list[j], data=df_cat_reg_list[cluster_consider[j]]).fit())\n",
        "\n",
        "model_bic = [model_list[j].bic for j in range(3)]\n",
        "reduced_model_bic = [reduced_model_list[j].bic for j in range(3)]\n",
        "print(model_bic)\n",
        "print(reduced_model_bic)"
      ],
      "metadata": {
        "colab": {
          "base_uri": "https://localhost:8080/"
        },
        "id": "WDME7uwc0mNp",
        "outputId": "9fe6612d-f712-43b4-bac0-cc12a2500f83"
      },
      "execution_count": 30,
      "outputs": [
        {
          "output_type": "stream",
          "name": "stdout",
          "text": [
            "Optimization terminated successfully.\n",
            "         Current function value: 0.631959\n",
            "         Iterations 5\n",
            "Optimization terminated successfully.\n",
            "         Current function value: 0.637557\n",
            "         Iterations 5\n",
            "Optimization terminated successfully.\n",
            "         Current function value: 0.586210\n",
            "         Iterations 6\n",
            "[1747.8964078253375, 1214.319039929035, 919.1782717199117]\n",
            "[1688.2068173290934, 1167.1355805615317, 864.1860813382881]\n"
          ]
        }
      ]
    },
    {
      "cell_type": "code",
      "source": [
        "reduced_model_list[0].summary()"
      ],
      "metadata": {
        "colab": {
          "base_uri": "https://localhost:8080/",
          "height": 359
        },
        "id": "rtOXEjVK2wy7",
        "outputId": "385d46c0-7746-4621-b7dd-b7101cf3edf9"
      },
      "execution_count": 31,
      "outputs": [
        {
          "output_type": "execute_result",
          "data": {
            "text/plain": [
              "<class 'statsmodels.iolib.summary.Summary'>\n",
              "\"\"\"\n",
              "                           Logit Regression Results                           \n",
              "==============================================================================\n",
              "Dep. Variable:            Churn_Label   No. Observations:                 1296\n",
              "Model:                          Logit   Df Residuals:                     1289\n",
              "Method:                           MLE   Df Model:                            6\n",
              "Date:                Mon, 06 Nov 2023   Pseudo R-squ.:                 0.08118\n",
              "Time:                        05:51:31   Log-Likelihood:                -819.02\n",
              "converged:                       True   LL-Null:                       -891.38\n",
              "Covariance Type:            nonrobust   LLR p-value:                 1.010e-28\n",
              "=============================================================================================\n",
              "                                coef    std err          z      P>|z|      [0.025      0.975]\n",
              "---------------------------------------------------------------------------------------------\n",
              "Intercept                    -1.0560      0.244     -4.325      0.000      -1.535      -0.577\n",
              "C(Multiple_Lines)[T.2]       -0.6168      0.134     -4.588      0.000      -0.880      -0.353\n",
              "C(Streaming_TV)[T.2]          0.4971      0.136      3.646      0.000       0.230       0.764\n",
              "C(Streaming_Movies)[T.2]      0.4601      0.135      3.401      0.001       0.195       0.725\n",
              "C(Paperless_Billing)[T.1]     0.3919      0.154      2.552      0.011       0.091       0.693\n",
              "C(Tenure_Months_cat)[T.1]     1.3677      0.194      7.036      0.000       0.987       1.749\n",
              "C(Tenure_Months_cat)[T.2]     0.0218      0.170      0.128      0.898      -0.312       0.355\n",
              "=============================================================================================\n",
              "\"\"\""
            ],
            "text/html": [
              "<table class=\"simpletable\">\n",
              "<caption>Logit Regression Results</caption>\n",
              "<tr>\n",
              "  <th>Dep. Variable:</th>      <td>Churn_Label</td>   <th>  No. Observations:  </th>  <td>  1296</td>  \n",
              "</tr>\n",
              "<tr>\n",
              "  <th>Model:</th>                 <td>Logit</td>      <th>  Df Residuals:      </th>  <td>  1289</td>  \n",
              "</tr>\n",
              "<tr>\n",
              "  <th>Method:</th>                 <td>MLE</td>       <th>  Df Model:          </th>  <td>     6</td>  \n",
              "</tr>\n",
              "<tr>\n",
              "  <th>Date:</th>            <td>Mon, 06 Nov 2023</td> <th>  Pseudo R-squ.:     </th>  <td>0.08118</td> \n",
              "</tr>\n",
              "<tr>\n",
              "  <th>Time:</th>                <td>05:51:31</td>     <th>  Log-Likelihood:    </th> <td> -819.02</td> \n",
              "</tr>\n",
              "<tr>\n",
              "  <th>converged:</th>             <td>True</td>       <th>  LL-Null:           </th> <td> -891.38</td> \n",
              "</tr>\n",
              "<tr>\n",
              "  <th>Covariance Type:</th>     <td>nonrobust</td>    <th>  LLR p-value:       </th> <td>1.010e-28</td>\n",
              "</tr>\n",
              "</table>\n",
              "<table class=\"simpletable\">\n",
              "<tr>\n",
              "              <td></td>                 <th>coef</th>     <th>std err</th>      <th>z</th>      <th>P>|z|</th>  <th>[0.025</th>    <th>0.975]</th>  \n",
              "</tr>\n",
              "<tr>\n",
              "  <th>Intercept</th>                 <td>   -1.0560</td> <td>    0.244</td> <td>   -4.325</td> <td> 0.000</td> <td>   -1.535</td> <td>   -0.577</td>\n",
              "</tr>\n",
              "<tr>\n",
              "  <th>C(Multiple_Lines)[T.2]</th>    <td>   -0.6168</td> <td>    0.134</td> <td>   -4.588</td> <td> 0.000</td> <td>   -0.880</td> <td>   -0.353</td>\n",
              "</tr>\n",
              "<tr>\n",
              "  <th>C(Streaming_TV)[T.2]</th>      <td>    0.4971</td> <td>    0.136</td> <td>    3.646</td> <td> 0.000</td> <td>    0.230</td> <td>    0.764</td>\n",
              "</tr>\n",
              "<tr>\n",
              "  <th>C(Streaming_Movies)[T.2]</th>  <td>    0.4601</td> <td>    0.135</td> <td>    3.401</td> <td> 0.001</td> <td>    0.195</td> <td>    0.725</td>\n",
              "</tr>\n",
              "<tr>\n",
              "  <th>C(Paperless_Billing)[T.1]</th> <td>    0.3919</td> <td>    0.154</td> <td>    2.552</td> <td> 0.011</td> <td>    0.091</td> <td>    0.693</td>\n",
              "</tr>\n",
              "<tr>\n",
              "  <th>C(Tenure_Months_cat)[T.1]</th> <td>    1.3677</td> <td>    0.194</td> <td>    7.036</td> <td> 0.000</td> <td>    0.987</td> <td>    1.749</td>\n",
              "</tr>\n",
              "<tr>\n",
              "  <th>C(Tenure_Months_cat)[T.2]</th> <td>    0.0218</td> <td>    0.170</td> <td>    0.128</td> <td> 0.898</td> <td>   -0.312</td> <td>    0.355</td>\n",
              "</tr>\n",
              "</table>"
            ],
            "text/latex": "\\begin{center}\n\\begin{tabular}{lclc}\n\\toprule\n\\textbf{Dep. Variable:}              &   Churn\\_Label   & \\textbf{  No. Observations:  } &     1296    \\\\\n\\textbf{Model:}                      &      Logit       & \\textbf{  Df Residuals:      } &     1289    \\\\\n\\textbf{Method:}                     &       MLE        & \\textbf{  Df Model:          } &        6    \\\\\n\\textbf{Date:}                       & Mon, 06 Nov 2023 & \\textbf{  Pseudo R-squ.:     } &  0.08118    \\\\\n\\textbf{Time:}                       &     05:51:31     & \\textbf{  Log-Likelihood:    } &   -819.02   \\\\\n\\textbf{converged:}                  &       True       & \\textbf{  LL-Null:           } &   -891.38   \\\\\n\\textbf{Covariance Type:}            &    nonrobust     & \\textbf{  LLR p-value:       } & 1.010e-28   \\\\\n\\bottomrule\n\\end{tabular}\n\\begin{tabular}{lcccccc}\n                                     & \\textbf{coef} & \\textbf{std err} & \\textbf{z} & \\textbf{P$> |$z$|$} & \\textbf{[0.025} & \\textbf{0.975]}  \\\\\n\\midrule\n\\textbf{Intercept}                   &      -1.0560  &        0.244     &    -4.325  &         0.000        &       -1.535    &       -0.577     \\\\\n\\textbf{C(Multiple\\_Lines)[T.2]}     &      -0.6168  &        0.134     &    -4.588  &         0.000        &       -0.880    &       -0.353     \\\\\n\\textbf{C(Streaming\\_TV)[T.2]}       &       0.4971  &        0.136     &     3.646  &         0.000        &        0.230    &        0.764     \\\\\n\\textbf{C(Streaming\\_Movies)[T.2]}   &       0.4601  &        0.135     &     3.401  &         0.001        &        0.195    &        0.725     \\\\\n\\textbf{C(Paperless\\_Billing)[T.1]}  &       0.3919  &        0.154     &     2.552  &         0.011        &        0.091    &        0.693     \\\\\n\\textbf{C(Tenure\\_Months\\_cat)[T.1]} &       1.3677  &        0.194     &     7.036  &         0.000        &        0.987    &        1.749     \\\\\n\\textbf{C(Tenure\\_Months\\_cat)[T.2]} &       0.0218  &        0.170     &     0.128  &         0.898        &       -0.312    &        0.355     \\\\\n\\bottomrule\n\\end{tabular}\n%\\caption{Logit Regression Results}\n\\end{center}"
          },
          "metadata": {},
          "execution_count": 31
        }
      ]
    },
    {
      "cell_type": "markdown",
      "source": [
        "- Multiple 전화서비스는 이탈율 감소와 연관성이 있다.\n",
        "- Streaming 서비스와 Paperless Billing은 이탈율 증가와 연관성이 있다.\n",
        "- Tenure가 low인 경우보다 middle일때 이탈율 증가와 연관성이 크다.\n",
        "    - Tenure가 high인 경우 유의하지 않다. Tenure가 high가 되기 이전까지 이탈하는 경향성이 있다는것."
      ],
      "metadata": {
        "id": "DlWAjPo4UUQN"
      }
    },
    {
      "cell_type": "code",
      "source": [
        "reduced_model_list[1].summary()"
      ],
      "metadata": {
        "colab": {
          "base_uri": "https://localhost:8080/",
          "height": 295
        },
        "id": "iiBQWu1_21eb",
        "outputId": "90fef5a5-be73-4bfd-93e7-1fc582ac463c"
      },
      "execution_count": 32,
      "outputs": [
        {
          "output_type": "execute_result",
          "data": {
            "text/plain": [
              "<class 'statsmodels.iolib.summary.Summary'>\n",
              "\"\"\"\n",
              "                           Logit Regression Results                           \n",
              "==============================================================================\n",
              "Dep. Variable:            Churn_Label   No. Observations:                  894\n",
              "Model:                          Logit   Df Residuals:                      890\n",
              "Method:                           MLE   Df Model:                            3\n",
              "Date:                Mon, 06 Nov 2023   Pseudo R-squ.:                 0.05998\n",
              "Time:                        05:51:32   Log-Likelihood:                -569.98\n",
              "converged:                       True   LL-Null:                       -606.34\n",
              "Covariance Type:            nonrobust   LLR p-value:                 1.109e-15\n",
              "=============================================================================================\n",
              "                                coef    std err          z      P>|z|      [0.025      0.975]\n",
              "---------------------------------------------------------------------------------------------\n",
              "Intercept                    -1.7063      0.378     -4.512      0.000      -2.447      -0.965\n",
              "C(Paperless_Billing)[T.1]     0.4091      0.164      2.490      0.013       0.087       0.731\n",
              "C(Tenure_Months_cat)[T.1]     2.1116      0.365      5.785      0.000       1.396       2.827\n",
              "C(Tenure_Months_cat)[T.2]     1.2110      0.377      3.210      0.001       0.472       1.950\n",
              "=============================================================================================\n",
              "\"\"\""
            ],
            "text/html": [
              "<table class=\"simpletable\">\n",
              "<caption>Logit Regression Results</caption>\n",
              "<tr>\n",
              "  <th>Dep. Variable:</th>      <td>Churn_Label</td>   <th>  No. Observations:  </th>  <td>   894</td>  \n",
              "</tr>\n",
              "<tr>\n",
              "  <th>Model:</th>                 <td>Logit</td>      <th>  Df Residuals:      </th>  <td>   890</td>  \n",
              "</tr>\n",
              "<tr>\n",
              "  <th>Method:</th>                 <td>MLE</td>       <th>  Df Model:          </th>  <td>     3</td>  \n",
              "</tr>\n",
              "<tr>\n",
              "  <th>Date:</th>            <td>Mon, 06 Nov 2023</td> <th>  Pseudo R-squ.:     </th>  <td>0.05998</td> \n",
              "</tr>\n",
              "<tr>\n",
              "  <th>Time:</th>                <td>05:51:32</td>     <th>  Log-Likelihood:    </th> <td> -569.98</td> \n",
              "</tr>\n",
              "<tr>\n",
              "  <th>converged:</th>             <td>True</td>       <th>  LL-Null:           </th> <td> -606.34</td> \n",
              "</tr>\n",
              "<tr>\n",
              "  <th>Covariance Type:</th>     <td>nonrobust</td>    <th>  LLR p-value:       </th> <td>1.109e-15</td>\n",
              "</tr>\n",
              "</table>\n",
              "<table class=\"simpletable\">\n",
              "<tr>\n",
              "              <td></td>                 <th>coef</th>     <th>std err</th>      <th>z</th>      <th>P>|z|</th>  <th>[0.025</th>    <th>0.975]</th>  \n",
              "</tr>\n",
              "<tr>\n",
              "  <th>Intercept</th>                 <td>   -1.7063</td> <td>    0.378</td> <td>   -4.512</td> <td> 0.000</td> <td>   -2.447</td> <td>   -0.965</td>\n",
              "</tr>\n",
              "<tr>\n",
              "  <th>C(Paperless_Billing)[T.1]</th> <td>    0.4091</td> <td>    0.164</td> <td>    2.490</td> <td> 0.013</td> <td>    0.087</td> <td>    0.731</td>\n",
              "</tr>\n",
              "<tr>\n",
              "  <th>C(Tenure_Months_cat)[T.1]</th> <td>    2.1116</td> <td>    0.365</td> <td>    5.785</td> <td> 0.000</td> <td>    1.396</td> <td>    2.827</td>\n",
              "</tr>\n",
              "<tr>\n",
              "  <th>C(Tenure_Months_cat)[T.2]</th> <td>    1.2110</td> <td>    0.377</td> <td>    3.210</td> <td> 0.001</td> <td>    0.472</td> <td>    1.950</td>\n",
              "</tr>\n",
              "</table>"
            ],
            "text/latex": "\\begin{center}\n\\begin{tabular}{lclc}\n\\toprule\n\\textbf{Dep. Variable:}              &   Churn\\_Label   & \\textbf{  No. Observations:  } &      894    \\\\\n\\textbf{Model:}                      &      Logit       & \\textbf{  Df Residuals:      } &      890    \\\\\n\\textbf{Method:}                     &       MLE        & \\textbf{  Df Model:          } &        3    \\\\\n\\textbf{Date:}                       & Mon, 06 Nov 2023 & \\textbf{  Pseudo R-squ.:     } &  0.05998    \\\\\n\\textbf{Time:}                       &     05:51:32     & \\textbf{  Log-Likelihood:    } &   -569.98   \\\\\n\\textbf{converged:}                  &       True       & \\textbf{  LL-Null:           } &   -606.34   \\\\\n\\textbf{Covariance Type:}            &    nonrobust     & \\textbf{  LLR p-value:       } & 1.109e-15   \\\\\n\\bottomrule\n\\end{tabular}\n\\begin{tabular}{lcccccc}\n                                     & \\textbf{coef} & \\textbf{std err} & \\textbf{z} & \\textbf{P$> |$z$|$} & \\textbf{[0.025} & \\textbf{0.975]}  \\\\\n\\midrule\n\\textbf{Intercept}                   &      -1.7063  &        0.378     &    -4.512  &         0.000        &       -2.447    &       -0.965     \\\\\n\\textbf{C(Paperless\\_Billing)[T.1]}  &       0.4091  &        0.164     &     2.490  &         0.013        &        0.087    &        0.731     \\\\\n\\textbf{C(Tenure\\_Months\\_cat)[T.1]} &       2.1116  &        0.365     &     5.785  &         0.000        &        1.396    &        2.827     \\\\\n\\textbf{C(Tenure\\_Months\\_cat)[T.2]} &       1.2110  &        0.377     &     3.210  &         0.001        &        0.472    &        1.950     \\\\\n\\bottomrule\n\\end{tabular}\n%\\caption{Logit Regression Results}\n\\end{center}"
          },
          "metadata": {},
          "execution_count": 32
        }
      ]
    },
    {
      "cell_type": "markdown",
      "source": [
        "* Paperless_Bill은 이탈율 증가와 연관성이 있다.\n",
        "* Tenure이 middle인 경우와 high인 경우 모두 이탈율 증가와 연관성이 있다."
      ],
      "metadata": {
        "id": "HNNskhrzWypn"
      }
    },
    {
      "cell_type": "code",
      "source": [
        "reduced_model_list[2].summary()"
      ],
      "metadata": {
        "colab": {
          "base_uri": "https://localhost:8080/",
          "height": 359
        },
        "id": "RLCPrduY21gL",
        "outputId": "aff0671e-e56e-44d6-d9b2-c61790055aa8"
      },
      "execution_count": 33,
      "outputs": [
        {
          "output_type": "execute_result",
          "data": {
            "text/plain": [
              "<class 'statsmodels.iolib.summary.Summary'>\n",
              "\"\"\"\n",
              "                           Logit Regression Results                           \n",
              "==============================================================================\n",
              "Dep. Variable:            Churn_Label   No. Observations:                  698\n",
              "Model:                          Logit   Df Residuals:                      691\n",
              "Method:                           MLE   Df Model:                            6\n",
              "Date:                Mon, 06 Nov 2023   Pseudo R-squ.:                  0.1101\n",
              "Time:                        05:51:32   Log-Likelihood:                -409.17\n",
              "converged:                       True   LL-Null:                       -459.81\n",
              "Covariance Type:            nonrobust   LLR p-value:                 1.359e-19\n",
              "=============================================================================================\n",
              "                                coef    std err          z      P>|z|      [0.025      0.975]\n",
              "---------------------------------------------------------------------------------------------\n",
              "Intercept                    -1.9882      0.453     -4.392      0.000      -2.875      -1.101\n",
              "C(Senior_Citizen)[T.1]        0.8314      0.233      3.575      0.000       0.376       1.287\n",
              "C(Dependents)[T.1]           -0.9478      0.253     -3.749      0.000      -1.443      -0.452\n",
              "C(Tech_Support)[T.2]         -0.6436      0.245     -2.625      0.009      -1.124      -0.163\n",
              "C(Paperless_Billing)[T.1]     0.6534      0.177      3.701      0.000       0.307       0.999\n",
              "C(Tenure_Months_cat)[T.1]     1.5649      0.433      3.612      0.000       0.716       2.414\n",
              "C(Tenure_Months_cat)[T.2]     0.3405      0.454      0.750      0.454      -0.550       1.231\n",
              "=============================================================================================\n",
              "\"\"\""
            ],
            "text/html": [
              "<table class=\"simpletable\">\n",
              "<caption>Logit Regression Results</caption>\n",
              "<tr>\n",
              "  <th>Dep. Variable:</th>      <td>Churn_Label</td>   <th>  No. Observations:  </th>  <td>   698</td>  \n",
              "</tr>\n",
              "<tr>\n",
              "  <th>Model:</th>                 <td>Logit</td>      <th>  Df Residuals:      </th>  <td>   691</td>  \n",
              "</tr>\n",
              "<tr>\n",
              "  <th>Method:</th>                 <td>MLE</td>       <th>  Df Model:          </th>  <td>     6</td>  \n",
              "</tr>\n",
              "<tr>\n",
              "  <th>Date:</th>            <td>Mon, 06 Nov 2023</td> <th>  Pseudo R-squ.:     </th>  <td>0.1101</td>  \n",
              "</tr>\n",
              "<tr>\n",
              "  <th>Time:</th>                <td>05:51:32</td>     <th>  Log-Likelihood:    </th> <td> -409.17</td> \n",
              "</tr>\n",
              "<tr>\n",
              "  <th>converged:</th>             <td>True</td>       <th>  LL-Null:           </th> <td> -459.81</td> \n",
              "</tr>\n",
              "<tr>\n",
              "  <th>Covariance Type:</th>     <td>nonrobust</td>    <th>  LLR p-value:       </th> <td>1.359e-19</td>\n",
              "</tr>\n",
              "</table>\n",
              "<table class=\"simpletable\">\n",
              "<tr>\n",
              "              <td></td>                 <th>coef</th>     <th>std err</th>      <th>z</th>      <th>P>|z|</th>  <th>[0.025</th>    <th>0.975]</th>  \n",
              "</tr>\n",
              "<tr>\n",
              "  <th>Intercept</th>                 <td>   -1.9882</td> <td>    0.453</td> <td>   -4.392</td> <td> 0.000</td> <td>   -2.875</td> <td>   -1.101</td>\n",
              "</tr>\n",
              "<tr>\n",
              "  <th>C(Senior_Citizen)[T.1]</th>    <td>    0.8314</td> <td>    0.233</td> <td>    3.575</td> <td> 0.000</td> <td>    0.376</td> <td>    1.287</td>\n",
              "</tr>\n",
              "<tr>\n",
              "  <th>C(Dependents)[T.1]</th>        <td>   -0.9478</td> <td>    0.253</td> <td>   -3.749</td> <td> 0.000</td> <td>   -1.443</td> <td>   -0.452</td>\n",
              "</tr>\n",
              "<tr>\n",
              "  <th>C(Tech_Support)[T.2]</th>      <td>   -0.6436</td> <td>    0.245</td> <td>   -2.625</td> <td> 0.009</td> <td>   -1.124</td> <td>   -0.163</td>\n",
              "</tr>\n",
              "<tr>\n",
              "  <th>C(Paperless_Billing)[T.1]</th> <td>    0.6534</td> <td>    0.177</td> <td>    3.701</td> <td> 0.000</td> <td>    0.307</td> <td>    0.999</td>\n",
              "</tr>\n",
              "<tr>\n",
              "  <th>C(Tenure_Months_cat)[T.1]</th> <td>    1.5649</td> <td>    0.433</td> <td>    3.612</td> <td> 0.000</td> <td>    0.716</td> <td>    2.414</td>\n",
              "</tr>\n",
              "<tr>\n",
              "  <th>C(Tenure_Months_cat)[T.2]</th> <td>    0.3405</td> <td>    0.454</td> <td>    0.750</td> <td> 0.454</td> <td>   -0.550</td> <td>    1.231</td>\n",
              "</tr>\n",
              "</table>"
            ],
            "text/latex": "\\begin{center}\n\\begin{tabular}{lclc}\n\\toprule\n\\textbf{Dep. Variable:}              &   Churn\\_Label   & \\textbf{  No. Observations:  } &      698    \\\\\n\\textbf{Model:}                      &      Logit       & \\textbf{  Df Residuals:      } &      691    \\\\\n\\textbf{Method:}                     &       MLE        & \\textbf{  Df Model:          } &        6    \\\\\n\\textbf{Date:}                       & Mon, 06 Nov 2023 & \\textbf{  Pseudo R-squ.:     } &   0.1101    \\\\\n\\textbf{Time:}                       &     05:51:32     & \\textbf{  Log-Likelihood:    } &   -409.17   \\\\\n\\textbf{converged:}                  &       True       & \\textbf{  LL-Null:           } &   -459.81   \\\\\n\\textbf{Covariance Type:}            &    nonrobust     & \\textbf{  LLR p-value:       } & 1.359e-19   \\\\\n\\bottomrule\n\\end{tabular}\n\\begin{tabular}{lcccccc}\n                                     & \\textbf{coef} & \\textbf{std err} & \\textbf{z} & \\textbf{P$> |$z$|$} & \\textbf{[0.025} & \\textbf{0.975]}  \\\\\n\\midrule\n\\textbf{Intercept}                   &      -1.9882  &        0.453     &    -4.392  &         0.000        &       -2.875    &       -1.101     \\\\\n\\textbf{C(Senior\\_Citizen)[T.1]}     &       0.8314  &        0.233     &     3.575  &         0.000        &        0.376    &        1.287     \\\\\n\\textbf{C(Dependents)[T.1]}          &      -0.9478  &        0.253     &    -3.749  &         0.000        &       -1.443    &       -0.452     \\\\\n\\textbf{C(Tech\\_Support)[T.2]}       &      -0.6436  &        0.245     &    -2.625  &         0.009        &       -1.124    &       -0.163     \\\\\n\\textbf{C(Paperless\\_Billing)[T.1]}  &       0.6534  &        0.177     &     3.701  &         0.000        &        0.307    &        0.999     \\\\\n\\textbf{C(Tenure\\_Months\\_cat)[T.1]} &       1.5649  &        0.433     &     3.612  &         0.000        &        0.716    &        2.414     \\\\\n\\textbf{C(Tenure\\_Months\\_cat)[T.2]} &       0.3405  &        0.454     &     0.750  &         0.454        &       -0.550    &        1.231     \\\\\n\\bottomrule\n\\end{tabular}\n%\\caption{Logit Regression Results}\n\\end{center}"
          },
          "metadata": {},
          "execution_count": 33
        }
      ]
    },
    {
      "cell_type": "markdown",
      "source": [
        "- Senior인 경우 이탈율 증가와 연관성이 있다.\n",
        "    - 반면, 부양자가 있는 경우 이탈율 감소와 연관성이 있다.\n",
        "- Tech Support 서비스는 이탈율 감소와 연관성이 있다.\n",
        "- Paperless Billing은 이탈율 증가와 연관성이 있다.\n",
        "- Tenure가 low인 경우보다 middle일때 이탈율 증가와 연관성이 크다.\n",
        "    - Tenure가 high인 경우 유의하지 않다. Tenure가 high가 되기 이전까지 이탈하는 경향성이 있다는것."
      ],
      "metadata": {
        "id": "3yDLYPXhKuz_"
      }
    },
    {
      "cell_type": "code",
      "source": [],
      "metadata": {
        "id": "tKGxYJKv23Tr"
      },
      "execution_count": 33,
      "outputs": []
    }
  ]
}